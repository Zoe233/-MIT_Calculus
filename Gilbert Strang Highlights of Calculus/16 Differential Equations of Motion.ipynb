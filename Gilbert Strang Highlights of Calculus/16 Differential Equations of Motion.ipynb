{
 "cells": [
  {
   "cell_type": "markdown",
   "metadata": {},
   "source": [
    "# Lec 16 关于运动的微分方程\n",
    "Differential Equations of Motionn"
   ]
  },
  {
   "cell_type": "markdown",
   "metadata": {},
   "source": [
    "这一讲的主题是常系数线性微积分方程\n",
    "$$my''+2ry' + ky =0$$ \n",
    "\n",
    "教授指出了这种方程在物理、工程、自科、社科等领域的广泛应用，强调它是最重要的微分方程。 \n",
    "\n",
    "他以弹簧的振动为例，通俗地解释了各常数的物理意义（m质量，r阻尼，k胡可系数）。 \n",
    "\n",
    "课程后半部分举重若轻地讲解了这种方程额解法——代入$e^{(\\lambda t)}$来求解。"
   ]
  },
  {
   "cell_type": "markdown",
   "metadata": {},
   "source": [
    "----"
   ]
  },
  {
   "cell_type": "markdown",
   "metadata": {},
   "source": [
    "我们已经学了很多了，是时候看看微积分的应用了。\n",
    "\n",
    "我们学过了关键函数的导数，做好了解微分方程的准备。  \n",
    "\n",
    "$$my''+2ry' + ky =0$$ \n",
    "$$ m \\frac{d^2y}{dt^2} + 2r \\frac{dy}{dt} + ky = 0$$"
   ]
  },
  {
   "cell_type": "markdown",
   "metadata": {},
   "source": [
    "看看这个方程，这是个微分方程。  \n",
    "\n",
    "方程包含y的导数和y本身。 \n",
    "\n",
    "而且，观察下，它还是个二阶方程，因为它含有二阶导；  \n",
    "\n",
    "它还是线性方程，因为，二阶导，一阶导，y本身，都是单列的，没有像$yy'$这样相乘的项。 \n",
    "\n",
    "实际上，所有的乘法都是数乘，m，r，k，它们不过是些来自问题本身的常数。   \n",
    "\n",
    "所以这里是**常系数、线性、二阶、微分方程**。  \n",
    "\n"
   ]
  },
  {
   "cell_type": "markdown",
   "metadata": {},
   "source": [
    "看看它怎么解？  \n",
    "\n",
    "我们办得到，因为，这涉及到一些我们已知如何求导的函数。\n"
   ]
  },
  {
   "cell_type": "markdown",
   "metadata": {},
   "source": [
    "----"
   ]
  },
  {
   "cell_type": "markdown",
   "metadata": {},
   "source": [
    "这里举2-3个特殊例子吧。 \n",
    "\n",
    "这些方程看起来很纯粹。"
   ]
  },
  {
   "cell_type": "markdown",
   "metadata": {},
   "source": [
    "一个特殊的例子是，不要这个二阶项，我们就写成下面这种简单的、最清晰的形式：\n",
    "$$my''+2ry' + ky =0$$ \n",
    "$$ m \\frac{d^2y}{dt^2} + 2r \\frac{dy}{dt} + ky = 0$$\n",
    "\n",
    "令m=0，得到：\n",
    "$$2ry' + ky =0$$ \n",
    "$$2r \\frac{dy}{dt} + ky = 0$$\n",
    "\n",
    "$$ \\frac{dy}{dt} = -\\frac{k}{2r} y = ay$$"
   ]
  },
  {
   "cell_type": "markdown",
   "metadata": {},
   "source": [
    "也就是y的导数等于y的某倍数，是一个一阶方程。 \n",
    "\n",
    "我们知道方程的解是什么函数。  \n",
    "\n",
    "导数等于自身的是指数函数，这里还有一个常数因子a，这就需要$y=e^{at}$。 \n"
   ]
  },
  {
   "cell_type": "markdown",
   "metadata": {},
   "source": [
    "通常，实际，我们预计一阶方程的解中，会出现某常数，之后我们知道，它可以用来匹配初始条件。 \n",
    "\n",
    "这个常数出现在这里，$e^{at}$是方程的解，求导，得到$a e^{at}$，a就下来了，这里是C倍的$e^{at}$，即$y=C e^{at}$。   \n",
    "因为，方程是线性的。\n",
    "\n",
    "这非常棒，因为只有指数。"
   ]
  },
  {
   "cell_type": "markdown",
   "metadata": {},
   "source": [
    "------"
   ]
  },
  {
   "cell_type": "markdown",
   "metadata": {},
   "source": [
    "第二个特殊的例子是，令r=0，得到：\n",
    "$$my'' + ky =0$$ \n",
    "$$ m \\frac{d^2y}{dt^2} + ky = 0$$\n",
    "\n",
    "没有中间项，只有二阶导和函数本身，还是选取合适的字母，把ky放到另一侧，得到：\n",
    "$$ \\frac{d^2y}{dt^2}  = -\\frac{k}{m} y = -\\omega ^ 2 y$$\n",
    "其中，$\\omega^2  =\\frac{k}{m}$。 "
   ]
  },
  {
   "cell_type": "markdown",
   "metadata": {},
   "source": [
    "这个方程我们能解。 \n",
    "\n",
    "二阶导等于负的函数本身，这个我们见过，这样的方程用正弦和余弦都能解。  \n",
    "\n",
    "这样二阶方程就能得到2个解。 \n",
    "\n",
    "同上面第一个特殊的例子一样，这里也有个常数。  \n",
    "\n",
    "这里需要对正弦和余弦进行微调，使得求两次导时，$\\omega$下来两次。  \n",
    "\n",
    "所以这里的解是：\n",
    "$$ y= \\cos \\omega t$$"
   ]
  },
  {
   "cell_type": "markdown",
   "metadata": {},
   "source": [
    "> $$ y = \\cos \\omega t$$\n",
    "$$ y' = -{\\omega}{\\sin \\omega t }$$\n",
    "$$ y'' =  {-\\omega}^2 \\cos \\omega t$$\n"
   ]
  },
  {
   "cell_type": "markdown",
   "metadata": {},
   "source": [
    "另一个解是$$y =\\sin \\omega t$$"
   ]
  },
  {
   "cell_type": "markdown",
   "metadata": {},
   "source": [
    "> $$ y = \\sin \\omega t$$\n",
    "$$ y' = \\omega \\cos \\omega t$$\n",
    "$$ y'' = \\omega ^ 2\\sin \\omega t $$"
   ]
  },
  {
   "cell_type": "markdown",
   "metadata": {},
   "source": [
    "同原来一样，对于二阶方程，我们预计会有两个待定的常数，这里是\n",
    "$$ y = C \\cos \\omega t  +  D \\sin \\omega t$$\n",
    "\n",
    "这就是此方程的通解。 \n",
    "\n",
    "这我们知道，这两个非常重要。 \n"
   ]
  },
  {
   "cell_type": "markdown",
   "metadata": {},
   "source": [
    "----"
   ]
  },
  {
   "cell_type": "markdown",
   "metadata": {},
   "source": [
    "还有一个挺简单的，也有些重要的方程，假设后面什么都没有，即假设r=0，k=0，只有$$m y'' = m \\frac{d^2 y } {dt^2} = 0$$\n"
   ]
  },
  {
   "cell_type": "markdown",
   "metadata": {},
   "source": [
    "我们断然知道，这个方程的解，什么样的方程二阶导为0？ \n",
    "\n",
    "显然，常函数算一个，常数的一阶导就是0了，别说二阶。 \n",
    "$$ y = C + Dt$$\n"
   ]
  },
  {
   "cell_type": "markdown",
   "metadata": {},
   "source": [
    "----"
   ]
  },
  {
   "cell_type": "markdown",
   "metadata": {},
   "source": [
    "下面才是这一讲的精髓所在，这个方程$my''+2ry' + ky =0$的解。  \n",
    "\n",
    "还可以考虑三阶、四阶、任意阶的情况。  \n",
    "\n",
    "是这些已知函数的乘积——指数函数乘以正弦，余弦，乘以幂函数。\n",
    "\n",
    "解常系数微分方程，只需要这些了。"
   ]
  },
  {
   "cell_type": "markdown",
   "metadata": {},
   "source": [
    "所以，我计划，继续解，继续讲。 \n",
    "\n",
    "$$my''+2ry' + ky =0$$\n",
    "这个方程是工程领域的一种基本方程，m表示某种质量，r阻尼，k胡可系数。 "
   ]
  },
  {
   "cell_type": "markdown",
   "metadata": {},
   "source": [
    "下面作图，我们就能知道为什么在这里用t而不是用x了。  \n",
    "\n",
    "因为这里时间t是自变量。  \n",
    "\n",
    "什么情况呢？  \n",
    "\n",
    "随时间变化的情况大致是：关于某根弹簧的，弹簧下方悬挂有一个重物m。 \n",
    "\n",
    "这是什么情况呢？  \n",
    "\n",
    "如果我要将物体往下拉，拉伸弹簧，然后放手，弹簧会怎样？   \n",
    "\n",
    "弹簧会向上拉回物体，弹簧会将物体拉回去，然后弹回会受到挤压并缩短。  \n",
    "\n",
    "此时不是拉伸，而是相反，弹簧会被压缩。  \n",
    "\n",
    "之后，压缩之后，它会推动物体，被压着，弹簧就会往下推，再次把物体往下推，下去了又上来，于是得到——**振动**。   \n",
    "\n",
    "振动就是这里的情况了。\n",
    "\n",
    "<img src='./images/motion_001.png' width='30%'/>"
   ]
  },
  {
   "cell_type": "markdown",
   "metadata": {},
   "source": [
    "关于振动，有什么现实生活中的例子吗？   \n",
    "\n",
    "- 弹簧是一个；  \n",
    "- 时钟是一个，特别是那种老爷钟，钟摆会摆动，来来回回，我把钟也算上；  \n",
    "- 还有，音乐，小提琴弦也可以振动，这就是美妙音乐的来源；  \n",
    "- 我们的心脏，心跳也是规则的振动；   \n",
    "- 还可以写上，分子，它们振动非常之快。  \n",
    "\n",
    "\n",
    "所以我今年天要讲的这个方程，会出现在生物学，化学中，对于分子，它是很重要的方程。\n",
    "对用到弹簧的物理、力学、工程等领域，对经济学，到处都要用到它。  \n",
    "\n",
    "通过选择不同的系数，可以建立各种最简洁的基础模型。  "
   ]
  },
  {
   "cell_type": "markdown",
   "metadata": {},
   "source": [
    "下面，我以弹簧为例来讲解，不过记住，此方程可以解释所有的振动。\n",
    "$$my''+2ry' + ky =0$$ \n",
    "\n",
    "实际上，弹簧这种模型中，通常有r=0。  \n",
    "那么，我们取r=0的情况，那么，方程是怎么来的呢？  \n",
    "\n",
    "我稍微讲下相关的物理，然后再回头讲数学部分，解方程，这里的物体其实就是牛顿定律。  \n",
    "\n",
    "$$ F=ma$$\n",
    "这里的m表示质量，a表示加速度，即二阶导，不要介意，把它写作二阶导形式\n",
    "$$ F = m \\frac{d^2 y }{dt^2}$$\n",
    "这里的质量m是常数，这里不是接近光速的时候，所以不考虑质能之间的相互转换，质量即常量。 \n",
    "\n",
    "那 么力是什么？  \n",
    "对于弹簧的力，将竖直向下的方向当做y的正方向，它表示：弹簧的位移。   \n",
    "向下时，y为正时，弹簧有回力的拉力，而弹簧的力与y成正比，而比例系数是常数k，所以力F即为ky。\n",
    "\n",
    "\n",
    "这个因子ky是往回的拉力，与y正方向相反。 \n",
    "由于y为正，弹簧拉得很长，弹簧力在往上拉，往负方向，向上，所以需要加上符号，即-ky。\n",
    "$$ -ky = m \\frac{d^2 y }{dt^2}$$\n",
    "这里k表示弹簧的硬度。  \n",
    "这是胡可定律——弹簧的弹力与拉伸程度成正比，而这个常数k称为胡可常数或弹簧常数。\n",
    "\n",
    "那么如果我把-ky移到式子的另一侧，就可以得到r=0时的模型：\n",
    "$$ m\\frac{d^2 y }{dt^2}+ ky =0$$ \n",
    "这个方程可以套用，这种情况的解为\n",
    "$$y = C\\cos \\omega t+D\\sin \\omega t$$"
   ]
  },
  {
   "cell_type": "markdown",
   "metadata": {},
   "source": [
    "r=0，因为r表示阻力，r表示空气阻力，阻尼，而现在，我们没有这些。  \n",
    "这里是一根一直震动的弹簧，永不停歇，沿正弦和余弦震动。  \n",
    "这就是我们的弹簧，它会一直振下去。  \n",
    "\n",
    "而常数C和D则取决于初始状态，它是从静止开始。 \n",
    "如果是从静止开始，则没有正弦项，以后会知道C和D，其实很好求的。  \n",
    "\n",
    "我们的问题是解方程，这个我们已经搞定了。  \n",
    "\n"
   ]
  },
  {
   "cell_type": "markdown",
   "metadata": {},
   "source": [
    "----"
   ]
  },
  {
   "cell_type": "markdown",
   "metadata": {},
   "source": [
    "现在，对于任意常数m、r、k，我想求解此方程：\n",
    "$$my''+2ry' + ky =0$$ \n",
    "\n",
    "很棒的是，指数函数可以求出正确的答案。  \n",
    "这是最好的方法了。  \n",
    "\n",
    "指数函数$y =e^{\\lambda t}$就是微分方程课程中最重要的方程了。  \n",
    "\n",
    "听微分方程课程讲过这个之后，你很容易忽略，这个是最重要的，也是最简单的。  \n",
    "\n",
    "<p style='color:blue'>为什么说指数函数$y =e^{\\lambda t}$是微分方程课程中最简单呢？</p>\n",
    "因为这里的核心思想是：\n",
    "试试指数函数$y=e^{\\lambda t}$。\n",
    "把这个代入方程，然后找出合适的$\\lambda$。  \n",
    "这个核心思想，非常简单。   \n",
    "\n",
    "把它$y=e^{\\lambda t}$代入方程$my''+2ry' + ky =0$，得到：\n",
    "$$m{\\lambda}^2 e^{\\lambda t}+2r\\lambda e^{\\lambda t}+ke^{\\lambda t}=0$$\n",
    "因为$e^{\\lambda t}$显然不等于0，两边同时除以$e^{\\lambda t}$，得到：\n",
    "$$ m {\\lambda}^2 + 2r \\lambda +k= 0$$\n",
    "这个方程，只不过是普通的二次方程，所以有两个$\\lambda$解，两个指数函数$e^{\\lambda_1 t}$,$e^{\\lambda_2 t}$，都是方程的解。\n",
    "\n"
   ]
  },
  {
   "cell_type": "markdown",
   "metadata": {},
   "source": [
    "那么，$\\lambda$是多少呢？  \n",
    "通过二次公式可以得到：\n",
    "$$\\lambda = \\frac{-r \\pm \\sqrt{r^2 - km}}{m}$$\n"
   ]
  },
  {
   "cell_type": "markdown",
   "metadata": {},
   "source": [
    "-----"
   ]
  },
  {
   "cell_type": "markdown",
   "metadata": {},
   "source": [
    "求出了两个根，代点数字进来。  \n",
    "其实这里就是在解微分方程。 \n",
    "\n",
    "下面代入具体数字，看看典型的情形。  \n",
    "当然，随着所选数字的改变，会得到不同的$\\lambda$，而且，随着数字的变化，这个会在指数情况和振动情况之间游走。  \n",
    "\n",
    "我这里举个例子，例一：\n",
    "<p style='color:blue'>取m=1，r=3，k=8，即$$y''+6y' + 8y =0$$ </p>\n",
    "我们于是可以算出这个方程的解，这里有两个解：\n",
    "$$\\lambda = \\frac{-r \\pm \\sqrt{r^2 - km}}{m}$$\n",
    "代入得到：\n",
    "$$\\lambda =-2\\ or -4$$"
   ]
  },
  {
   "cell_type": "code",
   "execution_count": 4,
   "metadata": {},
   "outputs": [
    {
     "name": "stdout",
     "output_type": "stream",
     "text": [
      "lambda_1: -2.0 lambda_2: -4.0\n"
     ]
    }
   ],
   "source": [
    "import math\n",
    "lambda_1= (-3+math.sqrt(pow(3,2)-8*1))/1\n",
    "lambda_2= (-3-math.sqrt(pow(3,2)-8*1))/1\n",
    "print('lambda_1:', lambda_1, 'lambda_2:',lambda_2)"
   ]
  },
  {
   "cell_type": "markdown",
   "metadata": {},
   "source": [
    "两个$\\lambda$，可以叫做衰减率，因为它们出现在指数上。  \n",
    "\n",
    "解是多少呢？通解中包含有常数C和D。\n",
    "$$y(t) = Ce^{-2 t}+De^{-4 t}$$\n",
    "\n",
    "两个$\\lambda$都在指数中，成功得到解。  \n",
    "就是这样了，我们会解微分方程了。  \n",
    "\n",
    "这些方程基于三个最重要的导数，即<p style='color:blue;font-size:20px'>指数函数、正弦余弦、幂函数</p>"
   ]
  },
  {
   "cell_type": "markdown",
   "metadata": {},
   "source": [
    "----"
   ]
  },
  {
   "cell_type": "markdown",
   "metadata": {},
   "source": [
    "下面是例二：\n",
    "<p style='color:blue'>取m=1，r=3，k=10，即$$y''+6y' + 10y =0$$</p>\n",
    "将$y=e^{\\lambda t}$代入得到：\n",
    "$${\\lambda}^2 e^{\\lambda t} + 6\\lambda e^{\\lambda t} +10 e^{\\lambda t}=0$$\n",
    "$$ {\\lambda}^2 + 6\\lambda + 10 = 0$$\n",
    "这里求$\\lambda$时，就无法因式分解了。  \n",
    "这里最好用二次公示来解。  \n",
    "$$\\lambda = \\frac{-r \\pm \\sqrt{r^2 - km}}{m}$$\n"
   ]
  },
  {
   "cell_type": "markdown",
   "metadata": {},
   "source": [
    "例一和例二，这里不只是一个数字的差别。  \n",
    "\n",
    "差别会非常显著。  \n",
    "\n",
    "因为二次公示代入得到：\n",
    "$$\\lambda = \\frac{-3 \\pm \\sqrt{9-10}}{1}$$\n",
    "在二次公示中，得到了$\\sqrt{9-10}$的复数开根号，例1中是根号下正1，这里就大不相同了。  \n",
    "\n",
    "<p style='color:blue'>例二这里是$\\sqrt{-1}$，所以解是$\\lambda = -3 \\pm i$。</p>\n",
    "\n",
    "所以方程解是：\n",
    "$$ y(t) = C e^{ (-3 + i)t} +De^{(-3-i)t}$$\n",
    "\n",
    "这就是通解。  \n",
    "\n",
    "不过，你可能会觉得很奇怪，我们怎么处理这些虚数。  \n",
    "\n",
    "它们怎么就掺和到，完全是实数的微分方程里面来了。  \n",
    "\n",
    "原因是：解并非实数，解是$-3 \\pm i$，但我们能让它变回实的。  \n"
   ]
  },
  {
   "cell_type": "markdown",
   "metadata": {},
   "source": [
    "$$ y(t) = C e^{ (-3 + i)t} +De^{(-3-i)t}$$ \n",
    "其实，这只是答案的一种写法，我这里要用到前面的内容，来展示另一种写法。  \n",
    "\n",
    "用到欧拉发现的美妙性质。\n",
    "\n",
    "下面，请允许我用欧拉公式来结束这个例子。  \n",
    "\n",
    "$e^{it}$，可以看到这里有$e^{-3t}$表示衰减，弹簧由于空气阻力在减慢，我们还有$e^{it}$，这要用到欧拉公式。  \n",
    "\n",
    "欧拉公式表示：$e^{it} = \\cos t + i \\sin t$。   \n",
    "\n",
    "通过欧拉公式，我们看到了振动，我们直接得到了$e^{it}$。  \n",
    "\n",
    "但第二天，欧拉意识到，$e^{-it}$也有公式：$e^{-it}=\\cos t-i \\sin t $。 \n",
    "  "
   ]
  },
  {
   "cell_type": "markdown",
   "metadata": {},
   "source": [
    "不管是$e^{it}$，还是$e^{-it}$，它们都能被正弦和余弦取代，我们可以替换掉$e^{it}$。\n",
    "$$ y(t) =  C e^{ (-3 + i)t} +De^{(-3-i)t}$$ \n",
    "$$ y(t) = C e^{-3t} e^{it} + D e^{-3t}e^{-it}$$\n",
    "$$ y(t) = C e^{-3t} (\\cos t + i \\sin t) + D e^{-3t} (\\cos t - i \\sin t)$$"
   ]
  },
  {
   "cell_type": "markdown",
   "metadata": {},
   "source": [
    "最终得到：\n",
    "$$ y(t) = A e^{-3t} \\cos t + B e^{-3t} \\sin t$$"
   ]
  },
  {
   "cell_type": "markdown",
   "metadata": {},
   "source": [
    "通解，回到了实数范畴。  \n",
    "\n",
    "这里描述的是阻尼振动。  \n",
    "\n",
    "它正在减振，减慢，而且振动逐渐衰减。  \n",
    "\n",
    "振幅减小，弹簧有点像，就像这里有个减震器一样，振动逐渐平息，很快回到平衡位置。  \n",
    "\n",
    "在平息的过程中，振动会来回经过平衡点。 \n",
    "\n"
   ]
  },
  {
   "cell_type": "markdown",
   "metadata": {},
   "source": [
    "----"
   ]
  },
  {
   "cell_type": "markdown",
   "metadata": {},
   "source": [
    "也许你会问，这也是这一讲最后一点内容。  \n",
    "\n",
    "幂函数何时会出现？  \n",
    "\n",
    "t什么的何时会出现？  \n",
    "\n",
    "之前，我们看到了指数函数，看到了正弦余弦函数，再看最后一个例子如何？  \n",
    "\n"
   ]
  },
  {
   "cell_type": "markdown",
   "metadata": {},
   "source": [
    "例三：\n",
    "<p style='color:blue'>取m=1，r=3，k=9，即$$y''+6y' + 9y =0$$</p>"
   ]
  },
  {
   "cell_type": "markdown",
   "metadata": {},
   "source": [
    "我们还是用$y=e^{\\lambda t}$代入求解，得到：\n",
    "$${\\lambda}^2 e^{\\lambda t} + 6\\lambda e^{\\lambda t} +9 e^{\\lambda t}=0$$\n",
    "$$ {\\lambda}^2 + 6\\lambda + 9 = 0$$\n",
    "得到了一个二次方程，还是会得到两个解。  \n"
   ]
  },
  {
   "cell_type": "markdown",
   "metadata": {},
   "source": [
    "这里有点问题，因式分解，得到$(\\lambda + 3)^2 = 0$，所以结果中$\\lambda$中，-3出现了两次。  \n",
    "\n",
    "两个$\\lambda$碰巧相等，都是-3。  \n",
    "\n",
    "这里没有复数，只有两个碰巧相等的实解。  \n",
    "\n",
    "此时，-3告诉我们$e^{-3t}$还是解。 \n",
    "\n",
    "另一个解，怎么求呢？  \n",
    "\n",
    "二阶方程需要有两个解，显然不能再用$e^{-3t}$了。  \n",
    "\n",
    "此时，我需要第二个解，它在这种情况下出现。  \n",
    "\n",
    "这里比较特殊，这种特殊情况具有二重根（double root），解一个是$e^{-3t}$，另一个是$te^{-3t}$。\n",
    "\n",
    "这就是今天最后的内容，也许应该写下来。  \n",
    "\n",
    "$$y = C e^{-3t} + D t e^{-3t}$$ "
   ]
  },
  {
   "cell_type": "markdown",
   "metadata": {},
   "source": [
    "你们可以把这个代回到方程，顺便联系下乘法法则。  \n",
    "\n",
    "把这个解回代到微分方程，会发现，多余的都消掉了，方程成立。  \n",
    "\n",
    "那么，下结论了——<p style='color:blue;font-size:20px'>线性常系数微分方程Linear constant coefficient differential equations，通过$e^{\\lambda t}$通通可以搞定。</p>\n",
    "    \n",
    "当然，$\\lambda$也能求出。   \n",
    "如果$\\lambda$是实数，结果是指数函数；     \n",
    "如果$\\lambda$是虚数，解是正弦和余弦；    \n",
    "如果得到重根，因子t就会出现。\n",
    "这可以看作是特殊的异常事件，就这些了，【线性】常系数微分方程，我们宣布征服。"
   ]
  }
 ],
 "metadata": {
  "kernelspec": {
   "display_name": "Python 3",
   "language": "python",
   "name": "python3"
  },
  "language_info": {
   "codemirror_mode": {
    "name": "ipython",
    "version": 3
   },
   "file_extension": ".py",
   "mimetype": "text/x-python",
   "name": "python",
   "nbconvert_exporter": "python",
   "pygments_lexer": "ipython3",
   "version": "3.6.5"
  }
 },
 "nbformat": 4,
 "nbformat_minor": 2
}
