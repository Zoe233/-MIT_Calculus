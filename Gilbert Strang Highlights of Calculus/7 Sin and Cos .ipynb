{
 "cells": [
  {
   "cell_type": "markdown",
   "metadata": {},
   "source": [
    "# Lec 07: sin x 和 cos x的导数\n",
    "Derivative of sin x and cos x"
   ]
  },
  {
   "cell_type": "markdown",
   "metadata": {},
   "source": [
    "这一讲主要探讨的对象是“振动函数”$\\sin x$和$\\cos x$，它们的导数性质非常奇妙：\n",
    "$$ (\\sin x)' = \\cos x$$\n",
    "$$ (\\cos x)' = -\\sin x$$\n",
    "\n",
    "教授通过将三角函数和圆周联系起来，巧解$\\frac{\\sin x}{x} $在$x \\to 0$时趋近于1这一极限，系统地推导了这两个三角函数的导数性质。 \n",
    "\n",
    "注意看教授是如何处理$\\frac{\\sin x}{x}$和$\\frac{1-\\cos x}{x}$这两个最重要的$\\frac{0}{0}$极限的。"
   ]
  },
  {
   "cell_type": "markdown",
   "metadata": {},
   "source": [
    "-----"
   ]
  },
  {
   "cell_type": "markdown",
   "metadata": {},
   "source": [
    "这一讲还是讨论导数和斜率，今天的主题是：   \n",
    "### 数学上两个伟大函数的导数$\\sin x$，$\\cos x$。"
   ]
  },
  {
   "cell_type": "markdown",
   "metadata": {},
   "source": [
    "### 为什么我说它们是伟大函数？  从$\\sin x$和$\\cos x$中，我们看到了什么运动？  \n",
    "我们看到了振动，物体来来回回，物体上上下下。  \n",
    "比如：圆周运动、心跳、呼吸、地球的公转。  \n",
    "\n",
    "很多运动都是这种重复运动。  \n",
    "于是$\\sin $和$\\cos $就派上用场了。\n",
    "\n",
    "与之相对的是**增长运动**，如x的幂函数，$x^3$, $x^n$。   \n",
    "如果想要增长速度很快，还有指数函数$e^x$。    \n",
    "减少足够快的则是$e^{-x}$。  \n",
    "\n",
    "我们今天要讨论的是来回振动的重复运动。  \n",
    "凡此种种均包含$\\sin$和$\\cos$（sines and cosines）。 \n",
    "\n",
    "为了说明这一点，大家都知道三角函数$\\sin$和$\\cos$来自于三角形，现在我要让三角形运动起来。\n"
   ]
  },
  {
   "cell_type": "markdown",
   "metadata": {},
   "source": [
    "圆内作这么一个三角形，其一个顶点落在圆心，另一顶点落在圆周上。  \n",
    "我让这个三角形运动起来，圆周上的顶点作圆周运动（Circular motion），这样得到的运动，这种绕圆周一圈圈的重复运动非常完美，运动的结果也非常棒。  \n",
    "\n",
    "即$\\sin x$的导数为$\\cos x$，而$\\cos x$的导数是$-\\sin x$。  \n",
    "没有比这更棒的了。   \n",
    "\n",
    "\n",
    "<img src='./images/sincos_001.png' width='50%'/>\n",
    "\n"
   ]
  },
  {
   "cell_type": "markdown",
   "metadata": {},
   "source": [
    "为了帮助求导，我们将需要考虑极限，我们将能发现：\n",
    "$$\\lim_{\\theta \\rightarrow 0 } \\frac{\\sin \\theta}{\\theta} = 1$$\n",
    "\n",
    "这个极限非常重要，角度$\\theta$趋向于0时，角度的正弦值除以角度本身的极限，我们会发现结果非常趋近于1。  \n",
    "\n",
    "今天，我们将从$\\sin \\theta $的意义出发证明这个极限。  \n",
    "\n",
    "<a href='../Preparation%20Calculus/1极限limit.ipynb'>别的证明示例</a>"
   ]
  },
  {
   "cell_type": "markdown",
   "metadata": {},
   "source": [
    "### 回想一下三角函数的意义是什么？\n",
    "这里的关键性质是：\n",
    "直角中：\n",
    "$$a^2 + b^2 = c^2$$\n",
    "这就是直角三角形最基本的公式。  \n",
    "\n",
    "这是一条基础性质，然后我要将两边同时除以$c^2$，得到：\n",
    "$$ \\frac{a^2}{c^2} + \\frac{b^2}{c^2} = 1$$"
   ]
  },
  {
   "cell_type": "markdown",
   "metadata": {},
   "source": [
    "同时，图中的斜边也设为1（即圆的半径为1）。  \n",
    "那么邻边就是$\\frac{a}{c}$，邻边比斜边得到cosine，所以$\\cos \\theta = \\frac{a}{c}$，因此$\\frac{a^2}{c^2}$可以写成$(\\cos \\theta )^2$。  \n",
    "\n",
    "又因为$\\frac{b}{c} = \\sin \\theta $，代入公式得到：\n",
    "$$ (\\sin \\theta)^2 + (\\cos \\theta)^2 = 1$$\n",
    "\n",
    "这就是用sines和cosines表示的勾股定理。  \n",
    "所以邻边就是$\\cos \\theta$，对边就是$\\sin \\theta$。  \n",
    "\n",
    "\n",
    "<img src='./images/sincos_002.png' width='30%'/>"
   ]
  },
  {
   "cell_type": "markdown",
   "metadata": {},
   "source": [
    "我喜欢这个角$\\theta$，因为它可以运动。  \n",
    "随着此点在圆周上匀速运动，角度的大小也会改变，这个三角形的底边会忽左忽右，而这个三角形的高也会上上下下，随着cosine和sine的变化而变化。  \n",
    "\n",
    "### 而我想知道运动速度是多少？  \n",
    "这是圆周运动Circular Motion，我讲引入**弧度制radians**的概念。  \n",
    "\n",
    "#### 弧度制是什么？为什么需要用到它？ 为什么不直接使用360°来表示圆周呢？ \n",
    "360°是个不错的数字，但是它虽然很赞，但不自然。  \n",
    "就好像杜撰出来的，这就不好了。  \n",
    "\n",
    "我们需要用自然的方式衡量角度，如若不然，如果用度数衡量x，那么$\\frac{d}{dx}(\\sin x)  =\\cos x$这个公式就不对了。  \n",
    "这个公式的前面会得到一个讨厌的常数，我需要让它为1，所以必须用正确的方法表示角。  \n",
    "这就需要引入弧度制。  \n",
    "\n",
    "弧度制中，角度用**弧长**来表示。  \n",
    "如果这段弧的长度为$\\theta$，那么角度就是$\\theta$弧度，而弧长为$\\theta$。  \n",
    "\n",
    "#### 那么整个圆周是多少弧度？ \n",
    "整个圆周表示角度为一圈，所以其弧度是周长$2 \\pi$。  \n",
    "所以360°就是$2 \\pi$。  \n",
    "$$ 360° = 2\\pi \\ randians$$\n",
    "\n",
    "因此，$2\\pi$就是对圆周的自然描述。  \n",
    "\n",
    "**弧度才是衡量角度的正确方式。** \n",
    "\n"
   ]
  },
  {
   "cell_type": "markdown",
   "metadata": {},
   "source": [
    "下面我将找出$\\sin \\theta$的导数。\n",
    "\n",
    "\n",
    "<img src='./images/sincos_003.png' width='30%'/>\n",
    "\n",
    "从点0处开始，得到了点0处的导数，其他点就容易了。 \n",
    "看看正弦曲线的图像，从0点开始，我们知道$\\sin \\theta$是怎样的？  \n",
    "我关心的是其导数，导数就是这门课的主题“微积分之微分学”。  \n",
    "我想知道0点处的导数，结果是1。  \n",
    "\n",
    "### 如何证明在0点处，$\\sin \\theta$的导数等于1呢？  "
   ]
  },
  {
   "cell_type": "markdown",
   "metadata": {},
   "source": [
    "下面是课程的证明步骤。  \n",
    "\n",
    "证明是出于完备和严谨等考虑的，大家必须了解，正弦函数和余弦函数，这是非常核心的内容。  \n",
    "下面我要证明在$\\theta = 0$时，$\\sin \\theta$的斜率为1，怎么证明呢？  \n",
    "\n",
    "$\\frac{\\sin \\theta}{\\theta}$就是斜率，如果水平位移一个很小的$\\theta$(即水平位移$\\Delta \\theta$)，那么竖直位移$\\Delta y$就是$\\sin \\theta$，$\\frac{\\Delta\\sin \\theta}{\\Delta\\theta}$这样就可以算出平均斜率。  \n",
    "\n",
    "由于是从0点开始，所以$\\sin \\theta$就可以表示竖直位移，而水平位移就可以表示为$\\theta$，所以$\\frac{\\sin \\theta}{\\theta}$这就是0点的平均斜率。  \n",
    "\n",
    "**微积分关注的永远是极限过程。**\n",
    "关注渐渐趋近于某点的情况，求得某点处斜率。  \n",
    "往往称作瞬时速度、斜率或导数。  \n",
    "\n",
    "下面看看是怎么得来的？  \n",
    "我们要证明$\\frac{\\sin \\theta}{\\theta} $总小于1。  \n",
    "\n",
    "即：\n",
    "$$\\sin \\theta < \\theta, \\theta > 0 $$ \n",
    "它表示$\\sin$曲线在直线$y=1$下方，在45°直线，也就是切线下方。  \n",
    "这等价于$\\frac{\\sin \\theta}{\\theta} <1 , \\theta >0$。  \n",
    "那么比1小多少呢？   \n",
    "如果只知道这些，只知道小，但也有可能是小很多，因此图像下方还需要画点什么，下面我们找到了其妙的$\\cos$曲线。   \n",
    "所以，我要证明的第二点是：\n",
    "$$\\tan \\theta =\\frac{\\sin \\theta}{\\cos \\theta}> \\theta, 0<\\theta < \\frac{\\pi}{2}$$\n",
    "\n",
    "我可以把上式中的$\\theta$和$\\cos$换个位置，则得到：\n",
    "$$ \\frac{\\sin \\theta}{\\theta} > \\cos \\theta, 0<\\theta < \\frac{\\pi}{2}$$\n",
    "这个式子等价于上面这个$\\tan \\theta > \\theta$的式子。  \n",
    "这就是我要去证明的，这说明$ \\frac{\\sin \\theta}{\\theta} $这个比值，在$\\cos $曲线上方。  \n",
    "\n",
    "现在大家应该相信这个结论的正确性了吧。  \n",
    "如果上面的公式都是对的，图也是对的，那么下面的推理必然是正确的。  \n",
    "\n",
    "当$\\theta \\in (0,\\frac{\\pi}{2})$时，$\\frac{\\sin \\theta}{\\theta}$这条曲线夹在$\\cos \\theta$和$y=1$水平线中间，随着$\\theta$逐渐减小，逐渐趋向于0，$\\frac{\\sin \\theta}{\\theta}$它被夹在两个极限为1的曲线中间。  \n",
    "\n",
    "这简直是明摆着的，总之极限重叠在一起。  \n",
    "言而总之，汇总我们要证明的式子：\n",
    "\n",
    "一式：\n",
    "$$ \\sin \\theta < \\theta, \\theta >0 $$  \n",
    "\n",
    "二式：\n",
    "$$ \\tan \\theta = \\frac{\\sin \\theta}{\\cos \\theta} > \\theta , 0<\\theta<\\frac{\\pi}{2}$$ \n",
    "二式变换为： $$\\frac{\\sin \\theta}{\\theta} > \\cos \\theta, 0<\\theta<\\frac{\\pi}{2}$$\n"
   ]
  },
  {
   "cell_type": "markdown",
   "metadata": {},
   "source": [
    "我需要用三角法来证明上面的两个式子。  \n",
    "\n",
    "下面开始证明**一式**：  \n",
    "$$ \\sin \\theta < \\theta, \\theta >0 $$  \n",
    "$\\theta$表示圆弧的长度，它显然在图中比直角三角形角$\\theta$对应的对边$\\sin \\theta$的长度要长。  \n",
    "\n",
    "\n",
    "下面开始证明**二式**：  \n",
    "$$ \\tan \\theta  > \\theta, 0<\\theta<\\frac{\\pi}{2}$$\n",
    "通过考虑扇形和以$\\tan \\theta$为对边的三角形的面积，扇形的面积总是小于大三角形的面积的。 \n",
    "\n",
    "$$ area\\ of \\ pie < area \\ of \\ the \\ triangle$$\n",
    "由于$ area\\ of \\ pie$，可以通过与整个圆的面积的占比来计算： \n",
    "$$ \\frac{area\\ of \\ pie}{\\pi * 1^2}  = \\frac{\\theta}{2\\pi}$$\n",
    "所以得到：\n",
    "$$area\\ of \\ pie = \\frac{1}{2} \\theta$$\n",
    "代入$ area\\ of \\ pie < area \\ of \\ the \\ triangle$：\n",
    "$$ \\frac{1}{2} \\theta < \\frac{1}{2} \\tan \\theta $$\n",
    "$$ \\theta < \\tan \\theta$$\n",
    "\n",
    "\n",
    "<img src='../Preparation Calculus/images/squeeze_001.png' width='30%'/>\n"
   ]
  },
  {
   "cell_type": "markdown",
   "metadata": {},
   "source": [
    "完成了上述的证明后，我将回过头求出所有点处的导数。 \n",
    "$$ \\frac{d}{dx}(\\sin x) = \\cos x$$\n",
    "$$ \\frac{d}{dx}(\\cos x) =-\\sin x$$"
   ]
  },
  {
   "cell_type": "markdown",
   "metadata": {},
   "source": [
    "从$\\sin x$开始，取任意点x，此处将角$\\theta$变换为x了。  \n",
    "因为现在开始讲的是函数，x表示函数更好，更加符合我们的习惯。  \n",
    "x以弧度计，要求出特定点处的导数我该怎么做？  \n",
    "求出它的$\\sin$值，向前平移$\\Delta x$，计算x增加后的$\\sin$值，导数就是$\\sin x$的变化量除以x的变化量，最后当然还要让增量$\\Delta x$逐渐减小。  \n",
    "\n",
    "\n",
    "<img src='./images/sincos_004.png' width='30%'/>"
   ]
  },
  {
   "cell_type": "markdown",
   "metadata": {},
   "source": [
    "关键问题是，现在x不是从原点开始了，一开始算的是原点，现在算的是任意点。  \n",
    "$$ \\frac{\\Delta (\\sin x)}{\\Delta x} = \\frac{\\sin (x+\\Delta x)- \\sin x}{\\Delta x}$$"
   ]
  },
  {
   "cell_type": "markdown",
   "metadata": {},
   "source": [
    "同原来一样，我们不能直接做除法，我们需要用到三角学，参考$\\sin (a+b)$的两角和公式：\n",
    "$$ \\sin (a+b) = \\sin a \\cos b +\\cos a \\sin b$$"
   ]
  },
  {
   "cell_type": "markdown",
   "metadata": {},
   "source": [
    "$$\\sin (x + \\Delta x) = \\sin x \\cos \\Delta x + \\cos x \\sin \\Delta x$$"
   ]
  },
  {
   "cell_type": "markdown",
   "metadata": {},
   "source": [
    "代入得到：\n",
    "$$ \\frac{\\Delta (\\sin x)}{\\Delta x} = \\frac{\\sin (x+\\Delta x)- \\sin x}{\\Delta x}$$\n",
    "$$ = \\frac{\\sin x \\cos \\Delta x + \\cos x \\sin \\Delta x -\\sin x}{\\Delta x}$$\n",
    "$$ = \\frac{\\sin x (\\cos \\Delta x -1) + \\cos x \\sin \\Delta x }{\\Delta x}$$\n",
    "$$ = \\sin x \\frac{\\cos \\Delta x -1}{\\Delta x} + \\cos x \\frac{\\sin \\Delta x}{\\Delta x}$$\n",
    "\n",
    "因为$$\\lim_{\\Delta x \\to 0} \\frac{sin \\Delta x}{\\Delta x} =1$$\n",
    "$$ \\lim_{\\Delta x \\to 0} \\frac{\\cos \\Delta x -1}{\\Delta x} = 0$$\n",
    "\n",
    "所以：\n",
    "$$ = \\sin x * 0 + \\cos x * 1$$\n",
    "$$ = \\cos x$$"
   ]
  },
  {
   "cell_type": "markdown",
   "metadata": {},
   "source": [
    "这就是我们梦寐以求的$(\\sin x)' = \\cos x$"
   ]
  },
  {
   "cell_type": "markdown",
   "metadata": {},
   "source": [
    "---"
   ]
  },
  {
   "cell_type": "markdown",
   "metadata": {},
   "source": [
    "下面，我想按照求导$\\sin x $的方法，继续求导$\\cos x $。 \n",
    " \n",
    " 现在要求的是$\\frac{\\Delta\\cos x} {\\Delta x}$。\n",
    " \n",
    " $$ \\frac{\\Delta \\cos x} {\\Delta x} = \\frac{\\cos (x+\\Delta x) - \\cos x}{\\Delta x}$$\n",
    " $$ = \\frac{\\cos x \\cos \\Delta x - \\sin x \\sin \\Delta x - \\cos x}{\\Delta x}$$\n",
    " $$ = \\frac{\\cos x (\\cos \\Delta x-1) - \\sin x \\sin \\Delta x}{\\Delta x}$$\n",
    " $$ = \\cos x \\frac{\\cos \\Delta x -1} {\\Delta x} - \\sin x \\frac{\\sin \\Delta x}{\\Delta x}$$\n",
    " 在$\\Delta \\to 0$的条件，一个趋于0，一个趋于1，代入得到：\n",
    " $$ = \\cos x * 0 - \\sin x *1 $$\n",
    " $$ = -\\sin x$$"
   ]
  },
  {
   "cell_type": "markdown",
   "metadata": {},
   "source": [
    "最终得到：\n",
    "$$(\\cos x)' = -\\sin x$$"
   ]
  },
  {
   "cell_type": "markdown",
   "metadata": {},
   "source": [
    "参考：\n",
    "两角和公式：\n",
    "$$ \\sin (a+b) = \\sin a \\cos b +\\cos a \\sin b$$\n",
    "$$ \\cos (a+b) = \\cos a \\cos b - \\sin   a \\sin b$$"
   ]
  },
  {
   "cell_type": "markdown",
   "metadata": {},
   "source": [
    "---"
   ]
  },
  {
   "cell_type": "markdown",
   "metadata": {},
   "source": [
    "补充：  \n",
    "上面证明时用到了$$ \\lim_{\\Delta x \\to 0} \\frac{\\cos \\Delta x -1}{\\Delta x} = 0$$"
   ]
  },
  {
   "cell_type": "markdown",
   "metadata": {},
   "source": [
    "### 为什么该比值趋近于0？ 这个比率表示什么？  \n",
    "它与$\\cos x$曲线相关，0点处的$\\cos x$曲线，与此比值来自于0点处的$\\sin x$曲线是一样的道理。  \n",
    "此处给一个直观的证明。  \n",
    "在$\\cos x$曲线上，x=0处的斜率是多少？  \n",
    "这个其实很好求，不用求极限，也不用花大力气，我们只用加上$\\cos x$曲线的另一半。  \n",
    "总所周知，它是对称的。  \n",
    "那么x=0点时，$ \\cos x$的斜率是多少？ \n",
    "这又涉及到微积分最重要的应用了。  \n",
    "就是确定函数极大值的问题。  \n",
    "$\\cos x$的极大值就在x=0处，取到极大值1 ，$\\cos 0 = 1$。  \n",
    "极大值处的斜率为0。  \n",
    "\n",
    "直觉告诉我们，如果x=0处的斜率为正，函数图像还会上升，这就不是极大值，因为后面还会增加。 \n",
    "如果斜率为负，函数图像会下降，极大值显然已经过了。  \n",
    "所以x=0处，这里正好取得$\\cos x$的极大值。  \n",
    "所以x=0处的斜率必然为0。  \n",
    "\n",
    "这个0就是我们要求的，$\\cos \\Delta x$它趋近于极大值1，随着两者逐渐接近，这就是导数。\n",
    "\n",
    "当x=0时的导数为：\n",
    "$$\\lim_{\\Delta x \\to 0} \\frac{\\cos \\Delta x - \\cos 0}{\\Delta x} = \\frac{\\cos \\Delta x - 1}{\\Delta x} =0$$"
   ]
  }
 ],
 "metadata": {
  "kernelspec": {
   "display_name": "Python 3",
   "language": "python",
   "name": "python3"
  },
  "language_info": {
   "codemirror_mode": {
    "name": "ipython",
    "version": 3
   },
   "file_extension": ".py",
   "mimetype": "text/x-python",
   "name": "python",
   "nbconvert_exporter": "python",
   "pygments_lexer": "ipython3",
   "version": "3.6.5"
  }
 },
 "nbformat": 4,
 "nbformat_minor": 2
}
