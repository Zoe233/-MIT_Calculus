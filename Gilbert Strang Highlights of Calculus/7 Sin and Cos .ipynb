{
 "cells": [
  {
   "cell_type": "markdown",
   "metadata": {},
   "source": [
    "# Lec 07: sin x 和 cos x的导数\n",
    "Derivative of sin x and cos x"
   ]
  },
  {
   "cell_type": "markdown",
   "metadata": {},
   "source": [
    "这一讲还是讨论导数和斜率，今天的主题是：   \n",
    "### 数学上两个伟大函数的导数$\\sin x$，$\\cos x$。"
   ]
  },
  {
   "cell_type": "markdown",
   "metadata": {},
   "source": [
    "### 为什么我说它们是伟大函数？  从$\\sin x$和$\\cos x$中，我们看到了什么运动？  \n",
    "我们看到了振动，物体来来回回，物体上上下下。  \n",
    "比如：圆周运动、心跳、呼吸、地球的公转。  \n",
    "\n",
    "很多运动都是这种重复运动。  \n",
    "于是$\\sin $和$\\cos $就派上用场了。\n"
   ]
  },
  {
   "cell_type": "markdown",
   "metadata": {},
   "source": []
  },
  {
   "cell_type": "markdown",
   "metadata": {},
   "source": []
  },
  {
   "cell_type": "markdown",
   "metadata": {},
   "source": []
  },
  {
   "cell_type": "markdown",
   "metadata": {},
   "source": []
  },
  {
   "cell_type": "markdown",
   "metadata": {},
   "source": []
  },
  {
   "cell_type": "markdown",
   "metadata": {},
   "source": []
  },
  {
   "cell_type": "markdown",
   "metadata": {},
   "source": []
  },
  {
   "cell_type": "markdown",
   "metadata": {},
   "source": []
  },
  {
   "cell_type": "markdown",
   "metadata": {},
   "source": []
  },
  {
   "cell_type": "markdown",
   "metadata": {},
   "source": []
  }
 ],
 "metadata": {
  "kernelspec": {
   "display_name": "Python 3",
   "language": "python",
   "name": "python3"
  },
  "language_info": {
   "codemirror_mode": {
    "name": "ipython",
    "version": 3
   },
   "file_extension": ".py",
   "mimetype": "text/x-python",
   "name": "python",
   "nbconvert_exporter": "python",
   "pygments_lexer": "ipython3",
   "version": "3.6.5"
  }
 },
 "nbformat": 4,
 "nbformat_minor": 2
}
