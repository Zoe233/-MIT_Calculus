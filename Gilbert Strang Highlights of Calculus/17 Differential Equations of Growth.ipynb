{
 "cells": [
  {
   "cell_type": "markdown",
   "metadata": {},
   "source": [
    "# Lec 17：关于增长的微分方程\n",
    "Differential Equations of Growth"
   ]
  },
  {
   "cell_type": "markdown",
   "metadata": {},
   "source": [
    "今年是关于微分方程，这就是微积分的实用之处。   \n",
    "\n",
    "今天要讲的是关于**增长的过程**。\n"
   ]
  },
  {
   "cell_type": "markdown",
   "metadata": {},
   "source": [
    "## 指数增长-例1"
   ]
  },
  {
   "cell_type": "markdown",
   "metadata": {},
   "source": [
    "$$\\frac{dy}{dt} = cy$$\n",
    "$$y(0)=given\\ start $$\n",
    "$$y(t) =y(0)e^{ct} $$"
   ]
  },
  {
   "cell_type": "markdown",
   "metadata": {},
   "source": [
    "首先大家看到的是最重要的，也是最简单的，增长率$\\frac{dy}{dt}$与y本身成正比，这里的常数记作c。  \n",
    "\n",
    "所有这些问题都会有一个初始值，从时间0开始，然后演变、增长、衰减等等，而这个的解，我们是知道的。\n",
    "\n",
    "我们知道它呈指数增长，这里有因子c，增长率c，我们实际知道：\n",
    "$$ \\frac{d}{dt} e^{ct} = c e^{ct}$$"
   ]
  },
  {
   "cell_type": "markdown",
   "metadata": {},
   "source": [
    "t=0时，初始条件完全符合。"
   ]
  },
  {
   "cell_type": "markdown",
   "metadata": {},
   "source": [
    "----"
   ]
  },
  {
   "cell_type": "markdown",
   "metadata": {},
   "source": [
    "## 指数增长-例2"
   ]
  },
  {
   "cell_type": "markdown",
   "metadata": {},
   "source": [
    "看下一个方程，还是线性的。"
   ]
  },
  {
   "cell_type": "markdown",
   "metadata": {},
   "source": [
    "$$ \\frac{dy}{dt} = cy + s$$"
   ]
  },
  {
   "cell_type": "markdown",
   "metadata": {},
   "source": [
    "这里有个s项，表示资源（source）。   \n",
    "\n",
    "这可以表示银行的存款，每年以利率c增长，而资源项s可以表示你持续存入的额外数额，每次你都存入这么多钱，或者说s为负，当然，这就表示取钱了。  \n",
    "\n",
    "这就是右侧带有常数项的线性微分方程了。  \n",
    "\n",
    "我们应该能搞定它。 \n"
   ]
  },
  {
   "cell_type": "markdown",
   "metadata": {},
   "source": [
    "实际上，我们可以用已知的内容来套用。 \n",
    "$ cy + s $可以写成$c(y+\\frac{s}{c})$，s和c是常数，而右手边的$\\frac{dy}{dt}$，我可以把常数也放进来，倒数不会改变。\n",
    "$\\frac{dy}{dt}$等价于$(y+\\frac{s}{c})$的导数，由于s和c是常数，该项的导数为0，所以$\\frac{dy}{dt}$与原来一样，但看好，表达式成了下面这个样子。\n",
    "$$ \\frac{dy}{dt} = cy + s$$\n",
    "$$\\frac{d}{dt}(y+\\frac{s}{c}) = c(y+\\frac{s}{c})$$"
   ]
  },
  {
   "cell_type": "markdown",
   "metadata": {},
   "source": [
    "这样的形式和上面的第一个例子$\\frac{dy}{dt} =cy$形式上几乎一模一样，唯一不同的是多了个$\\frac{s}{c}$，函数以增长率c增长，从0处的y值加上$\\frac{s}{c}$开始，可以看到，括号$(y+\\frac{s}{c})$这个量，这整个完美地呈指数增长。  \n"
   ]
  },
  {
   "cell_type": "markdown",
   "metadata": {},
   "source": [
    "所以，结论是，这相当于晚些时候的y值。 \n",
    "$$y(t) + \\frac{s}{c} = (y(0)+\\frac{s}{c})e^{ct}$$"
   ]
  },
  {
   "cell_type": "markdown",
   "metadata": {},
   "source": [
    "这就是该微分方程的快速版解答了。  "
   ]
  },
  {
   "cell_type": "markdown",
   "metadata": {},
   "source": [
    "其实这里并不是系统性讲解，在微分方程课程里，你将学到，不这样做，该如何来求解答案。  \n",
    "\n",
    "这个方程很有用，很重要，它呈线性，但右侧有些异物。  \n",
    "\n",
    "我应该系统一些，在继续后面的内容前，我应该先讲下线性方程，这一讲主要是讲——最有趣的微分方程是非线性的。\n",
    "\n",
    "不过我还是先说下线性方程，这里就是很好的例子。\n"
   ]
  },
  {
   "cell_type": "markdown",
   "metadata": {},
   "source": [
    "----"
   ]
  },
  {
   "cell_type": "markdown",
   "metadata": {},
   "source": [
    "## 线性方程"
   ]
  },
  {
   "cell_type": "markdown",
   "metadata": {},
   "source": [
    "线性方程的解，强调是**线性**，形式总是这样的。\n",
    "$$Linear\\ Equation\\ Solution\\  y(t) = y_{particular}(t)+y_{right\\ side \\ 0}(t)$$\n",
    "它具有某种解，具有某函数，它是方程的解。\n",
    "\n",
    "实际上这是对任意线性方程，不只是线性微分方程，还包括线性代数里的矩阵方程等等。\n",
    "\n",
    "线性方程的这些思想非常重要。 "
   ]
  },
  {
   "cell_type": "markdown",
   "metadata": {},
   "source": [
    "看出来了吗？  \n",
    "上面的指数增长-例2，也由这两部分组成。\n",
    "\n",
    "$$\\frac{dy}{dt} = cy+s$$\n",
    "\n",
    "我要求这个方程的解，首先，求一个特解（particular solution），也就是任一个满足方程的函数。  \n",
    "\n",
    "我能找到的最简单的函数是常函数，想要常数满足方程，常数的导数必然为0，而且c乘以常数加s也应该为0，要解方程。  \n",
    "\n",
    "特解应该是，常数y使得s这部分为0，将s已过去变成-s，两边同时除以c，得到$-\\frac{s}{c}$。  \n",
    "$$y' = cy +s = 0$$\n",
    "$$ cy = -s$$\n",
    "$$ y = -\\frac{s}{c}$$\n",
    "\n",
    "这是一个特解，代入检验下。  \n",
    "\n",
    "代入y等于常数，导数为0，c乘以y得到-s，加s等于0，成立。\n",
    "\n",
    "$$cy + s =0$$\n",
    "$$ c* (-\\frac{s}{c}) +s=0$$\n",
    "$$ -s +s =0$$\n",
    "成立。\n",
    "\n",
    "所以，$ y = -\\frac{s}{c}$这个就是特解了。 \n",
    "\n",
    "说右侧为0（$y_{right\\ side \\ 0}(t)$），我是什么意思呢？  \n",
    "\n",
    "线性方程中保留含有y的，去掉资源常数s，则：\n",
    "$$ \\frac{dy}{dt} = cy$$\n",
    "让右侧为0。  \n",
    "\n",
    "书本上喜欢称之为**“齐次方程”(the homogeneous equation) **。  \n",
    "\n",
    "而齐次方程，就是我们一开始讲的，$\\frac{dy}{dt} =cy$，这个的解是什么？  \n",
    "\n",
    "$\\frac{dy}{dt} =cy$的解有这个$e^{ct}$及任意常数A。 \n",
    "\n",
    "任意$Ae^{ct}$都能满足这个简单的方程。  \n",
    "\n",
    "一旦没了s，只要y满足方程，则Ay也满足方程，A是任意常数，不过当然，它能通过初始点求出来。  \n",
    "\n",
    "从$y(0)$起始，设$t=0$，就可以求出A，$y(0) = -\\frac{s}{c} + A$，这样A就求出来了，$A = y(0) + \\frac{s}{c}$。 \n",
    "\n",
    "\n"
   ]
  },
  {
   "cell_type": "markdown",
   "metadata": {},
   "source": [
    "这一讲的重点是——引入非线性方程。\n",
    "\n",
    "这非常有趣，且非常重要。  \n",
    "\n",
    "它用于人口增长，生态学，它用途很广，我马上就写出来，只是，我们的出发点总是线性的。 \n",
    "\n",
    "而我们这里讲了基本的线性方程，还有包含资源项的基本线性方程。 \n",
    "\n"
   ]
  },
  {
   "cell_type": "markdown",
   "metadata": {},
   "source": [
    "----"
   ]
  },
  {
   "cell_type": "markdown",
   "metadata": {},
   "source": [
    "## 非线性方程-人口方程"
   ]
  },
  {
   "cell_type": "markdown",
   "metadata": {},
   "source": [
    "人口增长Population growth，人口$P(t)$。\n"
   ]
  },
  {
   "cell_type": "markdown",
   "metadata": {},
   "source": [
    "用什么微分方程描述人口增长比较合理，用什么模型好？ \n",
    "\n",
    "这其实就是数学的应用了。 \n",
    "\n",
    "这有很多模型。 \n",
    "\n",
    "人口普查可以检验这些模型，确定模型中的常数，看看什么样的常数选择，可以保证符合100年间的数据，这个美妙的领域里有很好要做的。  \n",
    "\n",
    "说到项目的话，谷歌人口增长，看看它怎么说。\n",
    "\n",
    "很多网站都有，比如维基百科。  \n",
    "\n",
    "当然，统计局也有网站，它们都有现在精确的人口数据，当然，人们都想知道50年后会是什么情况。"
   ]
  },
  {
   "cell_type": "markdown",
   "metadata": {},
   "source": [
    "要知道50年后，就必须用到数学建模，我选讲这个微分方程，这样增长：\n",
    "$$ \\frac{dP}{dt} = cP+? $$\n",
    "这里c表示出生率，准确地说，出生率减去死亡率，这就是增长率。  \n",
    "\n",
    "如果只有$cP$这一项，人口会永无休止地呈指数增长，必然还有其他项，否则人口这么增长，实在不合实际。  \n",
    "\n",
    "随着地球上堆满了人，就会存在某种竞争项，某种减速项，其符号为负，用s表示减速因子，然后是$P^2$：\n",
    "$$ \\frac{dP}{dt} = cP - sP^2$$\n",
    "\n",
    "这一定程度上，反映了人口之间的相互作用，有很多这样的问题。  \n",
    "\n",
    "这个模型还广泛地应用于化学和生物领域。  \n",
    "\n",
    "质量作用，化学里是这么叫的。\n",
    " \n",
    "有两种不同材料，不同化学物质时，两者的相互作用正比于其中一个的量，也正比于另一个的里，正比于两者之积。一个的浓度乘以另一个，这样需要两个方程来表示两种浓度。  \n",
    "\n",
    "这里的问题则更为基础。这里只有一个未知量，人口$P$，这里的方程里是P乘以P，表示人口和人口之间的拥挤和影响。  \n",
    "所以，s是个很小的数，比如：十亿分之一。"
   ]
  },
  {
   "cell_type": "markdown",
   "metadata": {},
   "source": [
    "下面要解这个方程了：\n",
    "$$ \\frac{dP}{dt} = cP - sP^2$$"
   ]
  },
  {
   "cell_type": "markdown",
   "metadata": {},
   "source": [
    "不过对于非线性方程，我们暂时没有现成的工具，需要更多的微积分知识。  \n",
    "\n",
    "只要方法正确，方程最后会被征服的。  \n",
    "\n",
    "我把它的解给大家展示下吧。"
   ]
  },
  {
   "cell_type": "markdown",
   "metadata": {},
   "source": [
    "我们会以最好的方式呈现其公式的，作图总是很棒的方法。  \n",
    "\n",
    "注意了，人口从0开始会怎样？  \n",
    "\n",
    "一个人没有，即$P=0$，那么，导数$\\frac{dP}{dt}$是0。  \n",
    "\n",
    "人口永远是0。  \n",
    "\n",
    "因此0，是一个解。  \n",
    "\n",
    "$P=0$，常数解，很无趣。"
   ]
  },
  {
   "cell_type": "markdown",
   "metadata": {},
   "source": [
    "还有一种情况，这种情况也很重要，此时导数$\\frac{dP}{dt} = cP-sP^2=0$。  \n",
    "\n",
    "假设导数为0，我们会得到一个很特殊的特解，它不会变化。  \n",
    "\n",
    "存在某个解，$P=\\frac{c}{s}$。  \n",
    "\n",
    "大家估计很好奇这个数字具体是多少吧。 \n",
    "\n",
    "大概是一百亿人口吧。\n",
    "\n",
    "我是说，如果世界人口达到一百亿，此时，增长和竞争的效应会相互抵消，人口不会再有任何变化，所以这里就是我们无法逾越的上限。\n"
   ]
  },
  {
   "cell_type": "markdown",
   "metadata": {},
   "source": [
    "<img src='./images/nonlinear_001.png' width='70%'/>"
   ]
  },
  {
   "cell_type": "markdown",
   "metadata": {},
   "source": [
    "下面，我再画一下真实情况下的解吧。  \n",
    "\n",
    "一开始的人数是...，天知道，两个人吗？亚当和夏娃吗？   \n",
    "\n",
    "还是一百个人，谁知道。  \n",
    "\n",
    "其实不管什么时候数起都行。  \n",
    "\n",
    "t这个是起始的时间，从今天算起都行，横标表示时间t，时间可以从任意已知时刻开始。  \n",
    "\n",
    "其实我们有几百年较好的人口数据，所以，也许不用拿今天当起始点，不过不管从哪开始，方程是不变的。 "
   ]
  },
  {
   "cell_type": "markdown",
   "metadata": {},
   "source": [
    "开始作图。 \n",
    "\n",
    "人口会增长，在某一点，也就是这个中点处$\\frac{c}{2s}$，这是非常美妙的微积分，这一点正好是拐点。  \n",
    "人口增长曲线，它逐渐增长，越来越快，直到拐点$\\frac{c}{2s}$这一刻，具体什么时候就不清楚了，但这注定是人类历史上很重要的时刻。 \n",
    "\n",
    "我想，我们可能已经跨过这一点了。   \n",
    "\n",
    "此点之后，整个图像是对称的，呈S形，之后会逐渐减慢，逐渐接近$\\frac{c}{s}$，达到稳定状态。 \n",
    "\n",
    "$\\frac{c}{s}$称作稳态，到了这里就会保持稳定，不会改变了。   \n",
    "\n",
    "其实到不了稳态那里，这是S形曲线，如果往回追溯，它会往回，逐渐接近0，也可能是2，而上面这里也是，不过不会等于$\\frac{c}{s}$。 \n",
    "\n",
    "这就是人口曲线了，它来自这个模型$\\frac{dP}{dt} = cP-sP^2$。 "
   ]
  },
  {
   "cell_type": "markdown",
   "metadata": {},
   "source": [
    "<img src='./images/nonlinear_002.png' width='70%'/>"
   ]
  },
  {
   "cell_type": "markdown",
   "metadata": {},
   "source": [
    "我不能保证该曲线能准确预测1000年后的情况，这个模型顶多算个好的开头，还有很多其它项可以加入进来，比如：瘟疫、战争、迁徙，诸如此类，这都会影响到模型。"
   ]
  },
  {
   "cell_type": "markdown",
   "metadata": {},
   "source": [
    "---"
   ]
  },
  {
   "cell_type": "markdown",
   "metadata": {},
   "source": [
    "## 非线性方程-人口模型-数学解方程\n",
    "下面回到数学，数学让我们解这个方程，怎么解呢？"
   ]
  },
  {
   "cell_type": "markdown",
   "metadata": {},
   "source": [
    "有很多方法，我讲一个比较轻巧的，我可以试试。  \n",
    "\n",
    "$$\\frac{dP}{dt} = cP-sP^2$$\n",
    "\n",
    "这里尝试引入一个y，令$y=\\frac{1}{P}$，然后把方程写成y的形式，这会很棒。  \n",
    "\n",
    "这是解这个方程的技巧。  \n",
    "\n",
    "非线性方程，需要一些技巧。\n",
    "\n",
    "当然， y的图像和方程都会发生变化。 \n",
    "\n",
    "Try $y=\\frac{1}{P}$，则$\\frac{dy}{dt} = $\n",
    "$P^{-1}$的导数是$-P^{-2}$，根据链式法则：\n",
    "\n",
    "$$\\frac{dy}{dt} =-\\frac{\\frac{dP}{dt}}{P^2} =-\\frac{cP-sP^2}{P^2}=s-\\frac{c}{P} =s-cy$$"
   ]
  },
  {
   "cell_type": "markdown",
   "metadata": {},
   "source": [
    "你也许会问，这样做有什么意义？  \n",
    "\n",
    "看清楚了，$\\frac{1}{P}$就是y，得到$\\frac{dy}{dt} = s-cy$，关于y的方程。  \n",
    "\n",
    "关于$\\frac{dy}{dt}$的方程变成了线性的，它还含有资源项s，这和这节开始讲的线性方程如出一辙。  \n",
    "\n",
    "而增长率项还有一个-c，这如我所料，毕竟现在y的倒数，如果原来是向上呈指数增长，$\\frac{1}{P}$必然向下呈指数减少，速率不变，还是c。\n",
    "\n"
   ]
  },
  {
   "cell_type": "markdown",
   "metadata": {},
   "source": [
    "现在，我们就能解这个非线性方程了。    \n",
    "\n",
    "这类方程我们解过，我把答案写出来吧，写出y的解。 \n",
    "\n",
    "$$y(t)-\\frac{s}{c} = (y(0)-\\frac{s}{c}){e^{-ct}}$$"
   ]
  },
  {
   "cell_type": "markdown",
   "metadata": {},
   "source": [
    "这就是y的解。  \n",
    "\n",
    "下面方程就解出来了，这里只是解出了y，而P是$\\frac{1}{y}$，代入y的解，现在往回求P：\n",
    "$$\\frac{1}{P(t)}-\\frac{s}{c} = (\\frac{1}{P(0)}-\\frac{s}{c}){e^{-ct}}$$\n",
    "$$ P(t)=((\\frac{1}{P(0)}-\\frac{s}{c}){e^{-ct}}+\\frac{s}{c})^{-1}$$"
   ]
  },
  {
   "cell_type": "markdown",
   "metadata": {},
   "source": [
    "这就是我们画的那个著名的S曲线。  \n",
    "\n",
    "我们这里解的是人口方程，这通常称作Logistic "
   ]
  },
  {
   "cell_type": "markdown",
   "metadata": {},
   "source": []
  }
 ],
 "metadata": {
  "kernelspec": {
   "display_name": "Python 3",
   "language": "python",
   "name": "python3"
  },
  "language_info": {
   "codemirror_mode": {
    "name": "ipython",
    "version": 3
   },
   "file_extension": ".py",
   "mimetype": "text/x-python",
   "name": "python",
   "nbconvert_exporter": "python",
   "pygments_lexer": "ipython3",
   "version": "3.6.5"
  }
 },
 "nbformat": 4,
 "nbformat_minor": 2
}
