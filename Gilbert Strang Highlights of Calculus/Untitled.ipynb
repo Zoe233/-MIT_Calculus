{
 "cells": [
  {
   "cell_type": "markdown",
   "metadata": {},
   "source": [
    "# 1. 导论"
   ]
  },
  {
   "cell_type": "markdown",
   "metadata": {},
   "source": [
    "## 1. 课程简介\n",
    "本科试图挖掘微积分的重点，而不是深入到厚重、巨大的课本中。  \n",
    "\n",
    "### 微积分中什么是重点？\n",
    "三组函数：\n",
    "- x的幂函数  powers of x\n",
    "- x的正余弦函数 sin and cos of x\n",
    "- x的指数函数 e to the x\n",
    "\n",
    "了解以上3组函数，可以说就了解了主要思想。  \n",
    "\n",
    "### 第一部分总共有5个视频\n",
    "\n",
    "\n",
    "### 第二部分：\n",
    "论及微分学剩下的部分。\n",
    "\n",
    "微分学：\n",
    "- 导数 the derivative\n",
    "- 斜率 the slope\n",
    "- 速率 the speed\n",
    "\n",
    "### 第三部分：\n",
    "积分学 integral calculus"
   ]
  },
  {
   "cell_type": "markdown",
   "metadata": {},
   "source": [
    "## Lec 02：微积分总览\n",
    "微积分不过是**两函数之间关系**的学科。"
   ]
  },
  {
   "cell_type": "markdown",
   "metadata": {},
   "source": [
    "### 2.1 什么叫做**两函数关系**?下面有个很好的例子。\n",
    "**函数一**：距离（移动的距离），可以理解为汽车里程表上的读数。\n",
    "**函数二**：与距离相关的是速度，它用来描述运动的快慢。  \n",
    "这就得到一组函数。 \n",
    "\n",
    "我还可以给出另一组例子。  \n",
    "**函数一**：高度。如果作图的话，它表示图像相对x轴的距离，竖直方向的距离。\n",
    "**函数二**：变化多块。可以以爬山来理解，高度用以表示我们爬了多少，而斜率则用以表示在没一点处能爬多快。是竖直向上、水平还是向下。  \n",
    "\n",
    "因此**距离和速度（Distance & Speed）**和**高度和斜率（Height & Slope）**是入门的极好例子。 \n",
    "\n",
    "下面我将引入一些必要的数学符号。    \n",
    "**距离和速度（Distance & Speed）**\n",
    "$$\\begin{cases}\n",
    "f(t)\\\\\n",
    "s = \\frac{df}{dt}\n",
    "\\end{cases}\n",
    "$$\n",
    "其中，t是自变量，$f(t)$表示移动一定距离需要的时间，这里距离是因变量。  \n",
    "这里的f表示走了多远。  \n",
    "\n",
    "速度（Speed）的首字母为s，因此用s表示速度。  \n",
    "\n",
    "函数二在学术上的正确表示法：  \n",
    "> 该表示法将函数二与函数一结合起来。\n",
    "如果函数一是时间t的函数， 表示移动的距离，那么速度的正确表示应为$\\frac{df}{dt}$   \n",
    "这是通用的写法，记住它的读法：'df dt'（可以不读中间的'/'）  \n",
    "莱布尼茨发明并开始使用这种表示法。\n",
    "\n",
    "\n",
    "\n",
    "**高度和斜率（Height & Slope）**\n",
    "$$\\begin{cases}\n",
    "y(x) \\\\\n",
    "s =\\frac{dy}{dx}\n",
    "\\end{cases}\n",
    "$$\n",
    "其中，x表示水平距离，它是自变量，对应每一个x，对应垂直方向的因变量为y。  \n",
    "这里的y表示其图像上的垂直距离。  \n",
    "斜率（Slope）的首字母为s，因此用s表示斜率。  \n"
   ]
  },
  {
   "cell_type": "markdown",
   "metadata": {},
   "source": [
    "让我们从最简单的例子开始讲解。 \n",
    "#### 匀速的情况，不变的斜率 \n",
    "假定匀速的速度 s=40 Miles/Hour，下面是距离和速度在的图像。\n",
    "![title](./images/example_001.png)\n",
    "\n",
    "已经讲了距离和速度的函数，现在可以开始进行比较了。  \n",
    "这里可以将f看做高度函数，图上标注的两点(1,40),(2,80)分别表示高度40，高度80，这时，斜率是什么呢？  \n",
    "只需要看一下两函数之间的关系。    \n",
    "\n",
    "对于距离，匀速运动时，读里程表就能知道。  \n",
    "\n",
    "那么速度怎么得到？  \n",
    "只需要求斜率，也就是1小时候40 Miles，$\\frac{40}{1}$或$\\frac{80}{2}$，结果一样，因为是匀速。  \n",
    "\n",
    "因此斜率等于纵向除以横向，$$s=\\frac{up}{cross} =\\frac{80}{2} =40$$"
   ]
  },
  {
   "cell_type": "markdown",
   "metadata": {},
   "source": [
    "When the speed is constant, we only need algebra.  \n",
    "slope = up divided by cross   $s =\\frac{up}{cross}$   \n",
    "speed = distance divied by time $ s =\\frac{distance}{time}$"
   ]
  },
  {
   "cell_type": "markdown",
   "metadata": {},
   "source": [
    "那么，在两函数间转换的微积分是怎么样的？  \n",
    "我们已经知道了，代数可以在两函数间相互转换。  \n",
    "如果函数二是常数，那么函数一就是一条直线，非常直观，但这是基础。  \n",
    "$$\\begin{cases}speed=\\frac{f}{t}\\\\slope = \\frac{y}{x}\\end{cases}$$\n",
    "$$ \\begin{cases}f= st \\\\ y =xs\\end{cases}$$"
   ]
  },
  {
   "cell_type": "markdown",
   "metadata": {},
   "source": [
    "下面，再增加一点内容。  \n",
    "假设测量时间2和测量时间1，观察时间2和时间1之间，总共行驶了多远？  \n",
    "这就需要引入另外一个记号--也就是f的变化量$\\Delta f$除以t的变化量$\\Delta t$。  \n",
    "\n",
    "$\\Delta$表示差值。\n",
    "$$ Speed = \\frac{\\Delta f}{\\Delta t} = \\frac{80-40}{2-1} = 40$$"
   ]
  },
  {
   "cell_type": "markdown",
   "metadata": {},
   "source": [
    "### 进入微积分范畴\n",
    "速度不再是常数，速度一开始就很快，但它会逐渐减小，直到为0。  \n",
    "\n",
    "先考虑**函数一**，再考虑**函数二**：\n",
    "![title](./images/example_002.png)\n",
    "上图中f表示的是随着时间t，距离的变化。  \n",
    "如果是一辆车，它怎么在运动？  \n",
    "开始它在前行，因为距离一直在增加，一开始距离增加块，后面距离增加逐渐变慢。  \n",
    "可以说，在斜率为0处成功打了刹车，因为它碰到了红灯。"
   ]
  },
  {
   "cell_type": "markdown",
   "metadata": {},
   "source": [
    "### 从函数一求函数二，这叫做微分学 Differential Calculus\n",
    "### 从函数二求函数一，则叫做积分学 Integral Calculus\n",
    "求法叫作**积分Integration**。 \n",
    "比如当你知道了速度随着时间的变化趋势，这时你想求距离，就需要积分。  "
   ]
  },
  {
   "cell_type": "markdown",
   "metadata": {},
   "source": [
    "继续上面的问题，如果我继续绘制距离和速度曲线。  \n",
    "到了红灯以后，假设距离开始逐渐减小，发生了什么？  \n",
    "距离在减少，表示车在反向行驶，在倒车，速度会怎么样呢？  \n",
    "变为负值。  \n",
    "\n",
    "距离从大到小，这表示速度变为负值。  \n",
    "速度曲线会掉到横轴以下。 \n",
    "![title](./images/example_003.png)\n",
    "\n",
    " \n",
    "**两条曲线不同，但包含信息相同**。\n"
   ]
  },
  {
   "cell_type": "markdown",
   "metadata": {},
   "source": [
    "### 2.2 例子：身高和变化率\n",
    "Function(1) = Height of a person  \n",
    "Function(2) = Rate the person grows\n",
    "\n",
    "![title](./images/example_004.png)\n",
    "\n",
    "在这里，我只是想强调函数一和函数二之间的相互关系。"
   ]
  },
  {
   "cell_type": "markdown",
   "metadata": {},
   "source": [
    "### 2.3 例子：距离和恒定加速度\n",
    "Function(1) = Distance  \n",
    "Function(2) = Speed increases at a constant rate  \n",
    "\n",
    "#### 此处的过程是从函数二反推函数一（作积分）  \n",
    "![title](./images/example_005.png)\n",
    "\n",
    "非常有趣的是，Function(1)表示的是Function(2)，也就是图像二下的面积。 \n",
    "\n",
    "                 area under function(2) = function(1)\n",
    "\n",
    "由于本例中，加速度恒定，速度稳定增加，因此图像二下的面积是一个三角形area under function(2) $= \\frac{1}{2} t (at) = \\frac{1}{2} a t^2 $\n",
    "\n",
    "所以$$\\begin{cases}\n",
    "f = \\frac{1}{2} a t^2 \\\\\n",
    "s = \\frac{df}{dt} = at\n",
    "\\end{cases}$$\n",
    "\n",
    "距离就像是一个总和，而每一时刻的速度只是瞬间值。  \n",
    "差别在于，总和表示所行进的总距离，而速度只表示某时刻、某瞬间，距离的变化量。  \n",
    "速度相当于在图像一t点的斜率。  \n",
    "斜率也就是图像二的高, at。 \n"
   ]
  },
  {
   "cell_type": "markdown",
   "metadata": {},
   "source": [
    "Integrate Function(2) to find Function(1).  \n",
    "Integral Calculus uses speed to find distance.  "
   ]
  },
  {
   "cell_type": "markdown",
   "metadata": {},
   "source": [
    "----"
   ]
  },
  {
   "cell_type": "markdown",
   "metadata": {},
   "source": [
    "## Lec 03：导数总览 derivatives\n",
    "本节非常重要，它将总览导数的介绍和计算。   \n",
    "\n",
    "函数都是成对的，微积分就是讨论两种函数之间关系的学科。  "
   ]
  },
  {
   "cell_type": "markdown",
   "metadata": {},
   "source": [
    "1. Relationship Between Functions  \n",
    "    a. Distance & Speed   \n",
    "    $$\\begin{cases}f(t) \\\\\n",
    "    \\frac{df}{dt}\n",
    "    \\end{cases}$$\n",
    "    b. Height & Slope\n",
    "    $$\\begin{cases}y(x) \\\\\n",
    "    \\frac{dy}{dx}\n",
    "    \\end{cases}$$"
   ]
  },
  {
   "cell_type": "markdown",
   "metadata": {},
   "source": [
    "2. Slope of the Great Functions of Calculus  \n",
    "为下面这些微积分中重要的函数，求出其斜率。  \n",
    "其斜率都是可以用公式表示的$\\frac{dy}{dx}$  \n",
    "\n",
    "    a. $y=x^n$  $$\\frac{dy}{dx} = n x^{n-1}$$\n",
    "    b. $ y=\\sin x$   $$\\frac{dy}{dx} =\\cos x$$\n",
    "    c. $ y = e^x $    $$\\frac{dy}{dx} = e^x$$\n",
    "   \n",
    "   \n",
    "这三个函数确实极其重要，求导过程可能会花点时间，但一旦知道结果，意义重大。  \n",
    "要知道，很多其他函数，不管是科学、工程、经济、生活领域，都可以由这些函数得到。  \n",
    "可以是通过乘法，互相乘以，这就需要**乘法法则**。  \n",
    "对于导数，需要知道如何求乘积的斜率。  \n",
    "也可以进行除法，这就需要**除法法则**。  \n",
    "这里还可以嵌套，这是导数中最有用的法则，比如得到符合函数$e^{\\sin x}$，这就需要**链式法则chain rule**。 \n"
   ]
  },
  {
   "cell_type": "markdown",
   "metadata": {},
   "source": [
    "3. Example1: What does slope mean?  \n",
    "    a. $y=x^2$\n",
    "![title](./images/example_006.png)\n",
    " \n",
    " \n",
    " Average slope = $\\frac{change in y}{ change in x} = \\frac{\\Delta y}{\\Delta x}$\n",
    " \n",
    " Average$\\frac{\\Delta y}{\\Delta x} \\rightarrow $ instant slope$\\frac{\\Delta y}{\\Delta x}$\n",
    " \n",
    " Average Over 1st piece =$ \\frac{\\Delta y }{\\Delta x} = \\frac{(\\Delta x)^2}{\\Delta x} =\\Delta x$   \n",
    " 虽然$\\Delta x$已经很小了，但这里仍然是平均值。  \n",
    " 我想让$\\Delta x$减小为0，这时微积分才有用武之地。  \n",
    " 取极限，让这一段不断减小，从而无限接近某瞬时情况，这样就能得到斜率。  这里我们要求的也就是0点的情况。  \n",
    " 可以看到，上面式子的情形特别简单， Average Over 1st piece =$\\Delta x$，因此平均斜率平常之小。  \n",
    " 沿着这种逐渐变小的思路，我将求出$x=0$处的瞬时斜率。  \n",
    " \n",
    "                     Instant Slope at 0 = 0  \n",
    " \n",
    " 这就是我们之前预测的结果。"
   ]
  },
  {
   "cell_type": "markdown",
   "metadata": {},
   "source": [
    "### 下面来求任意点的斜率\n",
    "![title](./images/example_007.png)"
   ]
  },
  {
   "cell_type": "markdown",
   "metadata": {},
   "source": [
    "$$\\frac{\\Delta y}{\\Delta x} = \\frac{(x+\\Delta x)^2 - x^2}{\\Delta x} = \\frac{x^2 + 2x \\Delta x + (\\Delta x)^2}{\\Delta x} = 2x + \\Delta x$$\n",
    "\n",
    "下面微积分介入。  \n",
    "如果说$\\frac{\\Delta y}{\\Delta x} $是$\\frac{小}{小}$，那么$\\frac{dy}{dx}$就是$\\frac{极小}{极小}$，这里的d，小得可以说无法分辨。   \n",
    "小得不再将$dy$作为分开距离来考虑，这里其实已经不再是真正的除法，因为除法是不允许$\\frac{0}{0}$的，那么这里的$\\frac{0}{0}$是什么意思？  \n",
    "其实这里的$\\frac{0}{0}$，只是上面这种情况的极限。 \n",
    "$$\\frac{dy}{dx} = \\lim of \\frac{\\Delta y}{\\Delta x} $$\n",
    "这一步最为关键，这就从代数步入了微积分。  \n",
    "这就得到了某一点上的瞬时情形，取$\\Delta x$趋近于0，结果是什么？  \n",
    "\n",
    "$$\\frac{dy}{dx} =\\lim of \\frac{\\Delta y}{\\Delta x} =\\lim_{\\Delta x \\rightarrow 0} (2x + \\Delta x) = 2x$$\n",
    "这就是函数二（速度函数）。 \n",
    "![title](./images/example_008.png)"
   ]
  },
  {
   "cell_type": "markdown",
   "metadata": {},
   "source": [
    "4. Example2：What does slope mean?  \n",
    "    a. $y =\\sin x$  \n",
    "    b. $\\frac{dy}{dx}=\\cos x$\n",
    "    \n",
    "![title](./images/example_009.png)  \n",
    "增长、下降、快、慢、极大值、极小值   \n",
    "climbing, dropping, faster, slower, maximum, minimum \n",
    "\n",
    "这些体现了导数的重要性和实用性所在。"
   ]
  },
  {
   "cell_type": "markdown",
   "metadata": {},
   "source": []
  },
  {
   "cell_type": "markdown",
   "metadata": {},
   "source": []
  },
  {
   "cell_type": "markdown",
   "metadata": {},
   "source": []
  },
  {
   "cell_type": "markdown",
   "metadata": {},
   "source": []
  },
  {
   "cell_type": "markdown",
   "metadata": {},
   "source": []
  },
  {
   "cell_type": "markdown",
   "metadata": {},
   "source": []
  }
 ],
 "metadata": {
  "kernelspec": {
   "display_name": "Python 3",
   "language": "python",
   "name": "python3"
  },
  "language_info": {
   "codemirror_mode": {
    "name": "ipython",
    "version": 3
   },
   "file_extension": ".py",
   "mimetype": "text/x-python",
   "name": "python",
   "nbconvert_exporter": "python",
   "pygments_lexer": "ipython3",
   "version": "3.6.5"
  }
 },
 "nbformat": 4,
 "nbformat_minor": 2
}
