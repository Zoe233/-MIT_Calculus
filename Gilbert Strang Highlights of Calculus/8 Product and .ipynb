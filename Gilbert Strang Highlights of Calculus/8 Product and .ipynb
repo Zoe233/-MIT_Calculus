{
 "cells": [
  {
   "cell_type": "markdown",
   "metadata": {},
   "source": [
    "# Lec 08：乘法法则和除法法则\n",
    "Product Rule and Quotient Rule"
   ]
  },
  {
   "cell_type": "markdown",
   "metadata": {},
   "source": [
    "本视频的主题是导数。  \n",
    "\n",
    "今天讲两条求导的新法则：**乘法法则**和**除法法则** "
   ]
  },
  {
   "cell_type": "markdown",
   "metadata": {},
   "source": [
    "如果已知函数f的导数，同时已知函数g的导数，那么我们可以通过它们得到新的内容，两条直接得到的重要法则是：\n",
    "## 乘法法则：\n",
    "已知： $$p(x) = f(x) g(x) $$\n",
    "则：\n",
    "$$\\frac{dp}{dx} =f(x) g'(x)+ g(x)f'(x) =f(x) \\frac{dg}{dx} + g(x) \\frac{df}{dx}$$"
   ]
  },
  {
   "cell_type": "markdown",
   "metadata": {},
   "source": [
    "## 除法法则\n",
    "已知：\n",
    "$$ q(x) = \\frac{f(x)}{g(x)}$$\n",
    "则：\n",
    "$$ \\frac{dq}{dx}=$$"
   ]
  },
  {
   "cell_type": "markdown",
   "metadata": {},
   "source": [
    "----"
   ]
  },
  {
   "cell_type": "markdown",
   "metadata": {},
   "source": [
    "下面开始讲乘法法则，我们的第一个例子是：\n",
    "$$\\begin{cases}\n",
    "f(x）= x^2\\\\\n",
    "g(x) = x\n",
    "\\end{cases}$$\n",
    "那么$p(x)$是多少？  \n",
    "$$p(x) = f(x)g(x) = x^2 * x = x^3$$"
   ]
  },
  {
   "cell_type": "markdown",
   "metadata": {},
   "source": [
    "下面我们想求$p(x)$的导数，$f(x)$和$g(x)$的导数我们会提前给出。  \n",
    "\n",
    "### 乘法法则告诉我们什么？  \n",
    "它告诉我们p的导数$\\frac{dp}{dx}$通过乘法法则计算导数的过程如下：\n",
    "$$\\frac{d}{dx} x^3 = \\frac{d}{dx} x^2 * x $$\n",
    "$$ = x^2*1 + x*(2x) $$\n",
    "$$ = x^2 + 2x^2$$\n",
    "$$ = 3x^2$$"
   ]
  },
  {
   "cell_type": "code",
   "execution_count": null,
   "metadata": {},
   "outputs": [],
   "source": []
  }
 ],
 "metadata": {
  "kernelspec": {
   "display_name": "Python 3",
   "language": "python",
   "name": "python3"
  },
  "language_info": {
   "codemirror_mode": {
    "name": "ipython",
    "version": 3
   },
   "file_extension": ".py",
   "mimetype": "text/x-python",
   "name": "python",
   "nbconvert_exporter": "python",
   "pygments_lexer": "ipython3",
   "version": "3.6.5"
  }
 },
 "nbformat": 4,
 "nbformat_minor": 2
}
