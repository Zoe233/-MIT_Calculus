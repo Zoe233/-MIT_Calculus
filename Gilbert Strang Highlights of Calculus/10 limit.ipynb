{
 "cells": [
  {
   "cell_type": "markdown",
   "metadata": {},
   "source": [
    "# Lec 10：极限和连续函数\n",
    "Limits and Continuous Functions"
   ]
  },
  {
   "cell_type": "markdown",
   "metadata": {},
   "source": [
    "我们先从图像着手，绕过晦涩的数学定义。  \n",
    "\n",
    "## 最基本的思想：\n",
    "比如我有一系列数字，一些正数，我们要弄清什么叫“让这些数字趋近于极限A”。 \n",
    "\n",
    "这些数字以序列$a_1, a_2, a_3, a_4,...$排列，不管我是给出前四个数字，还是前一百万个数字，对极限都没有影响。 \n",
    "\n",
    "看看是什么意思？ \n",
    "\n",
    "![title](./images/limit_001.png)"
   ]
  },
  {
   "cell_type": "markdown",
   "metadata": {},
   "source": [
    "比如图上A处，$A=7$，那么一个数字的序列趋近于7，意味着，假设在A上下任取一小段很窄的缝隙，不管数列如何开始，开始时，这些数可以进进出出，也可以很大，也可以很小，不过最后，在某特定点后，数列必将落到这个缝隙内，再也出不去。  \n",
    "缝隙还可以取得更小，数列中足够靠后的数字，仍会无一例外地落在缝隙内，这就是数列趋近于A的意思。  \n",
    "在上上下下来回超过缝隙边缘之后，数列最终会落到缝隙内，不再出来。\n"
   ]
  },
  {
   "cell_type": "markdown",
   "metadata": {},
   "source": [
    "而数列趋近于$A=0$，则稍稍不同。 数字均大于0，数列总的趋势逐渐向下，最后落在窄带内，不再出来。  \n",
    "然后，窄带还可以取得更窄，不过数列最终还是落在窄带内。\n"
   ]
  },
  {
   "cell_type": "markdown",
   "metadata": {},
   "source": [
    "窄带通常记作$\\epsilon$，希腊字母$\\epsilon$表示很小的数。 \n",
    "\n",
    "$A=7$的上下窄带分别是$A-\\epsilon$和$A+\\epsilon$。  \n",
    "\n",
    "$A=0$的上窄带表示为$\\epsilon$。\n",
    "\n",
    "\n"
   ]
  },
  {
   "cell_type": "markdown",
   "metadata": {},
   "source": [
    "那么，趋近于无穷大又是什么意思呢？  \n",
    "$\\epsilon$可以越取越小，这相当于$\\frac{1}{\\epsilon}$，一个巨大的数。\n",
    "\n",
    "极限为无穷大时，数列还是可以上上下下，到处乱串一段时间，但最终，数列必然落到图上的A=$\\infty$这条线上方，不再出来。  \n",
    "线还可以上移，但数列足够靠后的点还是会落在线的上方。"
   ]
  },
  {
   "cell_type": "markdown",
   "metadata": {},
   "source": [
    "这就是极限。 \n",
    "\n",
    "现在我们知道了三种极限：\n",
    "- 无穷大极限\n",
    "- 正数极限\n",
    "- 零极限\n",
    "\n",
    "极限可能是这几种，但当然，很多数列根本没有极限。 \n",
    "\n",
    "比如$\\sin$，$\\cos$，它们来回晃动，很多数列都没有极限。\n",
    "\n",
    "要想抓住极限思想的内涵，要想灵活运用极限，必须先解答一些问题。  \n",
    "最终这些问题都会迎刃而解。  \n",
    "\n",
    "不过极限有时还是会遇到危机，所有搞数学的都比较关注一些特殊的情况，其实，普通极限有点没意思。  \n",
    "如果$a_n \\to 7, b_n \\to 4$，a中的数都在7附近，而b中的数都在4附近，那么\n",
    "$$ a_n - b_n \\to A-B$$其差必然在7-4附近。 "
   ]
  },
  {
   "cell_type": "markdown",
   "metadata": {},
   "source": [
    "有没有不适用这个办法的时候呢？  \n",
    "\n",
    "### 有没有一些特殊情况，我们无法知道极限的呢？  \n",
    "比如极限不存在，或什么别的情况。  \n",
    "这是绝对可能的，我罗列了四种情况，这些就比较有趣了。  \n",
    "\n",
    "### 情况1:\n",
    "$$a_n - b_n \\to A-B$$\n",
    "\n",
    "第一类问题只有一种比较麻烦的。  \n",
    "如果这些a趋近于$\\infty$，变得很大，而b也趋近于$\\infty$，变得很大。  \n",
    "那么$A -B$的形式上就变成了$\\infty - \\infty$了，结果是多少，谁都不知道，这没有意义。  \n",
    "\n",
    "#### Danger： $\\infty - \\infty$ \n",
    "对于搞数学的，这部分就像跳伞一样危险。  \n",
    "看看是什么情况？  \n",
    "$a_n$可以是$n^2$，$b_n$可以仅仅是$n$，它们都趋近于无穷大，$n^2$和$n$相比，前者显然更快，这就像赛跑，$n^2$必胜。  \n",
    "且随着赛事的深入，两者的差距逐渐拉开。   \n",
    "还有一种情况， $a_n$和$b_n$均为$n$，同时趋近于无穷大，两者的差值始终为0。  \n",
    "$n-n$，所以差的极限是$0-0$。  \n",
    "**因此$\\infty - \\infty$可以是0，可以是$\\infty$，可以是$-\\infty$，还可以是任意数，任何极限都有可能会出现。**\n",
    "\n",
    "\n"
   ]
  },
  {
   "cell_type": "markdown",
   "metadata": {},
   "source": [
    "### 情况2：\n",
    "$$ a_n b_n \\to AB$$\n",
    "现在看乘法的情况。  \n",
    "一系列趋近于7的数和一些列趋近于4的数，乘积就会趋近于28。  \n",
    "\n",
    "#### Danger： $(0)*(\\infty)$\n",
    "极端情况$A=0$，$B \\to \\infty$时是什么情形呢？  \n",
    "\n"
   ]
  },
  {
   "cell_type": "code",
   "execution_count": 1,
   "metadata": {},
   "outputs": [
    {
     "ename": "SyntaxError",
     "evalue": "invalid syntax (<ipython-input-1-3a812c5f081e>, line 2)",
     "output_type": "error",
     "traceback": [
      "\u001b[0;36m  File \u001b[0;32m\"<ipython-input-1-3a812c5f081e>\"\u001b[0;36m, line \u001b[0;32m2\u001b[0m\n\u001b[0;31m    $$ \\frac{a_n}{b_n} \\to \\frac{A}{B}$$\u001b[0m\n\u001b[0m    ^\u001b[0m\n\u001b[0;31mSyntaxError\u001b[0m\u001b[0;31m:\u001b[0m invalid syntax\n"
     ]
    }
   ],
   "source": [
    "### 情况3：\n",
    "$$ \\frac{a_n}{b_n} \\to \\frac{A}{B}$$"
   ]
  },
  {
   "cell_type": "code",
   "execution_count": null,
   "metadata": {},
   "outputs": [],
   "source": [
    "### 情况4：\n",
    "$$ (a_n)^{b_n} \\to A^B$$"
   ]
  }
 ],
 "metadata": {
  "kernelspec": {
   "display_name": "Python 3",
   "language": "python",
   "name": "python3"
  },
  "language_info": {
   "codemirror_mode": {
    "name": "ipython",
    "version": 3
   },
   "file_extension": ".py",
   "mimetype": "text/x-python",
   "name": "python",
   "nbconvert_exporter": "python",
   "pygments_lexer": "ipython3",
   "version": "3.6.5"
  }
 },
 "nbformat": 4,
 "nbformat_minor": 2
}
