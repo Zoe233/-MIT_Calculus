{
 "cells": [
  {
   "cell_type": "markdown",
   "metadata": {},
   "source": [
    "# Lec 08：乘法法则和除法法则\n",
    "Product Rule and Quotient Rule"
   ]
  },
  {
   "cell_type": "markdown",
   "metadata": {},
   "source": [
    "本视频的主题是导数。  \n",
    "\n",
    "今天讲两条求导的新法则：**乘法法则**和**除法法则** "
   ]
  },
  {
   "cell_type": "markdown",
   "metadata": {},
   "source": [
    "如果已知函数f的导数，同时已知函数g的导数，那么我们可以通过它们得到新的内容，两条直接得到的重要法则是：\n",
    "## 乘法法则：\n",
    "已知： $$p(x) = f(x) g(x) $$\n",
    "则：\n",
    "$$\\frac{dp}{dx} =f(x) g'(x)+ g(x)f'(x) =f(x) \\frac{dg}{dx} + g(x) \\frac{df}{dx}$$"
   ]
  },
  {
   "cell_type": "markdown",
   "metadata": {},
   "source": [
    "## 除法法则\n",
    "已知：\n",
    "$$ q(x) = \\frac{f(x)}{g(x)}$$\n",
    "则：\n",
    "$$ \\frac{dq}{dx}=\\frac{g(x) \\frac{df}{dx} - f(x)\\frac{dg}{dx}}{(g(x))^2}$$"
   ]
  },
  {
   "cell_type": "markdown",
   "metadata": {},
   "source": [
    "用语言描述，下面就是每次使用时的背诵口诀：  \n",
    "（下乘上导 - 上乘下导）除以 （下的平方）"
   ]
  },
  {
   "cell_type": "markdown",
   "metadata": {},
   "source": [
    "----\n",
    "\n"
   ]
  },
  {
   "cell_type": "markdown",
   "metadata": {},
   "source": [
    "下面开始讲乘法法则，我们的第一个例子是：\n",
    "$$\\begin{cases}\n",
    "f(x）= x^2\\\\\n",
    "g(x) = x\n",
    "\\end{cases}$$\n",
    "那么$p(x)$是多少？  \n",
    "$$p(x) = f(x)g(x) = x^2 * x = x^3$$"
   ]
  },
  {
   "cell_type": "markdown",
   "metadata": {},
   "source": [
    "下面我们想求$p(x)$的导数，$f(x)$和$g(x)$的导数我们会提前给出。  \n",
    "\n",
    "### 乘法法则告诉我们什么？  \n",
    "它告诉我们p的导数$\\frac{dp}{dx}$通过乘法法则计算导数的过程如下：\n",
    "$$\\frac{d}{dx} x^3 = \\frac{d}{dx} (x^2 * x) $$\n",
    "$$ = x^2*1 + x*(2x) $$\n",
    "$$ = x^2 + 2x^2$$\n",
    "$$ = 3x^2$$"
   ]
  },
  {
   "cell_type": "markdown",
   "metadata": {},
   "source": [
    "假设$p(x) = x^4$，则可以去$f(x)=x^3$和$g(x) = x$。 \n",
    "\n",
    "用乘法法则求导则：\n",
    "$$ \\frac{d}{dx} x^4 = \\frac{d}{dx} (x^3)(x)$$\n",
    "$$ = x^3 * 1 + x * (3x^2) $$\n",
    "$$ = x^3 + 3 x^3 $$\n",
    "$$ = 4 x^3$$"
   ]
  },
  {
   "cell_type": "markdown",
   "metadata": {},
   "source": [
    "$x^n$的导数，对应任意n，如果模式延续下去，则会得到：\n",
    "$$ \\frac{d}{dx} x^n = n x^{n-1}$$\n",
    "\n",
    "这是个非常重要的公式，这个公式不仅仅在这一两个例子里成立，它对任意n都应该是成立的。  \n",
    "\n",
    "我们建立这种模式之后，可以通过归纳法来证明。  \n",
    "上面的归纳法只能证明n是正整数的情况下，均成立，下面会拓展开来针对n是分数的情况下的也成立的推理。  \n",
    "\n"
   ]
  },
  {
   "cell_type": "markdown",
   "metadata": {},
   "source": [
    "### 拓展：求$\\frac{d}{dx} (f(x))^n$的导数\n",
    "\n",
    "如果n=2，则\n",
    "$$ \\frac{d}{dx} (f(x))^2 = \\frac{d}{dx} f(x)f(x)$$\n",
    "$$ = f(x)\\frac{df}{dx} + \\frac{df}{dx} f(x)$$\n",
    "$$ = 2 * f(x) \\frac{df}{dx}$$\n",
    "\n",
    "如果n=3，则\n",
    "$$ \\frac{d}{dx} (f(x))^3= \\frac{d}{dx} (f(x))^2 f(x)$$\n",
    "$$ = (f(x))^2\\frac{df}{dx} + 2 * f(x) \\frac{df}{dx} f(x)$$\n",
    "$$ = 3 * (f(x))^2 \\frac{df}{dx}$$"
   ]
  },
  {
   "cell_type": "markdown",
   "metadata": {},
   "source": [
    "让我们看看这里模式是怎样的？ \n",
    "\n",
    "$$ \\frac{d}{dx} (f(x))^n = n (f(x))^{n-1} \\frac{df}{dx}$$\n",
    "\n",
    "这个法则就是**幂法则 power rule**。  \n",
    "\n"
   ]
  },
  {
   "cell_type": "markdown",
   "metadata": {},
   "source": [
    "求导幂函数，这里只是求导$x^n$，而现在我们知道x函数的n次方如何求导了。  \n",
    "这里有一个特别的内容，之后我们还会细谈。  \n",
    "\n",
    "这里所说的**幂法则**其实是这个特别内容的一个例子，即最重要的--**链式法则chain rule**。  \n",
    "\n",
    "注意上面例子$\\frac{d}{dx}(f(x))^n$，求导之后还是得到了原来的模式$nx^{n-1}$，但是注意后面还需要**内函数的导数**。    \n",
    "\n",
    "链式法则时还会讲到这部分内容。   "
   ]
  },
  {
   "cell_type": "markdown",
   "metadata": {},
   "source": [
    "#### 为什么要求导$ \\frac{d}{dx} (f(x))^n $这个？  \n",
    "这都是为求导根号x做铺垫。  \n",
    "\n",
    "下面开始尝试，而尝试过程中需要用到这个结论。  \n",
    "\n",
    "$$ \\frac{d}{dx} (f(x))^n = n (f(x))^{n-1} \\frac{df}{dx}$$"
   ]
  },
  {
   "cell_type": "markdown",
   "metadata": {},
   "source": [
    "用这个结论来求导根号x。  \n",
    "\n",
    "例子函数：\n",
    "$$f(x) = \\sqrt {x} = x^{\\frac{1}{2}}$$"
   ]
  },
  {
   "cell_type": "markdown",
   "metadata": {},
   "source": [
    "#### 我希望结果是什么呢？  \n",
    "我希望公式保持原来的模式，即$\\frac{d}{dx}x^n = n x^{n-1}$，但当n=$\\frac{1}{2}$时，仍然可以套用该公式。  \n",
    "\n",
    "事实也确实如此。"
   ]
  },
  {
   "cell_type": "markdown",
   "metadata": {},
   "source": [
    "#### 怎么做呢？  \n",
    "对于$\\sqrt x$，简单的方法就是平方它，得到x。  \n",
    "\n",
    "$$ f(x) = \\sqrt x $$\n",
    "\n",
    "\n",
    "$$( \\sqrt x)^2 = x$$\n",
    "两边同时求导得到：\n",
    "$$ 2 * {\\sqrt x}  \\frac{df}{dx} =1$$\n",
    "\n",
    "#### 左侧的导数中内函数的导数是什么呢？ \n",
    "\n",
    "$$ \\frac{df}{dx} = \\frac{1}{2 * {\\sqrt x} }$$\n",
    "此处的$f=\\sqrt x$，则\n",
    "$$ \\frac{d}{dx} \\sqrt x = \\frac{1}{2 * {\\sqrt x} }$$\n",
    "$$ = \\frac{1}{2} x^{-\\frac{1}{2}}$$"
   ]
  },
  {
   "cell_type": "markdown",
   "metadata": {},
   "source": [
    "这正好就是我要的。  \n",
    "我们的模式对$n=\\frac{1}{2}$成立。  \n",
    "\n",
    "推而广之，它应该还对立方根及任意次方根成立。  \n",
    "\n",
    "换言之，现在这个公式，$\\frac{d}{dx} x^n = n x^{n-1}$，我们正在让它的适用性越来越广。  \n",
    " \n",
    "一开始，很直接地，它适用于所有正整数。  \n",
    "现在，它又适用于所有$\\frac{1}{N}$成立。  \n",
    "继续推广，它还对$\\frac{M}{N}$成立，任意分数次方都成立。  \n",
    "\n",
    "但目前我还不能推导到负数次方，因为这涉及到除法，负指数是除法，需要除法法则。  "
   ]
  },
  {
   "cell_type": "markdown",
   "metadata": {},
   "source": [
    "我一直在用乘法法则，但我还没有解释它怎么来的。   \n",
    "所以，还是先解释下为好，**乘法法则它怎么来的呢？**    \n",
    "\n",
    "#### 回到问题，如何求导$p=fg$？\n",
    "这需要引入$\\Delta p$，然后需要除以$\\Delta x$。  \n",
    "这里$\\Delta p$是什么？  \n",
    "这里的p是$fg$，此处讲得直观点，可以引入长方形，一条边为f的值，另一条边为g的值，对应的长方形中的面积area则是$fg$，也就是p的值。  \n",
    "\n",
    "![title](./images/product_001.png)"
   ]
  },
  {
   "cell_type": "markdown",
   "metadata": {},
   "source": [
    "这是x处的情况。  \n",
    "\n",
    "下面开始移动，将x稍微移动一些，x变化一点后，看看乘积会如何变化？  \n",
    "如果x变化了一点，那么f也会变化一点，变化量为$\\Delta f$，g也会变化一点，变化量$\\Delta g$。 \n",
    "\n",
    "![title](./images/product_002.png)"
   ]
  },
  {
   "cell_type": "markdown",
   "metadata": {},
   "source": [
    "#### 那么，$\\Delta p$是什么？  \n",
    "$\\Delta p$是大块面积和小块面积的差。 \n",
    "\n",
    "我们可以将图中的$\\Delta p$的面积分成三小块，得到两个小长方形和一个小块长方形。  \n",
    "\n",
    "$$ area \\ of \\  \\Delta p = \\Delta g * f(x) + \\Delta f * g(x) + \\Delta f * \\Delta p $$\n",
    "\n",
    "注：\n",
    "而这个角落的小长方形$\\Delta p \\Delta f $，它会消失的。\n",
    "这里引入一种方法--所谓的\"二阶项\" second order。  \n",
    "这里f是零阶项，f乘以小量$\\Delta g$，这整个是一阶项，最后它会保留下来；  \n",
    "而二阶项$\\Delta p \\Delta f $会消失。"
   ]
  },
  {
   "cell_type": "markdown",
   "metadata": {},
   "source": [
    "我需要用三个长方形的面积的三项来表示$\\Delta p$，\n",
    "$$ \\frac{\\Delta p}{\\Delta x} = \\frac{\\Delta g * f(x)}{\\Delta x}+ \\frac{\\Delta f * g(x)}{\\Delta x} + \\frac{\\Delta f * \\Delta p }{\\Delta x}$$"
   ]
  },
  {
   "cell_type": "markdown",
   "metadata": {},
   "source": [
    "我们一直在用代数分析图像，用代数分析$\\frac{\\Delta p}{\\Delta x}$，微积分坐不住了。  \n",
    "于是需要引入微积分的其妙步骤。  \n",
    "让$\\Delta x$不断减小，不断接近于0。  \n",
    "#### 那么$\\Delta x$不断减小时，上面三项会如何呢？  \n",
    "所有含$\\Delta$的项都会减小，$\\frac{\\Delta g * f(x)}{\\Delta x}$这一项在$x \\to 0$时会怎么样呢？  \n",
    "随着x变化量变得很小很小，逐渐趋于0时，$\\frac{\\Delta g * f(x)}{\\Delta x}$这一项就会变为$\\frac{dg}{dx} f(x)$；  \n",
    "后一项$\\frac{\\Delta f * g(x)}{\\Delta x} $同理也会变为$\\frac{df}{dx} g(x)$；  "
   ]
  },
  {
   "cell_type": "markdown",
   "metadata": {},
   "source": [
    "那最后一块烦人的小块$\\frac{\\Delta f * \\Delta p }{\\Delta x}$呢？  \n",
    "随着x趋近于0，会得到$\\frac{df}{dx} * \\Delta g$，那么$\\Delta g$会如何呢？  \n",
    "$\\Delta g$会趋近于0，所以整个比率会变成0。  "
   ]
  },
  {
   "cell_type": "markdown",
   "metadata": {},
   "source": [
    "最终我们剩下两项，就是乘法法则的两项。  \n",
    "$$ \\frac{dp}{dx} =\\frac{d}{dx}fg= f(x)\\frac{dg}{dx}+ g(x)\\frac{df }{dx}$$"
   ]
  },
  {
   "cell_type": "markdown",
   "metadata": {},
   "source": [
    "可见，乘法法则在直观上是说得通的。"
   ]
  },
  {
   "cell_type": "markdown",
   "metadata": {},
   "source": [
    "----"
   ]
  },
  {
   "cell_type": "markdown",
   "metadata": {},
   "source": [
    "## 除法法则\n",
    "下面开始讲除法法则。  \n"
   ]
  },
  {
   "cell_type": "markdown",
   "metadata": {},
   "source": [
    "$$q(x) = \\frac{f(x)}{g(x)}$$\n",
    "转换为乘法法则求解：\n",
    "$$f(x) = q(x) g(x)$$\n",
    "两边同时求导：\n",
    "$$\\frac{df}{dx} = q(x) \\frac{dg}{dx} + g(x)\\frac{dq}{dx}$$  \n",
    "$$\\frac{df}{dx} = \\frac{f(x)}{g(x)} \\frac{dg}{dx} + g(x)\\frac{dq}{dx}$$\n",
    "两边同时乘以$g(x)$:\n",
    "$$g(x)\\frac{df}{dx} = g(x)\\frac{f(x)}{g(x)} \\frac{dg}{dx} + (g(x))^2\\frac{dq}{dx}$$\n",
    "将$\\frac{dq}{dx}$所求结果表达式：\n",
    "$$\\frac{dq}{dx} = \\frac{g(x)\\frac{df}{dx} - f(x)\\frac{dg}{dx}}{(g(x))^2}$$"
   ]
  },
  {
   "cell_type": "markdown",
   "metadata": {},
   "source": [
    "接下来继续推广$\\frac{d}{dx} x^n = n x^{n-1}$到n为复数的情况。  \n",
    "\n",
    "现在我们有了除法法则。  \n",
    "\n",
    "例子：\n",
    "x的负数次幂。  \n",
    "$$\\begin{cases}\n",
    "f(x) =1 \\\\\n",
    "g(x)= x^N \n",
    "\\end{cases}$$\n",
    "则$$q(x) = \\frac{f(x)}{g(x)} = \\frac{1}{x^N} = x^{-N}$$\n",
    "\n",
    "\n",
    " "
   ]
  },
  {
   "cell_type": "markdown",
   "metadata": {},
   "source": [
    "此处我们用除法法则来进行运算。  \n",
    "\n",
    "$$\\frac{d}{dx} \\frac{1}{x^N} = \\frac{0*g(x) -N x^{N-1} * 1}{(x^N)^2}$$\n",
    "$$ = \\frac{-N x^{N-1}}{x^{2N}}$$\n",
    "$$ =-N x^{-N-1}$$"
   ]
  },
  {
   "cell_type": "markdown",
   "metadata": {},
   "source": [
    "结果显示，就是我想要的结果。  \n",
    "\n",
    "综上，解决了x的幂函数求导问题。  \n",
    "本节中将它作为乘法和除法法则的例子，已经在上面得到很好的解决。  \n"
   ]
  },
  {
   "cell_type": "markdown",
   "metadata": {},
   "source": [
    "但是对于x的幂函数求导问题，我们还尚且不知道如何求导诸如$x^{\\pi}$这样的函数。   \n",
    "因为$\\pi$虽然是正数，但它不是分数，我们无能为力。  \n",
    "$$\\frac{d}{dx} x^{\\pi} = \\pi x^{\\pi -1}$$"
   ]
  }
 ],
 "metadata": {
  "kernelspec": {
   "display_name": "Python 3",
   "language": "python",
   "name": "python3"
  },
  "language_info": {
   "codemirror_mode": {
    "name": "ipython",
    "version": 3
   },
   "file_extension": ".py",
   "mimetype": "text/x-python",
   "name": "python",
   "nbconvert_exporter": "python",
   "pygments_lexer": "ipython3",
   "version": "3.6.5"
  }
 },
 "nbformat": 4,
 "nbformat_minor": 2
}
