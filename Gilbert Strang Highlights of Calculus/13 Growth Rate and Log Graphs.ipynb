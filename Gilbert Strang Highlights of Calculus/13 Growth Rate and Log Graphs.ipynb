{
 "cells": [
  {
   "cell_type": "markdown",
   "metadata": {},
   "source": [
    "# 负增长率和对数图\n",
    "Growth Rate and Log Graphs"
   ]
  },
  {
   "cell_type": "markdown",
   "metadata": {},
   "source": [
    "这一讲首先直观地用数量级的观念讲解了**线性增长、多项式增长、指数增长**等之间的快慢关系。   \n",
    "\n",
    "如果$x=10^3$，指数函数$10^x$达到$10^{1000}$，也就是10后面1000个0。   \n",
    "\n",
    "这一讲的另一个重要内容是**对数图**，清晰地讲解了**对数尺度**（以logx为刻度）的好处，它能将各种增长转化为线性形式，并举出了一些典型的例子。"
   ]
  },
  {
   "cell_type": "markdown",
   "metadata": {},
   "source": [
    "----"
   ]
  },
  {
   "cell_type": "markdown",
   "metadata": {},
   "source": [
    " 今天讲一下**对数的应用**，一些实际的应用。   \n",
    "\n",
    "很自然的一个话题就是--**函数增长的快慢**。  \n",
    "哪些更快，哪些更慢。  \n",
    "\n",
    "我这里简单归纳了一些常用函数。\n",
    "\n",
    "1. 线性增长 Linear Growth\n",
    "函数沿直线增长，可以是正比于x，cx这样的也是线性形式。   \n",
    "$$x, cx$$\n",
    "\n",
    "\n",
    "2. 多项式增长 Polynomial Growth\n",
    "下面是多项式增长，一些幂函数。  \n",
    "$$x^2, x^3,..., x^n$$\n",
    "\n",
    "\n",
    "3. 指数增长 Exponential Growth\n",
    "然后是更快的增长，指数增长$e^x$。\n",
    "类似地，还有以2和10为底的指数函数。    \n",
    "特别是$10^x$，它将引出以10为底的对数，这种对数具有很强的实用性。  \n",
    "$$ 2^x, e^x, 10^x,...$$\n",
    "\n",
    "以上是指数增长。\n",
    "\n",
    "4. x的阶乘和$x^x$ Factorial\n",
    "后面的增长则更快，x的阶乘，$x!$。  \n",
    "大家知道n的阶乘增长最快，而与$n^n$对应的函数$x^x$增长更快。  \n",
    "\n",
    "当然，还可以找出一些更快的。\n",
    "比如，$x^x$是飞速增长。  \n",
    "同时，我们还能找到增长很慢的函数。  \n",
    "但是，此时暂时还是先看这里吧。 "
   ]
  },
  {
   "cell_type": "markdown",
   "metadata": {},
   "source": [
    "<img src='./images/growth_001.png' />"
   ]
  },
  {
   "cell_type": "markdown",
   "metadata": {},
   "source": [
    "-----"
   ]
  },
  {
   "cell_type": "markdown",
   "metadata": {},
   "source": [
    "## 例1：\n",
    "我取x=1000，好让大家对这些增长快慢有一些直观印象。  \n",
    "\n",
    "x=1000，即$10^3$，是个什么情况？  \n",
    "看看将x=1000代入上面的函数中，这些大数哪个更大？  \n",
    "这些函数的结果都会很大，所以用10的幂乘来表示。    \n",
    "\n",
    "|函数类型|函数表达式|x=1000时函数结果|备注|\n",
    "|:-:|:-:|:-:|:-:|\n",
    "|线性函数|x|$1000=10^3$|\n",
    "|多项式|$x^2$|$10^6$| \n",
    "|多项式|$x^3$|$10^9$|这是经济学的研究范畴，国家债务大概就在这么多|\n",
    "|多项式|$x^n$|$10^{3n}$|\n",
    "|指数|$2^x$|$2^{1000}\\simeq 10^{300}$|为了比较方便，写作10的次幂形式，约等于$10^{300}$|\n",
    "|指数|$e^x$|$e^{1000} \\simeq 10^{434}$|\n",
    "|指数|$10^x$|$10^{1000}$|\n",
    "|阶乘|$x!$|$10^{2566}$| $x^x$除以$e^x$得到的大概就是阶乘了| \n",
    "|x的x次方|$x^x$|$1000^{1000} = 10^{3000}$|"
   ]
  },
  {
   "cell_type": "markdown",
   "metadata": {},
   "source": [
    "注：\n",
    "上面的阶乘$x!$的计算，$x!$小于$x^x$，当x=1000时，即：\n",
    "$1000*999*998*997*...*2*1$，每一项乘法的项均小于等于1000。\n",
    "\n",
    "$$(\\frac{n!}{n^n})^{\\frac{1}{n}} \\to \\frac{1}{e}$$"
   ]
  },
  {
   "cell_type": "markdown",
   "metadata": {},
   "source": [
    "上面的结果都是巨大的数字，如果不以10为底，如$1000^{1000}$，我就得写3000个0，巨大的时间耗费。  \n",
    "\n",
    "换言之，这些指数的表示拯救了我。   \n",
    "**而指数就是对数运算的结果，对数运算求的就是指数。**    \n",
    "\n",
    "与以10为底的乘幂相对应，我们讨论以10为底的对数。   \n",
    "正是对数，让这些大数还能保持合理形态，并告诉我们什么增长更快。  \n"
   ]
  },
  {
   "cell_type": "markdown",
   "metadata": {},
   "source": [
    "|函数类型|函数表达式|x=1000时函数结果|取以10为底的对数|\n",
    "|:-:|:-:|:-:|:-:|\n",
    "|线性函数|x|$1000=10^3$|3|\n",
    "|多项式|$x^2$|$10^6$| 6|\n",
    "|多项式|$x^3$|$10^9$|9|\n",
    "|指数|$2^x$|$2^{1000}\\simeq 10^{300}$|300|\n",
    "|指数|$e^x$|$e^{1000} \\simeq 10^{434}$|434|\n",
    "|指数|$10^x$|$10^{1000}$|1000|\n",
    "|阶乘|$x!$|$10^{2566}$| 2566|\n",
    "|x的x次方|$x^x$|$1000^{1000} = 10^{3000}$|3000|"
   ]
  },
  {
   "cell_type": "markdown",
   "metadata": {},
   "source": [
    "上表中，使用对数，只是为了数字更容易看。  \n",
    "\n",
    "在这个表示增长速度的列表中，$\\log x$应该放在什么地方？  \n",
    "它会出现在最上面，与x还慢，慢得还不止一点。  \n",
    "这里我们可以看到$\\log x$相当之慢，如果你还想找更慢的，如$\\log (\\log x)$。  \n",
    "它跟爬没什么两样，但最后还是趋于无穷。  \n",
    "\n",
    "在作图之前，我再讲一点内容。\n",
    "讲到这里自然引申出这个——**对数图Log Graphs**。  \n",
    "\n",
    "要将对数运用到作图上。 "
   ]
  },
  {
   "cell_type": "markdown",
   "metadata": {},
   "source": []
  },
  {
   "cell_type": "code",
   "execution_count": 9,
   "metadata": {},
   "outputs": [
    {
     "data": {
      "text/plain": [
       "2.9999999999999996"
      ]
     },
     "execution_count": 9,
     "metadata": {},
     "output_type": "execute_result"
    }
   ],
   "source": [
    "import math\n",
    "math.log(1000,10)\n"
   ]
  },
  {
   "cell_type": "code",
   "execution_count": null,
   "metadata": {},
   "outputs": [],
   "source": []
  },
  {
   "cell_type": "code",
   "execution_count": null,
   "metadata": {},
   "outputs": [],
   "source": []
  }
 ],
 "metadata": {
  "kernelspec": {
   "display_name": "Python 3",
   "language": "python",
   "name": "python3"
  },
  "language_info": {
   "codemirror_mode": {
    "name": "ipython",
    "version": 3
   },
   "file_extension": ".py",
   "mimetype": "text/x-python",
   "name": "python",
   "nbconvert_exporter": "python",
   "pygments_lexer": "ipython3",
   "version": "3.6.5"
  }
 },
 "nbformat": 4,
 "nbformat_minor": 2
}
