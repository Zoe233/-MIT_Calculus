{
 "cells": [
  {
   "cell_type": "markdown",
   "metadata": {},
   "source": [
    "# 负增长率和对数图\n",
    "Growth Rate and Log Graphs"
   ]
  },
  {
   "cell_type": "markdown",
   "metadata": {},
   "source": [
    "这一讲首先直观地用数量级的观念讲解了**线性增长、多项式增长、指数增长**等之间的快慢关系。   \n",
    "\n",
    "如果$x=10^3$，指数函数$10^x$达到$10^1000$，也就是10后面1000个0。   \n",
    "\n",
    "这一讲的另一个重要内容是**对数图**，清晰地讲解了**对数尺度**（以logx为刻度）的好处，它能将各种增长转化为线性形式，并举出了一些典型的例子。"
   ]
  },
  {
   "cell_type": "markdown",
   "metadata": {},
   "source": [
    "----"
   ]
  },
  {
   "cell_type": "raw",
   "metadata": {},
   "source": [
    " 今天讲一下**对数的应用**，一些实际的应用。   \n",
    "\n",
    "很自然的一个话题就是--**函数增长的快慢**。  \n",
    "哪些更快，哪些更慢。  \n",
    "\n",
    "我这里简单归纳了一些常用函数。\n",
    "\n",
    "1. 线性增长 Linear Growth\n",
    "函数沿直线增长，可以是正比于x，cx这样的也是线性形式。   \n",
    "$$x, cx$$\n",
    "\n",
    "\n",
    "2. 多项式增长 Polynomial Growth\n",
    "下面是多项式增长，一些幂函数。  \n",
    "$$x^2, x^3,..., x^n$$\n",
    "\n",
    "\n",
    "3. 指数增长 Exponential Growth\n",
    "然后是更快的增长，指数增长$e^x$。\n",
    "类似地，还有以2和10为底的指数函数。    \n",
    "特别是$10^x$，它将引出以10为底的对数，这种对数具有很强的实用性。  \n",
    "$$ 2^x, e^x, 10^x,...$$\n",
    "\n",
    "以上是指数增长。\n",
    "\n",
    "4. x的阶乘和$x^x$ Factorial\n",
    "后面的增长则更快，x的阶乘，$x!$。  \n",
    "大家知道n的阶乘增长最快，而与$n^n$对应的函数$x^x$增长更快。  \n",
    "\n",
    "当然，还可以找出一些更快的。\n",
    "比如，$x^x$是飞速增长。  \n",
    "同时，我们还能找到增长很慢的函数。  \n",
    "但是，此时暂时还是先看这里吧。 "
   ]
  },
  {
   "cell_type": "markdown",
   "metadata": {},
   "source": []
  }
 ],
 "metadata": {
  "kernelspec": {
   "display_name": "Python 3",
   "language": "python",
   "name": "python3"
  },
  "language_info": {
   "codemirror_mode": {
    "name": "ipython",
    "version": 3
   },
   "file_extension": ".py",
   "mimetype": "text/x-python",
   "name": "python",
   "nbconvert_exporter": "python",
   "pygments_lexer": "ipython3",
   "version": "3.6.5"
  }
 },
 "nbformat": 4,
 "nbformat_minor": 2
}
