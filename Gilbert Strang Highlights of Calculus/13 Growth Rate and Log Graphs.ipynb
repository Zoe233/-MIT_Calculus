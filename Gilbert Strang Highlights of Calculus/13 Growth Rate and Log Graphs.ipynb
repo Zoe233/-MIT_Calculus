{
 "cells": [
  {
   "cell_type": "markdown",
   "metadata": {},
   "source": [
    "# 负增长率和对数图\n",
    "Growth Rate and Log Graphs"
   ]
  },
  {
   "cell_type": "markdown",
   "metadata": {},
   "source": [
    "这一讲首先直观地用数量级的观念讲解了**线性增长、多项式增长、指数增长**等之间的快慢关系。   \n",
    "\n",
    "如果$x=10^3$，指数函数$10^x$达到$10^1000$，也就是10后面1000个0。   \n",
    "\n",
    "这一讲的另一个重要内容是**对数图**，清晰地讲解了**对数尺度**（以logx为刻度）的好处，它能将各种增长转化为线性形式，并举出了一些典型的例子。"
   ]
  },
  {
   "cell_type": "markdown",
   "metadata": {},
   "source": [
    "----"
   ]
  },
  {
   "cell_type": "markdown",
   "metadata": {},
   "source": []
  }
 ],
 "metadata": {
  "kernelspec": {
   "display_name": "Python 3",
   "language": "python",
   "name": "python3"
  },
  "language_info": {
   "codemirror_mode": {
    "name": "ipython",
    "version": 3
   },
   "file_extension": ".py",
   "mimetype": "text/x-python",
   "name": "python",
   "nbconvert_exporter": "python",
   "pygments_lexer": "ipython3",
   "version": "3.6.5"
  }
 },
 "nbformat": 4,
 "nbformat_minor": 2
}
