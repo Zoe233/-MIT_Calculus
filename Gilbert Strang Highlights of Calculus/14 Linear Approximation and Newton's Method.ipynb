{
 "cells": [
  {
   "cell_type": "markdown",
   "metadata": {},
   "source": [
    "# 线性近似和牛顿法\n",
    "Linear Approximation/ Newton's Method"
   ]
  },
  {
   "cell_type": "markdown",
   "metadata": {},
   "source": [
    "这一讲介绍了微积分的两种应用，深入浅出地讲明白了两种应用的实质，并将两种方法进行了对比讲解，说明了其内涵其实是一样的。  \n",
    "\n",
    "**线性近似**：$f(x)=(x-a)f'(a)+f(a)$，是求函数近似值最简单使用的方法，在各项工程领域均有广泛的应用。  \n",
    "**牛顿法**：是近似解方程的标准方法，目前仍广泛应用于计算器和计算机程序中。"
   ]
  },
  {
   "cell_type": "markdown",
   "metadata": {},
   "source": [
    "-----"
   ]
  },
  {
   "cell_type": "markdown",
   "metadata": {},
   "source": [
    "今天讲两则导数的应用。  \n",
    "\n",
    "第一项应用是：求函数f在x点的近似值f(x)； \n",
    "$$Find \\ \\ f(x)$$\n",
    "\n",
    "第二项应用是：解方程。    \n",
    "下面用大写的$F$表示，表示这里的函数与前面不同。  \n",
    "用$F$将它们区别开来，这就是解方程的问题。\n",
    "$$Solve \\  \\ F(x) = 0$$\n",
    "\n",
    "牛顿给出了方法，经过数个世纪，方法仍然适用。  \n",
    "\n",
    "\n",
    " "
   ]
  },
  {
   "cell_type": "markdown",
   "metadata": {},
   "source": [
    "这基于什么？   \n",
    "两种应用都基于同样的思想。   \n",
    "**假设存在一点，在要求的x附近，在问题的解附近，这一点记作点a，假设我们知道其斜率，知道此点处的导数f'(a)，然后我想通过已知的附近a点处的斜率来逼近解，前面是求f(x)，后面是求x。**\n",
    "\n",
    "\n"
   ]
  },
  {
   "cell_type": "markdown",
   "metadata": {},
   "source": [
    "<img src='./images/newton_001.png' width='90%'/>"
   ]
  },
  {
   "cell_type": "markdown",
   "metadata": {},
   "source": [
    "还记得吧，$\\frac{f(x)-f(a)}{x-1}$就是$\\frac{\\Delta f}{\\Delta x}$。 \n",
    "\n",
    "注意到在不取极限时，x-a，这是两相邻的不同点，相距$\\Delta x$；  \n",
    "f在这些点处的函数值，f的变化量除以x的变化量，这就是x逐渐趋于a点时函数的导数。"
   ]
  },
  {
   "cell_type": "markdown",
   "metadata": {},
   "source": [
    "-----"
   ]
  },
  {
   "cell_type": "markdown",
   "metadata": {},
   "source": [
    "看下面的思想。  \n",
    "\n",
    "我们现在把上图中的等式中的$\\lim$擦掉，那么，此时等号不再存在，变成一个约等号。 \n",
    "\n",
    "$$\\frac{df}{dx} = f'(a) \\simeq \\frac{f(x)-f(a)}{x-a}$$"
   ]
  },
  {
   "cell_type": "markdown",
   "metadata": {},
   "source": [
    "斜率$\\frac{df}{dx}$，它不等于$\\frac{\\Delta f}{\\Delta x}$。\n",
    "\n",
    "但当x接近a，$\\frac{f(x)-f(a)}{x-a}$就会大体上等于该点处的瞬时斜率，这就是我要用到的近似，作为f(x)的近似值。   \n",
    "\n"
   ]
  },
  {
   "cell_type": "markdown",
   "metadata": {},
   "source": [
    "## 对于第一项应用：求函数f在x点的近似值f(x)； \n",
    "## $$Find \\ \\ f(x)$$\n",
    "\n",
    "已知x，我要求的是此点处的f值，那么，根据公式：\n",
    "$$\\frac{df}{dx} = f'(a) \\simeq \\frac{f(x)-f(a)}{x-a}$$\n",
    "\n",
    "转换：\n",
    "$$ f(x) \\simeq f'(a)(x-a) + f(a)$$"
   ]
  },
  {
   "cell_type": "markdown",
   "metadata": {},
   "source": [
    "----"
   ]
  },
  {
   "cell_type": "markdown",
   "metadata": {},
   "source": [
    "下面稍微讲一下这个公式，然后来点例子。  \n",
    "\n",
    "如果想求附近某点处的函数f值，一个好的办法是，使用这种线性近似。 \n",
    "\n",
    "使用线性近似，是因为这个的图像是一条直线。  \n",
    "\n",
    "这里是直线的形式，而不是曲线。  \n",
    "\n",
    "这就是今天这一讲要传达的信息--**沿直线**。"
   ]
  },
  {
   "cell_type": "markdown",
   "metadata": {},
   "source": [
    "这是一条从x=a开始的直线，它斜率同f一样，即f'(a)，如果离得不太远，曲线离f曲线也不会太远。 "
   ]
  },
  {
   "cell_type": "markdown",
   "metadata": {},
   "source": [
    "----"
   ]
  },
  {
   "cell_type": "markdown",
   "metadata": {},
   "source": [
    "等下再来讲例子。  \n",
    "\n",
    "再讲讲上面式子对应的思想。  \n",
    "\n",
    "## 第二项应用是：解方程。    \n",
    "下面用大写的$F$表示，表示这里的函数与前面不同。  \n",
    "用$F$将它们区别开来，这就是解方程的问题。\n",
    "## $$Solve \\  \\ F(x) = 0$$\n",
    "\n",
    "找出它对应的公式，以帮助求这个方程的近似解，与第一项应用有何不同？  \n",
    "\n",
    "现在，我要求的是x，而F(x)是已知的，已知F(x)=0。  \n",
    "\n",
    "看式子，换成大写的F:\n",
    "$$ F'(a)\\simeq \\frac{F(x)-F(a)}{x-a}$$\n",
    "F(x)已知为0，x是未知数。\n",
    "还是像原来那样把等式整理一下，则得到：\n",
    "$$ x-a \\simeq  \\frac{F(x)-F(a)}{F'(a)}= \\frac{0-F(a)}{F'(a)}=-\\frac{F(a)}{F'(a)}$$"
   ]
  },
  {
   "cell_type": "markdown",
   "metadata": {},
   "source": []
  },
  {
   "cell_type": "markdown",
   "metadata": {},
   "source": []
  },
  {
   "cell_type": "markdown",
   "metadata": {},
   "source": []
  },
  {
   "cell_type": "markdown",
   "metadata": {},
   "source": []
  },
  {
   "cell_type": "markdown",
   "metadata": {},
   "source": []
  },
  {
   "cell_type": "markdown",
   "metadata": {},
   "source": []
  },
  {
   "cell_type": "markdown",
   "metadata": {},
   "source": []
  }
 ],
 "metadata": {
  "kernelspec": {
   "display_name": "Python 3",
   "language": "python",
   "name": "python3"
  },
  "language_info": {
   "codemirror_mode": {
    "name": "ipython",
    "version": 3
   },
   "file_extension": ".py",
   "mimetype": "text/x-python",
   "name": "python",
   "nbconvert_exporter": "python",
   "pygments_lexer": "ipython3",
   "version": "3.6.5"
  }
 },
 "nbformat": 4,
 "nbformat_minor": 2
}
