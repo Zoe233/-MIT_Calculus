{
 "cells": [
  {
   "cell_type": "markdown",
   "metadata": {},
   "source": [
    "# Lec 12: 对数函数和反三角函数的导数\n",
    "Derivatives of ln y and $\\sin^{-1}(y)$"
   ]
  },
  {
   "cell_type": "markdown",
   "metadata": {},
   "source": [
    "之前我们介绍了对数，它是指数函数的逆函数。  \n",
    "\n",
    "现在，我们将引入微积分，求对数的导数。  \n",
    "\n",
    "我们还要讨论一些其它的一些逆函数，比如$sin$的逆函数，有时也记作$\\arcsin$，我们也会求出它的导数。  \n",
    "\n",
    "我们现在所做的是，大体列出导数的所有重要法则。    \n",
    "我们会求和的导数，直接将导数相加即可。  \n",
    "减法的导数就是导数做减法，乘法法则我们也知道，还有除法法则。  \n",
    "这就是求导的四则运算了。  \n",
    "然后最最重要的就是，链式法则了。  \n",
    "下面还要加上一个，f的逆函数。   \n",
    "\n",
    "这就是今天的话题，**逆函数的求导**，将完成这个求导法则的列表。  \n",
    "\n",
    "通过一些简单函数，像指数函数、三角函数、幂函数，这些法则可以料理出所有常用的函数。  \n",
    "\n"
   ]
  },
  {
   "cell_type": "markdown",
   "metadata": {},
   "source": [
    "|公式表达式|求导公式|文字备注|\n",
    "|:-:|:-:|:-:|\n",
    "|f(x)+g(x)|f'(x)+g'(x)|求和的导数，直接将导数相加|\n",
    "|f(x)-g(x)|f'(x)-g'(x)|减法的导数，直接将导数相加|\n",
    "|f(x)g(x)|f(x)g'(x) + f'(x)g(x)|乘法法则|\n",
    "|$\\frac{f(x)}{g(x)}$|$\\frac{f'(x)g(x)-f(x)g'(x)}{(g(x))^2}$|除法法则|\n",
    "|f(g(x))|f'(g(x))g'(x)|链式法则|\n",
    "|$f^{-1}(x)$||逆函数的求导|"
   ]
  },
  {
   "cell_type": "markdown",
   "metadata": {},
   "source": [
    "---"
   ]
  },
  {
   "cell_type": "markdown",
   "metadata": {},
   "source": [
    "下面开始从导数函数开始讲，导数函数$y=e^x$的逆函数就是我们的自然对数$x=\\ln y$。  \n",
    "\n"
   ]
  },
  {
   "cell_type": "markdown",
   "metadata": {},
   "source": [
    "$ y =e^x \\ and \\ x =\\ln y$\n",
    "\n",
    "注意这里，字母的变换，自变量和因变量的转换。   \n",
    "\n",
    "对数求的是原函数的指数。"
   ]
  },
  {
   "cell_type": "markdown",
   "metadata": {},
   "source": [
    "这里其实有一个函数链，一个非常棒的函数链。   \n",
    "这是逆函数的法则。  \n",
    "从x开始，求f(x)，得到y，然后求逆函数，这就回到了x，这就得到了一条函数链。   \n",
    "这个链结果非常特别，这里的情况是，如果我们知道如何求导f，链式法则可以告诉我们如何求逆函数的导数。\n",
    "\n",
    "$$f^{-1}(f(x)) = x$$\n",
    "\n",
    "倒过来，也可以用链式法则。   \n",
    "如果输入y，求逆函数，得到x，然后f(x)=y。   \n",
    "$$f(f^{-1}(y)) = y$$"
   ]
  },
  {
   "cell_type": "markdown",
   "metadata": {},
   "source": [
    "## 例1：线性方程$f(x) = y = ax+b$\n",
    "\n",
    "它能帮助我们回忆下逆函数是怎么样的？   \n",
    "\n",
    "线性方程$y=ax+b$的逆函数是什么？  \n",
    "逆函数的关键是，需要解出y的表达式来表示x，所以其逆函数为：\n",
    "$$f^{-1}(y)=  x = \\frac{y-b}{a}$$"
   ]
  },
  {
   "cell_type": "markdown",
   "metadata": {},
   "source": [
    "注意逆函数的一些性质，函数f(x)和其逆函数$f^{-1}(y)$，自身就像是一条链。  \n",
    "\n",
    "函数$f(x)$第一步是x乘以a，先乘，然后加上b；   \n",
    "逆函数f^{-1}(y)$对逆函数输入y，它减去b，然后做除法。  \n",
    "\n",
    "通过这个过程，我们想说明：  \n",
    "**如果函数由两步构成，本例中是乘法和加法，逆函数执行的则是逆步骤，用除法代替乘法，用减法代替加法，而且顺序相反。**  \n",
    "\n",
    "注意到乘法在前，而除法则在后，加法先做，而减法却是后做。  \n",
    "\n",
    "<img src='./images/log_001.png'/>\n"
   ]
  },
  {
   "cell_type": "markdown",
   "metadata": {},
   "source": [
    "----"
   ]
  },
  {
   "cell_type": "markdown",
   "metadata": {},
   "source": [
    "下面开始，我要取一条函数链，然后求导。  \n",
    "\n",
    " 第一条链表示：\n",
    " $$\\ln (e^x) = x$$\n",
    " "
   ]
  },
  {
   "cell_type": "markdown",
   "metadata": {},
   "source": [
    "对数就是这么定义的。  \n",
    "我们取这个方程的导数。  \n",
    "两边同时求导，$\\ln$的导数是我们要学习的，是未知的。  "
   ]
  },
  {
   "cell_type": "markdown",
   "metadata": {},
   "source": [
    "求右侧的导数，显然得到1。  \n",
    "再看左侧的导数，左侧的式子$\\ln(e^x)$要用到链式法则。  \n",
    "令$y=e^x$，$z=\\ln y$则$\\ln(e^x)$的导数为：    \n",
    "$$\\frac{d}{dy} \\ln(y) \\frac{dy}{dx}$$"
   ]
  },
  {
   "cell_type": "markdown",
   "metadata": {},
   "source": [
    "左右两侧的导数相等，则有：   \n",
    "$$ \\frac{d}{dy} \\ln (y) \\frac{dy}{dx} = 1$$\n",
    "$$ \\frac{d}{dy} \\ln (y) e^x = 1$$\n",
    "$$ \\frac{d}{dy} \\ln (y) = \\frac{1}{e^x}$$\n",
    "$$ \\frac{d}{dy} \\ln (y) = \\frac{1}{y}$$"
   ]
  },
  {
   "cell_type": "markdown",
   "metadata": {},
   "source": [
    "$$\\frac{d}{dx} (x^n)= n x^{n-1}$$\n",
    "当n=0时，没有幂函数能给出-1次方的导数。   \n",
    "\n",
    "但是在上面，求导ln函数时出现了。 \n",
    "$$\\frac{d}{dx}\\ln x = \\frac{1}{x}$$"
   ]
  },
  {
   "cell_type": "markdown",
   "metadata": {},
   "source": [
    "有了这些，我们就能知道为什么对数增长这么慢了。   \n",
    "\n",
    "因为对数函数的斜率为$\\frac{1}{y}$。  \n",
    "对数曲线是在增长，但其斜率在减小，逐渐减小，当x很大时，它几乎不怎么增长了。  \n",
    "它还是会持续上升至无穷大，但非常非常慢。   \n",
    "这是因为指数函数的增长非常非常快--逆函数图像其实就是原函数图像倒过来。  \n",
    "所以，如果其中一个疯长，另一个必然暴跌。  \n",
    "\n"
   ]
  },
  {
   "cell_type": "markdown",
   "metadata": {},
   "source": [
    "-----"
   ]
  },
  {
   "cell_type": "markdown",
   "metadata": {},
   "source": [
    "上面的链的形式为：\n",
    "$$ f^{-1}(f(x)) = x $$\n",
    "\n",
    "下面反方向来看下这条链，链的形式为：\n",
    "$$ f(f^{-1}(y)) = y $$ \n",
    "\n",
    "将上面的$ f(x) = y = e^x \\ and \\ f^{-1}(y) = x =\\ln y$组成的链$\\ln (e^x) = x$组成的链取反方向的结果为：  \n",
    "$$ e^{\\ln y} = y $$"
   ]
  },
  {
   "cell_type": "markdown",
   "metadata": {},
   "source": [
    "求两侧的导数。\n",
    "\n",
    "$$ \\frac{d}{dx} e^{\\ln y} \\frac{d}{dy} \\ln y= 1$$\n",
    "$$ e^{\\ln y } \\frac{d}{dy} \\ln y = 1 $$\n",
    "$$ \\frac{d}{dy} \\ln y = \\frac{1}{e^{\\ln y }}$$\n",
    "$$ \\frac{d}{dy} \\ln y = \\frac{1}{y}$$"
   ]
  },
  {
   "cell_type": "markdown",
   "metadata": {},
   "source": [
    "----"
   ]
  },
  {
   "cell_type": "markdown",
   "metadata": {},
   "source": [
    "比起一般的课程，我们这里关于逆函数讲得多了一些。  \n",
    "\n",
    "这里**指数**和**对数**的联系即是如此，顺便提下，我喜欢从指数开始。  \n",
    "逻辑上，也许从对数函数入手，步骤也许会更流畅一些。  \n",
    "\n",
    "对数函数取逆函数，就是指数函数了。  \n",
    "但在我看来，指数函数太重要了。  \n",
    "虽然对数函数也很重要，但显然不及指数函数。   \n",
    "所以，我喜欢从$e^x$开始。\n",
    "\n"
   ]
  },
  {
   "cell_type": "markdown",
   "metadata": {},
   "source": [
    "下面还要讲一个导数。  \n",
    "\n",
    "第二个导数就是：\n",
    "\n",
    "$$ f(x) = y = \\sin x \\ and \\ x=\\sin^{-1} y$$"
   ]
  },
  {
   "cell_type": "markdown",
   "metadata": {},
   "source": [
    "我想求导$\\arcsin$函数。  \n",
    "$x=\\sin^{-1} y $通常记作$\\arcsin y$。   "
   ]
  },
  {
   "cell_type": "markdown",
   "metadata": {},
   "source": []
  },
  {
   "cell_type": "code",
   "execution_count": null,
   "metadata": {},
   "outputs": [],
   "source": []
  }
 ],
 "metadata": {
  "kernelspec": {
   "display_name": "Python 3",
   "language": "python",
   "name": "python3"
  },
  "language_info": {
   "codemirror_mode": {
    "name": "ipython",
    "version": 3
   },
   "file_extension": ".py",
   "mimetype": "text/x-python",
   "name": "python",
   "nbconvert_exporter": "python",
   "pygments_lexer": "ipython3",
   "version": "3.6.5"
  }
 },
 "nbformat": 4,
 "nbformat_minor": 2
}
