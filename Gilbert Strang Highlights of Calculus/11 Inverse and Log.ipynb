{
 "cells": [
  {
   "cell_type": "markdown",
   "metadata": {},
   "source": [
    "# 逆函数和对数函数\n",
    "Inverse Functions $f^{-1}(y)$ and the Logarithm $x=\\ln y$"
   ]
  },
  {
   "cell_type": "markdown",
   "metadata": {},
   "source": [
    "今天的主题是逆函数， 这是联系两个函数的又一种方式。  \n",
    "\n",
    "逆函数很重要，因为今天要讲的对数函数，就是$e^x$的逆函数。  \n",
    "因此我们必须搞清楚**指数函数和对数函数之间的关系**。  \n",
    "这就是逆函数的思想。   \n",
    "\n",
    "一般$y=f(x)$是函数的标准表示法，而对于逆函数$ x = f^{-1}(y) $  。\n",
    "    "
   ]
  },
  {
   "cell_type": "markdown",
   "metadata": {},
   "source": [
    "**记得什么叫函数吗？**    \n",
    "对于函数f，取x作为输入变量（自变量），函数作用域输入变量，得到输出变量（因变量）。  \n",
    "某种意义上，这就是函数。  \n",
    "它就是一些输入所对应的输出，那么**逆函数是什么？**    \n",
    "把输入变量和输出变量颠倒下，就成了**逆函数**。   \n",
    "y变成输入。  \n",
    "\n",
    "现在的问题是：**什么样的y可以得到x？**   \n",
    "可以通过逆函数实现。\n"
   ]
  },
  {
   "cell_type": "markdown",
   "metadata": {},
   "source": [
    "## 例1： \n",
    "$$ y = x^2$$  \n",
    "这是函数f(x)，f是平方函数。  \n",
    "输入x=3，输出就是y=9。  \n",
    "\n",
    "那么逆函数是多少？  \n",
    "逆函数是通过y得到x，通过平方根可以实现，所以逆函数是\n",
    "$$ x = \\sqrt y $$ \n"
   ]
  },
  {
   "cell_type": "markdown",
   "metadata": {},
   "source": [
    "但是在这个逆函数中，我们无从得知当y=9的时候，是取x=3还是x=-3。  \n",
    "\n",
    "因此这里的关键是：\n",
    "### 函数必须是一一对应的。   \n",
    "\n",
    "一一对应，这个词准确地说明了逆函数的概念，一个x对应一个y，一个y对应一个x。  \n",
    "\n",
    "这时，图像要么一直向上，要么一直向下，不可能上上下下。  \n",
    "$y = x^2$的图像就是下了又上，这是不允许的。  \n"
   ]
  },
  {
   "cell_type": "markdown",
   "metadata": {},
   "source": [
    "下面这些例子是为了引出这一讲的关键内容-- 指数和对数。  \n",
    "$y=f(x)$ and $ x = f^{-1}(y) $  \n",
    "\n",
    "$ y =e^x$ and $x=\\ln y$  \n",
    "$ \\ln (yY) = \\ln y +\\ln Y $   \n",
    "$ \\ln (y^n ) = n \\ln y$"
   ]
  },
  {
   "cell_type": "markdown",
   "metadata": {},
   "source": [
    "# 指数和对数\n"
   ]
  },
  {
   "cell_type": "markdown",
   "metadata": {},
   "source": [
    "\n",
    "关于指数函数的性质，我们知道不少，这些性质通过逆函数，可以得到一些不同的性质--一些对对数非常重要的性质。  \n",
    "\n",
    "$ \\ln (yY) = \\ln y +\\ln Y $   \n",
    "两数乘积的对数，等于两数分别的对数的和。  \n",
    "\n",
    "简单且重要的性质，也是对数备受关注的原因，也是计算尺的基本原理。  \n",
    "（计算尺上有两个标尺，可以用作计算，一个标尺移动到$\\ln y$，第二个衡量$\\ln Y$，于是就能得出乘法的答案。 所以计算尺可以用来作乘法。只是不太精确。这这并不意味着对数不重要了。 只是计算尺过时罢了。）"
   ]
  },
  {
   "cell_type": "markdown",
   "metadata": {},
   "source": [
    "## 例2： \n",
    "想想圆形面积A和半径r的关系，函数的输入是r，面积是$\\pi r^2$，这就是r的函数。  \n",
    "$$ A = \\pi r^2 = f(r) $$"
   ]
  },
  {
   "cell_type": "markdown",
   "metadata": {},
   "source": [
    "输入r，输出A，那么逆函数是什么？  \n",
    "逆函数的输入是A，得到r。  \n",
    "$$ r = \\sqrt {\\frac{A}{\\pi}} = f^{-1} (A)$$ "
   ]
  },
  {
   "cell_type": "markdown",
   "metadata": {},
   "source": [
    "下面作图看看，函数的图像和逆函数的图像之间的关系很简单。  \n",
    " \n",
    "注意，r只能取正数。    \n",
    "![title](./images/inverse_001.png)  "
   ]
  },
  {
   "cell_type": "markdown",
   "metadata": {},
   "source": [
    "函数的图像和逆函数的图像 **互为镜像**，倒了个个。  \n",
    "函数由原来的平方函数，变成了平方根函数。  \n"
   ]
  },
  {
   "cell_type": "markdown",
   "metadata": {},
   "source": []
  },
  {
   "cell_type": "markdown",
   "metadata": {},
   "source": []
  },
  {
   "cell_type": "markdown",
   "metadata": {},
   "source": []
  }
 ],
 "metadata": {
  "kernelspec": {
   "display_name": "Python 3",
   "language": "python",
   "name": "python3"
  },
  "language_info": {
   "codemirror_mode": {
    "name": "ipython",
    "version": 3
   },
   "file_extension": ".py",
   "mimetype": "text/x-python",
   "name": "python",
   "nbconvert_exporter": "python",
   "pygments_lexer": "ipython3",
   "version": "3.6.5"
  }
 },
 "nbformat": 4,
 "nbformat_minor": 2
}
