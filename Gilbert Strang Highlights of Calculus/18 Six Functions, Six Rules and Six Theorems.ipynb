{
 "cells": [
  {
   "cell_type": "markdown",
   "metadata": {},
   "source": [
    "# 六函数、六法则、六定理\n",
    "Six Functions, Six Rules, and Six Theorems"
   ]
  },
  {
   "cell_type": "markdown",
   "metadata": {},
   "source": [
    "这是一堂总结课，内容为微分学这整部分内容，题目很考究：六函数，其中五个我们学过，还有一个新的。\n",
    "\n",
    "六法则 和 六定理，虽然我没有怎么强调过定理，这里我只是想通过这些定理来挖掘函数和法则背后真正的数学。"
   ]
  },
  {
   "cell_type": "markdown",
   "metadata": {},
   "source": [
    "## 1.六函数\n"
   ]
  },
  {
   "cell_type": "markdown",
   "metadata": {},
   "source": [
    "一开始是五个我们很熟悉的函数：$x^n$，$\\sin x$，$\\cos x$，$e^{cx}$，$\\ln x$。 \n",
    "\n",
    "我感到高兴的是，只要知道了这五个，然后通过法则可以得到更多。 \n",
    "\n",
    "我们理论上可以搞定任何常用的函数。"
   ]
  },
  {
   "cell_type": "markdown",
   "metadata": {},
   "source": [
    "|函数名称|函数y的形式|函数y的一阶导数|  \n",
    "|:-:|:-:|:-:|\n",
    "|幂函数|$x^n$|$nx^{n-1}$|\n",
    "|正弦函数|$\\sin x$|$\\cos x$|\n",
    "|余弦函数|$\\cos x$|$-\\sin x$|\n",
    "|指数函数|$e^{cx}$|$ce^{cx}$|\n",
    "|自然对数函数|$\\ln x$|$\\frac{1}{x}$|"
   ]
  },
  {
   "cell_type": "markdown",
   "metadata": {},
   "source": [
    "什么函数的导数是上表中五个函数的解，求对应的老一辈的函数。\n",
    "\n",
    "|Integral|Integral的导数-函数名称|Integral的导数-函数y的形式|函数y的一阶导数|  \n",
    "|:-:|:-:|:-:|:-:|\n",
    "|$\\frac{1}{n+1}x^{n+1}$|幂函数|$x^n$|$nx^{n-1}$|\n",
    "|$-\\cos x$|正弦函数|$\\sin x$|$\\cos x$|\n",
    "|$\\sin x$|余弦函数|$\\cos x$|$-\\sin x$|\n",
    "|$\\frac{1}{c}e^{cx}$|指数函数|$e^{cx}$|$ce^{cx}$|\n",
    "|$x\\ln x -x$|自然对数函数|$\\ln x$|$\\frac{1}{x}$|"
   ]
  },
  {
   "cell_type": "markdown",
   "metadata": {},
   "source": [
    "#### 注意：导数为$\\ln x$的函数\n",
    "上表中，对于导数为$\\ln x$的函数我们可能有点陌生，答案是：\n",
    "$$x\\ln x -x$$\n",
    "\n",
    "$$\\frac{d}{dx} (x\\ln x -x) = x*\\frac{1}{x} +1*\\ln x -1 = 1+\\ln x - 1= \\ln x$$\n"
   ]
  },
  {
   "cell_type": "markdown",
   "metadata": {},
   "source": [
    "注意这个表中的一个美妙之处。 \n",
    "\n",
    "看这个情况，从$(\\frac{x^{n+1}}{n+1})'= x^n$，这很棒，只是我可能要除以0，n=-1，麻烦就大了，n=-1时，0不能做分母，$x^{-1}$不能由$x^{0}$求导得到，即n=-1时，公式失效。 \n",
    "\n",
    "不过看这里，$(x\\ln x - x)' = \\ln x$，正好填补了这个漏洞，$\\frac{1}{x}$，就是$x^{-1}$，这里$x \\ln x-x$才是$\\ln x$的出处，$\\ln x$才是$x^{-1}$的出处。  \n",
    "\n",
    "**对数正好填充了幂函数的遗漏。**"
   ]
  },
  {
   "cell_type": "markdown",
   "metadata": {},
   "source": [
    "|Integral|注意项|Integral的导数-函数名称|Integral的导数-函数y的形式|函数y的一阶导数|  \n",
    "|:-:|-:|:-:|:-:|:-:|\n",
    "|$\\frac{1}{n+1}x^{n+1}$|n=-1时，Integral式子不成立|幂函数|$x^n$|$nx^{n-1}$|\n",
    "|$x\\ln x -x$|对于$x^{-1}$，Integral出处是此列，对数正好填充了幂函数的遗漏。|自然对数函数|$\\ln x$|$\\frac{1}{x}$|"
   ]
  },
  {
   "cell_type": "markdown",
   "metadata": {},
   "source": [
    "-----"
   ]
  },
  {
   "cell_type": "code",
   "execution_count": null,
   "metadata": {},
   "outputs": [],
   "source": []
  },
  {
   "cell_type": "code",
   "execution_count": null,
   "metadata": {},
   "outputs": [],
   "source": []
  },
  {
   "cell_type": "code",
   "execution_count": null,
   "metadata": {},
   "outputs": [],
   "source": []
  },
  {
   "cell_type": "code",
   "execution_count": null,
   "metadata": {},
   "outputs": [],
   "source": []
  },
  {
   "cell_type": "code",
   "execution_count": null,
   "metadata": {},
   "outputs": [],
   "source": []
  },
  {
   "cell_type": "code",
   "execution_count": null,
   "metadata": {},
   "outputs": [],
   "source": []
  },
  {
   "cell_type": "code",
   "execution_count": null,
   "metadata": {},
   "outputs": [],
   "source": []
  },
  {
   "cell_type": "code",
   "execution_count": null,
   "metadata": {},
   "outputs": [],
   "source": []
  }
 ],
 "metadata": {
  "kernelspec": {
   "display_name": "Python 3",
   "language": "python",
   "name": "python3"
  },
  "language_info": {
   "codemirror_mode": {
    "name": "ipython",
    "version": 3
   },
   "file_extension": ".py",
   "mimetype": "text/x-python",
   "name": "python",
   "nbconvert_exporter": "python",
   "pygments_lexer": "ipython3",
   "version": "3.6.5"
  }
 },
 "nbformat": 4,
 "nbformat_minor": 2
}
