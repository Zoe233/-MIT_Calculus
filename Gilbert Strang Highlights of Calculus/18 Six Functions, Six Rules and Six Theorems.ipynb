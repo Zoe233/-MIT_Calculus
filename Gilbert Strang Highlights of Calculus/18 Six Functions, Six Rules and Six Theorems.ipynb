{
 "cells": [
  {
   "cell_type": "markdown",
   "metadata": {},
   "source": [
    "# 六函数、六法则、六定理\n",
    "Six Functions, Six Rules, and Six Theorems"
   ]
  },
  {
   "cell_type": "markdown",
   "metadata": {},
   "source": [
    "这是一堂总结课，内容为微分学这整部分内容，题目很考究：六函数，其中五个我们学过，还有一个新的。\n",
    "\n",
    "六法则 和 六定理，虽然我没有怎么强调过定理，这里我只是想通过这些定理来挖掘函数和法则背后真正的数学。"
   ]
  },
  {
   "cell_type": "markdown",
   "metadata": {},
   "source": [
    "## 1.六函数\n"
   ]
  },
  {
   "cell_type": "markdown",
   "metadata": {},
   "source": [
    "一开始是五个我们很熟悉的函数：$x^n$，$\\sin x$，$\\cos x$，$e^{cx}$，$\\ln x$。 \n",
    "\n",
    "我感到高兴的是，只要知道了这五个，然后通过法则可以得到更多。 \n",
    "\n",
    "我们理论上可以搞定任何常用的函数。"
   ]
  },
  {
   "cell_type": "markdown",
   "metadata": {},
   "source": [
    "|函数名称|函数y的形式|函数y的一阶导数|  \n",
    "|:-:|:-:|:-:|\n",
    "|幂函数|$x^n$|$nx^{n-1}$|\n",
    "|正弦函数|$\\sin x$|$\\cos x$|\n",
    "|余弦函数|$\\cos x$|$-\\sin x$|\n",
    "|指数函数|$e^{cx}$|$ce^{cx}$|\n",
    "|自然对数函数|$\\ln x$|$\\frac{1}{x}$|"
   ]
  },
  {
   "cell_type": "markdown",
   "metadata": {},
   "source": [
    "什么函数的导数是上表中五个函数的解，求对应的老一辈的函数。\n",
    "\n",
    "|Integral|Integral的导数-函数名称|Integral的导数-函数y的形式|函数y的一阶导数|  \n",
    "|:-:|:-:|:-:|:-:|\n",
    "|$\\frac{1}{n+1}x^{n+1}$|幂函数|$x^n$|$nx^{n-1}$|\n",
    "|$-\\cos x$|正弦函数|$\\sin x$|$\\cos x$|\n",
    "|$\\sin x$|余弦函数|$\\cos x$|$-\\sin x$|\n",
    "|$\\frac{1}{c}e^{cx}$|指数函数|$e^{cx}$|$ce^{cx}$|\n",
    "|$x\\ln x -x$|自然对数函数|$\\ln x$|$\\frac{1}{x}$|"
   ]
  },
  {
   "cell_type": "markdown",
   "metadata": {},
   "source": [
    "#### 注意：导数为$\\ln x$的函数\n",
    "上表中，对于导数为$\\ln x$的函数我们可能有点陌生，答案是：\n",
    "$$x\\ln x -x$$\n",
    "\n",
    "$$\\frac{d}{dx} (x\\ln x -x) = x*\\frac{1}{x} +1*\\ln x -1 = 1+\\ln x - 1= \\ln x$$\n"
   ]
  },
  {
   "cell_type": "markdown",
   "metadata": {},
   "source": [
    "注意这个表中的一个美妙之处。 \n",
    "\n",
    "看这个情况，从$(\\frac{x^{n+1}}{n+1})'= x^n$，这很棒，只是我可能要除以0，n=-1，麻烦就大了，n=-1时，0不能做分母，$x^{-1}$不能由$x^{0}$求导得到，即n=-1时，公式失效。 \n",
    "\n",
    "不过看这里，$(x\\ln x - x)' = \\ln x$，正好填补了这个漏洞，$\\frac{1}{x}$，就是$x^{-1}$，这里$x \\ln x-x$才是$\\ln x$的出处，$\\ln x$才是$x^{-1}$的出处。  \n",
    "\n",
    "**对数正好填充了幂函数的遗漏。**"
   ]
  },
  {
   "cell_type": "markdown",
   "metadata": {},
   "source": [
    "|Integral|注意项|Integral的导数-函数名称|Integral的导数-函数y的形式|函数y的一阶导数|  \n",
    "|:-:|-:|:-:|:-:|:-:|\n",
    "|$\\frac{1}{n+1}x^{n+1}$|n=-1时，Integral式子不成立|幂函数|$x^n$|$nx^{n-1}$|\n",
    "|$x\\ln x -x$|对于$x^{-1}$，Integral出处是此列，对数正好填充了幂函数的遗漏。|自然对数函数|$\\ln x$|$\\frac{1}{x}$|"
   ]
  },
  {
   "cell_type": "markdown",
   "metadata": {},
   "source": [
    "-----"
   ]
  },
  {
   "cell_type": "markdown",
   "metadata": {},
   "source": [
    "下面看个新鲜的，**分段函数**。 \n",
    "\n",
    "开始是0，然后跳到1的分段函数，跳跃点x=0。 \n",
    "\n",
    "横轴是x轴，函数等于0，是一条水平线；直到x=0之后，函数跳跃至1，跳跃后，这个点的高度是1。 \n",
    "\n",
    "<img src='./images/six_001.png' width='70%'/>\n",
    "$$\\begin{cases}\n",
    "y=0, x<0\\\\\n",
    "y=1, x>=0 \n",
    "\\end{cases}$$"
   ]
  },
  {
   "cell_type": "markdown",
   "metadata": {},
   "source": [
    "这是一个很重要的函数，函数就像分成了两部分，左侧一部分，右侧一部分，两段不相遇，它是非连续函数。 \n",
    "\n",
    "我在这里，要求出“老一辈”的函数，这个函数的图像是怎样的呢？  \n",
    "\n",
    "也就是说，导数开始是0，然后是1，这个不难。\n",
    "\n",
    "左侧，0的导数是0；  \n",
    "右侧，要求导数为常数1，其实x的导数就是我们要的。  \n",
    "\n",
    "还是两部分，两部分的导数分别是0和1，我通常称其为“斜坡函数”（ramp function）。 \n",
    "\n",
    "$$\\begin{cases}\n",
    "f=0,x<0 \\\\\n",
    "f=x,x>=0\n",
    "\\end{cases}$$\n",
    "<img src='./images/six_002.png' width='70%'/>"
   ]
  },
  {
   "cell_type": "markdown",
   "metadata": {},
   "source": [
    "它长得很像斜坡。 "
   ]
  },
  {
   "cell_type": "markdown",
   "metadata": {},
   "source": [
    "分段函数：\n",
    "$$\\begin{cases}\n",
    "y=0, x<0\\\\\n",
    "y=1, x>=0 \n",
    "\\end{cases}$$\n",
    "\n",
    "那么分段函数的导数是什么？ 其斜率是什么？ \n",
    "\n",
    "$y=0$，这里的斜率自然是0；\n",
    "$y=1$，这里的斜率也是0。 \n",
    "\n",
    "那么，答案是0吗?  \n",
    "\n",
    "当然不是，原因在于这个跳跃点，跳跃点这里的导数是多少？  \n",
    "细心的人会发现，跳跃点x=0处，这里没有导数。\n",
    "$\\frac{\\Delta f}{\\Delta x}$的极限不存在，你无法得到正确的答案。 \n",
    "因为$\\Delta f$跳跃了1，而$\\Delta x$可以很小，x趋于0，得到$\\frac{1}{0}$，即无穷大，其实，让我说，就上无穷大看看吧。 \n",
    "\n",
    "导数两侧到x=0这个跳跃点前都是0，而在跳跃点x=0处这里导数则是无穷，这在图像上是个突刺，它有时称作$\\delta$函数。 \n",
    "\n",
    "它一直是0，某点处突然无穷大，然后继续为0。"
   ]
  },
  {
   "cell_type": "markdown",
   "metadata": {},
   "source": [
    "<img src='./images/six_003.png' width='50%'/>"
   ]
  },
  {
   "cell_type": "markdown",
   "metadata": {},
   "source": [
    "奇妙的是，这个点，塔，突刺，它下面的面积等于1。\n",
    "\n",
    "以后讲积分学时，会更多地谈到面积的，这个突刺函数下的面积，就是分段函数。 \n",
    "\n",
    "图上，x<0的左侧，函数值为0，所以面积为0，所以分段函数的左侧也为0；\n",
    "然后，碰到一点突刺，面积在这个突刺处，跳到了1，突刺无穷高，下面有一点面积。 \n",
    "\n",
    "啊，也许你的老师会对你说，把这个函数弄走，它压根不是函数，恐怕确实是这样。确实，突刺函数算不上真正的函数。  \n",
    "\n",
    "当然，你可以把它干掉，把它扫地出门，但是，它非常有用。 \n",
    "\n",
    "突刺函数能很好地描述快速发生的事物，瞬间发生，如：脉冲。  \n",
    "\n",
    "因此，我把突刺函数留在这里。"
   ]
  },
  {
   "cell_type": "markdown",
   "metadata": {},
   "source": [
    "<img src='./images/six_004.png' width='50%'/>"
   ]
  },
  {
   "cell_type": "markdown",
   "metadata": {},
   "source": [
    "上图分别是"
   ]
  }
 ],
 "metadata": {
  "kernelspec": {
   "display_name": "Python 3",
   "language": "python",
   "name": "python3"
  },
  "language_info": {
   "codemirror_mode": {
    "name": "ipython",
    "version": 3
   },
   "file_extension": ".py",
   "mimetype": "text/x-python",
   "name": "python",
   "nbconvert_exporter": "python",
   "pygments_lexer": "ipython3",
   "version": "3.6.5"
  }
 },
 "nbformat": 4,
 "nbformat_minor": 2
}
