{
 "cells": [
  {
   "cell_type": "markdown",
   "metadata": {},
   "source": [
    "# 六函数、六法则、六定理\n",
    "Six Functions, Six Rules, and Six Theorems"
   ]
  },
  {
   "cell_type": "markdown",
   "metadata": {},
   "source": [
    "这是一堂总结课，内容为微分学这整部分内容，题目很考究：六函数，其中五个我们学过，还有一个新的。\n",
    "\n",
    "六法则 和 六定理，虽然我没有怎么强调过定理，这里我只是想通过这些定理来挖掘函数和法则背后真正的数学。"
   ]
  },
  {
   "cell_type": "markdown",
   "metadata": {},
   "source": [
    "## 1.六函数\n"
   ]
  },
  {
   "cell_type": "markdown",
   "metadata": {},
   "source": [
    "一开始是五个我们很熟悉的函数：$x^n$，$\\sin x$，$\\cos x$，$e^{cx}$，$\\ln x$。\n",
    "\n",
    "还有此节要介绍的**分段函数**。\n",
    "\n",
    "我感到高兴的是，只要知道了这五个，然后通过法则可以得到更多。 \n",
    "\n",
    "我们理论上可以搞定任何常用的函数。"
   ]
  },
  {
   "cell_type": "markdown",
   "metadata": {},
   "source": [
    "|函数名称|函数y的形式|函数y的一阶导数|  \n",
    "|:-:|:-:|:-:|\n",
    "|幂函数|$x^n$|$nx^{n-1}$|\n",
    "|正弦函数|$\\sin x$|$\\cos x$|\n",
    "|余弦函数|$\\cos x$|$-\\sin x$|\n",
    "|指数函数|$e^{cx}$|$ce^{cx}$|\n",
    "|自然对数函数|$\\ln x$|$\\frac{1}{x}$|"
   ]
  },
  {
   "cell_type": "markdown",
   "metadata": {},
   "source": [
    "什么函数的导数是上表中五个函数的解，求对应的老一辈的函数。\n",
    "\n",
    "|Integral|Integral的导数-函数名称|Integral的导数-函数y的形式|函数y的一阶导数|  \n",
    "|:-:|:-:|:-:|:-:|\n",
    "|$\\frac{1}{n+1}x^{n+1}$|幂函数|$x^n$|$nx^{n-1}$|\n",
    "|$-\\cos x$|正弦函数|$\\sin x$|$\\cos x$|\n",
    "|$\\sin x$|余弦函数|$\\cos x$|$-\\sin x$|\n",
    "|$\\frac{1}{c}e^{cx}$|指数函数|$e^{cx}$|$ce^{cx}$|\n",
    "|$x\\ln x -x$|自然对数函数|$\\ln x$|$\\frac{1}{x}$|"
   ]
  },
  {
   "cell_type": "markdown",
   "metadata": {},
   "source": [
    "#### 注意：导数为$\\ln x$的函数\n",
    "上表中，对于导数为$\\ln x$的函数我们可能有点陌生，答案是：\n",
    "$$x\\ln x -x$$\n",
    "\n",
    "$$\\frac{d}{dx} (x\\ln x -x) = x*\\frac{1}{x} +1*\\ln x -1 = 1+\\ln x - 1= \\ln x$$\n"
   ]
  },
  {
   "cell_type": "markdown",
   "metadata": {},
   "source": [
    "注意这个表中的一个美妙之处。 \n",
    "\n",
    "看这个情况，从$(\\frac{x^{n+1}}{n+1})'= x^n$，这很棒，只是我可能要除以0，n=-1，麻烦就大了，n=-1时，0不能做分母，$x^{-1}$不能由$x^{0}$求导得到，即n=-1时，公式失效。 \n",
    "\n",
    "不过看这里，$(x\\ln x - x)' = \\ln x$，正好填补了这个漏洞，$\\frac{1}{x}$，就是$x^{-1}$，这里$x \\ln x-x$才是$\\ln x$的出处，$\\ln x$才是$x^{-1}$的出处。  \n",
    "\n",
    "**对数正好填充了幂函数的遗漏。**"
   ]
  },
  {
   "cell_type": "markdown",
   "metadata": {},
   "source": [
    "|Integral|注意项|Integral的导数-函数名称|Integral的导数-函数y的形式|函数y的一阶导数|  \n",
    "|:-:|-:|:-:|:-:|:-:|\n",
    "|$\\frac{1}{n+1}x^{n+1}$|n=-1时，Integral式子不成立|幂函数|$x^n$|$nx^{n-1}$|\n",
    "|$x\\ln x -x$|对于$x^{-1}$，Integral出处是此列，对数正好填充了幂函数的遗漏。|自然对数函数|$\\ln x$|$\\frac{1}{x}$|"
   ]
  },
  {
   "cell_type": "markdown",
   "metadata": {},
   "source": [
    "-----"
   ]
  },
  {
   "cell_type": "markdown",
   "metadata": {},
   "source": [
    "下面看个新鲜的，**分段函数**。 \n",
    "\n",
    "开始是0，然后跳到1的分段函数，跳跃点x=0。 \n",
    "\n",
    "横轴是x轴，函数等于0，是一条水平线；直到x=0之后，函数跳跃至1，跳跃后，这个点的高度是1。 \n",
    "\n",
    "<img src='./images/six_001.png' width='70%'/>\n",
    "$$\\begin{cases}\n",
    "y=0, x<0\\\\\n",
    "y=1, x>=0 \n",
    "\\end{cases}$$"
   ]
  },
  {
   "cell_type": "markdown",
   "metadata": {},
   "source": [
    "这是一个很重要的函数，函数就像分成了两部分，左侧一部分，右侧一部分，两段不相遇，它是非连续函数。 \n",
    "\n",
    "我在这里，要求出“老一辈”的函数，这个函数的图像是怎样的呢？  \n",
    "\n",
    "也就是说，导数开始是0，然后是1，这个不难。\n",
    "\n",
    "左侧，0的导数是0；  \n",
    "右侧，要求导数为常数1，其实x的导数就是我们要的。  \n",
    "\n",
    "还是两部分，两部分的导数分别是0和1，我通常称其为“斜坡函数”（ramp function）。 \n",
    "\n",
    "$$\\begin{cases}\n",
    "f=0,x<0 \\\\\n",
    "f=x,x>=0\n",
    "\\end{cases}$$\n",
    "<img src='./images/six_002.png' width='70%'/>"
   ]
  },
  {
   "cell_type": "markdown",
   "metadata": {},
   "source": [
    "它长得很像斜坡。 "
   ]
  },
  {
   "cell_type": "markdown",
   "metadata": {},
   "source": [
    "分段函数：\n",
    "$$\\begin{cases}\n",
    "y=0, x<0\\\\\n",
    "y=1, x>=0 \n",
    "\\end{cases}$$\n",
    "\n",
    "那么分段函数的导数是什么？ 其斜率是什么？ \n",
    "\n",
    "$y=0$，这里的斜率自然是0；\n",
    "$y=1$，这里的斜率也是0。 \n",
    "\n",
    "那么，答案是0吗?  \n",
    "\n",
    "当然不是，原因在于这个跳跃点，跳跃点这里的导数是多少？  \n",
    "细心的人会发现，跳跃点x=0处，这里没有导数。\n",
    "$\\frac{\\Delta f}{\\Delta x}$的极限不存在，你无法得到正确的答案。 \n",
    "因为$\\Delta f$跳跃了1，而$\\Delta x$可以很小，x趋于0，得到$\\frac{1}{0}$，即无穷大，其实，让我说，就上无穷大看看吧。 \n",
    "\n",
    "导数两侧到x=0这个跳跃点前都是0，而在跳跃点x=0处这里导数则是无穷，这在图像上是个突刺，它有时称作$\\delta$函数。 \n",
    "\n",
    "它一直是0，某点处突然无穷大，然后继续为0。"
   ]
  },
  {
   "cell_type": "markdown",
   "metadata": {},
   "source": [
    "<img src='./images/six_003.png' width='50%'/>"
   ]
  },
  {
   "cell_type": "markdown",
   "metadata": {},
   "source": [
    "奇妙的是，这个点，塔，突刺，它下面的面积等于1。\n",
    "\n",
    "以后讲积分学时，会更多地谈到面积的，这个突刺函数下的面积，就是分段函数。 \n",
    "\n",
    "图上，x<0的左侧，函数值为0，所以面积为0，所以分段函数的左侧也为0；\n",
    "然后，碰到一点突刺，面积在这个突刺处，跳到了1，突刺无穷高，下面有一点面积。 \n",
    "\n",
    "啊，也许你的老师会对你说，把这个函数弄走，它压根不是函数，恐怕确实是这样。确实，突刺函数算不上真正的函数。  \n",
    "\n",
    "当然，你可以把它干掉，把它扫地出门，但是，它非常有用。 \n",
    "\n",
    "突刺函数能很好地描述快速发生的事物，瞬间发生，如：脉冲。  \n",
    "\n",
    "因此，我把突刺函数留在这里。"
   ]
  },
  {
   "cell_type": "markdown",
   "metadata": {},
   "source": [
    "<img src='./images/six_004.png' width='50%'/>"
   ]
  },
  {
   "cell_type": "markdown",
   "metadata": {},
   "source": [
    "上图中间是分段函数，最上面“斜坡函数”（ramp function）是分段函数的“老一辈”函数，最下面的突刺函数是分段函数的导数。"
   ]
  },
  {
   "cell_type": "markdown",
   "metadata": {},
   "source": [
    "----"
   ]
  },
  {
   "cell_type": "markdown",
   "metadata": {},
   "source": [
    "## 六法则\n",
    "\n",
    "\n"
   ]
  },
  {
   "cell_type": "markdown",
   "metadata": {},
   "source": [
    "### 1. 加法法则\n",
    "$$af(x) + bg(x) \\to a\\frac{df}{dx}+b\\frac{dg}{dx}$$\n",
    "\n",
    "这个很重要，也很简单的法则。  \n",
    "\n",
    "取两个函数的线性组合，比如：进行加法，则导数对应相加，如取$2f+3g$，那么其导数就是$2f'+3g'$。 \n",
    "\n",
    "如果要求导$(x+x^2)$，这没问题，得到$1+2x$，1来自于函数x，2x来自于函数$x^2$，加法的导数就是导数做加法。 \n",
    "\n",
    "我们总能用这个来构建更多的函数。  \n",
    "\n"
   ]
  },
  {
   "cell_type": "markdown",
   "metadata": {},
   "source": [
    "### 2.乘法法则\n",
    "$$f(x)g(x) \\to f(x)\\frac{dg}{dx} + g(x) \\frac{df}{dx}$$"
   ]
  },
  {
   "cell_type": "markdown",
   "metadata": {},
   "source": [
    "### 3.除法法则\n",
    "$$\\frac{f(x)}{g(x)} \\to \\frac{g(x)\\frac{df}{dx} - f(x)\\frac{dg}{dx}}{(g(x))^2}$$"
   ]
  },
  {
   "cell_type": "markdown",
   "metadata": {},
   "source": [
    "### 4.逆函数的法则\n",
    "\n",
    "$$x=f^{-1}(y) \\to \\frac{dx}{dy} = \\frac{1}{\\frac{dy}{dx}}$$\n",
    "比较复杂的是逆函数的法则，从$y=f(x)$出发，这是我们一般的做法，我们可以换一下，让x不再是输入，而是输出，此时输入变成了y，反转了函数，翻转了图像。\n",
    "\n",
    "我们这样倒弄到$e^x$和$\\ln x$，这是这种翻转中最重要的一组。  \n",
    "\n",
    "$$y=e^x$$\n",
    "$$x =\\ln y$$\n",
    "\n",
    "通过链式法则，我们知道， 逆函数的导数等于原函数导数分之一，很棒的法则。"
   ]
  },
  {
   "cell_type": "markdown",
   "metadata": {},
   "source": [
    "### 5.链式法则\n",
    "$$f(g(x)) \\to \\frac{df}{dy}\\frac{dy}{dx}$$\n",
    "\n",
    "链是构建新函数非常有用的一种方式，输入x，运算g(x)，然后结果再输入到f，链式法则大家都知道，这个的结果是，f导数和g导数之间的乘积。  \n",
    "\n",
    "这里有个需要注意的，必须记住这里的g(x)就是y，最后必须把这个y做掉，答案写成x的表达式。  \n",
    "只要看到y，都代入g(x)，这是链式法则。"
   ]
  },
  {
   "cell_type": "markdown",
   "metadata": {},
   "source": [
    "### 6.洛必达法则I'Hospital Rule\n",
    "$$ when\\ f(x) \\to 0, \\ g(x) \\to 0, x\\to a \\ $$\n",
    "$$\\frac{f(x)}{g(x)} \\to \\frac{\\frac{df}{dx}}{\\frac{dg}{dx}}$$\n",
    "\n",
    "$\\frac{f(x)}{g(x)}$是微积分里一类很重要的问题，特别是当其形式是$\\frac{0}{0}$时。   \n",
    "\n",
    "$\\frac{0}{0}$怎么处理？ \n",
    "当我们趋于某点，比如$x\\to a$，此时若$\\frac{f(x)}{g(x)} $趋于$\\frac{0}{0}$，这时，我们可以观察斜率，看看哪个更快地逼近0，原比率转化为两者导数的比率。 \n",
    "\n",
    "结果是，在a处的导数$\\frac{df}{dx}$，除以这个在a处的导数$\\frac{dg}{dx}$，如果走运的话，这个$\\frac{0}{0}$，上下求导后就不再是$\\frac{0}{0}$了，而是良好的比值。\n",
    "\n",
    "根据洛必达法则， 就得到答案了。 \n",
    "\n"
   ]
  },
  {
   "cell_type": "markdown",
   "metadata": {},
   "source": [
    "这是个重要的法则，它直接来自导数的思想。  \n",
    "\n",
    "这用到了函数的重要部分，因为原来函数的常数项是0。"
   ]
  },
  {
   "cell_type": "markdown",
   "metadata": {},
   "source": [
    "-----"
   ]
  },
  {
   "cell_type": "markdown",
   "metadata": {},
   "source": [
    "## 六定理"
   ]
  },
  {
   "cell_type": "markdown",
   "metadata": {},
   "source": [
    "### 1.微积分基本定理Fundamental Theorem of Calculus\n",
    "\n",
    "If $f(x) = \\int_{a}^{x} s(x)dx $ then $\\frac{df}{dx} = s(x)$;   \n",
    "If $\\frac{df}{dx} = s(x) $ then $\\int_{a}^{x}s(x)dx = f(b)-f(a)=f_{end}-f_{start}$\n",
    "\n"
   ]
  },
  {
   "cell_type": "markdown",
   "metadata": {},
   "source": [
    "它表示两种运算间的关系。  \n",
    "\n",
    "If $\\frac{df}{dx} = s(x) $ then $\\int_{a}^{x}s(x)dx = f(b)-f(a)=f_{end}-f_{start}$\n",
    "\n",
    "函数一到函数二是求导，求斜率，求速度。\n",
    "\n",
    "求导是从函数二回到函数一的运算的逆运算。 \n",
    "\n",
    "也就是说，如果从某函数开始，从函数f开始，求导得到函数二，速度、斜率；  \n",
    "那么反方向，就是积分。 \n",
    "\n",
    "积分符号$\\int$，积分学里的重要内容。  \n",
    "\n",
    "先求导，再积分，我们会回到f。 \n",
    "\n",
    "实际上，$f(b)-f(a)$这里是一些数，这里就像是$\\Delta f$，它是最后的f减去最开始的f。\n",
    "\n"
   ]
  },
  {
   "cell_type": "markdown",
   "metadata": {},
   "source": [
    "If $f(x) = \\int_{a}^{x} s(x)dx $ then $\\frac{df}{dx} = s(x)$;   \n",
    "\n",
    "另一个方向，如果从函数二开始，积分得到函数一，再求导，我们会回到函数二。"
   ]
  },
  {
   "cell_type": "markdown",
   "metadata": {},
   "source": [
    "我假设这些函数都是连续函数，这些定理适用于连续函数。 \n",
    "\n",
    "记得这是什么意思吗？ \n",
    "\n",
    "这意味着，上面六大函数中第六个分段函数中，跳跃函数就是不连续的；$\\delta$函数（突刺函数）就别谈了，它连函数都算不上；斜坡函数（ReLU）是连续的，但其导数并不连续。  \n",
    "\n",
    "\n"
   ]
  },
  {
   "cell_type": "markdown",
   "metadata": {},
   "source": [
    "连续函数也就是能一笔绘出的函数，而这是连续函数的一则定理。\n",
    "\n",
    "如果我有[a,b]区间上的连续函数，该定理表示函数必然能达到这个最大值，也能取到最小值，而且最大最小值之间的任意值都存在函数上的点与之对应。 \n",
    "\n",
    "连续函数能取到最大值，能取到最小值，能取到任意值。 \n"
   ]
  },
  {
   "cell_type": "markdown",
   "metadata": {},
   "source": [
    "All values theorem for continuous function $a\\leq x\\leq b$，$f(x)$ reaches its max M and its min m and all values between."
   ]
  },
  {
   "cell_type": "markdown",
   "metadata": {},
   "source": [
    "这是关于连续函数很精辟的理论描述。 \n"
   ]
  },
  {
   "cell_type": "markdown",
   "metadata": {},
   "source": [
    "### 2. 中值定理 Mean Value Theorem"
   ]
  },
  {
   "cell_type": "markdown",
   "metadata": {},
   "source": [
    "If f(x) has a derivative in $a \\leq x \\leq b$，some c between a and b.   \n",
    "\n",
    "Then $\\frac{f(b)-f(a)}{b-a} = \\frac{df}{dx}(c) "
   ]
  },
  {
   "cell_type": "markdown",
   "metadata": {},
   "source": [
    "现在的函数要求导数存在，[a,b]区间上，函数需要可导，"
   ]
  },
  {
   "cell_type": "markdown",
   "metadata": {},
   "source": []
  },
  {
   "cell_type": "markdown",
   "metadata": {},
   "source": [
    "###"
   ]
  },
  {
   "cell_type": "markdown",
   "metadata": {},
   "source": []
  }
 ],
 "metadata": {
  "kernelspec": {
   "display_name": "Python 3",
   "language": "python",
   "name": "python3"
  },
  "language_info": {
   "codemirror_mode": {
    "name": "ipython",
    "version": 3
   },
   "file_extension": ".py",
   "mimetype": "text/x-python",
   "name": "python",
   "nbconvert_exporter": "python",
   "pygments_lexer": "ipython3",
   "version": "3.6.5"
  }
 },
 "nbformat": 4,
 "nbformat_minor": 2
}
