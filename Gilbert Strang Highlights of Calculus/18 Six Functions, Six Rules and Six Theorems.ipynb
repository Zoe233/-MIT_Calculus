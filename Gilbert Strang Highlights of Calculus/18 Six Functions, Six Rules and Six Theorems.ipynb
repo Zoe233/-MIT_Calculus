{
 "cells": [
  {
   "cell_type": "markdown",
   "metadata": {},
   "source": [
    "# 六函数、六法则、六定理\n",
    "Six Functions, Six Rules, and Six Theorems"
   ]
  },
  {
   "cell_type": "markdown",
   "metadata": {},
   "source": [
    "这是一堂总结课，内容为微分学这整部分内容，题目很考究：六函数，其中五个我们学过，还有一个新的。\n",
    "\n",
    "六法则 和 六定理，虽然我没有怎么强调过定理，这里我只是想通过这些定理来挖掘函数和法则背后真正的数学。"
   ]
  },
  {
   "cell_type": "markdown",
   "metadata": {},
   "source": [
    "## 1.六函数\n"
   ]
  },
  {
   "cell_type": "markdown",
   "metadata": {},
   "source": [
    "一开始是五个我们很熟悉的函数：$x^n$，$\\sin x$，$\\cos x$，$e^{cx}$，$\\ln x$。\n",
    "\n",
    "还有此节要介绍的**分段函数**。\n",
    "\n",
    "我感到高兴的是，只要知道了这五个，然后通过法则可以得到更多。 \n",
    "\n",
    "我们理论上可以搞定任何常用的函数。"
   ]
  },
  {
   "cell_type": "markdown",
   "metadata": {},
   "source": [
    "|函数名称|函数y的形式|函数y的一阶导数|  \n",
    "|:-:|:-:|:-:|\n",
    "|幂函数|$x^n$|$nx^{n-1}$|\n",
    "|正弦函数|$\\sin x$|$\\cos x$|\n",
    "|余弦函数|$\\cos x$|$-\\sin x$|\n",
    "|指数函数|$e^{cx}$|$ce^{cx}$|\n",
    "|自然对数函数|$\\ln x$|$\\frac{1}{x}$|"
   ]
  },
  {
   "cell_type": "markdown",
   "metadata": {},
   "source": [
    "什么函数的导数是上表中五个函数的解，求对应的老一辈的函数。\n",
    "\n",
    "|Integral|Integral的导数-函数名称|Integral的导数-函数y的形式|函数y的一阶导数|  \n",
    "|:-:|:-:|:-:|:-:|\n",
    "|$\\frac{1}{n+1}x^{n+1}$|幂函数|$x^n$|$nx^{n-1}$|\n",
    "|$-\\cos x$|正弦函数|$\\sin x$|$\\cos x$|\n",
    "|$\\sin x$|余弦函数|$\\cos x$|$-\\sin x$|\n",
    "|$\\frac{1}{c}e^{cx}$|指数函数|$e^{cx}$|$ce^{cx}$|\n",
    "|$x\\ln x -x$|自然对数函数|$\\ln x$|$\\frac{1}{x}$|"
   ]
  },
  {
   "cell_type": "markdown",
   "metadata": {},
   "source": [
    "#### 注意：导数为$\\ln x$的函数\n",
    "上表中，对于导数为$\\ln x$的函数我们可能有点陌生，答案是：\n",
    "$$x\\ln x -x$$\n",
    "\n",
    "$$\\frac{d}{dx} (x\\ln x -x) = x*\\frac{1}{x} +1*\\ln x -1 = 1+\\ln x - 1= \\ln x$$\n"
   ]
  },
  {
   "cell_type": "markdown",
   "metadata": {},
   "source": [
    "注意这个表中的一个美妙之处。 \n",
    "\n",
    "看这个情况，从$(\\frac{x^{n+1}}{n+1})'= x^n$，这很棒，只是我可能要除以0，n=-1，麻烦就大了，n=-1时，0不能做分母，$x^{-1}$不能由$x^{0}$求导得到，即n=-1时，公式失效。 \n",
    "\n",
    "不过看这里，$(x\\ln x - x)' = \\ln x$，正好填补了这个漏洞，$\\frac{1}{x}$，就是$x^{-1}$，这里$x \\ln x-x$才是$\\ln x$的出处，$\\ln x$才是$x^{-1}$的出处。  \n",
    "\n",
    "**对数正好填充了幂函数的遗漏。**"
   ]
  },
  {
   "cell_type": "markdown",
   "metadata": {},
   "source": [
    "|Integral|注意项|Integral的导数-函数名称|Integral的导数-函数y的形式|函数y的一阶导数|  \n",
    "|:-:|-:|:-:|:-:|:-:|\n",
    "|$\\frac{1}{n+1}x^{n+1}$|n=-1时，Integral式子不成立|幂函数|$x^n$|$nx^{n-1}$|\n",
    "|$x\\ln x -x$|对于$x^{-1}$，Integral出处是此列，对数正好填充了幂函数的遗漏。|自然对数函数|$\\ln x$|$\\frac{1}{x}$|"
   ]
  },
  {
   "cell_type": "markdown",
   "metadata": {},
   "source": [
    "-----"
   ]
  },
  {
   "cell_type": "markdown",
   "metadata": {},
   "source": [
    "下面看个新鲜的，**分段函数**。 \n",
    "\n",
    "开始是0，然后跳到1的分段函数，跳跃点x=0。 \n",
    "\n",
    "横轴是x轴，函数等于0，是一条水平线；直到x=0之后，函数跳跃至1，跳跃后，这个点的高度是1。 \n",
    "\n",
    "<img src='./images/six_001.png' width='70%'/>\n",
    "$$\\begin{cases}\n",
    "y=0, x<0\\\\\n",
    "y=1, x>=0 \n",
    "\\end{cases}$$"
   ]
  },
  {
   "cell_type": "markdown",
   "metadata": {},
   "source": [
    "这是一个很重要的函数，函数就像分成了两部分，左侧一部分，右侧一部分，两段不相遇，它是非连续函数。 \n",
    "\n",
    "我在这里，要求出“老一辈”的函数，这个函数的图像是怎样的呢？  \n",
    "\n",
    "也就是说，导数开始是0，然后是1，这个不难。\n",
    "\n",
    "左侧，0的导数是0；  \n",
    "右侧，要求导数为常数1，其实x的导数就是我们要的。  \n",
    "\n",
    "还是两部分，两部分的导数分别是0和1，我通常称其为“斜坡函数”（ramp function）。 \n",
    "\n",
    "$$\\begin{cases}\n",
    "f=0,x<0 \\\\\n",
    "f=x,x>=0\n",
    "\\end{cases}$$\n",
    "<img src='./images/six_002.png' width='70%'/>"
   ]
  },
  {
   "cell_type": "markdown",
   "metadata": {},
   "source": [
    "它长得很像斜坡。 "
   ]
  },
  {
   "cell_type": "markdown",
   "metadata": {},
   "source": [
    "分段函数：\n",
    "$$\\begin{cases}\n",
    "y=0, x<0\\\\\n",
    "y=1, x>=0 \n",
    "\\end{cases}$$\n",
    "\n",
    "那么分段函数的导数是什么？ 其斜率是什么？ \n",
    "\n",
    "$y=0$，这里的斜率自然是0；\n",
    "$y=1$，这里的斜率也是0。 \n",
    "\n",
    "那么，答案是0吗?  \n",
    "\n",
    "当然不是，原因在于这个跳跃点，跳跃点这里的导数是多少？  \n",
    "细心的人会发现，跳跃点x=0处，这里没有导数。\n",
    "$\\frac{\\Delta f}{\\Delta x}$的极限不存在，你无法得到正确的答案。 \n",
    "因为$\\Delta f$跳跃了1，而$\\Delta x$可以很小，x趋于0，得到$\\frac{1}{0}$，即无穷大，其实，让我说，就上无穷大看看吧。 \n",
    "\n",
    "导数两侧到x=0这个跳跃点前都是0，而在跳跃点x=0处这里导数则是无穷，这在图像上是个突刺，它有时称作$\\delta$函数。 \n",
    "\n",
    "它一直是0，某点处突然无穷大，然后继续为0。"
   ]
  },
  {
   "cell_type": "markdown",
   "metadata": {},
   "source": [
    "<img src='./images/six_003.png' width='50%'/>"
   ]
  },
  {
   "cell_type": "markdown",
   "metadata": {},
   "source": [
    "奇妙的是，这个点，塔，突刺，它下面的面积等于1。\n",
    "\n",
    "以后讲积分学时，会更多地谈到面积的，这个突刺函数下的面积，就是分段函数。 \n",
    "\n",
    "图上，x<0的左侧，函数值为0，所以面积为0，所以分段函数的左侧也为0；\n",
    "然后，碰到一点突刺，面积在这个突刺处，跳到了1，突刺无穷高，下面有一点面积。 \n",
    "\n",
    "啊，也许你的老师会对你说，把这个函数弄走，它压根不是函数，恐怕确实是这样。确实，突刺函数算不上真正的函数。  \n",
    "\n",
    "当然，你可以把它干掉，把它扫地出门，但是，它非常有用。 \n",
    "\n",
    "突刺函数能很好地描述快速发生的事物，瞬间发生，如：脉冲。  \n",
    "\n",
    "因此，我把突刺函数留在这里。"
   ]
  },
  {
   "cell_type": "markdown",
   "metadata": {},
   "source": [
    "<img src='./images/six_004.png' width='50%'/>"
   ]
  },
  {
   "cell_type": "markdown",
   "metadata": {},
   "source": [
    "上图中间是分段函数，最上面“斜坡函数”（ramp function）是分段函数的“老一辈”函数，最下面的突刺函数是分段函数的导数。"
   ]
  },
  {
   "cell_type": "markdown",
   "metadata": {},
   "source": [
    "----"
   ]
  },
  {
   "cell_type": "markdown",
   "metadata": {},
   "source": [
    "## 六法则\n",
    "\n",
    "\n"
   ]
  },
  {
   "cell_type": "markdown",
   "metadata": {},
   "source": [
    "### 1. 加法法则\n",
    "$$af(x) + bg(x) \\to a\\frac{df}{dx}+b\\frac{dg}{dx}$$\n",
    "\n",
    "这个很重要，也很简单的法则。  \n",
    "\n",
    "取两个函数的线性组合，比如：进行加法，则导数对应相加，如取$2f+3g$，那么其导数就是$2f'+3g'$。 \n",
    "\n",
    "如果要求导$(x+x^2)$，这没问题，得到$1+2x$，1来自于函数x，2x来自于函数$x^2$，加法的导数就是导数做加法。 \n",
    "\n",
    "我们总能用这个来构建更多的函数。  \n",
    "\n"
   ]
  },
  {
   "cell_type": "markdown",
   "metadata": {},
   "source": [
    "### 2.乘法法则\n",
    "$$f(x)g(x) \\to f(x)\\frac{dg}{dx} + g(x) \\frac{df}{dx}$$"
   ]
  },
  {
   "cell_type": "markdown",
   "metadata": {},
   "source": [
    "### 3.除法法则\n",
    "$$\\frac{f(x)}{g(x)} \\to \\frac{g(x)\\frac{df}{dx} - f(x)\\frac{dg}{dx}}{(g(x))^2}$$"
   ]
  },
  {
   "cell_type": "markdown",
   "metadata": {},
   "source": [
    "### 4.逆函数的法则\n",
    "\n",
    "$$x=f^{-1}(y) \\to \\frac{dx}{dy} = \\frac{1}{\\frac{dy}{dx}}$$\n",
    "比较复杂的是逆函数的法则，从$y=f(x)$出发，这是我们一般的做法，我们可以换一下，让x不再是输入，而是输出，此时输入变成了y，反转了函数，翻转了图像。\n",
    "\n",
    "我们这样倒弄到$e^x$和$\\ln x$，这是这种翻转中最重要的一组。  \n",
    "\n",
    "$$y=e^x$$\n",
    "$$x =\\ln y$$\n",
    "\n",
    "通过链式法则，我们知道， 逆函数的导数等于原函数导数分之一，很棒的法则。"
   ]
  },
  {
   "cell_type": "markdown",
   "metadata": {},
   "source": [
    "### 5.链式法则\n",
    "$$f(g(x)) \\to \\frac{df}{dy}\\frac{dy}{dx}$$\n",
    "\n",
    "链是构建新函数非常有用的一种方式，输入x，运算g(x)，然后结果再输入到f，链式法则大家都知道，这个的结果是，f导数和g导数之间的乘积。  \n",
    "\n",
    "这里有个需要注意的，必须记住这里的g(x)就是y，最后必须把这个y做掉，答案写成x的表达式。  \n",
    "只要看到y，都代入g(x)，这是链式法则。"
   ]
  },
  {
   "cell_type": "markdown",
   "metadata": {},
   "source": [
    "### 6.洛必达法则I'Hospital Rule\n",
    "$$ when\\ f(x) \\to 0, \\ g(x) \\to 0, x\\to a \\ $$\n",
    "$$\\frac{f(x)}{g(x)} \\to \\frac{\\frac{df}{dx}}{\\frac{dg}{dx}}$$\n",
    "\n",
    "$\\frac{f(x)}{g(x)}$是微积分里一类很重要的问题，特别是当其形式是$\\frac{0}{0}$时。   \n",
    "\n",
    "$\\frac{0}{0}$怎么处理？ \n",
    "当我们趋于某点，比如$x\\to a$，此时若$\\frac{f(x)}{g(x)} $趋于$\\frac{0}{0}$，这时，我们可以观察斜率，看看哪个更快地逼近0，原比率转化为两者导数的比率。 \n",
    "\n",
    "结果是，在a处的导数$\\frac{df}{dx}$，除以这个在a处的导数$\\frac{dg}{dx}$，如果走运的话，这个$\\frac{0}{0}$，上下求导后就不再是$\\frac{0}{0}$了，而是良好的比值。\n",
    "\n",
    "根据洛必达法则， 就得到答案了。 \n",
    "\n"
   ]
  },
  {
   "cell_type": "markdown",
   "metadata": {},
   "source": [
    "这是个重要的法则，它直接来自导数的思想。  \n",
    "\n",
    "这用到了函数的重要部分，因为原来函数的常数项是0。"
   ]
  },
  {
   "cell_type": "markdown",
   "metadata": {},
   "source": [
    "-----"
   ]
  },
  {
   "cell_type": "markdown",
   "metadata": {},
   "source": [
    "## 六定理"
   ]
  },
  {
   "cell_type": "markdown",
   "metadata": {},
   "source": [
    "### 1.微积分基本定理Fundamental Theorem of Calculus\n",
    "\n",
    "If $f(x) = \\int_{a}^{x} s(x)dx $ then $\\frac{df}{dx} = s(x)$;   \n",
    "If $\\frac{df}{dx} = s(x) $ then $\\int_{a}^{x}s(x)dx = f(b)-f(a)=f_{end}-f_{start}$\n",
    "\n"
   ]
  },
  {
   "cell_type": "markdown",
   "metadata": {},
   "source": [
    "它表示两种运算间的关系。  \n",
    "\n",
    "If $\\frac{df}{dx} = s(x) $ then $\\int_{a}^{x}s(x)dx = f(b)-f(a)=f_{end}-f_{start}$\n",
    "\n",
    "函数一到函数二是求导，求斜率，求速度。\n",
    "\n",
    "求导是从函数二回到函数一的运算的逆运算。 \n",
    "\n",
    "也就是说，如果从某函数开始，从函数f开始，求导得到函数二，速度、斜率；  \n",
    "那么反方向，就是积分。 \n",
    "\n",
    "积分符号$\\int$，积分学里的重要内容。  \n",
    "\n",
    "先求导，再积分，我们会回到f。 \n",
    "\n",
    "实际上，$f(b)-f(a)$这里是一些数，这里就像是$\\Delta f$，它是最后的f减去最开始的f。\n",
    "\n"
   ]
  },
  {
   "cell_type": "markdown",
   "metadata": {},
   "source": [
    "If $f(x) = \\int_{a}^{x} s(x)dx $ then $\\frac{df}{dx} = s(x)$;   \n",
    "\n",
    "另一个方向，如果从函数二开始，积分得到函数一，再求导，我们会回到函数二。"
   ]
  },
  {
   "cell_type": "markdown",
   "metadata": {},
   "source": [
    "我假设这些函数都是连续函数，这些定理适用于连续函数。 \n",
    "\n",
    "记得这是什么意思吗？ \n",
    "\n",
    "这意味着，上面六大函数中第六个分段函数中，跳跃函数就是不连续的；$\\delta$函数（突刺函数）就别谈了，它连函数都算不上；斜坡函数（ReLU）是连续的，但其导数并不连续。  \n",
    "\n",
    "\n"
   ]
  },
  {
   "cell_type": "markdown",
   "metadata": {},
   "source": [
    "连续函数也就是能一笔绘出的函数，而这是连续函数的一则定理。\n",
    "\n",
    "如果我有[a,b]区间上的连续函数，该定理表示函数必然能达到这个最大值，也能取到最小值，而且最大最小值之间的任意值都存在函数上的点与之对应。 \n",
    "\n",
    "连续函数能取到最大值，能取到最小值，能取到任意值。 \n"
   ]
  },
  {
   "cell_type": "markdown",
   "metadata": {},
   "source": [
    "All values theorem for continuous function $a\\leq x\\leq b$，$f(x)$ reaches its max M and its min m and all values between."
   ]
  },
  {
   "cell_type": "markdown",
   "metadata": {},
   "source": [
    "这是关于连续函数很精辟的理论描述。 \n"
   ]
  },
  {
   "cell_type": "markdown",
   "metadata": {},
   "source": [
    "### 4. 中值定理 Mean Value Theorem"
   ]
  },
  {
   "cell_type": "markdown",
   "metadata": {},
   "source": [
    "If f(x) has a derivative in $a \\leq x \\leq b$，\n",
    "Then $\\frac{f(b)-f(a)}{b-a} = \\frac{df}{dx}(c) $ some c between a and b.   \n",
    "\n",
    "$\\frac{df}{dx}(c) $表示c点处的瞬时斜率。"
   ]
  },
  {
   "cell_type": "markdown",
   "metadata": {},
   "source": [
    "函数f(x)在区间[a,b]上可导，那么$\\frac{f(b)-f(a)}{b-a} $就好比整段旅程上的的平均速度。 \n",
    "\n",
    "就好比在麻省大街，你1点上街，4点出来，在大街上逗留了3个小时，而里程表显示200英里，那么你的平均速度，就是$\\frac{200}{3}$英里每小时，大概66英里每小时，估计超速了。 \n",
    "\n",
    "66英里每小时，稍微有点超了。\n",
    "\n",
    "中值定理逮到你了。  \n",
    "\n",
    "你也许会说，我啥时候超速了，啥时候超过65了？ \n",
    "\n",
    "中值定理就说了，必然存在某个时刻，你的速度表，瞬时度数等于平均速度。 \n",
    "\n",
    "如果你速度的变化是平滑的，速度不会跳跃，如果我在一段时间$\\Delta t$内考察速度，区间内必然存在一点，该点处，平均速度等于瞬时速度，也可以用斜率来描述。 \n",
    "\n",
    "假设平均斜率，竖直比水平为10，在这段时间内，你最终到达了额10，那么你爬山的图中，必然某处速率为10，必然存在某点，瞬时斜率为10。 \n",
    "\n",
    "这就是中值定理。\n",
    "\n"
   ]
  },
  {
   "cell_type": "markdown",
   "metadata": {},
   "source": [
    "这里中值就是平均值，平均值等于某点处的瞬时值，但具体是哪点，就不得而知了。 \n"
   ]
  },
  {
   "cell_type": "markdown",
   "metadata": {},
   "source": [
    "### 5.泰勒定理Taylor's Theorem\n"
   ]
  },
  {
   "cell_type": "markdown",
   "metadata": {},
   "source": [
    "### 泰勒级数Taylor Series \n",
    "$$f(x)=f(a) + f'(a)(x-a) + \\frac{1}{2!}f''(a)(x-a)^2+...\\frac{1}{(n+1)!}f^{n+1}(a)(x-a)^{n+1}$$"
   ]
  },
  {
   "cell_type": "markdown",
   "metadata": {},
   "source": [
    "泰勒级数是关于什么的？  \n",
    "\n",
    "泰勒级数表示，我们知道某点x=a处的情况时，我们就能知道a点处附近的函数是怎样的。  \n",
    "x在a点附近，最为粗略的估计是$f(x) \\simeq f(a)$，常数项。  \n",
    "f(a)相当于旅行的开始处，f(x)则相当于很短一段路之后，里程表的读数。 \n",
    "\n",
    "首先需要知道，里程表一开始的读数，然后再是修正项，这才涉及到微积分$f'(a)(x-a)$，它是起点处的速度乘以所用的时间。 \n",
    "\n",
    "如果只保留f(a)这一项，相当于里程表没有度数；   \n",
    "加上$f'(a)(x-a)$这一项之后，相当于沿切线，我试着描述下，就像假装速度不变，f(a)这里假装里程没发生变化，一切如故，$f'(a)(x-a)$这里包含了下一项。 \n",
    "\n",
    "不过显然，通常速度也会改变，微积分表示，还可以用到二阶导，$\\frac{1}{2!}f''(a)(x-a)^2$，还有一项来表示弯曲。 \n",
    "\n",
    "如果这些确实呈直线，那么我们无疑是正确的，$f(x)=f(a) + f'(a)(x-a) $，匀速；  \n",
    "但如果速度是增加的，里程表图像向上弯曲，此时需要引入二阶导的修正，$\\frac{1}{2!}f''(a)(x-a)^2$，它是斜率的斜率，变化率的变化率，加速度。   \n",
    "\n",
    "如果是匀加速度，比如：让粉笔自由落体，它会加速，那么，释放的高度，$f(a)$就是这个初始高度，初始速度为0，因为我之前抓着它，而二阶导$\\frac{1}{2!}f''(a)(x-a)^2$这一项，即加速度，这可以给出正确的答案。 \n",
    "\n",
    "泰勒级数后面还有更精确的答案，用数学里经典的省略号表示。加速度很可能不是常数，那么下一项是什么？如果你知道下一项，你就和泰勒有的一比了。 下一项是$\\frac{1}{3!}f'''(a)(x-a)^3$。  \n",
    "\n",
    "从这个形式中，大家是否看到什么函数了？  \n",
    "我看到了$e^x$的泰勒级数，看看$e^x$在0点附近的泰勒级数。\n",
    "\n",
    "$$f(x) =e^x = 1+x+\\frac{1}{2!}x^2+\\frac{1}{3!}x^3 + ...+\\frac{1}{n!}x^n$$\n",
    "\n"
   ]
  },
  {
   "cell_type": "markdown",
   "metadata": {},
   "source": [
    "泰勒级数看起来很糟糕，这是因为我把f写得太全。 \n",
    "我这里是从f(a)开始的，它不一定在0处，不过一般在0处，而$e^x$则是最好的例子。  \n"
   ]
  },
  {
   "cell_type": "markdown",
   "metadata": {},
   "source": [
    "后面还有一个例子，这将涉及到我最后一则定理。  \n",
    "\n",
    "它与中值定理比较类似，如果级数截断到三阶导之前，\n",
    "$f(x)=f(a) + f'(a)(x-a) + \\frac{1}{2!}f''(a)(x-a)^2$，那么就会出现一定误差。这个误差显然取决于后面的三阶导及N阶导。\n",
    "\n",
    "误差中，三阶导取在a和x之间的某处，后面本来有很多项，但根据中值定理，我们能找到中间某点的导数值，好比麻省大街途中某处。这里很类似，只是保留了更多项。然后取下一阶导数，在大街中某处的值。\n"
   ]
  },
  {
   "cell_type": "markdown",
   "metadata": {},
   "source": [
    "\n",
    "你们需要掌握什么呢？  \n",
    "\n",
    "泰勒级数自然是重点，不过它有两种情况，一种拦腰截断，取有限项，虽然有误差，但结果还不错，另一种情况让级数无限继续下去，此时的问题是，此时我们有无限数量的项，问题是：级数求和是得到$e^x$这样的有限值呢？还是像$\\delta$函数（突刺函数，17讲）那样趋于无穷？\n",
    "\n",
    "这就引出了一个无穷级数的问题。"
   ]
  },
  {
   "cell_type": "markdown",
   "metadata": {},
   "source": [
    "微积分中，泰勒级数就是无穷级数的来源。 \n",
    "\n",
    "如果要将所有项都弄出来，就不得不考虑，其所有项相加是得到一个有限的数，"
   ]
  },
  {
   "cell_type": "markdown",
   "metadata": {},
   "source": [
    "### 6.二项式定理 Binominal Theorem"
   ]
  },
  {
   "cell_type": "markdown",
   "metadata": {},
   "source": []
  },
  {
   "cell_type": "markdown",
   "metadata": {},
   "source": []
  },
  {
   "cell_type": "markdown",
   "metadata": {},
   "source": []
  },
  {
   "cell_type": "markdown",
   "metadata": {},
   "source": []
  }
 ],
 "metadata": {
  "kernelspec": {
   "display_name": "Python 3",
   "language": "python",
   "name": "python3"
  },
  "language_info": {
   "codemirror_mode": {
    "name": "ipython",
    "version": 3
   },
   "file_extension": ".py",
   "mimetype": "text/x-python",
   "name": "python",
   "nbconvert_exporter": "python",
   "pygments_lexer": "ipython3",
   "version": "3.6.5"
  }
 },
 "nbformat": 4,
 "nbformat_minor": 2
}
