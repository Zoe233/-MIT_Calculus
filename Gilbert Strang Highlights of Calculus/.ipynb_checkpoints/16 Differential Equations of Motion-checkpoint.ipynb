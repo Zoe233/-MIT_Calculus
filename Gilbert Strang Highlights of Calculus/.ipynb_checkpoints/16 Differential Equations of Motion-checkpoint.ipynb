{
 "cells": [
  {
   "cell_type": "markdown",
   "metadata": {},
   "source": [
    "# Lec 16 关于运动的微分方程\n",
    "Differential Equations of Motionn"
   ]
  },
  {
   "cell_type": "markdown",
   "metadata": {},
   "source": [
    "这一讲的主题是常系数线性微积分方程\n",
    "$$my''+2ry' + ky =0$$ \n",
    "\n",
    "教授指出了这种方程在物理、工程、自科、社科等领域的广泛应用，强调它是最重要的微分方程。 \n",
    "\n",
    "他以弹簧的振动为例，通俗地解释了各常数的物理意义（m质量，r阻尼，k胡可系数）。 \n",
    "\n",
    "课程后半部分举重若轻地讲解了这种方程额解法——代入$e^{(\\lambda t)}$来求解。"
   ]
  },
  {
   "cell_type": "markdown",
   "metadata": {},
   "source": [
    "----"
   ]
  },
  {
   "cell_type": "markdown",
   "metadata": {},
   "source": [
    "我们已经学了很多了，是时候看看微积分的应用了。\n",
    "\n",
    "我们学过了关键函数的导数，做好了解微分方程的准备。  \n",
    "\n",
    "$$my''+2ry' + ky =0$$ \n",
    "$$ m \\frac{d^2y}{dt^2} + 2r \\frac{dy}{dt} + ky = 0$$"
   ]
  },
  {
   "cell_type": "markdown",
   "metadata": {},
   "source": [
    "看看这个方程，这是个微分方程。  \n",
    "\n",
    "方程包含y的导数和y本身。 \n",
    "\n",
    "而且，观察下，它还是个二阶方程，因为它含有二阶导；  \n",
    "\n",
    "它还是线性方程，因为，二阶导，一阶导，y本身，都是单列的，没有像$yy'$这样相乘的项。 \n",
    "\n",
    "实际上，所有的乘法都是数乘，m，r，k，它们不过是些来自问题本身的常数。   \n",
    "\n",
    "所以这里是**常系数、线性、二阶、微分方程**。  \n",
    "\n"
   ]
  },
  {
   "cell_type": "markdown",
   "metadata": {},
   "source": [
    "看看它怎么解？  \n",
    "\n",
    "我们办得到，因为，这涉及到一些我们已知如何求导的函数。\n"
   ]
  },
  {
   "cell_type": "markdown",
   "metadata": {},
   "source": [
    "----"
   ]
  },
  {
   "cell_type": "markdown",
   "metadata": {},
   "source": [
    "这里举2-3个特殊例子吧。 \n",
    "\n",
    "这些方程看起来很纯粹。"
   ]
  },
  {
   "cell_type": "markdown",
   "metadata": {},
   "source": [
    "一个特殊的例子是，不要这个二阶项，我们就写成下面这种简单的、最清晰的形式：\n",
    "$$my''+2ry' + ky =0$$ \n",
    "$$ m \\frac{d^2y}{dt^2} + 2r \\frac{dy}{dt} + ky = 0$$\n",
    "\n",
    "令m=0，得到：\n",
    "$$2ry' + ky =0$$ \n",
    "$$2r \\frac{dy}{dt} + ky = 0$$\n",
    "\n",
    "$$ \\frac{dy}{dt} = -\\frac{k}{2r} y = ay$$"
   ]
  },
  {
   "cell_type": "markdown",
   "metadata": {},
   "source": [
    "也就是y的导数等于y的某倍数，是一个一阶方程。 \n",
    "\n",
    "我们知道方程的解是什么函数。  \n",
    "\n",
    "导数等于自身的是指数函数，这里还有一个常数因子a，这就需要$y=e^{at}$。 \n"
   ]
  },
  {
   "cell_type": "markdown",
   "metadata": {},
   "source": [
    "通常，实际，我们预计一阶方程的解中，会出现某常数，之后我们知道，它可以用来匹配初始条件。 \n",
    "\n",
    "这个常数出现在这里，$e^{at}$是方程的解，求导，得到$a e^{at}$，a就下来了，这里是C倍的$e^{at}$，即$y=C e^{at}$。   \n",
    "因为，方程是线性的。\n",
    "\n",
    "这非常棒，因为只有指数。"
   ]
  },
  {
   "cell_type": "markdown",
   "metadata": {},
   "source": [
    "------"
   ]
  },
  {
   "cell_type": "markdown",
   "metadata": {},
   "source": [
    "第二个特殊的例子是，令r=0，得到：\n",
    "$$my'' + ky =0$$ \n",
    "$$ m \\frac{d^2y}{dt^2} + ky = 0$$\n",
    "\n",
    "没有中间项，只有二阶导和函数本身，还是选取合适的字母，把ky放到另一侧，得到：\n",
    "$$ \\frac{d^2y}{dt^2}  = -\\frac{k}{m} y = -\\omega ^ 2 y$$\n",
    "其中，$\\omega^2  =\\frac{k}{m}$。 "
   ]
  },
  {
   "cell_type": "markdown",
   "metadata": {},
   "source": [
    "这个方程我们能解。 \n",
    "\n",
    "二阶导等于负的函数本身，这个我们见过，这样的方程用正弦和余弦都能解。  \n",
    "\n",
    "这样二阶方程就能得到2个解。 \n",
    "\n",
    "同上面第一个特殊的例子一样，这里也有个常数。  \n",
    "\n",
    "这里需要对正弦和余弦进行微调，使得求两次导时，$\\omega$下来两次。  \n",
    "\n",
    "所以这里的解是：\n",
    "$$ y= \\cos \\omega t$$"
   ]
  },
  {
   "cell_type": "markdown",
   "metadata": {},
   "source": [
    "> $$ y = \\cos \\omega t$$\n",
    "$$ y' = -{\\omega}{\\sin \\omega t }$$\n",
    "$$ y'' =  {-\\omega}^2 \\cos \\omega t$$\n"
   ]
  },
  {
   "cell_type": "markdown",
   "metadata": {},
   "source": [
    "另一个解是$$y =\\sin \\omega t$$"
   ]
  },
  {
   "cell_type": "markdown",
   "metadata": {},
   "source": [
    "> $$ y = \\sin \\omega t$$\n",
    "$$ y' = \\omega \\cos \\omega t$$\n",
    "$$ y'' = \\omega ^ 2\\sin \\omega t $$"
   ]
  },
  {
   "cell_type": "markdown",
   "metadata": {},
   "source": [
    "同原来一样，对于二阶方程，我们预计会有两个待定的常数，这里是\n",
    "$$ y = C \\cos \\omega t  +  D \\sin \\omega t$$\n",
    "\n",
    "这就是此方程的通解。 \n",
    "\n",
    "这我们知道，这两个非常重要。 \n"
   ]
  },
  {
   "cell_type": "markdown",
   "metadata": {},
   "source": [
    "----"
   ]
  },
  {
   "cell_type": "markdown",
   "metadata": {},
   "source": [
    "还有一个挺简单的，也有些重要的方程，假设后面什么都没有，即假设r=0，k=0，只有$$m y'' = m \\frac{d^2 y } {dt^2} = 0$$\n"
   ]
  },
  {
   "cell_type": "markdown",
   "metadata": {},
   "source": [
    "我们断然知道，这个方程的解，什么样的方程二阶导为0？ \n",
    "\n",
    "显然，常函数算一个，常数的一阶导就是0了，别说二阶。 \n",
    "$$ y = C + Dt$$\n"
   ]
  },
  {
   "cell_type": "markdown",
   "metadata": {},
   "source": [
    "----"
   ]
  },
  {
   "cell_type": "markdown",
   "metadata": {},
   "source": [
    "下面才是这一讲的精髓所在，这个方程$my''+2ry' + ky =0$的解。  \n",
    "\n",
    "还可以考虑三阶、四阶、任意阶的情况。  \n",
    "\n",
    "是这些已知函数的乘积——指数函数乘以正弦，余弦，乘以幂函数。\n",
    "\n",
    "解常系数微分方程，只需要这些了。"
   ]
  },
  {
   "cell_type": "markdown",
   "metadata": {},
   "source": [
    "所以，我计划，继续解，继续讲。 \n",
    "\n",
    "$$my''+2ry' + ky =0$$\n",
    "这个方程是工程领域的一种基本方程，m表示某种质量，r阻尼，k胡可系数。 "
   ]
  },
  {
   "cell_type": "markdown",
   "metadata": {},
   "source": [
    "下面作图，我们就能知道为什么在这里用t而不是用x了。  \n",
    "\n",
    "因为这里时间t是自变量。  \n",
    "\n",
    "什么情况呢？  \n",
    "\n",
    "随时间变化的情况大致是：关于某根弹簧的，弹簧下方悬挂有一个重物m。 \n",
    "\n",
    "这是什么情况呢？  \n",
    "\n",
    "如果我要将物体往下拉，拉伸弹簧，然后放手，弹簧会怎样？   \n",
    "\n",
    "弹簧会向上拉回物体，弹簧会将物体拉回去，然后弹回会受到挤压并缩短。  \n",
    "\n",
    "此时不是拉伸，而是相反，弹簧会被压缩。  \n",
    "\n",
    "之后，压缩之后，它会推动物体，被压着，弹簧就会往下推，再次把物体往下推，下去了又上来，于是得到——**振动**。   \n",
    "\n",
    "振动就是这里的情况了。\n",
    "\n",
    "<img src='./images/motion_001.png' width='30%'/>"
   ]
  },
  {
   "cell_type": "markdown",
   "metadata": {},
   "source": [
    "关于振动，有什么现实生活中的例子吗？   \n",
    "\n",
    "- 弹簧是一个；  \n",
    "- 时钟是一个，特别是那种老爷钟，钟摆会摆动，来来回回，我把钟也算上；  \n",
    "- 还有，音乐，小提琴弦也可以振动，这就是美妙音乐的来源；  \n",
    "- 我们的心脏，心跳也是规则的振动；   \n",
    "- 还可以写上，分子，它们振动非常之快。  \n",
    "\n",
    "\n",
    "所以我今年天要讲的这个方程，会出现在生物学，化学中，对于分子，它是很重要的方程。\n",
    "对用到弹簧的物理、力学、工程等领域，对经济学，到处都要用到它。  \n",
    "\n",
    "通过选择不同的系数，可以建立各种最简洁的基础模型。  "
   ]
  },
  {
   "cell_type": "markdown",
   "metadata": {},
   "source": [
    "下面，我以弹簧为例来讲解，不过记住，此方程可以解释所有的振动。\n",
    "$$my''+2ry' + ky =0$$ \n",
    "\n",
    "实际上，弹簧这种模型中，通常有r=0。  \n",
    "那么，我们取r=0的情况，那么，方程是怎么来的呢？  \n",
    "\n",
    "我稍微讲下相关的物理，然后再回头讲数学部分，解方程，这里的物体其实就是牛顿定律。  \n",
    "\n",
    "$$ F=ma$$\n",
    "这里的m表示质量，a表示加速度，即二阶导，不要介意，把它写作二阶导形式\n",
    "$$ F = m \\frac{d^2 y }{dt^2}$$\n",
    "这里的质量m是常数，这里不是接近光速的时候，所以不考虑质能之间的相互转换，质量即常量。 \n",
    "\n",
    "那么力是什么？  \n",
    "对于弹簧的力，将竖直向下的方向当做y的正方向，它表示：弹簧的位移。   \n",
    "向下时，y为正时，弹簧有回力的拉力，而弹簧的力与y成正比，而比例系数是常数k，所以力F即为ky。\n",
    "$$ ky = m \\frac{d^2 y }{dt^2}$$\n",
    "\n",
    "这个因子ky是往回的拉力，与y正方向相反。 \n",
    "由于y为正，弹簧拉得很长，弹簧力在往上拉，往负方向，向上，"
   ]
  },
  {
   "cell_type": "code",
   "execution_count": null,
   "metadata": {},
   "outputs": [],
   "source": []
  }
 ],
 "metadata": {
  "kernelspec": {
   "display_name": "Python 3",
   "language": "python",
   "name": "python3"
  },
  "language_info": {
   "codemirror_mode": {
    "name": "ipython",
    "version": 3
   },
   "file_extension": ".py",
   "mimetype": "text/x-python",
   "name": "python",
   "nbconvert_exporter": "python",
   "pygments_lexer": "ipython3",
   "version": "3.6.5"
  }
 },
 "nbformat": 4,
 "nbformat_minor": 2
}
