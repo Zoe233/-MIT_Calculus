{
 "cells": [
  {
   "cell_type": "markdown",
   "metadata": {},
   "source": [
    "# 幂级数和欧拉公式\n",
    "Power Series / Euler's Great Formula"
   ]
  },
  {
   "cell_type": "markdown",
   "metadata": {},
   "source": [
    "这一讲从幂级数入手，讲到了如何求函数幂级数的简单方法，即让函数的各阶导数和幂级数的各阶导数相匹配。   \n",
    "然后由$e^x$，$\\sin x$和$\\cos x$的幂级数，连贯地引出欧拉公式。  \n",
    "\n",
    "$$e^{(i\\theta)} =\\cos \\theta +i \\sin \\theta$$\n",
    "并就此通俗地引入了复数的概念。  \n",
    "\n",
    "课程的最后选讲了两个幂级数：几何级数和对数级数，并诠释了两者间的联系。"
   ]
  },
  {
   "cell_type": "markdown",
   "metadata": {},
   "source": [
    "-----"
   ]
  },
  {
   "cell_type": "markdown",
   "metadata": {},
   "source": [
    "我想今天我要谈到幂级数。\n",
    "\n",
    "幂级数，项都是x的幂，一直下去...\n",
    "\n",
    "$$ 1, x, x^2, x^3, ....$$"
   ]
  },
  {
   "cell_type": "markdown",
   "metadata": {},
   "source": [
    "所有的幂，包括$x^4$，$x^5$等等。\n",
    "\n",
    "这里的思想是把它们组合在一起，全部加起来，来得到某x的函数。  \n",
    "\n",
    "这是微积分的又一部分内容——关于**无穷级数（infinite series）**。"
   ]
  },
  {
   "cell_type": "markdown",
   "metadata": {},
   "source": [
    "## 什么叫把它们($1,x,x^2,...$)组合起来？\n",
    "\n",
    "我的意思是，用一些数乘以这些幂，这些数字记作$a_0,a_1,a_2,...a_n$：\n",
    "$$f(x) = a_0 + a_1 x +a_2 x^2 + a_3 x^3 + ... $$\n",
    "\n",
    "这就得到一个函数，我们记作$f(x)$。 \n",
    "\n",
    "这就是我这一讲的方法了。"
   ]
  },
  {
   "cell_type": "markdown",
   "metadata": {},
   "source": [
    "----"
   ]
  },
  {
   "cell_type": "markdown",
   "metadata": {},
   "source": [
    "这个其实我们在讲$e^x$时讲过，回想一下$e^x$的级数是怎样的？  \n",
    "\n",
    "$$ e^x = 1+x+\\frac{1}{2}x^2 + \\frac{1}{3!}x^3 + ... \\frac{1}{n!}x^n$$"
   ]
  },
  {
   "cell_type": "markdown",
   "metadata": {},
   "source": [
    "我计划这样，我要找一些a来**匹配**，在x=0处的函数值，导数值，二阶导数值，三阶导数值...诸如此类。 "
   ]
  },
  {
   "cell_type": "markdown",
   "metadata": {},
   "source": [
    "<img src='./images/euler_001.png' width='70%'/>"
   ]
  },
  {
   "cell_type": "markdown",
   "metadata": {},
   "source": [
    "每一个a，比如$a_3$，其选取在x=0处，必须使得等式右侧导数值正确，三阶导数值正确等等。  \n",
    "\n",
    "这就是**泰勒级数 Taylor's Series**。  \n",
    "\n",
    "这种级数就称作**泰勒级数**。  \n"
   ]
  },
  {
   "cell_type": "markdown",
   "metadata": {},
   "source": [
    "我这里只关心$x=0$的这些值。"
   ]
  },
  {
   "cell_type": "markdown",
   "metadata": {},
   "source": [
    "-----"
   ]
  },
  {
   "cell_type": "markdown",
   "metadata": {},
   "source": [
    "对于$e^x$，其所有阶导数都一样，都还是$e^x$。  \n",
    "\n",
    "而且在x=0时，它们都为1。   \n",
    "\n",
    "因此，函数$e^x$任意阶导数必然算出来都是1。\n",
    "\n",
    "这倒并不是说所有的a都必须为1，为何？   \n",
    "\n",
    "因为，比如我求这一项$a_3 x^3$的导数，$x^3$的一阶导是$3x^2$，二阶导是$6x$，三阶导是$6$，这不等于1，因此$a_3 = \\frac{1}{6}$，这才能得到正确的1。"
   ]
  },
  {
   "cell_type": "markdown",
   "metadata": {},
   "source": [
    "我还是写下来吧。 \n",
    "\n",
    "我们刚才做的是求导$x^n$，$x^n$的n阶导数是多少？  \n",
    "\n",
    "这就需要用到导数的公式了。 \n"
   ]
  },
  {
   "cell_type": "markdown",
   "metadata": {},
   "source": [
    "$$y = x^n$$\n",
    "$$ y'=n x^{n-1}$$\n",
    "$$ y'' = n(n-1) x^{n-2}$$\n",
    "$$ y''' = n(n-1)(n-1) x^{n-3}$$\n",
    "...    \n",
    "\n",
    "n次求导之后，得到什么？  \n",
    "\n",
    "最终得到x的零次方，一个常数。   \n",
    "\n",
    "这个常数是多少？  \n",
    "\n",
    "这个常数是$n(n-1)(n-2)(n-3)...(1) = n!$\n",
    "\n"
   ]
  },
  {
   "cell_type": "markdown",
   "metadata": {},
   "source": [
    "$n!$就是$x^n$求n次导数之后的结果。"
   ]
  },
  {
   "cell_type": "markdown",
   "metadata": {},
   "source": [
    "所以，对于特定函数$e^x$，我可以写出它的级数，所有这些导数必须都得到1，但x的幂弄了一堆$n!$出来。   \n",
    "因此这些a需要除以n!。   "
   ]
  },
  {
   "cell_type": "markdown",
   "metadata": {},
   "source": [
    "----"
   ]
  },
  {
   "cell_type": "markdown",
   "metadata": {},
   "source": [
    "我们回忆下$e^x$的级数，然后看一些新的函数。   \n",
    "\n",
    "这才是这一讲的目标。  "
   ]
  },
  {
   "cell_type": "markdown",
   "metadata": {},
   "source": [
    "先看看$e^x$。  \n",
    "\n",
    "这和原来的方法稍有不同，但不失为一种好方法。\n",
    "\n",
    "$$e^x = a_0 + a_1 x + a_2 x^2 + a_3 x^3 +...+a_n x^n$$\n",
    "它在x=0时，$e^0 = 1$，故$a_0 = 1$；   \n",
    "$x$的一阶导也是1，除以$1!$，也就是得到$a_1 =1$；   \n",
    "$x^2$的二阶导是2，所以需要除以2，也就是得到$a_2 = \\frac{1}{2}$；  \n",
    "$x^3$的三阶导是$3!=6$，所以需要除以6，也就是得到$a_3=\\frac{1}{3!}$；   \n",
    "...    \n",
    "通项$a_n x^n$的n阶导数为$n!$，所以需要除以$n!$，也就是得到$a_n = \\frac{1}{n!}$；  \n"
   ]
  },
  {
   "cell_type": "markdown",
   "metadata": {},
   "source": [
    "所以，这里的方法是，在x=0处匹配导数值，通过x的各次幂。\n",
    "\n",
    "详细如下：\n",
    "$$ (e^x)' = (a_0 + a_1 x + a_2 x^2 + a_3 x^3 +...+ a_n x^n )'$$\n",
    "$$= a_1 +a_2 2x + a_3 3x^2 +... a_n n x^{n-1} = 1$$\n",
    "x=0时，$e^0=1$，故$a_1 =1$； \n",
    "\n",
    "下面对$e^x$进行二阶求导得到：\n",
    "$$ (e^x)'' = a_2*2 + a_3 * 6x + ...+a_n *n*(n-1) x^{n-2} = 1$$\n",
    "x=0时，$e^0 =1$，故$a_2*2 = 1$，得到$a_2 = \\frac{1}{2}$$\n",
    "\n",
    "... \n",
    "详细的说明以此类推。"
   ]
  },
  {
   "cell_type": "markdown",
   "metadata": {},
   "source": [
    "----"
   ]
  },
  {
   "cell_type": "markdown",
   "metadata": {},
   "source": [
    "下面准备看一个新的函数。  \n",
    "\n",
    "$\\sin x$是个很好的选择。  \n",
    " \n",
    "下面重新找一个函数，不再用$e^x$，新的函数是$\\sin x$。 \n",
    "\n",
    "我先来求一下它的各阶导。\n"
   ]
  },
  {
   "cell_type": "markdown",
   "metadata": {},
   "source": [
    "$$(\\sin x)'=\\cos x$$\n",
    "$$(\\sin x)'' = -\\sin x$$\n",
    "$$(\\sin x)''' = -\\cos x$$\n",
    "$$(\\sin x)'''' = \\sin x$$\n",
    "无限循环下去..."
   ]
  },
  {
   "cell_type": "markdown",
   "metadata": {},
   "source": [
    "这就是$\\sin x$的各阶导数。"
   ]
  },
  {
   "cell_type": "markdown",
   "metadata": {},
   "source": [
    "下面，代入x=0，我想知道0处的所有导数值。  \n",
    "\n",
    "级数是在x=0附近展开得到的，因此x=0处，代入求解很容易。  \n",
    "\n",
    "$$ \\sin 0 =0, \\cos 0 = 1, -\\sin 0 = 0, -\\cos 0 = -1$$\n"
   ]
  },
  {
   "cell_type": "markdown",
   "metadata": {},
   "source": [
    "<img src='./images/euler_002.png' width='70%'/>"
   ]
  },
  {
   "cell_type": "markdown",
   "metadata": {},
   "source": [
    "0，1，0，-1，...     \n",
    "这些就是需要匹配的导数值。  "
   ]
  },
  {
   "cell_type": "markdown",
   "metadata": {},
   "source": [
    "现在就可以构建匹配的幂级数了。\n",
    "\n",
    "$\\sin x$展开为幂级数，它等于什么？  \n",
    "$$\\sin x=a_0 + a_1 x + a_2 x^2 + a_3 x^3 + ... + a_n x^n$$\n",
    "\n"
   ]
  },
  {
   "cell_type": "markdown",
   "metadata": {},
   "source": [
    "$$y=(\\sin x) = a_0 + a_1 x + a_2 x^2 + a_3 x^3 + ... + a_n x^n$$\n",
    "$$y' = \\cos x = a_1 + a_2 * 2 x + a_3*3 x^2 + ... a_n * n x^{n-1}$$\n",
    "当x=0时，$y=\\sin x = 0$，即$a_0=0$；  \n",
    "当x=0时，$y'=\\cos x=1 $，即$a_1 = 1$；  \n",
    "\n",
    "\n",
    "$$ y'' =-\\sin x = a_2 * 2 + a_3*3*2x + ... a_n * n*(n-1) x^{n-2}$$\n",
    "当x=0时，$y'' = -\\sin x= 0$，即$a_2 = 0$；  \n",
    "\n",
    "\n",
    "$$ y''' = -\\cos x = a_3*3*2 + .... a_n*n*(n-1)*(n-2) x^{n-3}$$\n",
    "当x=0时，$y''' = -\\cos x = -1$，即$a_3*3*2 = -1$，得到$a_3 = -\\frac{1}{3!}$\n",
    "\n",
    "\n",
    "$$ y '''' = \\sin x = a_4*4*3*2 + ... a_n(n)(n-1)(n-2)(n-3) x^{n-4}$$\n",
    "当x=0时，$y''''=\\sin x = 0$，即$a_4 = 0$；    \n"
   ]
  },
  {
   "cell_type": "markdown",
   "metadata": {},
   "source": [
    "以此类推，得到各项$a_n$，建立0点附近的幂级数。\n",
    "\n",
    "最终得到：\n",
    "$$ \\sin x = x -\\frac{1}{3!} x^3 + \\frac{1}{5!} x^5 - \\frac{1}{7!} x^7 + \\frac{1}{9!}x^9 - $$"
   ]
  },
  {
   "cell_type": "markdown",
   "metadata": {},
   "source": [
    "构成$\\sin x$的项都是奇次幂，因为$\\sin x$是奇函数。  \n",
    "\n",
    "如果将x变成-x，那么函数值也将反号。 \n",
    "\n",
    "我猜，如果代入$x=\\pi$，代入无穷级数，结果得到$\\pi - \\frac{1}{6} (\\pi)^3 + \\frac{1}{120}(\\pi)^5 ...$，这太荒唐了。  \n",
    "\n",
    "但我们知道，结果肯定是$\\sin \\pi = 0 $。 \n",
    "\n",
    "我就不算了，但这必然成立。"
   ]
  },
  {
   "cell_type": "markdown",
   "metadata": {},
   "source": [
    "好，这就是正弦函数，而且是奇级数，很好的例子。"
   ]
  },
  {
   "cell_type": "markdown",
   "metadata": {},
   "source": [
    "-----"
   ]
  },
  {
   "cell_type": "markdown",
   "metadata": {},
   "source": [
    "然后，它的孪生兄弟就要登场了——余弦函数$\\cos x$。   \n",
    "\n"
   ]
  },
  {
   "cell_type": "markdown",
   "metadata": {},
   "source": [
    "余弦函数的级数是什么？  \n",
    "\n",
    "大家知道，x=0处斜率是1，关于$\\sin x$这很重要，斜率为1。  \n",
    "那么余弦函数呢？  \n",
    "\n"
   ]
  },
  {
   "cell_type": "markdown",
   "metadata": {},
   "source": [
    "$$f(x) = \\cos x = a_0 + a_1 x + a_2 x^2 + a_3 x^3 + ... + a_n x^n$$\n",
    "下面是各阶导数：\n",
    "$$f' = -\\sin x = a_1 + a_2* 2x + a_3 * 3 x^2 + ... +a_n*n x^{n-1}$$\n",
    "$$f'' = -\\cos =2a_2 + a_3*3*2x + ... + a_n * n*(n-1) x^{n-2}$$\n",
    "$$f''' = \\sin x = 6a_3 + ... a_n*n*(n-1)(n-2) x^{n-3}$$\n",
    "$$f'''' = \\cos x = 4! a_4 + ... + a_n*n*(n-1)(n-2)(n-3) x^{n-4}$$\n",
    "...    \n",
    "\n",
    "当x=0时，$f(x) = \\cos 0 = 1$，即$a_0 = 1$；\n",
    "\n",
    "当x=0时，$f' = -\\sin 0 = 0$，即$a_1=0$；   \n",
    "\n",
    "当x=0时，$f'' = -\\cos 0 = -1$，即$a_2 = -\\frac{1}{2}$；   \n",
    "\n",
    "当x=0时，$f''' = \\sin 0 = 0$，即$a_3 = 0$；  \n",
    "\n",
    "当x=0时，$f'''' = \\cos 0 = 1$，即$a_4 = \\frac{1}{4!}$；\n",
    "\n",
    "...\n",
    "\n",
    "以此类推，最后得到$\\cos x$的级数项。"
   ]
  },
  {
   "cell_type": "markdown",
   "metadata": {},
   "source": [
    "$$ \\cos x =1-\\frac{1}{2!} x^2 + \\frac{1}{4!} x^4 - \\frac{1}{6!} x^6 + \\frac{1}{8!}x^8 - $$"
   ]
  },
  {
   "cell_type": "markdown",
   "metadata": {},
   "source": [
    "构成$\\cos x$的级数项都是偶次幂，因此它是偶函数。  \n",
    "\n",
    "这表示$$\\cos (-x) = \\cos x$$\n",
    "\n",
    "这对函数的奇偶性又提供了一种见解。"
   ]
  },
  {
   "cell_type": "markdown",
   "metadata": {},
   "source": [
    "**其中正弦函数sine是奇函数的完美例子。**\n",
    "\n",
    "**而余弦函数cosine是偶函数的完美例子。** \n",
    "\n"
   ]
  },
  {
   "cell_type": "markdown",
   "metadata": {},
   "source": [
    "但这太多太复杂。  \n",
    "如果将级数拦腰截断，会如何？  \n",
    "\n",
    "只保留前面的项，看看都代表什么？  \n",
    "\n",
    "**假设只取到线性项之前（即最多取到1+x之前，后面的多次幂项均不取），得到什么？  **\n",
    "\n",
    "在$\\sin x = x$中，这个单独的x表示什么？   \n",
    "其实是0+x，因为0是常数项。  \n",
    "这是线性近似，这给出了切线的方程。  \n",
    "$y =x$，斜率为1。"
   ]
  },
  {
   "cell_type": "markdown",
   "metadata": {},
   "source": [
    "还有更有趣的，把$\\cos x$的级数项切断，只保留$\\cos x = 1- \\frac{1}{2!} x^2$，这是很重要的估值，这不是完全准确的$\\cos$，$\\cos$还包括后面所有这些项。  \n",
    "\n",
    "别忘了，我一开始应该就提醒大家的，n的阶乘增长飞快，而我们讨论的所有这些级数，多亏$n!$增长如此之快，而且作为分母，取任意的x，最后才能得到合理的结果。   \n",
    "如果取$x=\\pi$，正弦级数结果是0，如果往余弦级数代入$x=\\pi$会得到什么，如果往余弦级数里代入$\\pi$，耐心多算几项，结果会在$\\cos \\pi$附近，也就是-1。   \n",
    "这个-1还真不容易看出来，$1-\\frac{1}{2!} (\\pi)^2$，结果是-3.9348。"
   ]
  },
  {
   "cell_type": "code",
   "execution_count": 1,
   "metadata": {},
   "outputs": [
    {
     "data": {
      "text/plain": [
       "-3.934802200544679"
      ]
     },
     "execution_count": 1,
     "metadata": {},
     "output_type": "execute_result"
    }
   ],
   "source": [
    "import math\n",
    "1- 0.5*pow(math.pi,2)"
   ]
  },
  {
   "cell_type": "markdown",
   "metadata": {},
   "source": [
    "但它们会互相抵消，变得很小，最终得到答案，-1。  \n"
   ]
  },
  {
   "cell_type": "markdown",
   "metadata": {},
   "source": [
    "---"
   ]
  },
  {
   "cell_type": "markdown",
   "metadata": {},
   "source": [
    "正弦级数和余弦级数，这两个级数非常重要。   \n",
    "\n",
    "下面我准备讲伟大的欧拉公式了。   \n",
    "\n",
    "伟大的欧拉公式，它将这三个级数联系起来。   \n",
    "\n",
    "为了讲清这种关联，我需要引入**虚数i**的概念。   \n"
   ]
  },
  {
   "cell_type": "markdown",
   "metadata": {},
   "source": [
    "## 虚数i\n",
    "虚数的虚(imaginary)，在英语中那个同“假想的”“想象中的”是一个词源为imagine(想象)，虚数在英语中其实是“假想出来的数”。\n"
   ]
  },
  {
   "cell_type": "markdown",
   "metadata": {},
   "source": [
    "想象有这么个i，大家应该都知道它是什么吧。  \n",
    "\n",
    "即，假设i的平方为-1，即$i^2 = -1$。  \n",
    "\n",
    "众所周知，没有这样的实数。  \n",
    "\n",
    "实数的平方必然大于等于0。   \n",
    "\n",
    "于是人们就发明这个符号i，规定任何时刻碰到i的平方，可以当-1处理。  \n",
    "\n",
    "\n",
    "\n"
   ]
  },
  {
   "cell_type": "markdown",
   "metadata": {},
   "source": [
    "那么，欧拉公式又是什么呢？  \n",
    "\n",
    "欧拉公式的伟大之处在于，将这些$e^x$指数级数中的x考虑为虚数，将x看作ix，于是就得到虚数。\n",
    "\n",
    "指数级数：\n",
    "$$ e^x = 1+x+\\frac{1}{2}x^2 + \\frac{1}{3!}x^3 + ... \\frac{1}{n!}x^n$$\n",
    "\n",
    "取e的ix次方，级数中的x都用ix替换掉，试试，将x虚数化。\n",
    "\n",
    "$$ e^{ix} = 1+{ix}+\\frac{1}{2}(ix)^2 + \\frac{1}{3!}(ix)^3 + ... \\frac{1}{n!}(ix)^n$$"
   ]
  },
  {
   "cell_type": "markdown",
   "metadata": {},
   "source": [
    "下面是关键，下面观察一下，这一堆指数级数项，我要分离出实数的部分和虚数的部分。    \n",
    "\n",
    "我要将其分成**实部和虚部**。   \n",
    "\n",
    "$e^{ix}$级数中，哪部分是实的？   \n",
    "可以看到1显然是实数，你能看出下一个实数吗？   \n",
    "$i^2 = -1$，所以$\\frac{1}{2}(ix)^2$即为$-\\frac{1}{2} x^2$。\n",
    "... \n",
    "以此类推，得到\n",
    "\n",
    "$$ e^{ix} = 1+{ix}+\\frac{1}{2}(ix)^2 + \\frac{1}{3!}(ix)^3 + ... \\frac{1}{n!}(ix)^n$$\n",
    "$$ =( 1-\\frac{1}{2} x^2 + \\frac{1}{4!} x^4 - \\frac{1}{6!}x^6 + \\frac{1}{8!}x^8+ ...)+i(x-\\frac{1}{3!} x^3 + \\frac{1}{5!} x^5-... )$$"
   ]
  },
  {
   "cell_type": "markdown",
   "metadata": {},
   "source": [
    "式子的左侧为实部，右侧为虚部。"
   ]
  },
  {
   "cell_type": "markdown",
   "metadata": {},
   "source": [
    "正弦级数和余弦级数：\n",
    "$$ \\cos x =1-\\frac{1}{2!} x^2 + \\frac{1}{4!} x^4 - \\frac{1}{6!} x^6 + \\frac{1}{8!}x^8 - $$\n",
    "\n",
    "$$ \\sin x = x -\\frac{1}{3!} x^3 + \\frac{1}{5!} x^5 - \\frac{1}{7!} x^7 + \\frac{1}{9!}x^9 - $$"
   ]
  },
  {
   "cell_type": "markdown",
   "metadata": {},
   "source": [
    "将上面$e^{ix}$级数的实部和虚部分开，根据式子对比发现，左侧的实部即为余弦级数，右侧的虚部即为正弦级数*i。   \n",
    "\n",
    "所以：\n",
    "$$ e^{ix}  = \\cos x+ i \\sin x$$\n",
    "$$ =( 1-\\frac{1}{2} x^2 + \\frac{1}{4!} x^4 - \\frac{1}{6!}x^6 + \\frac{1}{8!}x^8+ ...)+i(x-\\frac{1}{3!} x^3 + \\frac{1}{5!} x^5-... )$$"
   ]
  },
  {
   "cell_type": "markdown",
   "metadata": {},
   "source": [
    "## 欧拉公式。   \n",
    "\n",
    "实际上，欧拉公式不这么写，$e^{ix} = \\cos x + i \\sin x$，我们也不这样写。   \n",
    "\n",
    "想象这里是余弦和正弦，这里的x其实是角度，因此，更自然的写法是： \n",
    "\n",
    "$$ e^{i \\theta} = \\cos \\theta + i \\sin \\theta$$\n",
    "\n",
    "这才是我们通常见到的形式，用$\\theta$代替x，时刻提醒这里是角度。  \n",
    "\n",
    "下面作图：\n",
    "<img  src='./images/euler_003.png' width='70%'/>"
   ]
  },
  {
   "cell_type": "markdown",
   "metadata": {},
   "source": []
  }
 ],
 "metadata": {
  "kernelspec": {
   "display_name": "Python 3",
   "language": "python",
   "name": "python3"
  },
  "language_info": {
   "codemirror_mode": {
    "name": "ipython",
    "version": 3
   },
   "file_extension": ".py",
   "mimetype": "text/x-python",
   "name": "python",
   "nbconvert_exporter": "python",
   "pygments_lexer": "ipython3",
   "version": "3.6.5"
  }
 },
 "nbformat": 4,
 "nbformat_minor": 2
}
