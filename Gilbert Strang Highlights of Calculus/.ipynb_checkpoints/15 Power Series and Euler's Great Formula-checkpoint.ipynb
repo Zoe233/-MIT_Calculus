{
 "cells": [
  {
   "cell_type": "markdown",
   "metadata": {},
   "source": [
    "# 幂级数和欧拉公式\n",
    "Power Series / Euler's Great Formula"
   ]
  },
  {
   "cell_type": "markdown",
   "metadata": {},
   "source": [
    "这一讲从幂级数入手，讲到了如何求函数幂级数的简单方法，即让函数的各阶导数和幂级数的各阶导数相匹配。   \n",
    "然后由$e^x$，$\\sin x$和$\\cos x$的幂级数，连贯地引出欧拉公式。  \n",
    "\n",
    "$$e^{(i\\theta)} =\\cos \\theta +i \\sin \\theta$$\n",
    "并就此通俗地引入了复数的概念。  \n",
    "\n",
    "课程的最后选讲了两个幂级数：几何级数和对数级数，并诠释了两者间的联系。"
   ]
  },
  {
   "cell_type": "markdown",
   "metadata": {},
   "source": [
    "-----"
   ]
  },
  {
   "cell_type": "markdown",
   "metadata": {},
   "source": [
    "我想今天我要谈到幂级数。\n",
    "\n",
    "幂级数，项都是x的幂，一直下去...\n",
    "\n",
    "$$ 1, x, x^2, x^3, ....$$"
   ]
  },
  {
   "cell_type": "markdown",
   "metadata": {},
   "source": [
    "所有的幂，包括$x^4$，$x^5$等等。\n",
    "\n",
    "这里的思想是把它们组合在一起，全部加起来，来得到某x的函数。  \n",
    "\n",
    "这是微积分的又一部分内容——关于**无穷级数（infinite series）**。"
   ]
  },
  {
   "cell_type": "markdown",
   "metadata": {},
   "source": [
    "## 什么叫把它们($1,x,x^2,...$)组合起来？\n",
    "\n",
    "我的意思是，用一些数乘以这些幂，这些数字记作$a_0,a_1,a_2,...a_n$：\n",
    "$$f(x) = a_0 + a_1 x +a_2 x^2 + a_3 x^3 + ... $$\n",
    "\n",
    "这就得到一个函数，我们记作$f(x)$。 \n",
    "\n",
    "这就是我这一讲的方法了。"
   ]
  },
  {
   "cell_type": "markdown",
   "metadata": {},
   "source": [
    "----"
   ]
  },
  {
   "cell_type": "markdown",
   "metadata": {},
   "source": [
    "这个其实我们在讲$e^x$时讲过，回想一下$e^x$的级数是怎样的？  \n",
    "\n",
    "$$ e^x = 1+x+\\frac{1}{2}x^2 + \\frac{1}{3!}x^3 + ... \\frac{1}{n!}x^n$$"
   ]
  },
  {
   "cell_type": "markdown",
   "metadata": {},
   "source": [
    "我计划这样，我要找一些a来**匹配**，在x=0处的函数值，导数值，二阶导数值，三阶导数值...诸如此类。 "
   ]
  },
  {
   "cell_type": "markdown",
   "metadata": {},
   "source": [
    "<img src='./images/euler_001.png' width='70%'/>"
   ]
  },
  {
   "cell_type": "markdown",
   "metadata": {},
   "source": [
    "每一个a，比如$a_3$，其选取在x=0处，必须使得等式右侧导数值正确，三阶导数值正确等等。  \n",
    "\n",
    "这就是**泰勒级数 Taylor's Series**。  \n",
    "\n",
    "这种级数就称作**泰勒级数**。  \n"
   ]
  },
  {
   "cell_type": "code",
   "execution_count": null,
   "metadata": {},
   "outputs": [],
   "source": []
  }
 ],
 "metadata": {
  "kernelspec": {
   "display_name": "Python 3",
   "language": "python",
   "name": "python3"
  },
  "language_info": {
   "codemirror_mode": {
    "name": "ipython",
    "version": 3
   },
   "file_extension": ".py",
   "mimetype": "text/x-python",
   "name": "python",
   "nbconvert_exporter": "python",
   "pygments_lexer": "ipython3",
   "version": "3.6.5"
  }
 },
 "nbformat": 4,
 "nbformat_minor": 2
}
