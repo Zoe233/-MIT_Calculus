{
 "cells": [
  {
   "cell_type": "markdown",
   "metadata": {},
   "source": [
    "# 线性近似和牛顿法\n",
    "Linear Approximation/ Newton's Method"
   ]
  },
  {
   "cell_type": "markdown",
   "metadata": {},
   "source": [
    "这一讲介绍了微积分的两种应用，深入浅出地讲明白了两种应用的实质，并将两种方法进行了对比讲解，说明了其内涵其实是一样的。  \n",
    "\n",
    "**线性近似**：$f(x)=(x-a)f'(a)+f(a)$，是求函数近似值最简单使用的方法，在各项工程领域均有广泛的应用。  \n",
    "**牛顿法**：是近似解方程的标准方法，目前仍广泛应用于计算器和计算机程序中。"
   ]
  },
  {
   "cell_type": "markdown",
   "metadata": {},
   "source": [
    "-----"
   ]
  },
  {
   "cell_type": "markdown",
   "metadata": {},
   "source": [
    "今天讲两则导数的应用。  \n",
    "\n",
    "第一项应用是：求函数f在x点的近似值f(x)； \n",
    "$$Find \\ \\ f(x)$$\n",
    "\n",
    "第二项应用是：解方程。    \n",
    "下面用大写的$F$表示，表示这里的函数与前面不同。  \n",
    "用$F$将它们区别开来，这就是解方程的问题。\n",
    "$$Solve \\  \\ F(x) = 0$$\n",
    "\n",
    "牛顿给出了方法，经过数个世纪，方法仍然适用。  \n",
    "\n",
    "\n",
    " "
   ]
  },
  {
   "cell_type": "markdown",
   "metadata": {},
   "source": [
    "这基于什么？   \n",
    "两种应用都基于同样的思想。   \n",
    "**假设存在一点，在要求的x附近，在问题的解附近，这一点记作点a，假设我们知道其斜率，知道此点处的导数f'(a)，然后我想通过已知的附近a点处的斜率来逼近解，前面是求f(x)，后面是求x。**\n",
    "\n",
    "\n"
   ]
  },
  {
   "cell_type": "markdown",
   "metadata": {},
   "source": [
    "<img src='./images/newton_001.png' width='90%'/>"
   ]
  },
  {
   "cell_type": "markdown",
   "metadata": {},
   "source": [
    "还记得吧，$\\frac{f(x)-f(a)}{x-1}$就是$\\frac{\\Delta f}{\\Delta x}$。 \n",
    "\n",
    "注意到在不取极限时，x-a，这是两相邻的不同点，相距$\\Delta x$；  \n",
    "f在这些点处的函数值，f的变化量除以x的变化量，这就是x逐渐趋于a点时函数的导数。"
   ]
  },
  {
   "cell_type": "markdown",
   "metadata": {},
   "source": [
    "-----"
   ]
  },
  {
   "cell_type": "markdown",
   "metadata": {},
   "source": [
    "看下面的思想。  \n",
    "\n",
    "我们现在把上图中的等式中的$\\lim$擦掉，那么，此时等号不再存在，变成一个约等号。 \n",
    "\n",
    "$$\\frac{df}{dx} = f'(a) \\simeq \\frac{f(x)-f(a)}{x-a}$$"
   ]
  },
  {
   "cell_type": "markdown",
   "metadata": {},
   "source": [
    "斜率$\\frac{df}{dx}$，它不等于$\\frac{\\Delta f}{\\Delta x}$。\n",
    "\n",
    "但当x接近a，$\\frac{f(x)-f(a)}{x-a}$就会大体上等于该点处的瞬时斜率，这就是我要用到的近似，作为f(x)的近似值。   \n",
    "\n"
   ]
  },
  {
   "cell_type": "markdown",
   "metadata": {},
   "source": [
    "## 对于第一项应用：求函数f在x点的近似值f(x)； \n",
    "## $$Find \\ \\ f(x)$$\n",
    "\n",
    "已知x，我要求的是此点处的f值，那么，根据公式：\n",
    "$$\\frac{df}{dx} = f'(a) \\simeq \\frac{f(x)-f(a)}{x-a}$$\n",
    "\n",
    "转换：\n",
    "$$ f(x) \\simeq f'(a)(x-a) + f(a)$$"
   ]
  },
  {
   "cell_type": "markdown",
   "metadata": {},
   "source": [
    "----"
   ]
  },
  {
   "cell_type": "markdown",
   "metadata": {},
   "source": [
    "下面稍微讲一下这个公式，然后来点例子。  \n",
    "\n",
    "如果想求附近某点处的函数f值，一个好的办法是，使用这种线性近似。 \n",
    "\n",
    "使用线性近似，是因为这个的图像是一条直线。  \n",
    "\n",
    "这里是直线的形式，而不是曲线。  \n",
    "\n",
    "这就是今天这一讲要传达的信息--**沿直线**。"
   ]
  },
  {
   "cell_type": "markdown",
   "metadata": {},
   "source": [
    "这是一条从x=a开始的直线，它斜率同f一样，即f'(a)，如果离得不太远，曲线离f曲线也不会太远。 "
   ]
  },
  {
   "cell_type": "markdown",
   "metadata": {},
   "source": [
    "----"
   ]
  },
  {
   "cell_type": "markdown",
   "metadata": {},
   "source": [
    "等下再来讲例子。  \n",
    "\n",
    "再讲讲上面式子对应的思想。  \n",
    "\n",
    "## 第二项应用是：解方程。    \n",
    "下面用大写的$F$表示，表示这里的函数与前面不同。  \n",
    "用$F$将它们区别开来，这就是解方程的问题。\n",
    "## $$Solve \\  \\ F(x) = 0$$\n",
    "\n",
    "找出它对应的公式，以帮助求这个方程的近似解，与第一项应用有何不同？  \n",
    "\n",
    "现在，我要求的是x，而F(x)是已知的，已知F(x)=0。  \n",
    "\n",
    "看式子，换成大写的F:\n",
    "$$ F'(a)\\simeq \\frac{F(x)-F(a)}{x-a}$$\n",
    "F(x)已知为0，x是未知数。\n",
    "还是像原来那样把等式整理一下，则得到：\n",
    "$$ x-a \\simeq  \\frac{F(x)-F(a)}{F'(a)}= \\frac{0-F(a)}{F'(a)}=-\\frac{F(a)}{F'(a)}$$"
   ]
  },
  {
   "cell_type": "markdown",
   "metadata": {},
   "source": [
    "这就是牛顿的办法了。  \n",
    "\n",
    "牛顿Newton 和 拉夫逊Raphson 将它推广到一般函数。  \n",
    "\n",
    "当x和a相距不远，可以得到很近似的答案。\n",
    "\n",
    "待会，大家会看到一些图示。  \n",
    "\n"
   ]
  },
  {
   "cell_type": "markdown",
   "metadata": {},
   "source": [
    "----"
   ]
  },
  {
   "cell_type": "markdown",
   "metadata": {},
   "source": [
    "下面开始讲**近似**的例子。 \n",
    "\n",
    "### 线性近似的例子\n",
    "\n",
    "### 例1：求平方根。  \n",
    "\n",
    "我的问题是求近似地求根号下9.06，稍微偏离9这个值。\n",
    "\n",
    "##  $$ Find \\ \\sqrt{9.06}$$"
   ]
  },
  {
   "cell_type": "markdown",
   "metadata": {},
   "source": [
    "这怎么应用刚才的方法。  \n",
    "\n",
    "这里函数是平方根函数，$f(x) = \\sqrt x=x^{\\frac{1}{2}}$。  \n",
    "\n",
    "其导数$f^{-1} = \\frac{1}{2\\sqrt {x}} $"
   ]
  },
  {
   "cell_type": "markdown",
   "metadata": {},
   "source": [
    "知道了函数，知道了导数。  \n",
    "\n",
    "**然后选取附近且简单的点a。**\n",
    "\n",
    "附近：表示离点9.06不远的点；   \n",
    "简单：表示其平方根要好求。   \n",
    "\n",
    "因此，要选的点是a=9。   \n"
   ]
  },
  {
   "cell_type": "markdown",
   "metadata": {},
   "source": [
    "因此9的平方根正解是3，$f'(a) = \\frac{1}{6}$；  \n"
   ]
  },
  {
   "cell_type": "markdown",
   "metadata": {},
   "source": [
    " <img src='./images/newton_002.png'/>"
   ]
  },
  {
   "cell_type": "markdown",
   "metadata": {},
   "source": [
    "3.01就是$\\sqrt{ 9.06}$的近似值。  \n",
    "\n",
    "比3更精确。  \n",
    "\n",
    "这是沿着直线得到的。\n"
   ]
  },
  {
   "cell_type": "markdown",
   "metadata": {},
   "source": [
    "-----"
   ]
  },
  {
   "cell_type": "markdown",
   "metadata": {},
   "source": [
    "\n",
    "作个图告诉大家，“沿直线”是什么意思？  \n",
    "\n",
    "### “沿直线”的意思\n",
    " \n",
    "我如何逼近$\\sqrt{9.06}$呢？ \n",
    "我不打算沿曲线逼近，算出$\\sqrt{9.06}$的精确值，没必要算的比计算器还准确。  \n",
    "\n",
    "我只打算沿着这条直线，$f(x) \\simeq f(a) + (x-a)f'(a)$，这是一条切线，它通过我们曲线上的a点，斜率也和曲线相同。   \n",
    "\n",
    "从图上可以看到，沿着直线，x=9时，对应的f(a)=3；  \n",
    "从9到9.06之间有一小段，非常小的一段，肉眼几乎无法辨识，我选取直线上这一点，这个水平$\\Delta x$就是0.06，而这个$\\Delta f$就是加在后面的修正0.01。  \n",
    "这个$\\Delta f$怎么来的？  \n",
    "由于函数这一点的斜率是$\\frac{1}{6}$，水平移动0.06，向上就是0.01。   \n",
    "$\\Delta f = (9.06-9)*\\frac{1}{6}$    \n",
    "我这里做的，就是取这个点，作为比3更精确的$\\sqrt{9.06}$的近似值。  \n",
    "\n",
    " <img src='./images/newton_003.png'/>"
   ]
  },
  {
   "cell_type": "markdown",
   "metadata": {},
   "source": [
    "----"
   ]
  },
  {
   "cell_type": "markdown",
   "metadata": {},
   "source": [
    "### 例2：牛顿法的例子\n",
    "还是用前面那个问题，函数选$x^2 -9.06$，然后令它为0。 \n",
    "$$ F(x) = x^2 - 9.06$$ \n",
    "\n",
    "### $$ Solve \\ F(x) = x^2 - 9.06=0$$"
   ]
  },
  {
   "cell_type": "markdown",
   "metadata": {},
   "source": [
    "我想保证两个例子的相似性，因为两个问题其实都是求9.06的平方根。  \n"
   ]
  },
  {
   "cell_type": "markdown",
   "metadata": {},
   "source": [
    "显然，$\\sqrt {9.06}$是方程的一个解。  \n",
    "\n",
    "还是在解附近取一个点a，a可以取3，3很接近于正确解。  \n",
    "\n",
    "正确的x是$\\sqrt {9.06}$，a离它很近了。  \n",
    "\n",
    "$$ x-a \\simeq  \\frac{F(x)-F(a)}{F'(a)}= \\frac{0-F(a)}{F'(a)}=-\\frac{F(a)}{F'(a)}$$\n",
    "\n",
    "a点处，求出F(a)和F'(a)。    \n",
    "$$F(a) = 9-9.06=-0.06$$ \n",
    "$$F'(a) = 2*3 = 6$$  "
   ]
  },
  {
   "cell_type": "markdown",
   "metadata": {},
   "source": [
    "下面绘制F(x)的图像。  \n",
    "\n",
    "<img src='./images/newton_004.png' width='90%'/>"
   ]
  },
  {
   "cell_type": "markdown",
   "metadata": {},
   "source": [
    "我不打算求它的精确解，我只想在附近找一点3，点3处精确值是已知的，斜率也是已知的。   \n",
    "\n",
    "想想解x处的改进是怎样的？   \n",
    "改进的近似值，不沿曲线求解，这过于精确，但要求太高。  \n",
    "我沿这条斜率为6，穿过点(3,-0.06)的直线，使得直线函数$6(x-3)-0.06$为0的x，这就是更好的x。  \n",
    "\n",
    "<img src='./images/newton_005.png' width='30%'/>"
   ]
  },
  {
   "cell_type": "markdown",
   "metadata": {},
   "source": [
    "根据牛顿公式：\n",
    "$$ x-a = x-3 = -\\frac{F(a)}{F'(a)} = \\frac{0.06}{6}$$\n",
    "$$ x-a = 0.01$$\n",
    "$$ x = a+0.01 = 3.01$$"
   ]
  },
  {
   "cell_type": "markdown",
   "metadata": {},
   "source": [
    " "
   ]
  },
  {
   "cell_type": "markdown",
   "metadata": {},
   "source": []
  },
  {
   "cell_type": "markdown",
   "metadata": {},
   "source": []
  }
 ],
 "metadata": {
  "kernelspec": {
   "display_name": "Python 3",
   "language": "python",
   "name": "python3"
  },
  "language_info": {
   "codemirror_mode": {
    "name": "ipython",
    "version": 3
   },
   "file_extension": ".py",
   "mimetype": "text/x-python",
   "name": "python",
   "nbconvert_exporter": "python",
   "pygments_lexer": "ipython3",
   "version": "3.6.5"
  }
 },
 "nbformat": 4,
 "nbformat_minor": 2
}
