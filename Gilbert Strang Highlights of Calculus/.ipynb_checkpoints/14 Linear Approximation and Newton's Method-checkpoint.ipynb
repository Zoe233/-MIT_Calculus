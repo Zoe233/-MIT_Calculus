{
 "cells": [
  {
   "cell_type": "markdown",
   "metadata": {},
   "source": [
    "# 线性近似和牛顿法\n",
    "Linear Approximation/ Newton's Method"
   ]
  },
  {
   "cell_type": "markdown",
   "metadata": {},
   "source": [
    "这一讲介绍了微积分的两种应用，深入浅出地讲明白了两种应用的实质，并将两种方法进行了对比讲解，说明了其内涵其实是一样的。  \n",
    "\n",
    "**线性近似**：$f(x)=(x-a)f'(a)$，是求函数近似值最简单使用的方法，在各项工程领域均有广泛的应用。  \n",
    "**牛顿法**：是近似解方程的标准方法，目前仍广泛应用于计算器和计算机程序中。"
   ]
  },
  {
   "cell_type": "markdown",
   "metadata": {},
   "source": [
    "-----"
   ]
  },
  {
   "cell_type": "markdown",
   "metadata": {},
   "source": [
    "今天讲两则导数的应用。  \n",
    "\n",
    "第一项应用是：求函数f在x点的近似值f(x)； \n",
    "$$Find \\ \\ f(x)$$\n",
    "\n",
    "第二项应用是：解方程。    \n",
    "下面用大写的$F$表示，表示这里的函数与前面不同。  \n",
    "用$F$将它们区别开来，这就是解方程的问题。\n",
    "$$Solve \\  \\ F(x) = 0$$\n",
    "\n",
    "牛顿给出了方法，经过数个世纪，方法仍然适用。  \n",
    "\n",
    "\n",
    " "
   ]
  },
  {
   "cell_type": "markdown",
   "metadata": {},
   "source": [
    "这基于什么？   \n",
    "两种应用都基于同样的思想。   \n",
    "**假设存在一点，在要求的x附近，在问题的解附近，这一点记作点a，假设我们知道其斜率，知道此点处的导数f'(a)，然后我想通过已知的附近a点处的斜率来逼近解，前面是求f(x)，后面是求x。**\n",
    "\n",
    "\n"
   ]
  },
  {
   "cell_type": "markdown",
   "metadata": {},
   "source": []
  },
  {
   "cell_type": "markdown",
   "metadata": {},
   "source": []
  },
  {
   "cell_type": "markdown",
   "metadata": {},
   "source": []
  },
  {
   "cell_type": "markdown",
   "metadata": {},
   "source": []
  },
  {
   "cell_type": "markdown",
   "metadata": {},
   "source": []
  },
  {
   "cell_type": "markdown",
   "metadata": {},
   "source": []
  },
  {
   "cell_type": "markdown",
   "metadata": {},
   "source": []
  },
  {
   "cell_type": "markdown",
   "metadata": {},
   "source": []
  },
  {
   "cell_type": "markdown",
   "metadata": {},
   "source": []
  },
  {
   "cell_type": "markdown",
   "metadata": {},
   "source": []
  }
 ],
 "metadata": {
  "kernelspec": {
   "display_name": "Python 3",
   "language": "python",
   "name": "python3"
  },
  "language_info": {
   "codemirror_mode": {
    "name": "ipython",
    "version": 3
   },
   "file_extension": ".py",
   "mimetype": "text/x-python",
   "name": "python",
   "nbconvert_exporter": "python",
   "pygments_lexer": "ipython3",
   "version": "3.6.5"
  }
 },
 "nbformat": 4,
 "nbformat_minor": 2
}
