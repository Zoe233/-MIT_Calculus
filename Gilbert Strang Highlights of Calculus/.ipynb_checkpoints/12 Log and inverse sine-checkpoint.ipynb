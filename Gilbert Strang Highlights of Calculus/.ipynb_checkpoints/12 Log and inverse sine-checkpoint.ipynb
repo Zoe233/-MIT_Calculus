{
 "cells": [
  {
   "cell_type": "markdown",
   "metadata": {},
   "source": [
    "# Lec 12: 对数函数和反三角函数的导数\n",
    "Derivatives of ln y and $\\sin^{-1}(y)$"
   ]
  },
  {
   "cell_type": "markdown",
   "metadata": {},
   "source": [
    "之前我们介绍了对数，它是指数函数的逆函数。  \n",
    "\n",
    "现在，我们将引入微积分，求对数的导数。  \n",
    "\n",
    "我们还要讨论一些其它的一些逆函数，比如$sin$的逆函数，有时也记作$\\arcsin$，我们也会求出它的导数。  \n",
    "\n",
    "我们现在所做的是，大体列出导数的所有重要法则。    \n",
    "我们会求和的导数，直接将导数相加即可。  \n",
    "减法的导数就是导数做减法，乘法法则我们也知道，还有除法法则。  \n",
    "这就是求导的四则运算了。  \n",
    "然后最最重要的就是，链式法则了。  \n",
    "下面还要加上一个，f的逆函数。   \n",
    "\n",
    "这就是今天的话题，**逆函数的求导**，将完成这个求导法则的列表。  \n",
    "\n",
    "通过一些简单函数，像指数函数、三角函数、幂函数，这些法则可以料理出所有常用的函数。  \n",
    "\n"
   ]
  },
  {
   "cell_type": "markdown",
   "metadata": {},
   "source": [
    "|公式表达式|求导公式|文字备注|\n",
    "|:-:|:-:|:-:|\n",
    "|f(x)+g(x)|f'(x)+g'(x)|求和的导数，直接将导数相加|\n",
    "|f(x)-g(x)|f'(x)-g'(x)|减法的导数，直接将导数相加|\n",
    "|f(x)g(x)|f(x)g'(x) + f'(x)g(x)|乘法法则|\n",
    "|$\\frac{f(x)}{g(x)}$|$\\frac{f'(x)g(x)-f(x)g'(x)}{(g(x))^2}$|除法法则|\n",
    "|f(g(x))|f'(g(x))g'(x)|链式法则|\n",
    "|$f^{-1}(x)$||逆函数的求导|"
   ]
  },
  {
   "cell_type": "code",
   "execution_count": null,
   "metadata": {},
   "outputs": [],
   "source": []
  }
 ],
 "metadata": {
  "kernelspec": {
   "display_name": "Python 3",
   "language": "python",
   "name": "python3"
  },
  "language_info": {
   "codemirror_mode": {
    "name": "ipython",
    "version": 3
   },
   "file_extension": ".py",
   "mimetype": "text/x-python",
   "name": "python",
   "nbconvert_exporter": "python",
   "pygments_lexer": "ipython3",
   "version": "3.6.5"
  }
 },
 "nbformat": 4,
 "nbformat_minor": 2
}
