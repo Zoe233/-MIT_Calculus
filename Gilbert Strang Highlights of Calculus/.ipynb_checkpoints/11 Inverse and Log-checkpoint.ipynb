{
 "cells": [
  {
   "cell_type": "markdown",
   "metadata": {},
   "source": [
    "# 逆函数和对数函数\n",
    "Inverse Functions $f^{-1}(y)$ and the Logarithm $x=\\ln y$"
   ]
  },
  {
   "cell_type": "markdown",
   "metadata": {},
   "source": [
    "今天的主题是逆函数， 这是联系两个函数的又一种方式。  \n",
    "\n",
    "逆函数很重要，因为今天要讲的对数函数，就是$e^x$的逆函数。  \n",
    "因此我们必须搞清楚**指数函数和对数函数之间的关系**。  \n",
    "这就是逆函数的思想。   \n",
    "\n",
    "一般$y=f(x)$是函数的标准表示法，而对于逆函数$ x = f^{-1}(y) $  。\n",
    "    "
   ]
  },
  {
   "cell_type": "markdown",
   "metadata": {},
   "source": [
    "**记得什么叫函数吗？**    \n",
    "对于函数f，取x作为输入变量（自变量），函数作用域输入变量，得到输出变量（因变量）。  \n",
    "某种意义上，这就是函数。  \n",
    "它就是一些输入所对应的输出，那么**逆函数是什么？**    \n",
    "把输入变量和输出变量颠倒下，就成了**逆函数**。   \n",
    "y变成输入。  \n",
    "\n",
    "现在的问题是：**什么样的y可以得到x？**   \n",
    "可以通过逆函数实现。\n"
   ]
  },
  {
   "cell_type": "markdown",
   "metadata": {},
   "source": [
    "## 例1： \n",
    "$$ y = x^2$$  \n",
    "这是函数f(x)，f是平方函数。  \n",
    "输入x=3，输出就是y=9。  \n",
    "\n",
    "那么逆函数是多少？  \n",
    "逆函数是通过y得到x，通过平方根可以实现，所以逆函数是\n",
    "$$ x = \\sqrt y $$ \n"
   ]
  },
  {
   "cell_type": "markdown",
   "metadata": {},
   "source": [
    "但是在这个逆函数中，我们无从得知当y=9的时候，是取x=3还是x=-3。  \n",
    "\n",
    "因此这里的关键是：\n",
    "### 函数必须是一一对应的。   \n",
    "\n",
    "一一对应，这个词准确地说明了逆函数的概念，一个x对应一个y，一个y对应一个x。  \n",
    "\n",
    "这时，图像要么一直向上，要么一直向下，不可能上上下下。  \n",
    "$y = x^2$的图像就是下了又上，这是不允许的。  \n"
   ]
  },
  {
   "cell_type": "markdown",
   "metadata": {},
   "source": [
    "下面这些例子是为了引出这一讲的关键内容-- 指数和对数。  \n",
    "$y=f(x)$ and $ x = f^{-1}(y) $  \n",
    "\n",
    "$ y =e^x$ and $x=\\ln y$  \n",
    "$ \\ln (yY) = \\ln y +\\ln Y $   \n",
    "$ \\ln (y^n ) = n \\ln y$"
   ]
  },
  {
   "cell_type": "markdown",
   "metadata": {},
   "source": [
    "# 指数和对数\n"
   ]
  },
  {
   "cell_type": "markdown",
   "metadata": {},
   "source": [
    "\n",
    "关于指数函数的性质，我们知道不少，这些性质通过逆函数，可以得到一些不同的性质--一些对对数非常重要的性质。  \n",
    "\n",
    "$ \\ln (yY) = \\ln y +\\ln Y $   \n",
    "两数乘积的对数，等于两数分别的对数的和。  \n",
    "\n",
    "简单且重要的性质，也是对数备受关注的原因，也是计算尺的基本原理。  \n",
    "（计算尺上有两个标尺，可以用作计算，一个标尺移动到$\\ln y$，第二个衡量$\\ln Y$，于是就能得出乘法的答案。 所以计算尺可以用来作乘法。只是不太精确。这这并不意味着对数不重要了。 只是计算尺过时罢了。）"
   ]
  },
  {
   "cell_type": "markdown",
   "metadata": {},
   "source": [
    "## 例2： \n",
    "想想圆形面积A和半径r的关系，函数的输入是r，面积是$\\pi r^2$，这就是r的函数。  \n",
    "$$ A = \\pi r^2 = f(r) $$"
   ]
  },
  {
   "cell_type": "markdown",
   "metadata": {},
   "source": [
    "输入r，输出A，那么逆函数是什么？  \n",
    "逆函数的输入是A，得到r。  \n",
    "$$ r = \\sqrt {\\frac{A}{\\pi}} = f^{-1} (A)$$ "
   ]
  },
  {
   "cell_type": "markdown",
   "metadata": {},
   "source": [
    "下面作图看看，函数的图像和逆函数的图像之间的关系很简单。  \n",
    " \n",
    "注意，r只能取正数。    \n",
    "![title](./images/inverse_001.png)  "
   ]
  },
  {
   "cell_type": "markdown",
   "metadata": {},
   "source": [
    "函数的图像和逆函数的图像 **互为镜像**，倒了个个。  \n",
    "函数由原来的平方函数，变成了平方根函数。  \n"
   ]
  },
  {
   "cell_type": "markdown",
   "metadata": {},
   "source": [
    "## 例3：  \n",
    "关于温度，温度可以用华氏度F衡量，也可以用摄氏度C衡量。  \n",
    "华氏度和设置度之间的关系是怎么样的呢？   \n",
    "\n",
    "C作为F的函数是：\n",
    "$$ C = \\frac{5}{9}(F-32) $$"
   ]
  },
  {
   "cell_type": "markdown",
   "metadata": {},
   "source": [
    "逆函数$f^{-1}$的式子：\n",
    "$$ F = \\frac{9}{5} C + 32$$\n",
    "\n"
   ]
  },
  {
   "cell_type": "markdown",
   "metadata": {},
   "source": [
    "![title](./images/inverse_002.png)"
   ]
  },
  {
   "cell_type": "markdown",
   "metadata": {},
   "source": [
    "原函数f和逆函数$f^{-1}$都是一条直线，原函数的斜率为$\\frac{5}{9}$，逆函数的斜率为$\\frac{9}{5}$。  \n",
    "这是必然的，一开始是乘法，到了逆函数里，就成了除法。  \n",
    "\n",
    "一个斜率必然是另一个斜率的倒数。  \n",
    "\n",
    "这对直线来说，太简单不过了。  \n"
   ]
  },
  {
   "cell_type": "markdown",
   "metadata": {},
   "source": [
    "## 例4：指数函数\n",
    "本节一直在讲**对数函数**，就是$e^x$的逆函数。  \n",
    "这称为自然对数$\\ln$，这才是我们真正要考虑的对数，写作$\\log$也没问题，因为这里只关心自然对数。  \n",
    "\n",
    "我说它是一个逆函数，也许图像能更清晰地揭示真理。  \n"
   ]
  },
  {
   "cell_type": "markdown",
   "metadata": {},
   "source": [
    "下面先画$e^x$的图像，然后再是其逆函数。  \n",
    "插一句，由于这是微积分课程，下一讲将涉及到它的导数。   \n",
    "$e^x$导数是其本身，这我们已经讲过，这是最基本，也是最重要的一项性质。  \n",
    "\n",
    "之后我们会讲到求导$e^x$的逆函数，即对数函数。"
   ]
  },
  {
   "cell_type": "markdown",
   "metadata": {},
   "source": [
    "<img src='./images/inverse_003.png' width='40%'>"
   ]
  },
  {
   "cell_type": "markdown",
   "metadata": {},
   "source": [
    "上面关于$e^x$的图像，之所以没有越过x=1作图，是因为后面增长太快，指数函数飞了出去，它呈**指数增长**。  \n",
    "\n",
    "那么**对数增长**呢？  \n",
    "这个说法不常见。  \n",
    "什么叫呈对数增长?   \n",
    "它表示一种缓慢爬升，如果说指数函数是飞速增长，那么对数函数就只是缓慢上升了。  \n",
    "\n"
   ]
  },
  {
   "cell_type": "markdown",
   "metadata": {},
   "source": [
    "![title](./images/inverse_004.png)"
   ]
  },
  {
   "cell_type": "markdown",
   "metadata": {},
   "source": [
    "对数增长非常缓慢，但它在持续爬升，它没有顶点。  \n",
    "**大数的对数，会化成小数**。   \n",
    "\n",
    "这就是大家使用对数纸，画对数图的原因。   \n",
    "这样就能把大数画在图像上来处理了。  \n"
   ]
  },
  {
   "cell_type": "markdown",
   "metadata": {},
   "source": [
    "### 对数函数的2个重要性质：\n",
    "\n",
    "$ \\ln (yY) = \\ln y +\\ln Y $   \n",
    "$ \\ln (y^n ) = n \\ln y$\n",
    "\n"
   ]
  },
  {
   "cell_type": "markdown",
   "metadata": {},
   "source": [
    "$ \\ln (yY) = \\ln y +\\ln Y $   \n",
    "\n",
    "假设$y = e^x$, $ Y = e^X$， 两个式子做乘法，会得到什么有趣的性质呢？  \n",
    "\n",
    "y乘以Y是多少？   \n",
    "$yY = e^x * e^X $"
   ]
  },
  {
   "cell_type": "markdown",
   "metadata": {},
   "source": [
    "下面要运用指数曲线的关键性质：\n",
    "$yY = e^x * e^X =e^{x+X}$"
   ]
  },
  {
   "cell_type": "markdown",
   "metadata": {},
   "source": [
    "取逆函数，两边同时取对数。  \n",
    "$ \\ln {yY} = \\ln e^{x+X} = x+X $    \n",
    "其中$y=e^x$的逆函数为$x = \\ln y$；\n",
    "$Y=e^X$的逆函数为$X = \\ln Y$；\n",
    "\n",
    "\n",
    "$ \\ln {yY} = x+X  = \\ln y + \\ln Y$"
   ]
  },
  {
   "cell_type": "markdown",
   "metadata": {},
   "source": [
    "$ \\ln (y^n ) = n \\ln y$这个公式和上面这个公式关系非常密切。  \n",
    "\n",
    "比如：\n",
    "$y^2$的对数是多少? ($y=e^x$)   \n",
    "$\\ln y^2 = \\ln y*y = \\ln y+ \\ln y = 2\\ln y $"
   ]
  },
  {
   "cell_type": "markdown",
   "metadata": {},
   "source": [
    "这里一般性的结论对任意次幂成立，不只是对n=2或n为整数成立，也不只是对正数成立，而是对所有n成立。  \n",
    "\n",
    "$ \\ln (y^n ) = n \\ln y$\n",
    "\n",
    "这就是对数的第二条重要性质。"
   ]
  },
  {
   "cell_type": "markdown",
   "metadata": {},
   "source": [
    "---"
   ]
  },
  {
   "cell_type": "markdown",
   "metadata": {},
   "source": [
    "在引入导数之前，弄清楚对数函数是很必要的。  \n",
    "\n",
    "\n",
    "想知道对数函数的导数吗？  \n",
    "\n",
    "$$ \\frac{d}{dy} \\ln y = \\frac{1}{y}$$\n"
   ]
  },
  {
   "cell_type": "markdown",
   "metadata": {},
   "source": [
    "这就是我们今天讲的这个逆函数的导数。  \n",
    "$$ \\frac{d}{dx} \\ln x=\\frac{1}{x}$$"
   ]
  },
  {
   "cell_type": "markdown",
   "metadata": {},
   "source": [
    "这一讲只是讨论对数的实质。  \n",
    "在了解了这个中间过程之后，可以用回原来的字母。\n"
   ]
  }
 ],
 "metadata": {
  "kernelspec": {
   "display_name": "Python 3",
   "language": "python",
   "name": "python3"
  },
  "language_info": {
   "codemirror_mode": {
    "name": "ipython",
    "version": 3
   },
   "file_extension": ".py",
   "mimetype": "text/x-python",
   "name": "python",
   "nbconvert_exporter": "python",
   "pygments_lexer": "ipython3",
   "version": "3.6.5"
  }
 },
 "nbformat": 4,
 "nbformat_minor": 2
}
