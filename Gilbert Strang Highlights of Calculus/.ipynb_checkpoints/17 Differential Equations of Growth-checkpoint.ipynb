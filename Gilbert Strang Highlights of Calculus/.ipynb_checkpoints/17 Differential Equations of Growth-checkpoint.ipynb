{
 "cells": [
  {
   "cell_type": "markdown",
   "metadata": {},
   "source": [
    "# Lec 17：关于增长的微分方程\n",
    "Differential Equations of Growth"
   ]
  },
  {
   "cell_type": "markdown",
   "metadata": {},
   "source": [
    "今年是关于微分方程，这就是微积分的实用之处。   \n",
    "\n",
    "今天要讲的是关于**增长的过程**。\n"
   ]
  },
  {
   "cell_type": "markdown",
   "metadata": {},
   "source": [
    "## 指数增长-例1"
   ]
  },
  {
   "cell_type": "markdown",
   "metadata": {},
   "source": [
    "$$\\frac{dy}{dt} = cy$$\n",
    "$$y(0)=given\\ start $$\n",
    "$$y(t) =y(0)e^{ct} $$"
   ]
  },
  {
   "cell_type": "markdown",
   "metadata": {},
   "source": [
    "首先大家看到的是最重要的，也是最简单的，增长率$\\frac{dy}{dt}$与y本身成正比，这里的常数记作c。  \n",
    "\n",
    "所有这些问题都会有一个初始值，从时间0开始，然后演变、增长、衰减等等，而这个的解，我们是知道的。\n",
    "\n",
    "我们知道它呈指数增长，这里有因子c，增长率c，我们实际知道：\n",
    "$$ \\frac{d}{dt} e^{ct} = c e^{ct}$$"
   ]
  },
  {
   "cell_type": "markdown",
   "metadata": {},
   "source": [
    "t=0时，初始条件完全符合。"
   ]
  },
  {
   "cell_type": "markdown",
   "metadata": {},
   "source": [
    "----"
   ]
  },
  {
   "cell_type": "markdown",
   "metadata": {},
   "source": [
    "## 指数增长-例2"
   ]
  },
  {
   "cell_type": "markdown",
   "metadata": {},
   "source": [
    "看下一个方程，还是线性的。"
   ]
  },
  {
   "cell_type": "markdown",
   "metadata": {},
   "source": [
    "$$ \\frac{dy}{dt} = cy + s$$"
   ]
  },
  {
   "cell_type": "markdown",
   "metadata": {},
   "source": [
    "这里有个s项，表示资源（source）。   \n",
    "\n",
    "这可以表示银行的存款，每年以利率c增长，而资源项s可以表示你持续存入的额外数额，每次你都存入这么多钱，或者说s为负，当然，这就表示取钱了。  \n",
    "\n",
    "这就是右侧带有常数项的线性微分方程了。  \n",
    "\n",
    "我们应该能搞定它。 \n"
   ]
  },
  {
   "cell_type": "markdown",
   "metadata": {},
   "source": [
    "实际上，我们可以用已知的内容来套用。 \n",
    "$ cy + s $可以写成$c(y+\\frac{s}{c})$，s和c是常数，而右手边的$\\frac{dy}{dt}$，我可以把常数也放进来，倒数不会改变。\n",
    "$\\frac{dy}{dt}$等价于$(y+\\frac{s}{c})$的导数，由于s和c是常数，该项的导数为0，所以$\\frac{dy}{dt}$与原来一样，但看好，表达式成了下面这个样子。\n",
    "$$ \\frac{dy}{dt} = cy + s$$\n",
    "$$\\frac{d}{dt}(y+\\frac{s}{c}) = c(y+\\frac{s}{c})$$"
   ]
  },
  {
   "cell_type": "markdown",
   "metadata": {},
   "source": [
    "这样的形式和上面的第一个例子$\\frac{dy}{dt} =cy$形式上几乎一模一样，唯一不同的是多了个$\\frac{s}{c}$，函数以增长率c增长，从0处的y值加上$\\frac{s}{c}$开始，可以看到，括号$(y+\\frac{s}{c})$这个量，这整个完美地呈指数增长。  \n"
   ]
  },
  {
   "cell_type": "markdown",
   "metadata": {},
   "source": [
    "所以，结论是，这相当于晚些时候的y值。 \n",
    "$$y(t) + \\frac{s}{c} = (y(0)+\\frac{s}{c})e^{ct}$$"
   ]
  },
  {
   "cell_type": "markdown",
   "metadata": {},
   "source": [
    "这就是该微分方程的快速版解答了。  "
   ]
  },
  {
   "cell_type": "markdown",
   "metadata": {},
   "source": [
    "其实这里并不是系统性讲解，在微分方程课程里，你将学到，不这样做，该如何来求解答案。  \n",
    "\n",
    "这个方程很有用，很重要，它呈线性，但右侧有些异物。  \n",
    "\n",
    "我应该系统一些，在继续后面的内容前，我应该先讲下线性方程，这一讲主要是讲——最有趣的微分方程是非线性的。\n",
    "\n",
    "不过我还是先说下线性方程，这里就是很好的例子。\n"
   ]
  },
  {
   "cell_type": "markdown",
   "metadata": {},
   "source": [
    "----"
   ]
  },
  {
   "cell_type": "markdown",
   "metadata": {},
   "source": [
    "## 线性方程"
   ]
  },
  {
   "cell_type": "markdown",
   "metadata": {},
   "source": [
    "线性方程的解，强调是**线性**，形式总是这样的。\n",
    "$$Linear\\ Equation\\ Solution\\  y(t) = y_{particalur}(t)+y_{right\\ side \\ 0}(t)$$\n",
    "它具有某种解，具有某函数，它是方程的解。\n",
    "\n",
    "实际上这是对任意线性方程，不只是线性微分方程，还包括线性代数里的矩阵方程等等。\n",
    "\n",
    "线性方程的这些思想非常重要。 "
   ]
  },
  {
   "cell_type": "markdown",
   "metadata": {},
   "source": [
    "看出来了吗？  \n",
    "上面的指数增长-例2，也由这两部分组成。\n",
    "\n",
    "$$\\frac{dy}{dt} = cy+s$$\n",
    "\n",
    "我要求这个方程的解，"
   ]
  },
  {
   "cell_type": "markdown",
   "metadata": {},
   "source": []
  },
  {
   "cell_type": "markdown",
   "metadata": {},
   "source": []
  },
  {
   "cell_type": "markdown",
   "metadata": {},
   "source": []
  },
  {
   "cell_type": "markdown",
   "metadata": {},
   "source": []
  },
  {
   "cell_type": "markdown",
   "metadata": {},
   "source": []
  }
 ],
 "metadata": {
  "kernelspec": {
   "display_name": "Python 3",
   "language": "python",
   "name": "python3"
  },
  "language_info": {
   "codemirror_mode": {
    "name": "ipython",
    "version": 3
   },
   "file_extension": ".py",
   "mimetype": "text/x-python",
   "name": "python",
   "nbconvert_exporter": "python",
   "pygments_lexer": "ipython3",
   "version": "3.6.5"
  }
 },
 "nbformat": 4,
 "nbformat_minor": 2
}
