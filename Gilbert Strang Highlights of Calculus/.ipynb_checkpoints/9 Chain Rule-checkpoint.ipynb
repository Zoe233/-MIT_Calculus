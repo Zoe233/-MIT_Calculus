{
 "cells": [
  {
   "cell_type": "markdown",
   "metadata": {},
   "source": [
    "# Lec 09：复合函数和链式法则\n",
    "Chains f(g(x)) and the Chain Rule"
   ]
  },
  {
   "cell_type": "markdown",
   "metadata": {},
   "source": [
    "本节讲链式法则，这是一个非常有用的法则，简洁而自然。  \n",
    "\n",
    "首先解释下什么是**函数链**，然后解释其导数如何求。  \n",
    "1. $f(g(x))$就是一个函数链\n",
    "2. 链是怎么工作的呢？ \n",
    "$f(g(x))$中，x是输入变量，得到函数输出g(x)，这里可以将g(x)称作**内函数**，记作y。  \n",
    "所以，第一步：将得到的输出函数g记作y，令$y =g(x)$，这是**前半段链**；   \n",
    "后半段将y作为f的输入变量，这就得到一条完成的链。   \n",
    "\n",
    "函数链从x得到y，也就是内函数g(x)，然后求出f(y)，记作z。 \n",
    "\n",
    "$$ y =g(x)$$\n",
    "$$ z = f(y)$$ \n",
    "\n",
    "现在我们想知道的是：\n",
    "#### z随x的变化有多快？\n",
    "这就是链式法则要回答的：要求的是**链的斜率**。  \n"
   ]
  },
  {
   "cell_type": "markdown",
   "metadata": {},
   "source": [
    "## 链式法则：\n",
    "函数链：\n",
    "$$ y =g(x)$$\n",
    "$$ z = f(y)$$ \n",
    "\n",
    "则：\n",
    "$$ \\frac{dz}{dx} = \\frac{dz}{dy} \\frac{dy}{dx}$$"
   ]
  },
  {
   "cell_type": "markdown",
   "metadata": {},
   "source": [
    "那么我们要求的导数（或者说斜率，速度），想求导**函数链**，只需将两个导数乘起来即可。  \n",
    "\n",
    "不过这里有个需要注意的地方。 \n",
    "上式中求得的第一个因子$\\frac{dz}{dy}$是y的函数，但我们想求的是原变量x的函数，所以在求出了$\\frac{dz}{dy}$之后，必须将其化成x的函数。  \n"
   ]
  },
  {
   "cell_type": "markdown",
   "metadata": {},
   "source": [
    "### 例子1：\n",
    "$$\\sin (3x)$$\n",
    "\n",
    "分析例子中，$y = 3x$，$z = \\sin y$。\n",
    "$$\\frac{dz}{dx} = \\cos y * 3 = 3  \\cos 3x$$"
   ]
  },
  {
   "cell_type": "markdown",
   "metadata": {},
   "source": [
    "![title](./images/chain_001.png)\n",
    "\n",
    "上图是基于$\\sin x$和$\\cos x$的图像，对比画出例1的图像和导数图像。"
   ]
  },
  {
   "cell_type": "markdown",
   "metadata": {},
   "source": [
    "### 例子2：\n",
    "$$ (x^3)^2$$\n",
    "分析例子中的：\n",
    "$$ y = x^3$$\n",
    "$$ z = y^2$$\n",
    "\n",
    "求导：\n",
    "$$\\frac{dz}{dx} = \\frac{dz}{dy}\\frac{dy}{dx} =2y * 3x^2= 2x^3 * 3x^2 = 6x^5$$"
   ]
  },
  {
   "cell_type": "markdown",
   "metadata": {},
   "source": [
    "### 例子3：\n",
    "为了让大家更好地识别内函数和外函数。  \n",
    "$$ z = \\frac{1}{\\sqrt {1-x^2}}$$\n",
    "\n",
    "内函数：\n",
    "$$ y = 1- x^2 $$\n",
    "外函数：\n",
    "$$ z = \\frac{1}{\\sqrt y} = y^{-\\frac{1}{2}}$$\n",
    "\n",
    "求导：\n",
    "$$ \\frac{dz}{dx} = \\frac{dz}{dy}\\frac{dy}{dx} $$\n",
    "$$ = (-\\frac{1}{2} y^{-\\frac{3}{2}})*( -2x)$$\n",
    "$$ = (-\\frac{1}{2}(1- x^2)^{-\\frac{3}{2}} )*(-2x)$$\n",
    "$$ = x(1-x^2)^{-\\frac{3}{2}}$$"
   ]
  },
  {
   "cell_type": "markdown",
   "metadata": {},
   "source": [
    "---\n"
   ]
  },
  {
   "cell_type": "markdown",
   "metadata": {},
   "source": [
    "## 链式法则是怎么来的？\n",
    "回顾一下，导数是怎么求的？  \n",
    "求导数总是从有限小步$\\Delta$开始，之后才有d。 \n",
    "\n",
    "$$ \\frac{\\Delta z}{\\Delta x} = \\frac{\\Delta z}{\\Delta y}\\frac{\\Delta y}{\\Delta x}$$\n",
    "\n",
    "当我们稍微改变x，y也会随之改变，而y的改变又会导致z的改变，而我们关心的是变化的比值。  \n",
    "\n",
    "输入变化和输出变化之间的比值，所以可以分子分母同时乘以一个中间变化量。  \n",
    "\n",
    "那接下来怎么做呢？  \n",
    "众所周知，下面要做的就是取某一点处的导数，令$\\Delta x \\to 0$，随着$\\Delta x \\to 0$，$\\Delta y $也趋近于0，$\\Delta z$也趋近于0，得到一些$\\frac{0}{0}$形式，这就是微积分中始终要处理的。   \n",
    "微积分会保留$\\frac{\\Delta z}{\\Delta y}$这个比值，也会保留$\\frac{\\Delta y}{\\Delta x}$这个比值，这里不能孤立地考虑成0除以0，这个比值最终变成一个不可分割的整体。  \n",
    "比值在极限条件下得到导数，这就是导数的定义。  \n",
    "这两个比值趋近于$\\frac{dz}{dy}$，$\\frac{dy}{dx}$，答案就有了。  \n",
    "$ \\frac{\\Delta z}{\\Delta x}$的极限就是我们要求的导数。  \n",
    "\n",
    "一言以蔽之，这就是链式法则背后的原理。 \n"
   ]
  },
  {
   "cell_type": "markdown",
   "metadata": {},
   "source": [
    "### 例子4：\n",
    "$$ e^{-\\frac{x^2}{2}}$$\n",
    "\n",
    "内函数：\n",
    "$$y = - \\frac{x^2}{2}$$\n",
    "\n",
    "外函数：\n",
    "$$ z = e^y$$\n",
    "\n",
    "求导：\n",
    "$$ \\frac{dz}{dx} = \\frac{dz}{dy} \\frac{dy}{dx}$$\n",
    "$$ = (e^ {y} )*(-x)$$\n",
    "$$ = -x e^{- \\frac{x^2}{2}}$$"
   ]
  },
  {
   "cell_type": "markdown",
   "metadata": {},
   "source": [
    "我们从e的负某某次方开始，最后得到e的原来那么多次方，还多了一个别的因子，这在指数函数中很常见。  \n",
    "**指数函数求导后指数保持不变，不过还需要求指数本身的导数，会得到一个另外的银子。**"
   ]
  },
  {
   "cell_type": "markdown",
   "metadata": {},
   "source": [
    "#### 例子作图：\n",
    "原函数$z=e^{-\\frac{x^2}{2}}$，以及z的导函数$\\frac{dz}{dx} =  -x e^{- \\frac{x^2}{2}}$\n"
   ]
  },
  {
   "cell_type": "markdown",
   "metadata": {},
   "source": [
    "原函数$z=e^{-\\frac{x^2}{2}}$的图像：\n",
    "\n",
    "![title](./images/chain_002.png)\n",
    "\n",
    "上图应该是对称的，这就是著名的**钟形曲线bell shape curve**。 \n",
    "\n",
    "对于赌博佬来说，这是个重要的曲线，对于研究概率的数学家也是如此，后面会详细讲到**钟形曲线**。  \n",
    "\n",
    "微积分进入到概率论，就是从这个函数开始的。 "
   ]
  },
  {
   "cell_type": "markdown",
   "metadata": {},
   "source": [
    "z的导函数$\\frac{dz}{dx} =  -x e^{- \\frac{x^2}{2}}$的图像： \n",
    "\n",
    "仍然是对称的，或者说反对称更合适，因为导函数中前面还有$-x$。\n",
    "\n",
    "![title](./images/chain_003.png)\n",
    "\n",
    "原函数z是偶函数，关于y轴对称，而导函数z'却是奇函数，关于原点对称。 \n",
    "之所以导函数z'是一个奇函数，是因为如果改变x符号，函数的符号也随之改变。  \n"
   ]
  },
  {
   "cell_type": "markdown",
   "metadata": {},
   "source": [
    "### 二阶导数\n",
    "接下来开始看二阶导数，二阶导数是导数的导数，斜率的斜率。 \n",
    "\n",
    "$$ z'' = \\frac{d^2z}{dx^2}$$\n",
    "即对$z'=-x e^{- \\frac{x^2}{2}}$求导，需要用到**乘法法则**和**链式法则**。  \n"
   ]
  },
  {
   "cell_type": "markdown",
   "metadata": {},
   "source": [
    "$$ z'' = -1 * e^{-\\frac{x^2}{2}} + (-x e^{-\\frac{x^2}{2}})(-x)$$\n",
    "$$ = (x^2-1) e^{-\\frac{x^2}{2}}$$"
   ]
  },
  {
   "cell_type": "markdown",
   "metadata": {},
   "source": [
    "二阶导数将会改变符号。\n",
    "\n",
    "下面是二阶导数z''的图像：  \n",
    "\n",
    "![title](./images/chain_004.png)"
   ]
  },
  {
   "cell_type": "markdown",
   "metadata": {},
   "source": []
  },
  {
   "cell_type": "markdown",
   "metadata": {},
   "source": []
  }
 ],
 "metadata": {
  "kernelspec": {
   "display_name": "Python 3",
   "language": "python",
   "name": "python3"
  },
  "language_info": {
   "codemirror_mode": {
    "name": "ipython",
    "version": 3
   },
   "file_extension": ".py",
   "mimetype": "text/x-python",
   "name": "python",
   "nbconvert_exporter": "python",
   "pygments_lexer": "ipython3",
   "version": "3.6.5"
  }
 },
 "nbformat": 4,
 "nbformat_minor": 2
}
