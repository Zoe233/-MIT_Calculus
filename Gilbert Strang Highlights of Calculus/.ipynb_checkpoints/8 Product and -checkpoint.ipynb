{
 "cells": [
  {
   "cell_type": "markdown",
   "metadata": {},
   "source": [
    "# Lec 08：乘法法则和除法法则\n",
    "Product Rule and Quotient Rule"
   ]
  },
  {
   "cell_type": "markdown",
   "metadata": {},
   "source": [
    "本视频的主题是导数。  \n",
    "\n",
    "今天讲两条求导的新法则：**乘法法则**和**除法法则** "
   ]
  },
  {
   "cell_type": "markdown",
   "metadata": {},
   "source": [
    "如果已知函数f的导数，同时已知函数g的导数，那么我们可以通过它们得到新的内容，两条直接得到的重要法则是：\n",
    "## 乘法法则：\n",
    "已知： $$p(x) = f(x) g(x) $$\n",
    "则：\n",
    "$$\\frac{dp}{dx} =f(x) g'(x)+ g(x)f'(x) =f(x) \\frac{dg}{dx} + g(x) \\frac{df}{dx}$$"
   ]
  },
  {
   "cell_type": "markdown",
   "metadata": {},
   "source": [
    "## 除法法则\n",
    "已知：\n",
    "$$ q(x) = \\frac{f(x)}{g(x)}$$\n",
    "则：\n",
    "$$ \\frac{dq}{dx}=$$"
   ]
  },
  {
   "cell_type": "markdown",
   "metadata": {},
   "source": [
    "----"
   ]
  },
  {
   "cell_type": "markdown",
   "metadata": {},
   "source": [
    "下面开始讲乘法法则，我们的第一个例子是：\n",
    "$$\\begin{cases}\n",
    "f(x）= x^2\\\\\n",
    "g(x) = x\n",
    "\\end{cases}$$\n",
    "那么$p(x)$是多少？  \n",
    "$$p(x) = f(x)g(x) = x^2 * x = x^3$$"
   ]
  },
  {
   "cell_type": "markdown",
   "metadata": {},
   "source": [
    "下面我们想求$p(x)$的导数，$f(x)$和$g(x)$的导数我们会提前给出。  \n",
    "\n",
    "### 乘法法则告诉我们什么？  \n",
    "它告诉我们p的导数$\\frac{dp}{dx}$通过乘法法则计算导数的过程如下：\n",
    "$$\\frac{d}{dx} x^3 = \\frac{d}{dx} (x^2 * x) $$\n",
    "$$ = x^2*1 + x*(2x) $$\n",
    "$$ = x^2 + 2x^2$$\n",
    "$$ = 3x^2$$"
   ]
  },
  {
   "cell_type": "markdown",
   "metadata": {},
   "source": [
    "假设$p(x) = x^4$，则可以去$f(x)=x^3$和$g(x) = x$。 \n",
    "\n",
    "用乘法法则求导则：\n",
    "$$ \\frac{d}{dx} x^4 = \\frac{d}{dx} (x^3)(x)$$\n",
    "$$ = x^3 * 1 + x * (3x^2) $$\n",
    "$$ = x^3 + 3 x^3 $$\n",
    "$$ = 4 x^3$$"
   ]
  },
  {
   "cell_type": "markdown",
   "metadata": {},
   "source": [
    "$x^n$的导数，对应任意n，如果模式延续下去，则会得到：\n",
    "$$ \\frac{d}{dx} x^n = n x^{n-1}$$\n",
    "\n",
    "这是个非常重要的公式，这个公式不仅仅在这一两个例子里成立，它对任意n都应该是成立的。  \n",
    "\n",
    "我们建立这种模式之后，可以通过归纳法来证明。  \n",
    "上面的归纳法只能证明n是正整数的情况下，均成立，下面会拓展开来针对n是分数的情况下的也成立的推理。  \n"
   ]
  },
  {
   "cell_type": "markdown",
   "metadata": {},
   "source": [
    "### 拓展：求$\\frac{d}{dx} (f(x))^n$的导数\n",
    "\n",
    "如果n=2，则\n",
    "$$ \\frac{d}{dx} (f(x))^2 = \\frac{d}{dx} f(x)f(x)$$\n",
    "$$ = f(x)\\frac{df}{dx} + \\frac{df}{dx} f(x)$$\n",
    "$$ = 2 * f(x) \\frac{df}{dx}$$\n",
    "\n",
    "如果n=3，则\n",
    "$$ \\frac{d}{dx} (f(x))^3= \\frac{d}{dx} (f(x))^2 f(x)$$\n",
    "$$ = (f(x))^2\\frac{df}{dx} + 2 * f(x) \\frac{df}{dx} f(x)$$\n",
    "$$ = 3 * (f(x))^2 \\frac{df}{dx}$$"
   ]
  },
  {
   "cell_type": "markdown",
   "metadata": {},
   "source": [
    "让我们看看这里模式是怎样的？ \n",
    "\n",
    "$$ \\frac{d}{dx} (f(x))^n = n (f(x))^{n-1} \\frac{df}{dx}$$\n",
    "\n",
    "这个法则就是**幂法则 power rule**。  \n"
   ]
  },
  {
   "cell_type": "markdown",
   "metadata": {},
   "source": [
    "求导幂函数，这里只是求导$x^n$，而现在我们知道x函数的n次方如何求导了。  \n",
    "这里有一个特别的内容，之后我们还会细谈。  \n",
    "\n",
    "这里所说的**幂法则**其实是这个特别内容的一个例子，即最重要的--**链式法则chain rule**。  \n",
    "\n",
    "注意上面例子$\\frac{d}{dx}(f(x))^n$，求导之后还是得到了原来的模式$nx^{n-1}$，但是注意后面还需要**内函数的导数**。    \n",
    "\n",
    "链式法则时还会讲到这部分内容。   \n"
   ]
  },
  {
   "cell_type": "markdown",
   "metadata": {},
   "source": [
    "#### 为什么要求导$ \\frac{d}{dx} (f(x))^n $这个？  \n",
    "这都是为求导根号x做铺垫。  \n",
    "\n",
    "下面开始尝试，而尝试过程中需要用到这个结论。  \n",
    "\n",
    "$$ \\frac{d}{dx} (f(x))^n = n (f(x))^{n-1} \\frac{df}{dx}$$"
   ]
  },
  {
   "cell_type": "markdown",
   "metadata": {},
   "source": [
    "用这个结论来求导根号x。  \n",
    "\n",
    "例子函数：\n",
    "$$f(x) = \\sqrt {x} = x^{\\frac{1}{2}}$$"
   ]
  },
  {
   "cell_type": "markdown",
   "metadata": {},
   "source": [
    "#### 我希望结果是什么呢？  \n",
    "我希望公式保持原来的模式，即$\\frac{d}{dx}x^n = n x^{n-1}$。 "
   ]
  },
  {
   "cell_type": "code",
   "execution_count": null,
   "metadata": {},
   "outputs": [],
   "source": []
  }
 ],
 "metadata": {
  "kernelspec": {
   "display_name": "Python 3",
   "language": "python",
   "name": "python3"
  },
  "language_info": {
   "codemirror_mode": {
    "name": "ipython",
    "version": 3
   },
   "file_extension": ".py",
   "mimetype": "text/x-python",
   "name": "python",
   "nbconvert_exporter": "python",
   "pygments_lexer": "ipython3",
   "version": "3.6.5"
  }
 },
 "nbformat": 4,
 "nbformat_minor": 2
}
