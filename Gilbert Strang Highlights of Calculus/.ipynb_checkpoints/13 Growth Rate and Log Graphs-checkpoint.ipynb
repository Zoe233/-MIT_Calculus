{
 "cells": [
  {
   "cell_type": "markdown",
   "metadata": {},
   "source": [
    "# 负增长率和对数图\n",
    "Growth Rate and Log Graphs"
   ]
  },
  {
   "cell_type": "markdown",
   "metadata": {},
   "source": [
    "这一讲首先直观地用数量级的观念讲解了**线性增长、多项式增长、指数增长**等之间的快慢关系。   \n",
    "\n",
    "如果$x=10^3$，指数函数$10^x$达到$10^{1000}$，也就是10后面1000个0。   \n",
    "\n",
    "这一讲的另一个重要内容是**对数图**，清晰地讲解了**对数尺度**（以logx为刻度）的好处，它能将各种增长转化为线性形式，并举出了一些典型的例子。"
   ]
  },
  {
   "cell_type": "markdown",
   "metadata": {},
   "source": [
    "----"
   ]
  },
  {
   "cell_type": "markdown",
   "metadata": {},
   "source": [
    "## 对数的应用"
   ]
  },
  {
   "cell_type": "markdown",
   "metadata": {},
   "source": [
    " 今天讲一下**对数的应用**，一些实际的应用。   \n",
    "\n",
    "很自然的一个话题就是--**函数增长的快慢**。  \n",
    "哪些更快，哪些更慢。  \n",
    "\n",
    "我这里简单归纳了一些常用函数。\n",
    "\n",
    "1. 线性增长 Linear Growth\n",
    "函数沿直线增长，可以是正比于x，cx这样的也是线性形式。   \n",
    "$$x, cx$$\n",
    "\n",
    "\n",
    "2. 多项式增长 Polynomial Growth\n",
    "下面是多项式增长，一些幂函数。  \n",
    "$$x^2, x^3,..., x^n$$\n",
    "\n",
    "\n",
    "3. 指数增长 Exponential Growth\n",
    "然后是更快的增长，指数增长$e^x$。\n",
    "类似地，还有以2和10为底的指数函数。    \n",
    "特别是$10^x$，它将引出以10为底的对数，这种对数具有很强的实用性。  \n",
    "$$ 2^x, e^x, 10^x,...$$\n",
    "\n",
    "以上是指数增长。\n",
    "\n",
    "4. x的阶乘和$x^x$ Factorial\n",
    "后面的增长则更快，x的阶乘，$x!$。  \n",
    "大家知道n的阶乘增长最快，而与$n^n$对应的函数$x^x$增长更快。  \n",
    "\n",
    "当然，还可以找出一些更快的。\n",
    "比如，$x^x$是飞速增长。  \n",
    "同时，我们还能找到增长很慢的函数。  \n",
    "但是，此时暂时还是先看这里吧。 "
   ]
  },
  {
   "cell_type": "markdown",
   "metadata": {},
   "source": [
    "<img src='./images/growth_001.png' />"
   ]
  },
  {
   "cell_type": "markdown",
   "metadata": {},
   "source": [
    "-----"
   ]
  },
  {
   "cell_type": "markdown",
   "metadata": {},
   "source": [
    "## 例1：\n",
    "我取x=1000，好让大家对这些增长快慢有一些直观印象。  \n",
    "\n",
    "x=1000，即$10^3$，是个什么情况？  \n",
    "看看将x=1000代入上面的函数中，这些大数哪个更大？  \n",
    "这些函数的结果都会很大，所以用10的幂乘来表示。    \n",
    "\n",
    "|函数类型|函数表达式|x=1000时函数结果|备注|\n",
    "|:-:|:-:|:-:|:-:|\n",
    "|线性函数|x|$1000=10^3$|\n",
    "|多项式|$x^2$|$10^6$| \n",
    "|多项式|$x^3$|$10^9$|这是经济学的研究范畴，国家债务大概就在这么多|\n",
    "|多项式|$x^n$|$10^{3n}$|\n",
    "|指数|$2^x$|$2^{1000}\\simeq 10^{300}$|为了比较方便，写作10的次幂形式，约等于$10^{300}$|\n",
    "|指数|$e^x$|$e^{1000} \\simeq 10^{434}$|\n",
    "|指数|$10^x$|$10^{1000}$|\n",
    "|阶乘|$x!$|$10^{2566}$| $x^x$除以$e^x$得到的大概就是阶乘了| \n",
    "|x的x次方|$x^x$|$1000^{1000} = 10^{3000}$|"
   ]
  },
  {
   "cell_type": "markdown",
   "metadata": {},
   "source": [
    "注：\n",
    "上面的阶乘$x!$的计算，$x!$小于$x^x$，当x=1000时，即：\n",
    "$1000*999*998*997*...*2*1$，每一项乘法的项均小于等于1000。\n",
    "\n",
    "$$(\\frac{n!}{n^n})^{\\frac{1}{n}} \\to \\frac{1}{e}$$"
   ]
  },
  {
   "cell_type": "markdown",
   "metadata": {},
   "source": [
    "上面的结果都是巨大的数字，如果不以10为底，如$1000^{1000}$，我就得写3000个0，巨大的时间耗费。  \n",
    "\n",
    "换言之，这些指数的表示拯救了我。   \n",
    "**而指数就是对数运算的结果，对数运算求的就是指数。**    \n",
    "\n",
    "与以10为底的乘幂相对应，我们讨论以10为底的对数。   \n",
    "正是对数，让这些大数还能保持合理形态，并告诉我们什么增长更快。  \n"
   ]
  },
  {
   "cell_type": "markdown",
   "metadata": {},
   "source": [
    "|函数类型|函数表达式|x=1000时函数结果|取以10为底的对数|\n",
    "|:-:|:-:|:-:|:-:|\n",
    "|线性函数|x|$1000=10^3$|3|\n",
    "|多项式|$x^2$|$10^6$| 6|\n",
    "|多项式|$x^3$|$10^9$|9|\n",
    "|指数|$2^x$|$2^{1000}\\simeq 10^{300}$|300|\n",
    "|指数|$e^x$|$e^{1000} \\simeq 10^{434}$|434|\n",
    "|指数|$10^x$|$10^{1000}$|1000|\n",
    "|阶乘|$x!$|$10^{2566}$| 2566|\n",
    "|x的x次方|$x^x$|$1000^{1000} = 10^{3000}$|3000|"
   ]
  },
  {
   "cell_type": "markdown",
   "metadata": {},
   "source": [
    "上表中，使用对数，只是为了数字更容易看。  \n",
    "\n",
    "在这个表示增长速度的列表中，$\\log x$应该放在什么地方？  \n",
    "它会出现在最上面，与x还慢，慢得还不止一点。  \n",
    "这里我们可以看到$\\log x$相当之慢，如果你还想找更慢的，如$\\log (\\log x)$。  \n",
    "它跟爬没什么两样，但最后还是趋于无穷。  \n",
    "\n",
    "在作图之前，我再讲一点内容。\n",
    "讲到这里自然引申出这个——**对数图Log Graphs**。  \n",
    "\n",
    "要将对数运用到作图上。 \n"
   ]
  },
  {
   "cell_type": "markdown",
   "metadata": {},
   "source": [
    "大家肯定会问，逐渐减小的函数会如何？   \n",
    "这里相关的递减函数都有些什么？  \n",
    "也就是说，奔向0点，而不是无穷。  \n",
    " "
   ]
  },
  {
   "cell_type": "markdown",
   "metadata": {},
   "source": [
    "|函数类型|函数表达式|x=1000时函数结果|取以10为底的对数|对应的递减函数|\n",
    "|:-:|:-:|:-:|:-:|:-:|\n",
    "|线性函数|x|$1000=10^3$|3|$\\frac{1}{x}$|\n",
    "|多项式|$x^2$|$10^6$| 6|$\\frac{1}{x^2}$|\n",
    "|多项式|$x^3$|$10^9$|9|$\\frac{1}{x^3}$|\n",
    "|指数|$2^x$|$2^{1000}\\simeq 10^{300}$|300|$\\frac{1}{2^x}$|\n",
    "|指数|$e^x$|$e^{1000} \\simeq 10^{434}$|434|$\\frac{1}{e^x}$或$e^{-x}$|\n",
    "|指数|$10^x$|$10^{1000}$|1000|$\\frac{1}{10^x}$或$10^{-x}$|\n",
    "|阶乘|$x!$|$10^{2566}$| 2566|$\\frac{1}{x!}$或$(x!)^{-1}$|\n",
    "|x的x次方|$x^x$|$1000^{1000} = 10^{3000}$|3000|$\\frac{1}{x^x}$或$x^{-x}$|\n"
   ]
  },
  {
   "cell_type": "markdown",
   "metadata": {},
   "source": [
    "这些对应的递减函数，一个比一个下降更快，它们疯一般地奔向0。   "
   ]
  },
  {
   "cell_type": "markdown",
   "metadata": {},
   "source": [
    "我想说的是，存在一种尺度。  \n",
    "\n",
    "它不仅能够方便处理飞快趋于无穷的情况，还能处理飞快奔向0的情况，这也就是**负对数**。  \n",
    "上表对应的以10为底的负对数依次为：-3、-6、-9、-300、-434、-1000、-2566、-3000。  \n",
    "\n"
   ]
  },
  {
   "cell_type": "markdown",
   "metadata": {},
   "source": [
    "-----"
   ]
  },
  {
   "cell_type": "markdown",
   "metadata": {},
   "source": [
    "## 对数尺度 log scale"
   ]
  },
  {
   "cell_type": "markdown",
   "metadata": {},
   "source": [
    "下面引入要讲的概念——**对数尺度**的概念。"
   ]
  },
  {
   "cell_type": "markdown",
   "metadata": {},
   "source": [
    "首先想下直线上普通的尺度，通常刻度为0,1,2,3,...,-1,-2这些。  \n",
    "\n",
    "但对于对数尺度，中心是0点。\n",
    "下图上标注的的点不是一般刻度的x，而是x的对数（$\\log x$），这就是对数尺度所要用到的。  \n",
    "\n"
   ]
  },
  {
   "cell_type": "markdown",
   "metadata": {},
   "source": [
    "<img src='./images/growth_002.png' width='70%'/>"
   ]
  },
  {
   "cell_type": "markdown",
   "metadata": {},
   "source": [
    "可以看到在这个对数尺度的图像上。 \n",
    "\n",
    "想象这是一张可以作图的坐标纸，从而让大数以对数尺度显示，而不是普通的123尺度。\n",
    "\n"
   ]
  },
  {
   "cell_type": "markdown",
   "metadata": {},
   "source": [
    "对数尺度让大数和小数的处理更为方便。  \n",
    "\n",
    "上面的对数尺度上标注的数值其实用的就是**对数**。   \n"
   ]
  },
  {
   "cell_type": "markdown",
   "metadata": {},
   "source": [
    "<img src='./images/growth_003.png' width='70%'/>"
   ]
  },
  {
   "cell_type": "markdown",
   "metadata": {},
   "source": [
    "下面对应的坐标轴为以10为底的对数。 \n",
    "\n",
    "$0=\\log 10^0, 1=\\log 10^1, 2=\\log 10^2,...$"
   ]
  },
  {
   "cell_type": "markdown",
   "metadata": {},
   "source": [
    "$10^0$和$10^1$中间的数是多少？  \n",
    "\n",
    "这不是普通意义上的1和10的中点。  \n",
    "断然不是5.5。 \n",
    "\n",
    "这个中点是...大家知道吗？\n",
    "这个中点是$10^{\\frac{1}{2}} =\\sqrt 10$\n",
    "\n",
    "\n",
    "因此实际数字$\\sqrt 10$，结果为3.16。   "
   ]
  },
  {
   "cell_type": "markdown",
   "metadata": {},
   "source": [
    "<img src='./images/growth_004.png' width='70%'/>"
   ]
  },
  {
   "cell_type": "code",
   "execution_count": 11,
   "metadata": {},
   "outputs": [
    {
     "data": {
      "text/plain": [
       "3.1622776601683795"
      ]
     },
     "execution_count": 11,
     "metadata": {},
     "output_type": "execute_result"
    }
   ],
   "source": [
    "import math\n",
    "math.sqrt(10)"
   ]
  },
  {
   "cell_type": "markdown",
   "metadata": {},
   "source": [
    "-----"
   ]
  },
  {
   "cell_type": "markdown",
   "metadata": {},
   "source": [
    "在用对数尺度前，我再问个问题。  \n",
    "\n",
    "## 关于2的乘幂$2^x$，很多地方都要用到2的乘幂，如果将其画在对数尺度下，画出1、2、4、8、16这些的位置。   \n",
    "\n",
    "1对应1；   \n",
    "2稍微远一点，在1的右侧；   \n",
    "然后是4，8，都在10之前；  \n",
    "16在10之后，但是应该更靠近10，远离100。   \n"
   ]
  },
  {
   "cell_type": "markdown",
   "metadata": {},
   "source": [
    "1、2、4、8、16，这些值在对数图上有什么性质？   \n",
    "**它们等距排列**，而其间距当然小于10。  \n",
    "\n",
    "每次乘以2，沿着对数尺度轴向右侧移动相等的距离，乘了10次以后，得到$2^10$，结果为1024，靠近1000。  \n",
    "\n",
    "所以$2^10$非常接近1000。"
   ]
  },
  {
   "cell_type": "code",
   "execution_count": 12,
   "metadata": {},
   "outputs": [
    {
     "data": {
      "text/plain": [
       "1024.0"
      ]
     },
     "execution_count": 12,
     "metadata": {},
     "output_type": "execute_result"
    }
   ],
   "source": [
    "import math\n",
    "math.pow(2,10)"
   ]
  },
  {
   "cell_type": "markdown",
   "metadata": {},
   "source": [
    " ---"
   ]
  },
  {
   "cell_type": "markdown",
   "metadata": {},
   "source": [
    "### 还有一个问题，0在哪里？    \n",
    "\n",
    "我碰巧想画0点，怎么办？   \n",
    "0它不在对数尺度上，**对数尺度下没有0**。    \n",
    "\n",
    "0处于轴的负无穷远端，右侧是正无穷。\n"
   ]
  },
  {
   "cell_type": "markdown",
   "metadata": {},
   "source": [
    "----"
   ]
  },
  {
   "cell_type": "markdown",
   "metadata": {},
   "source": [
    "## 对数尺度的应用：对数尺度有什么用？"
   ]
  },
  {
   "cell_type": "markdown",
   "metadata": {},
   "source": [
    "下面来点对数尺度的应用。   \n",
    "\n",
    "对数尺度有什么用处？  \n"
   ]
  },
  {
   "cell_type": "markdown",
   "metadata": {},
   "source": [
    "假设存在某种理由，让我们相信函数是如下形式。   \n",
    "$$ y = A * x^n$$  \n",
    "\n",
    "这里y是输出变量，x是输入变量，但A是未知的。  \n",
    "\n",
    "实验中，我希望求出A，更想求出n？  \n",
    "\n",
    "我想知道增长的具体情况。   \n",
    "假设它是这种$ y = A * x^n$简单关系。   \n"
   ]
  },
  {
   "cell_type": "markdown",
   "metadata": {},
   "source": [
    "我可以作图，图像上得到很多店，然后观察。  \n",
    "我可以画一下，画一下y。  \n",
    "\n",
    "假设n=1.5，假设这是增长率。  \n",
    "这很有可能。   \n",
    "A是某个数，假设它是1。   \n",
    "\n",
    "<img src='./images/growth_005.png' width='20%'>\n"
   ]
  },
  {
   "cell_type": "markdown",
   "metadata": {},
   "source": [
    "上图的曲线是$y=x^{\\frac{3}{2}}$的曲线。   \n",
    "\n",
    "\n",
    "问题是： 实际增长是否符合这条曲线？   \n",
    "\n"
   ]
  },
  {
   "cell_type": "markdown",
   "metadata": {},
   "source": [
    "**实验中的一些点可能很接近这条曲线，但仅仅观察曲线**，我们很难分清图上的幂次是1.5还是1.6。   \n",
    "\n",
    "1.5甚至和2相差也大不到哪去。  \n",
    "\n",
    "**很难看出实际的增长率**。  \n",
    "\n",
    "图像上有一些误差，我无法确定，x的幂函数无一例外会无限增长，作图根本分不出到底谁是谁。   \n"
   ]
  },
  {
   "cell_type": "markdown",
   "metadata": {},
   "source": [
    "再来看对数尺度，对**对数-对数图**（log-log graph）。  \n"
   ]
  },
  {
   "cell_type": "markdown",
   "metadata": {},
   "source": [
    "对$y=Ax^n$两侧同时取对数，然后再来作图。   \n",
    "\n",
    "两边同时取对数，左侧输出的是y的对数（$\\log y$），\n",
    "\n",
    "$$\\log y = \\log Ax^n$$\n",
    "$$\\log y = \\log A + \\log x^n$$"
   ]
  },
  {
   "cell_type": "markdown",
   "metadata": {},
   "source": [
    "右侧是乘积的对数。  \n",
    "对数运算法则怎么说？  \n",
    "乘积是对数相加，即$\\log A + \\log x^n$。   "
   ]
  },
  {
   "cell_type": "markdown",
   "metadata": {},
   "source": []
  },
  {
   "cell_type": "code",
   "execution_count": null,
   "metadata": {},
   "outputs": [],
   "source": []
  },
  {
   "cell_type": "code",
   "execution_count": null,
   "metadata": {},
   "outputs": [],
   "source": []
  },
  {
   "cell_type": "code",
   "execution_count": null,
   "metadata": {},
   "outputs": [],
   "source": []
  },
  {
   "cell_type": "code",
   "execution_count": null,
   "metadata": {},
   "outputs": [],
   "source": []
  },
  {
   "cell_type": "code",
   "execution_count": null,
   "metadata": {},
   "outputs": [],
   "source": []
  },
  {
   "cell_type": "code",
   "execution_count": null,
   "metadata": {},
   "outputs": [],
   "source": []
  }
 ],
 "metadata": {
  "kernelspec": {
   "display_name": "Python 3",
   "language": "python",
   "name": "python3"
  },
  "language_info": {
   "codemirror_mode": {
    "name": "ipython",
    "version": 3
   },
   "file_extension": ".py",
   "mimetype": "text/x-python",
   "name": "python",
   "nbconvert_exporter": "python",
   "pygments_lexer": "ipython3",
   "version": "3.6.5"
  }
 },
 "nbformat": 4,
 "nbformat_minor": 2
}
