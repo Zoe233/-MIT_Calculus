{
 "cells": [
  {
   "cell_type": "markdown",
   "metadata": {},
   "source": [
    "# 1. 导论"
   ]
  },
  {
   "cell_type": "markdown",
   "metadata": {},
   "source": [
    "## 1. 课程简介\n",
    "本科试图挖掘微积分的重点，而不是深入到厚重、巨大的课本中。  \n",
    "\n",
    "### 微积分中什么是重点？\n",
    "三组函数：\n",
    "- x的幂函数  powers of x\n",
    "- x的正余弦函数 sin and cos of x\n",
    "- x的指数函数 e to the x\n",
    "\n",
    "了解以上3组函数，可以说就了解了主要思想。  \n",
    "\n",
    "### 第一部分总共有5个视频\n",
    "\n",
    "\n",
    "### 第二部分：\n",
    "论及微分学剩下的部分。\n",
    "\n",
    "微分学：\n",
    "- 导数 the derivative\n",
    "- 斜率 the slope\n",
    "- 速率 the speed\n",
    "\n",
    "### 第三部分：\n",
    "积分学 integral calculus"
   ]
  },
  {
   "cell_type": "markdown",
   "metadata": {},
   "source": [
    "## 2.第一部分：微积分总览\n",
    "微积分不过是**两函数之间关系**的学科。"
   ]
  },
  {
   "cell_type": "markdown",
   "metadata": {},
   "source": [
    "### 2.1 什么叫做**两函数关系**?下面有个很好的例子。\n",
    "**函数一**：距离（移动的距离），可以理解为汽车里程表上的读数。\n",
    "**函数二**：与距离相关的是速度，它用来描述运动的快慢。  \n",
    "这就得到一组函数。 \n",
    "\n",
    "我还可以给出另一组例子。  \n",
    "**函数一**：高度。如果作图的话，它表示图像相对x轴的距离，竖直方向的距离。\n",
    "**函数二**：变化多块。可以以爬山来理解，高度用以表示我们爬了多少，而斜率则用以表示在没一点处能爬多快。是竖直向上、水平还是向下。  \n",
    "\n",
    "因此**距离和速度（Distance & Speed）**和**高度和斜率（Height & Slope）**是入门的极好例子。 \n",
    "\n",
    "下面我将引入一些必要的数学符号。    \n",
    "**距离和速度（Distance & Speed）**\n",
    "$$\\begin{cases}\n",
    "f(t)\\\\\n",
    "s = \\frac{df}{dt}\n",
    "\\end{cases}\n",
    "$$\n",
    "其中，t是自变量，$f(t)$表示移动一定距离需要的时间，这里距离是因变量。  \n",
    "这里的f表示走了多远。  \n",
    "\n",
    "速度（Speed）的首字母为s，因此用s表示速度。  \n",
    "\n",
    "函数二在学术上的正确表示法：  \n",
    "> 该表示法将函数二与函数一结合起来。\n",
    "如果函数一是时间t的函数， 表示移动的距离，那么速度的正确表示应为$\\frac{df}{dt}$   \n",
    "这是通用的写法，记住它的读法：'df dt'（可以不读中间的'/'）  \n",
    "莱布尼茨发明并开始使用这种表示法。\n",
    "\n",
    "\n",
    "\n",
    "**高度和斜率（Height & Slope）**\n",
    "$$\\begin{cases}\n",
    "y(x) \\\\\n",
    "s =\\frac{dy}{dx}\n",
    "\\end{cases}\n",
    "$$\n",
    "其中，x表示水平距离，它是自变量，对应每一个x，对应垂直方向的因变量为y。  \n",
    "这里的y表示其图像上的垂直距离。  \n",
    "斜率（Slope）的首字母为s，因此用s表示斜率。  \n"
   ]
  },
  {
   "cell_type": "markdown",
   "metadata": {},
   "source": []
  },
  {
   "cell_type": "markdown",
   "metadata": {},
   "source": []
  },
  {
   "cell_type": "markdown",
   "metadata": {},
   "source": []
  },
  {
   "cell_type": "markdown",
   "metadata": {},
   "source": []
  },
  {
   "cell_type": "markdown",
   "metadata": {},
   "source": []
  }
 ],
 "metadata": {
  "kernelspec": {
   "display_name": "Python 3",
   "language": "python",
   "name": "python3"
  },
  "language_info": {
   "codemirror_mode": {
    "name": "ipython",
    "version": 3
   },
   "file_extension": ".py",
   "mimetype": "text/x-python",
   "name": "python",
   "nbconvert_exporter": "python",
   "pygments_lexer": "ipython3",
   "version": "3.6.5"
  }
 },
 "nbformat": 4,
 "nbformat_minor": 2
}
