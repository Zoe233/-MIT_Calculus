{
 "cells": [
  {
   "cell_type": "markdown",
   "metadata": {},
   "source": [
    "# 1. 导论"
   ]
  },
  {
   "cell_type": "markdown",
   "metadata": {},
   "source": [
    "## 1. 课程简介\n",
    "本科试图挖掘微积分的重点，而不是深入到厚重、巨大的课本中。  \n",
    "\n",
    "### 微积分中什么是重点？\n",
    "三组函数：\n",
    "- x的幂函数  powers of x\n",
    "- x的正余弦函数 sin and cos of x\n",
    "- x的指数函数 e to the x\n",
    "\n",
    "了解以上3组函数，可以说就了解了主要思想。  \n",
    "\n",
    "### 第一部分总共有5个视频\n",
    "\n",
    "\n",
    "### 第二部分：\n",
    "论及微分学剩下的部分。\n",
    "\n",
    "微分学：\n",
    "- 导数 the derivative\n",
    "- 斜率 the slope\n",
    "- 速率 the speed\n",
    "\n",
    "### 第三部分：\n",
    "积分学 integral calculus"
   ]
  },
  {
   "cell_type": "markdown",
   "metadata": {},
   "source": [
    "## Lec 02：微积分总览\n",
    "微积分不过是**两函数之间关系**的学科。"
   ]
  },
  {
   "cell_type": "markdown",
   "metadata": {},
   "source": [
    "### 2.1 什么叫做**两函数关系**?下面有个很好的例子。\n",
    "**函数一**：距离（移动的距离），可以理解为汽车里程表上的读数。   \n",
    "**函数二**：与距离相关的是速度，它用来描述运动的快慢。  \n",
    "这就得到一组函数。 \n",
    "\n",
    "我还可以给出另一组例子。  \n",
    "**函数一**：高度。如果作图的话，它表示图像相对x轴的距离，竖直方向的距离。   \n",
    "**函数二**：变化多快。可以以爬山来理解，高度用以表示我们爬了多少，而斜率则用以表示在每一点处能爬多快。是竖直向上、水平还是向下。  \n",
    "\n",
    "因此**距离和速度（Distance & Speed）**和**高度和斜率（Height & Slope）**是入门的极好例子。 \n",
    "\n",
    "下面我将引入一些必要的数学符号。    \n",
    "**距离和速度（Distance & Speed）**\n",
    "$$\\begin{cases}\n",
    "f(t)\\\\\n",
    "s = \\frac{df}{dt}\n",
    "\\end{cases}\n",
    "$$\n",
    "其中，t是自变量，$f(t)$表示移动一定距离需要的时间，这里距离是因变量。  \n",
    "这里的f表示走了多远。  \n",
    "\n",
    "速度（Speed）的首字母为s，因此用s表示速度。  \n",
    "\n",
    "函数二在学术上的正确表示法：  \n",
    "> 该表示法将函数二与函数一结合起来。\n",
    "如果函数一是时间t的函数， 表示移动的距离，那么速度的正确表示应为$\\frac{df}{dt}$   \n",
    "这是通用的写法，记住它的读法：'df dt'（可以不读中间的'/'）  \n",
    "莱布尼茨发明并开始使用这种表示法。\n",
    "\n",
    "\n",
    "\n",
    "**高度和斜率（Height & Slope）**\n",
    "$$\\begin{cases}\n",
    "y(x) \\\\\n",
    "s =\\frac{dy}{dx}\n",
    "\\end{cases}\n",
    "$$\n",
    "其中，x表示水平距离，它是自变量，对应每一个x，对应垂直方向的因变量为y。  \n",
    "这里的y表示其图像上的垂直距离。  \n",
    "斜率（Slope）的首字母为s，因此用s表示斜率。  \n"
   ]
  },
  {
   "cell_type": "markdown",
   "metadata": {},
   "source": [
    "让我们从最简单的例子开始讲解。 \n",
    "#### 匀速的情况，不变的斜率 \n",
    "假定匀速的速度 s=40 Miles/Hour，下面是距离和速度在的图像。\n",
    "![title](./images/example_001.png)\n",
    "\n",
    "已经讲了距离和速度的函数，现在可以开始进行比较了。  \n",
    "这里可以将f看做高度函数，图上标注的两点(1,40),(2,80)分别表示高度40，高度80，这时，斜率是什么呢？  \n",
    "只需要看一下两函数之间的关系。    \n",
    "\n",
    "对于距离，匀速运动时，读里程表就能知道。  \n",
    "\n",
    "那么速度怎么得到？  \n",
    "只需要求斜率，也就是1小时候40 Miles，$\\frac{40}{1}$或$\\frac{80}{2}$，结果一样，因为是匀速。  \n",
    "\n",
    "因此斜率等于纵向除以横向，$$s=\\frac{up}{cross} =\\frac{80}{2} =40$$"
   ]
  },
  {
   "cell_type": "markdown",
   "metadata": {},
   "source": [
    "When the speed is constant, we only need algebra.  \n",
    "slope = up divided by cross   $s =\\frac{up}{cross}$   \n",
    "speed = distance divied by time $ s =\\frac{distance}{time}$"
   ]
  },
  {
   "cell_type": "markdown",
   "metadata": {},
   "source": [
    "那么，在两函数间转换的微积分是怎么样的？  \n",
    "我们已经知道了，代数可以在两函数间相互转换。  \n",
    "如果函数二是常数，那么函数一就是一条直线，非常直观，但这是基础。  \n",
    "$$\\begin{cases}speed=\\frac{f}{t}\\\\slope = \\frac{y}{x}\\end{cases}$$\n",
    "$$ \\begin{cases}f= st \\\\ y =xs\\end{cases}$$"
   ]
  },
  {
   "cell_type": "markdown",
   "metadata": {},
   "source": [
    "下面，再增加一点内容。  \n",
    "假设测量时间2和测量时间1，观察时间2和时间1之间，总共行驶了多远？  \n",
    "这就需要引入另外一个记号--也就是f的变化量$\\Delta f$除以t的变化量$\\Delta t$。  \n",
    "\n",
    "$\\Delta$表示差值。\n",
    "$$ Speed = \\frac{\\Delta f}{\\Delta t} = \\frac{80-40}{2-1} = 40$$"
   ]
  },
  {
   "cell_type": "markdown",
   "metadata": {},
   "source": [
    "### 进入微积分范畴\n",
    "速度不再是常数，速度一开始就很快，但它会逐渐减小，直到为0。  \n",
    "\n",
    "先考虑**函数一**，再考虑**函数二**：\n",
    "![title](./images/example_002.png)\n",
    "上图中f表示的是随着时间t，距离的变化。  \n",
    "如果是一辆车，它怎么在运动？  \n",
    "开始它在前行，因为距离一直在增加，一开始距离增加块，后面距离增加逐渐变慢。  \n",
    "可以说，在斜率为0处成功打了刹车，因为它碰到了红灯。"
   ]
  },
  {
   "cell_type": "markdown",
   "metadata": {},
   "source": [
    "### 从函数一求函数二，这叫做微分学 Differential Calculus\n",
    "### 从函数二求函数一，则叫做积分学 Integral Calculus\n",
    "求法叫作**积分Integration**。 \n",
    "比如当你知道了速度随着时间的变化趋势，这时你想求距离，就需要积分。  "
   ]
  },
  {
   "cell_type": "markdown",
   "metadata": {},
   "source": [
    "继续上面的问题，如果我继续绘制距离和速度曲线。  \n",
    "到了红灯以后，假设距离开始逐渐减小，发生了什么？  \n",
    "距离在减少，表示车在反向行驶，在倒车，速度会怎么样呢？  \n",
    "变为负值。  \n",
    "\n",
    "距离从大到小，这表示速度变为负值。  \n",
    "速度曲线会掉到横轴以下。 \n",
    "![title](./images/example_003.png)\n",
    "\n",
    " \n",
    "**两条曲线不同，但包含信息相同**。\n"
   ]
  },
  {
   "cell_type": "markdown",
   "metadata": {},
   "source": [
    "### 2.2 例子：身高和变化率\n",
    "Function(1) = Height of a person  \n",
    "Function(2) = Rate the person grows\n",
    "\n",
    "![title](./images/example_004.png)\n",
    "\n",
    "在这里，我只是想强调函数一和函数二之间的相互关系。"
   ]
  },
  {
   "cell_type": "markdown",
   "metadata": {},
   "source": [
    "### 2.3 例子：距离和恒定加速度\n",
    "Function(1) = Distance  \n",
    "Function(2) = Speed increases at a constant rate  \n",
    "\n",
    "#### 此处的过程是从函数二反推函数一（作积分）  \n",
    "![title](./images/example_005.png)\n",
    "\n",
    "非常有趣的是，Function(1)表示的是Function(2)，也就是图像二下的面积。 \n",
    "\n",
    "                 area under function(2) = function(1)\n",
    "\n",
    "由于本例中，加速度恒定，速度稳定增加，因此图像二下的面积是一个三角形area under function(2) $= \\frac{1}{2} t (at) = \\frac{1}{2} a t^2 $\n",
    "\n",
    "所以$$\\begin{cases}\n",
    "f = \\frac{1}{2} a t^2 \\\\\n",
    "s = \\frac{df}{dt} = at\n",
    "\\end{cases}$$\n",
    "\n",
    "距离就像是一个总和，而每一时刻的速度只是瞬间值。  \n",
    "差别在于，总和表示所行进的总距离，而速度只表示某时刻、某瞬间，距离的变化量。  \n",
    "速度相当于在图像一t点的斜率。  \n",
    "斜率也就是图像二的高, at。 \n"
   ]
  },
  {
   "cell_type": "markdown",
   "metadata": {},
   "source": [
    "Integrate Function(2) to find Function(1).  \n",
    "Integral Calculus uses speed to find distance.  "
   ]
  },
  {
   "cell_type": "markdown",
   "metadata": {},
   "source": [
    "----"
   ]
  },
  {
   "cell_type": "markdown",
   "metadata": {},
   "source": [
    "## Lec 03：导数总览 derivatives\n",
    "本节非常重要，它将总览导数的介绍和计算。   \n",
    "\n",
    "函数都是成对的，微积分就是讨论两种函数之间关系的学科。  "
   ]
  },
  {
   "cell_type": "markdown",
   "metadata": {},
   "source": [
    "1. Relationship Between Functions  \n",
    "    a. Distance & Speed   \n",
    "    $$\\begin{cases}f(t) \\\\\n",
    "    \\frac{df}{dt}\n",
    "    \\end{cases}$$\n",
    "    b. Height & Slope\n",
    "    $$\\begin{cases}y(x) \\\\\n",
    "    \\frac{dy}{dx}\n",
    "    \\end{cases}$$"
   ]
  },
  {
   "cell_type": "markdown",
   "metadata": {},
   "source": [
    "2. Slope of the Great Functions of Calculus  \n",
    "为下面这些微积分中重要的函数，求出其斜率。  \n",
    "其斜率都是可以用公式表示的$\\frac{dy}{dx}$  \n",
    "\n",
    "    a. $y=x^n$  $$\\frac{dy}{dx} = n x^{n-1}$$\n",
    "    b. $ y=\\sin x$   $$\\frac{dy}{dx} =\\cos x$$\n",
    "    c. $ y = e^x $    $$\\frac{dy}{dx} = e^x$$\n",
    "   \n",
    "   \n",
    "这三个函数确实极其重要，求导过程可能会花点时间，但一旦知道结果，意义重大。  \n",
    "要知道，很多其他函数，不管是科学、工程、经济、生活领域，都可以由这些函数得到。  \n",
    "可以是通过乘法，互相乘以，这就需要**乘法法则**。  \n",
    "对于导数，需要知道如何求乘积的斜率。  \n",
    "也可以进行除法，这就需要**除法法则**。  \n",
    "这里还可以嵌套，这是导数中最有用的法则，比如得到符合函数$e^{\\sin x}$，这就需要**链式法则chain rule**。 \n"
   ]
  },
  {
   "cell_type": "markdown",
   "metadata": {},
   "source": [
    "3. Example1: What does slope mean?  \n",
    "    a. $y=x^2$\n",
    "![title](./images/example_006.png)\n",
    " \n",
    " \n",
    " Average slope = $\\frac{change in y}{ change in x} = \\frac{\\Delta y}{\\Delta x}$\n",
    " \n",
    " Average$\\frac{\\Delta y}{\\Delta x} \\rightarrow $ instant slope$\\frac{\\Delta y}{\\Delta x}$\n",
    " \n",
    " Average Over 1st piece =$ \\frac{\\Delta y }{\\Delta x} = \\frac{(\\Delta x)^2}{\\Delta x} =\\Delta x$   \n",
    " 虽然$\\Delta x$已经很小了，但这里仍然是平均值。  \n",
    " 我想让$\\Delta x$减小为0，这时微积分才有用武之地。  \n",
    " 取极限，让这一段不断减小，从而无限接近某瞬时情况，这样就能得到斜率。  这里我们要求的也就是0点的情况。  \n",
    " 可以看到，上面式子的情形特别简单， Average Over 1st piece =$\\Delta x$，因此平均斜率平常之小。  \n",
    " 沿着这种逐渐变小的思路，我将求出$x=0$处的瞬时斜率。  \n",
    " \n",
    "                     Instant Slope at 0 = 0  \n",
    " \n",
    " 这就是我们之前预测的结果。"
   ]
  },
  {
   "cell_type": "markdown",
   "metadata": {},
   "source": [
    "### 下面来求任意点的斜率\n",
    "![title](./images/example_007.png)"
   ]
  },
  {
   "cell_type": "markdown",
   "metadata": {},
   "source": [
    "$$\\frac{\\Delta y}{\\Delta x} = \\frac{(x+\\Delta x)^2 - x^2}{\\Delta x} = \\frac{x^2 + 2x \\Delta x + (\\Delta x)^2-x^2}{\\Delta x} = 2x + \\Delta x$$\n",
    "\n",
    "下面微积分介入。  \n",
    "如果说$\\frac{\\Delta y}{\\Delta x} $是$\\frac{小}{小}$，那么$\\frac{dy}{dx}$就是$\\frac{极小}{极小}$，这里的d，小得可以说无法分辨。   \n",
    "小得不再将$dy$作为分开距离来考虑，这里其实已经不再是真正的除法，因为除法是不允许$\\frac{0}{0}$的，那么这里的$\\frac{0}{0}$是什么意思？  \n",
    "其实这里的$\\frac{0}{0}$，只是上面这种情况的极限。 \n",
    "$$\\frac{dy}{dx} = \\lim of \\frac{\\Delta y}{\\Delta x} $$\n",
    "这一步最为关键，这就从代数步入了微积分。  \n",
    "这就得到了某一点上的瞬时情形，取$\\Delta x$趋近于0，结果是什么？  \n",
    "\n",
    "$$\\frac{dy}{dx} =\\lim of \\frac{\\Delta y}{\\Delta x} =\\lim_{\\Delta x \\rightarrow 0} (2x + \\Delta x) = 2x$$\n",
    "这就是函数二（速度函数）。 \n",
    "![title](./images/example_008.png)"
   ]
  },
  {
   "cell_type": "markdown",
   "metadata": {},
   "source": [
    "4. Example2：What does slope mean?  \n",
    "    a. $y =\\sin x$  \n",
    "    b. $\\frac{dy}{dx}=\\cos x$\n",
    "    \n",
    "![title](./images/example_009.png)  \n",
    "增长、下降、快、慢、极大值、极小值   \n",
    "climbing, dropping, faster, slower, maximum, minimum \n",
    "\n",
    "这些体现了导数的重要性和实用性所在。"
   ]
  },
  {
   "cell_type": "markdown",
   "metadata": {},
   "source": [
    "----"
   ]
  },
  {
   "cell_type": "markdown",
   "metadata": {},
   "source": [
    "## Lec 04： 极值和二阶导数  Max and Min and Second Derivative"
   ]
  },
  {
   "cell_type": "markdown",
   "metadata": {},
   "source": [
    "一般问题不会涉及高阶导数，但二阶导数非常重要。 \n",
    "<img src='./images/example_010.png' width='70%'/>"
   ]
  },
  {
   "cell_type": "markdown",
   "metadata": {},
   "source": [
    "1. The Second Derivative    \n",
    "   The derivative of the derivative  \n",
    "   \n",
    "   二阶导数也就是导数的导数。  \n",
    "   它在处理极大、极小值时作用很大。 \n",
    "   这是导数的一项重要应用。  \n",
    "   \n",
    "   我们经常需要定位极值点，并判断是极大还是极小值。  \n",
    "   \n",
    "   #### 定位极值点是一阶导数的职责。 一阶导数为0即为极值点。\n",
    "   \n",
    "   #### 极大还是极小，这就是二阶导数的职责了。  \n",
    "   二阶导数表明，函数朝上还是朝下弯曲。 \n",
    "   \n",
    "   \n",
    "这样一组函数就扩充为三个，Lec 02 “微积分总览”一讲中，一组函数为两个：距离和速度（函数一、函数二），其关系之前已经详细讨论了。  \n",
    "- 知道距离如何反求速度：取导数即可。 \n",
    "\n",
    "现在则要考虑速度的导数，“延续距离-速度”的说法，二阶导数也就是“加速度”--即速度的变化率。  \n",
    " \n",
    " $$\\begin{cases}\n",
    " Distance: f(t)=t^2\\\\\n",
    " Speed = \\frac{df}{dt} =2t\\\\\n",
    " Acceleration = \\frac{d^2 f}{dt^2} =2\n",
    " \\end{cases}$$\n",
    " \n",
    " 注：$\\frac{d^2 f}{dt^2}$读作' d second f d t squared '。"
   ]
  },
  {
   "cell_type": "markdown",
   "metadata": {},
   "source": [
    "#### The sign of the Second Derivative \n",
    "Indicated Bending   \n",
    "\n",
    "图像上用弯曲性表示二阶导数非常自然。 \n",
    "\n",
    "$$\\begin{cases}\n",
    "Height: y(x)=x^2 \\\\\n",
    "Slope :\\frac{dy}{dx}=2x \\\\\n",
    "Bending :\\frac{d^2 y}{dx^2} =2\n",
    "\\end{cases} $$\n",
    "\n",
    "这个简单的例子中，我们将三个函数有机地结合了起来。  \n",
    "函数一为正，其斜率（函数二）为正，其二阶导数（函数三）弯曲性为正， 这就得到例子中的函数图像。  "
   ]
  },
  {
   "cell_type": "markdown",
   "metadata": {},
   "source": [
    "2. Examples of Second Deriviatives\n",
    "$$\\begin{cases}\n",
    "y = \\sin x \\\\\n",
    "Slope: y' = \\frac{dy}{dx} = \\cos x \\\\ \n",
    "Bending: y'' = \\frac{d^2 y } {dx^2} = -\\sin x\n",
    "\\end{cases}$$\n",
    "\n",
    "注：\n",
    "$y'$读作'y prime'，$y''$读作'y double prime'。"
   ]
  },
  {
   "cell_type": "markdown",
   "metadata": {},
   "source": [
    "\n",
    "<img src='./images/example_011.png' width='70%'/>"
   ]
  },
  {
   "cell_type": "markdown",
   "metadata": {},
   "source": [
    "下面将图像延伸到90°($\\frac{\\pi}{2}$ )之外。\n",
    "\n",
    "\n",
    "<img src='./images/example_012.png' width='70%'/>\n"
   ]
  },
  {
   "cell_type": "markdown",
   "metadata": {},
   "source": [
    "下面将图像延伸到180°($\\pi$ )之外。\n",
    "\n",
    "\n",
    "<img src='./images/example_013.png' width='70%'/>\n",
    "\n",
    "\n",
    "引出了一个新名词**INFLECTION POINT（拐点）**。  \n",
    "拐点就是二阶导数为0的点。  \n",
    "\n",
    "#### Infection Point（拐点）：\n",
    "- Where the second derivative is zero. \n",
    "- Where the second derivative(bending) changes sign \n",
    "\n",
    "拐点意味着什么？  \n",
    "这意味着，此时本例中曲线停止向下弯曲，开始向上弯曲。  \n",
    "随着二阶导数穿过0点，弯曲的方向改变了。  \n",
    "从在$[0,\\pi]$之间的Concave（凹），到$[\\pi, 2\\pi]$变为Convex（凸）。  \n",
    "\n",
    "\n",
    "这一点在图像中非常重要，当然，没有极大值和极小值那么打眼。  \n"
   ]
  },
  {
   "cell_type": "markdown",
   "metadata": {},
   "source": [
    "3. Convex and Concave Curves   \n",
    "按照国外统一定义：\n",
    "    - $f'' > 0$为凸 Convex，表示向上弯曲 ;\n",
    "    - $f'' < 0$为凹 Concave，表示向下弯曲。"
   ]
  },
  {
   "cell_type": "markdown",
   "metadata": {},
   "source": [
    "4. Locating the Maximum and Minimum and the Inflection Point"
   ]
  },
  {
   "cell_type": "markdown",
   "metadata": {},
   "source": [
    "接下来看一个新例子，再来看这些重要的点。  \n",
    "$$\\begin{cases}\n",
    "y = x^3 - x^2 \\\\\n",
    "y' = \\frac{dy}{dx}= 3 x^2 - 2x \\\\\n",
    "y'' = \\frac{d^2y}{dx^2}  = 6x - 2 \n",
    "\\end{cases}$$\n",
    "\n",
    "这些y, y', y''能为我作图提供不少细节。  \n",
    "\n",
    "\n",
    "<img src='./images/example_014.png' width='70%'/>\n",
    "\n",
    "导数只能解释周围很小很小范围内（领域）的情况。\n",
    "\n",
    "首先，要求极值，就是令$y' = 0$，得出的解$x = 0 或\\frac{2}{3}$。    \n",
    "要判断是否为局部最大值和局部最小值，需要判断对应的$y''$的值是大于0还是小于0， \n",
    "如果$y''$ > 0，则说明是凸Convex，向上弯曲，对应的极值点为局部最小值；   \n",
    "如果$y'' $< 0，则说明是凹Concave，向下弯曲，对应的极值点为局部最大值。  \n",
    "\n",
    "\n",
    "第二，要找到拐点Infection Point.  \n",
    "找到$y''$=0的解，x=$\\frac{1}{3}$  \n",
    "\n",
    "以上就是本例中曲线所有的特殊点。 "
   ]
  },
  {
   "cell_type": "markdown",
   "metadata": {},
   "source": [
    "5. Application: Driving to Work Finding the Minimum time"
   ]
  },
  {
   "cell_type": "markdown",
   "metadata": {},
   "source": [
    "#### Problem:  \n",
    "Find the best x to give the shortest time to work.  \n",
    "\n",
    "从Home到公路的垂直距离为a，从垂直点到MIT的距离为b。  \n",
    "假设从Home出发，沿着一定的角度到达公路，对应的差的距离为x，则从到达点到MIT的距离为b-x。  \n",
    "在小路的时速为30km/h, 公路的时速为60km/h。  \n",
    "\n",
    "试图使所花的从Home到MIT的时间最少。 \n",
    "\n",
    "\n",
    "<img src='./images/example_015.png' width='70%'/>\n"
   ]
  },
  {
   "cell_type": "markdown",
   "metadata": {},
   "source": [
    "$$ Time = \\frac{b-x}{60} + \\frac{\\sqrt{a^2+x^2}}{30}$$\n",
    "对公示求导：\n",
    "$$ Time' = -\\frac{1}{60} + \\frac{1}{30}\\frac{1}{2} \\frac{2x}{\\sqrt{a^2 + x^2}}$$\n",
    "求使得Time'为0的解，为$x = \\frac{a}{\\sqrt{3}}$   \n",
    "\n",
    "计算二阶导数，判断对应解的是否大于0，判断对应的极值点是最大值还是最小值。 \n",
    "\n",
    "#### 最值的一般求法：  \n",
    "比较所有驻点（f'=0）处及边界点函数值，得到的最大或最小值即函数最值。  "
   ]
  },
  {
   "cell_type": "markdown",
   "metadata": {},
   "source": [
    "----"
   ]
  },
  {
   "cell_type": "markdown",
   "metadata": {},
   "source": [
    "## Lec 05：指数函数 The Exponential $e^x$\n"
   ]
  },
  {
   "cell_type": "markdown",
   "metadata": {},
   "source": [
    "1. The Exponential Function   \n",
    "   The Function that Calculus Created\n",
    " "
   ]
  },
  {
   "cell_type": "markdown",
   "metadata": {},
   "source": [
    "指数函数只能用微积分构建，因为，要得到$e^x$，需要用到极限的步骤。   \n",
    "有些量趋于零，有些则趋于无穷。   \n",
    "虽然有各种方法来得到$e^x$，但这些方法都会涉及到极限的过程。  \n",
    "\n",
    "\n",
    "指数函数的重要性质：指数函数的导数就是其本身，这就是指数函数与众不同的地方。  \n",
    "$$\\begin{cases}\n",
    "y=e^x \\\\\n",
    "\\frac{dy}{dx} = e^x \n",
    "\\end{cases}$$\n",
    "\n",
    "The slope $\\frac{dy}{dx}$ is equal to y    \n",
    "Our first differential equation!  我们第一个微分方程，一阶微分方程。  \n"
   ]
  },
  {
   "cell_type": "markdown",
   "metadata": {},
   "source": [
    "2. The Exponential Function $y=e^x$  \n",
    "\n",
    "要使结果为$e^x$，\n",
    "$y = e^x$ starts at $y=e^0 = 1$\n"
   ]
  },
  {
   "cell_type": "markdown",
   "metadata": {},
   "source": [
    "3. Properties of the Exponential Function \n",
    "\n",
    "#### 性质1：\n",
    ">Special properites of the exponential function $y=e^x$  \n",
    "这个重要性质就是：指数函数的导数就是其本身。\n",
    "\n",
    "\n",
    "#### 性质2：\n",
    ">$$ e^x e^X = e^{x+X}$$\n"
   ]
  },
  {
   "cell_type": "markdown",
   "metadata": {},
   "source": [
    "用$y=e^x$的导数等于自身的性质来构造指数函数，然后来验证指数函数的性质$e^x e^X = e^{x+X}$。\n",
    "\n",
    "按照导数自身的性质来构造指数函数\n",
    "$$\\begin{cases}\n",
    "y(x) = 1 + x  + \\frac{1}{2} x^2 +\\frac{1}{3*2}x^3 + ... + \\frac{1}{n!} x^n+...\\\\\n",
    "\\frac{dy}{dx} = 1 + x  + \\frac{1}{2} x^2 +\\frac{1}{3*2}x^3 + ... + \\frac{1}{(n-1)!} x^{n-1} + \\frac{1}{n!} x^n+...\\\\\n",
    "\\end{cases}$$\n",
    "\n",
    " 上面构造的函数$y(x)$就是$e^x$。  \n",
    " \n",
    " $$ e^x = 1 + x + \\frac{1}{2!}x^2 + \\frac{1}{3!} x^3 + .... + \\frac{1}{n!}x^n$$\n",
    " is the exponential series.   \n",
    " \n",
    " 下面要验证指数函数的第二个性质，$e^x e^X = e^{x+X}$。  \n",
    "$$ e^x = 1 + x + \\frac{1}{2!}x^2 + \\frac{1}{3!} x^3 + .... + \\frac{1}{n!}x^n$$\n",
    "$$ e^X = 1 + X + \\frac{1}{2!}X^2 + \\frac{1}{3!}X^3 + .... + \\frac{1}{n!}X^n$$\n",
    "$$ e^{x+X}  = 1 + (x+X) +  \\frac{1}{2!}(x+X)^2 + \\frac{1}{3!}(x+X)^3 + .... + \\frac{1}{n!}(x+X)^n$$\n",
    "$$ e^x e^X = 1 +(x + X) + (\\frac{1}{2}x^2 + \\frac{1}{2} X^2 + xX) + (\\frac{1}{6} x^3 +\\frac{1}{6} X^3 + \\frac{1}{2} x^2 X + \\frac{1}{2}x X^2)+...$$\n",
    "\n",
    "二项式定理的展示式最终可以帮我们证明$e^x e^X = e^{x+X}$。   \n",
    "\n",
    "\n",
    "注：  \n",
    "二项式定理告诉我们如何展开和的n次方。  \n",
    "$$(a + b) ^ n = \\sum_{k=0}^n \\dbinom{n}{k} a^{n-k} b^k $$\n",
    "其中，二项式系数为$\\dbinom{n}{k} $。"
   ]
  },
  {
   "cell_type": "markdown",
   "metadata": {},
   "source": [
    " $$ e^x = 1 + x + \\frac{1}{2!}x^2 + \\frac{1}{3!} x^3 + .... + \\frac{1}{n!}x^n$$\n",
    " is the exponential series.   \n",
    " \n",
    " 这是数学中第二重要的无穷级数--指数级数。  \n",
    " \n",
    " 我就是用指数级数一项一项来构造$e^x$的，直到第n项出现。  \n",
    " \n",
    " 最重要的级数是--几何级数。   \n",
    " $$  = 1+ x +x^2 + x^3 + x^4 + ... +x^n + ...$$\n",
    " is the geometric series.   \n",
    " \n",
    " 几何级数即等比数列的无穷版，但这是有代价的。 正因为分数的存在，指数级数才不至于变得无穷大（收敛）。  \n",
    " 但几何级数并非如此，当x=1时，结果等于$1+1+1+... +1 $，变为无穷大。  \n",
    " 当x>1时，几何级数增长就更快了。  \n",
    " \n",
    " 因此，当且仅当x<1时，几何级数不会增长到无穷才成立。  \n",
    " x =1就是是否成立的分水岭。  \n",
    " \n",
    " 指数级数却无需这种界限，因为分数会越来越小，对于所有x都成立。  \n",
    " \n",
    " The number  e is the sum of the exponential series when x=1.  \n",
    " $$ e  = 1+\\frac{1}{2} + \\frac{1}{3!} + ... \\frac{1}{n!}$$\n",
    " $$ e = 2.71828 $$\n",
    " \n",
    " \n",
    " e is called Euler's number (欧拉），用Euler的名字的首字母e来命名这个数。  \n",
    " "
   ]
  },
  {
   "cell_type": "markdown",
   "metadata": {},
   "source": [
    "4. The Graph of the Function $y=e^x$\n",
    "\n",
    "![title](./images/example_016.png)"
   ]
  },
  {
   "cell_type": "markdown",
   "metadata": {},
   "source": [
    "5. Example: Computing Compound Interest    \n",
    "\n",
    "银行里存款的复利计算就是如此。  \n",
    "对于利息，利息与存款的数量成正比，如果可以利滚利，如果利息没有取出来，这样就会产生复利，利息变为存款。  \n",
    "当银行计算这比更大存款的利息时，会有比一开始更多的利息。   \n",
    "这样，银行存款就会呈指数增长。  \n",
    "![title](./images/example_017.png)"
   ]
  },
  {
   "cell_type": "markdown",
   "metadata": {},
   "source": [
    "<a href ='../Preparation%20Calculus/5利息与复利Interest%26Compound%20Interest.ipynb'>复利例子拓展</a>"
   ]
  },
  {
   "cell_type": "markdown",
   "metadata": {},
   "source": [
    "$$y=e^x$$ \n",
    "$$ \\frac{dy}{dx} = y , y=1 (当x=0)$$\n",
    "\n",
    "那么如果这个微分方程变为，c为某个常数。  \n",
    "$$ \\frac{dy}{dx} = cy$$\n",
    "\n",
    "在银行复利这个例子中，c表示利率，之前一直令银行利息c=1，100%的年利息。  \n",
    "而现在令c取任意利率，可能是正利率，也可能是负利率，那么这个微分方程的解是什么呢？  \n",
    "$$y(x) = e^{cx}$$\n",
    "$$y'(x) = c e^{cx} = c y $$"
   ]
  },
  {
   "cell_type": "markdown",
   "metadata": {},
   "source": [
    "----"
   ]
  },
  {
   "cell_type": "markdown",
   "metadata": {},
   "source": [
    "## Lec 06：积分总览 Big Picture: Integrals"
   ]
  },
  {
   "cell_type": "markdown",
   "metadata": {},
   "source": [
    "1. Function (2）is the Derivative of Function(1) \n",
    "\n",
    "2. Function (1) is the Integral of Function(2)\n",
    "\n",
    "3. Plan A: Recognize Function(2) as a known slope  \n",
    "\n",
    "4. Example: Finding Function (1) using Algebra\n",
    "\n",
    "5. Example: Finding Function (1) using Caculus  \n",
    "\n",
    "6. Plan B: Integral = Function (1) = Area under graph (2)"
   ]
  },
  {
   "cell_type": "markdown",
   "metadata": {},
   "source": [
    "\n",
    "<img src='./images/example_018.png' width='70%'/>\n",
    "\n",
    "上述课程中，我们已知微积分就是函数一和函数二之间的关系。 \n",
    "我们已经会了通过已知函数一获得函数二， 通过求函数一的导数就是函数二。  \n",
    "\n",
    "如果函数一是一条直线，那么求导很简单，只要用垂直距离除以水平距离就能得到。  \n",
    "但是，如果函数一是条曲线的话，就不那么容易了，得用一小段垂直距离除以一小段水平距离$\\frac{\\Delta y}{\\Delta x}$， 然后让距离不断缩小，得到的结果就是函数二，即导数。  \n",
    "\n",
    "We found the slope by subtracting heights.  \n",
    "Now we find the height by adding slopes.  \n",
    "\n",
    "今天我们反过来，在知道了导数，也就是s(x)的情况下，来求高度函数，求出y(x)的图像。  \n",
    "\n",
    "在知道了函数每一点导数的情况下，综合这些信息，来求出高度函数。"
   ]
  },
  {
   "cell_type": "markdown",
   "metadata": {},
   "source": [
    " 3. Plan A: Recognize Function(2) as a known slope  "
   ]
  },
  {
   "cell_type": "markdown",
   "metadata": {},
   "source": [
    "讲一种最简单的求解方法。  \n",
    "\n",
    "这种方法就是，在知道导数的情况下，反过来想想什么函数的导数是它。  \n",
    "\n",
    "举个例子：  \n",
    "一种用得很多的情况是x的某次幂，$x^n$。\n",
    "\n",
    "已知函数一$y =x^n$，求函数二。  \n",
    "$\\frac{dy}{dx} = n x^{n-1}$\n",
    "\n",
    "已知函数二$\\frac{dy}{dx}=x^n$，求函数一。   \n",
    "$\\frac{1}{n+1} x^{n+1}$"
   ]
  },
  {
   "cell_type": "markdown",
   "metadata": {},
   "source": [
    "但是还有很多函数，是无法像x的幂函数，指数函数，log函数，三角函数等凑出上面讲过的函数形式的。  \n",
    "\n",
    "有很多函数表，可以帮助我们通过函数二反求得到函数一。  \n",
    "\n",
    "但是，今天我们要了解的是：实际过程是什么？$$\\frac{dy}{dx} = \\lim_{\\Delta x -> 0}\\frac{\\Delta y}{\\Delta x}$$  这一步的逆过程是什么？\n",
    "\n",
    "在逆过程中，我需要引入一个新的符号，$\\int$。    \n",
    "如果已知s(x)，要反过来求y(x)，也就是从函数二到函数一。\n",
    "$$(2) \\rightarrow (1) \\  y(x) = \\int s(x) d(x)$$\n",
    "\n",
    "Distance is the Integral of Speed.   \n",
    "Function (1) is the Integral of Function (2). \n"
   ]
  },
  {
   "cell_type": "markdown",
   "metadata": {},
   "source": [
    "首先，我要取许多间隔，我要尽快地讲到连续的情形，先取单独的间隔，然后使这些间隔变小，最后取极限，使得它们连续。  \n",
    "\n",
    "好的，首先是取大间隔。 \n",
    "让我用例子来说明。  \n",
    "假设有一个函数y，相同的x间隔下，y的取值是0、1、4、9、16...（这些值表示高度）。  \n",
    "图像看上去像几条直线段，只在几个点上变化，对应的斜率是什么呢？   \n",
    "斜率s代表函数二， y值0-1之间的间隔是1，纵向的值即为1，所以对应的平均斜率为1。  以此类推，得到：\n",
    "\n",
    "<img src='./images/example_019.png' width='40%'/>\n"
   ]
  },
  {
   "cell_type": "markdown",
   "metadata": {},
   "source": [
    "$$\\frac{\\Delta y}{\\Delta x} = \\frac{1-0}{1} = 1$$\n",
    "$$\\frac{\\Delta y}{\\Delta x} = \\frac{4-1}{1} = 3$$\n",
    "$$\\frac{\\Delta y}{\\Delta x} = \\frac{9-4}{1} = 5$$\n",
    "$$\\frac{\\Delta y}{\\Delta x} = \\frac{16-9}{1} = 7$$\n",
    "..."
   ]
  },
  {
   "cell_type": "markdown",
   "metadata": {},
   "source": [
    "\n",
    "如果s是每段间隔上的高度差，那么，求y就是对s的值进行累加，将这些斜率值相加来得出一个高度。\n",
    "\n",
    "Function (2) to Function(1):  \n",
    "Addition to get running totals \n",
    "\n"
   ]
  },
  {
   "cell_type": "markdown",
   "metadata": {},
   "source": [
    "----"
   ]
  },
  {
   "cell_type": "markdown",
   "metadata": {},
   "source": [
    "我再举一个例子说明这一点。  \n",
    "\n",
    "已知s，求对应的y。  \n",
    "\n",
    "<img src='./images/example_020.png' width='40%'/>\n",
    "\n",
    "上面的例子，我能用数字来计算，也能用字母来计算。  \n",
    "\n",
    "现在，从算术方法过渡到代数方法。  \n",
    "Example: Finding Function (1) using Algebra.  \n",
    "\n",
    "也就是说，我要引入字母。  \n",
    "但这些还不是连续的，因此还不是微积分。  \n",
    "\n",
    "那么用字母可以表示为$y_0$、$y_1$、$y_2$、$y_3$、$y_4$，如果水平间隔是1，它们的斜率是多少？  \n",
    "首先求对应的$\\Delta y$。   \n",
    "\n",
    "<img src='./images/example_021.png' width='40%'/>\n",
    "\n",
    "\n",
    "如果我将$\\Delta y$都加起来，结果会是什么？  \n",
    "将上图$\\Delta y$的四项加起来得到的总变化量是多少？  \n",
    "$$\\sum \\Delta y = y_4 - y_0 = y_{last} - y_{first}$$\n",
    "\n",
    "这又一次提醒我们，这是函数二到函数一的逆过程。  \n",
    "将之前的结果加起来，也就是将各个小块加起来得到对应的y。 \n",
    "\n"
   ]
  },
  {
   "cell_type": "markdown",
   "metadata": {},
   "source": [
    "----"
   ]
  },
  {
   "cell_type": "markdown",
   "metadata": {},
   "source": [
    "下面真正进入我想讲的，终于要引入微积分了。  \n",
    "\n",
    "Example: Finding Function (1) using Calculus.  \n",
    "\n",
    "微积分需要从$\\frac{\\Delta y}{\\Delta x}$出发，那么我要怎么做才能与微积分联系起来。  \n",
    "我要让$\\Delta y$除以一个更小的间隔$\\Delta x$。 \n",
    "\n",
    "我可以 \n",
    "Divide and multiply by delta x\n",
    "$$\\sum (\\frac{\\Delta y}{\\Delta x})\\Delta x = y_{last} - y_{first}$$\n",
    "\n",
    "为什么要这么做？ \n",
    "因为$\\frac{\\Delta y}{\\Delta x}$是一个变化率，我们可以让该变量$\\Delta x$越来越小，我要观察很小$\\Delta x$上高度的变化。  \n",
    "于是$\\frac{\\Delta y}{\\Delta x}$这个比值开始有意义，慢慢接近函数s，近似但不等于$\\frac{dy}{dx}$。 \n",
    "然后$\\frac{\\Delta y}{\\Delta x}$乘以这个越来越小的$\\Delta x$，$\\Delta x$趋向于0，但还不等于0，最后求和得到了$y_{last} - y_{first}$。\n"
   ]
  },
  {
   "cell_type": "markdown",
   "metadata": {},
   "source": [
    "现在，要用到极限了。  \n",
    "也就是求左边这个总和$\\sum (\\frac{\\Delta y}{\\Delta x})\\Delta x $的极限。\n",
    "\n",
    "取极限的过程中，间隔$\\Delta x$被分得越来越细，随着$\\Delta x$的变小，如果假设x总变化量不变，把它不断细分，这样，被分得更细部分的斜率，乘以相应的$\\Delta x$，得到右侧的结果。  \n",
    "\n",
    "那么现在我就可以在这个是自上加上极限，使$\\Delta x \\rightarrow 0$，右边的式子$y_{last}-y_{first}$保持不变。  \n",
    "\n",
    "In the limit as delta x goes to zero, the sum becomes an integral!   \n",
    "\n",
    "在$\\Delta x \\rightarrow 0$的条件下，对$\\frac{\\Delta y} {\\Delta x}$的取极限后，就变成了$\\frac{dy}{dx}$，$\\frac{dy}{dx}$乘以$\\Delta x$的总和，求极限后用求和符号就不合适了。  \n",
    "\n",
    "所以，就引入了积分号$\\int$。  \n",
    "积分其实也是一种求和 ，只是包含了求极限的步骤，所以对应的公式就变为了\n",
    "$$\\int \\frac{dy}{dx} dx = y_{last} - y_{first} $$\n",
    "\n",
    "这就验证了之前介绍的式子：\n",
    "$$(2) \\rightarrow (1) \\  y(x) = \\int s(x) d(x)$$"
   ]
  },
  {
   "cell_type": "markdown",
   "metadata": {},
   "source": [
    "在讨论中，我先用了算法方法，再用代数方法，算出这些项的总和，这都很简单。  \n",
    "然后引入了极限。"
   ]
  },
  {
   "cell_type": "markdown",
   "metadata": {},
   "source": [
    "那么，我下面具体讲下求极限的过程。 \n",
    "\n",
    "Plan B: Integral = Function (1) = Area under graph(2)"
   ]
  },
  {
   "cell_type": "markdown",
   "metadata": {},
   "source": [
    "用一个例子说明。  \n",
    "我用一个特定的函数，按照上面讲的步骤，就是求极限的步骤，来看结果是什么？  \n",
    "应该是得到函数一，此外，我们还可以了解到函数一的另一种意义。  \n",
    "\n",
    "\n",
    "先给出一个特定的函数s(x)。 \n",
    "\n",
    "Example: Slope s(x) = 2-2x  \n",
    "\n",
    "现在就不用刚开始讲的那个简单函数了，当然，这个也并不很难。  \n",
    "我们将看到下面会发生什么，我把这个函数画出来。  \n",
    "\n",
    "\n",
    "<img src='./images/example_022.png' width='30%'/>\n",
    "\n",
    "\n",
    "上面的s(x)的函数图像限定在阈值为[0,1]之间，   \n",
    "当x=0时，$s_{first} = 2$;  \n",
    "当x=1时，$s_{last} = 0$;  \n",
    "\n",
    "\n",
    "那么，我的方法是，当然不是我的，牛顿和莱布尼茨以及许多人都用过这种方法，很有趣吧。  \n",
    "早在牛顿、莱布尼茨和其他任何人用这种方法之前，阿基米德就已经想到了。  \n",
    "阿基米德发现了处理抛物线的方法。  \n",
    "他利用某种特殊思想，通过抛物线$x^2$来反求高度函数。  \n",
    "他是史上最伟大的数学家之一，但即使是这样的人，也没能发现，函数一与函数二之间的联系。  \n",
    "如果他发现这种联系的话，他将有更多收获。  \n",
    "\n",
    "好，让我们来看看这种联系。  \n",
    "\n",
    "我要做的是，先取一个$\\Delta x$，使$\\Delta x = \\frac{1}{4}$。  \n",
    "接下来该怎么做呢？   \n",
    "好，看第一段，图上是斜率函数s，导数在变化，虽然变化不是很大，但还是有变化的。  \n",
    "我无法用代数来处理这种情况。  \n",
    "区间内，我可以在区间内任意取一函数值，并保持不变。  \n",
    "比如，可以取开始时的值，第一个$\\Delta x$的范围内，假定对应斜率值保持为2。  \n",
    "假定第二个斜率区间$[\\Delta x, 2 \\Delta x]$的斜率值保持为1.5。  \n",
    "假定第三个斜率区间$[2\\Delta x, 3 \\Delta x]$的斜率值保持为1。\n",
    "假定第四个斜率区间$[3\\Delta x, 4\\Delta x]$的斜率值保持为0.5。 \n",
    "\n",
    "\n",
    "<img src='./images/example_023.png' width='30%'/>\n",
    "\n",
    "\n",
    "现在回过头，将距离和速度与这里联系起来，我要把整个时间，比如把一整天分成四份，每一份的速度都是变化的，这种情况我无法处理，代数方法无法处理。   \n",
    "因此我只能这样，假设速度在起初一小段时间内是一个常数，这可以用$\\Delta t$取到原来的$\\Delta x$。  \n",
    "s表示速度，但是图像不会有变化。  \n",
    "\n",
    "接下来做什么？   \n",
    "来做加法。  \n",
    "通过加法不会得到y的精确值，因为用这些矩形本身就不精确，但可以通过减小$\\Delta x$，使这些矩形接近实际值。  \n",
    "\n",
    "让我们看看现在的情况：  \n",
    "在第一个时间段，斜率是2，所以$\\frac{\\Delta y}{\\Delta x} = 2$， 也就是s，然后s乘以$\\Delta x$，结果是什么？  \n",
    "结果可以看作是第一个时间段对应的矩形的面积。  \n",
    "这是一种全新的认知。  \n",
    "\n",
    "接下来每个时间段的结果累加得到：\n",
    "$$ (\\frac{\\Delta y_1}{\\Delta x_1}) \\Delta x_1 + (\\frac{\\Delta y_2}{\\Delta x_2}) \\Delta x_2 + (\\frac{\\Delta y_3}{\\Delta x_3}) \\Delta x_3 + (\\frac{\\Delta y_4}{\\Delta x_4}) \\Delta x_4 $$ \n",
    "$$ = (2) \\frac{1}{4} + (1.5) \\frac{1}{4}  + (1) \\frac{1}{4}  + (0.5) \\frac{1}{4}$$ \n",
    "$$ = 1.25$$\n",
    "\n",
    "这是一种代数的加法运算。  \n",
    "结果是什么？  \n",
    "得到的结果要比实际的距离要大，因为实际的斜率值要比运算中的小一点。  \n",
    "我将这几块加起来算出了结果，但这个结果并不正确，不是最终结果。   \n",
    "\n",
    "如何得到正确的结果呢？  \n",
    "可以把$\\Delta x=\\frac{1}{4}$一分为二，现在图像就会有所改变。\n",
    "\n",
    "\n",
    "<img src='./images/example_024.png' width='30%'/>\n",
    "\n",
    "现在的图像由8块矩形组成，这个综合由更多项相加，而每一项被分得更小了，每一项的大小又等于$\\Delta x$乘以s。   \n",
    "\n",
    "通过极限，我得到了一个连续的和。  \n",
    "这好比是通过速度计算里程，通过这张图，你们看出结果吗？  \n",
    "当$\\Delta x$越来越小后，阴影部分形状会变成什么？  \n",
    "阴影部分上端会与曲线重合，这些多余的小块，最后会越来越小， 最后一处的y值，就在最后这一刻，等于斜率曲线下的面积。  \n",
    "y就成了\n",
    "\n",
    "Function (1) is the Integral of Function (2) \n",
    "\n",
    "y(x)[Function (1)] is the area under the graph of s(x) [Function (2)]\n",
    "y就成了曲线s(x)下的面积。  \n"
   ]
  },
  {
   "cell_type": "markdown",
   "metadata": {},
   "source": [
    "那x=1时，高度是多少？  \n",
    "看到s(x)函数中$x \\in [0,1]$这部分的面积是多少？  \n",
    "也就是求三角形的面积。  \n",
    "三角形的底为1，高为2，所以三角形的面积为$\\frac{1}{2} *2 * 1 = 1$   \n",
    "\n",
    "总共的面积y是1。  \n",
    "\n",
    "不过，如果我只要求一半时的高度，即$x=\\frac{1}{2}$时的高度y值，也就是s(x)中$x \\in [0,\\frac{1}{2}]$的面积，结果会是多少？  \n",
    "\n",
    "The height is the area under the graph of s (here it is a Trapezoid) 梯形    \n",
    "\n",
    "对应的梯形的底为$\\frac{1}{2}$，而平均的高为$ \\frac{(2+1)}{2} = \\frac{3}{2}$\n",
    "\n",
    "$$area\\ of\\ Trapezoid = \\frac{1}{2} * \\frac{3}{2}  =\\frac{3}{4} $$\n",
    "\n",
    "所以函数一种$x = \\frac{1}{2}$时，对应的y值为$\\frac{3}{4}$。  \n"
   ]
  },
  {
   "cell_type": "markdown",
   "metadata": {},
   "source": [
    "下面要开始作图了，开始绘制s(x) = 2 - 2x对应的函数一的y(x)的图像。  \n",
    "\n",
    "直接跳到极限情况，用这一讲一开始说到的方法，猜一猜s(x) = 2-2x的原函数。 \n",
    "这是一条捷径。  \n",
    "毕竟没有人想每次求积分都用这么复杂的过程。  \n",
    "最好的方法是，直接找y函数，看什么函数具有这样的导数。  \n",
    "\n",
    "我们可以把函数s(x) = 2- 2x分成两部分看，这是性质允许的。  \n",
    "那么导数是2的函数是多少？  \n",
    "是2x。  \n",
    "\n",
    "导数是2x的函数是多少？   \n",
    "是$\\frac{1}{2} x^2$。  \n",
    "\n",
    "所以s(x) = 2-2x对应的函数一$y(x) = 2x -\\frac{1}{2} x^2$。\n",
    "将$x =\\frac{1}{2}$代入y(x) 得到$\\frac{3}{4}$，验证成立。  \n",
    "\n",
    "The slope s=2-2x comes from the changing height $y(x) = 2x -\\frac{1}{2} x^2$. \n",
    "\n",
    "![title](./images/example_025.png)"
   ]
  },
  {
   "cell_type": "markdown",
   "metadata": {},
   "source": [
    "当x=1时，斜率为0，高度和面积不再增加；  \n",
    "继续往后，面积还会损失，因为到了x轴以下，相当于面积减少。  \n",
    "如果考虑速度，则相当于逆行。  \n",
    "y(x)对应的函数图，在x=1之后，图像会向下弯曲；  \n",
    "当x=2时，对应的y(2) = 0 。  "
   ]
  },
  {
   "cell_type": "markdown",
   "metadata": {},
   "source": [
    "### 总结：\n",
    "Integration: \n",
    "\n",
    "Recover Function (1）from Function (2)  \n",
    "\n",
    "今天讲的是：如何从函数二反求函数一。  \n",
    "\n",
    "Quick Way: s = Function (2) is slope of a known height function f = Function (1) \n",
    "最快的方法是--反过来想什么样的函数一求导能得到这个函数二。  \n",
    "\n",
    "如果想不出来，或者是想了解背后的极限原理，可以用类似代数的方法，关键是这个式子：\n",
    "$$\\Delta x \\rightarrow 0 \\int \\frac{dy}{dx} dx = y_{last} - y_{first}$$  \n",
    "\n",
    "它蕴含是很多数学的真谛，$\\Delta x$趋向于0，$\\frac{\\Delta y}{\\Delta x}$这个比率变成斜率函数$\\frac{dy}{dx}$，而$\\Delta x$被无穷小量$dx$代替。  \n"
   ]
  }
 ],
 "metadata": {
  "kernelspec": {
   "display_name": "Python 3",
   "language": "python",
   "name": "python3"
  },
  "language_info": {
   "codemirror_mode": {
    "name": "ipython",
    "version": 3
   },
   "file_extension": ".py",
   "mimetype": "text/x-python",
   "name": "python",
   "nbconvert_exporter": "python",
   "pygments_lexer": "ipython3",
   "version": "3.6.5"
  }
 },
 "nbformat": 4,
 "nbformat_minor": 2
}
