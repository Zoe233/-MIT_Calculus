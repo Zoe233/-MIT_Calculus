{
 "cells": [
  {
   "cell_type": "markdown",
   "metadata": {},
   "source": [
    "# 8. 反函数"
   ]
  },
  {
   "cell_type": "markdown",
   "metadata": {},
   "source": [
    "## 1. 反函数的定义\n",
    "一般地，设函数$y=f(x)(x∈A)$的值域是C，若找得到一个函数$g(y)$在每一处$g(y)$都等于x，这样的函数$x= g(y)(y∈C)$叫做函数$y=f(x)(x∈A)$的**反函数**，记作$y=f^(-1)(x)$。反函数$y=f ^(-1)(x)$的定义域、值域分别是函数y=f(x)的值域、定义域。**最具有代表性的反函数就是对数函数与指数函数。**  \n",
    "\n",
    "一般地，如果x与y关于某种对应关系$f(x)$相对应，$y=f(x)$，则$y=f(x)$的反函数为$x=f (y)$或者$y=f^-1(x)$。存在反函数(默认为单值函数）的条件是原函数必须是一一对应的（不一定是整个数域内的）。注意：上标\"−1\"指的并不是幂。"
   ]
  },
  {
   "cell_type": "markdown",
   "metadata": {},
   "source": [
    "![title](./images/inverse_f_001.png)"
   ]
  },
  {
   "cell_type": "markdown",
   "metadata": {},
   "source": [
    "## 2. 函数与其反函数 -- 互为反函数\n",
    "![title](./images/inverse_f_002.png)\n",
    "\n",
    "函数f的定义域D和值域f(D)恰好就是反函数f-1的值域和定义域，并且$f^{-1}$的反函数就是f，也就是说，函数f和$f^{-1}$互为反函数。"
   ]
  },
  {
   "cell_type": "markdown",
   "metadata": {},
   "source": [
    "## 3. 例子3\n",
    "![title](./images/inverse_f_003.png)"
   ]
  },
  {
   "cell_type": "markdown",
   "metadata": {},
   "source": [
    "## 4. 可逆Invertible\n",
    "相对于反函数$y=f^{-1}(x)$来说，原来的函数$y=f(x)$称为**直接函数**。 \n",
    "\n",
    "**反函数和直接函数的图像关于直线y=x对称。**\n",
    "\n",
    "这是因为，如果设(a,b)是y=f(x)的图像上任意一点，即$b=f(a)$。根据反函数的定义，有$a=f^{-1}(b)$，即点$(b,a)$在反函数$y=f^{-1}(x)$的图像上。而点$(a,b)$和$(b,a)$关于直线$y=x$对称，由$(a,b)$的任意性可知$f$和$f^{-1}$关于$y=x$对称。\n",
    "于是我们可以知道，如果两个函数的图像关于$y=x$对称，那么这两个函数互为反函数。 \n",
    "这也可以看做是反函数的一个几何定义。\n",
    "\n",
    "在微积分里，$f^{ (n)}(x)$是用来指f的n次微分的。   \n",
    "若一函数有反函数，此函数便称为可逆的（invertible）。"
   ]
  },
  {
   "cell_type": "markdown",
   "metadata": {},
   "source": [
    "## 5. 例子\n",
    "![title](./images/inverse_f_004.png)\n",
    "![title](./images/inverse_f_005.png)"
   ]
  },
  {
   "cell_type": "markdown",
   "metadata": {},
   "source": []
  }
 ],
 "metadata": {
  "kernelspec": {
   "display_name": "Python 3",
   "language": "python",
   "name": "python3"
  },
  "language_info": {
   "codemirror_mode": {
    "name": "ipython",
    "version": 3
   },
   "file_extension": ".py",
   "mimetype": "text/x-python",
   "name": "python",
   "nbconvert_exporter": "python",
   "pygments_lexer": "ipython3",
   "version": "3.6.5"
  }
 },
 "nbformat": 4,
 "nbformat_minor": 2
}
