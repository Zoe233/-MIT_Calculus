{
 "cells": [
  {
   "cell_type": "markdown",
   "metadata": {},
   "source": [
    "# 微积分与概率论基础\n"
   ]
  },
  {
   "cell_type": "markdown",
   "metadata": {},
   "source": [
    "## 微积分复习"
   ]
  },
  {
   "cell_type": "markdown",
   "metadata": {},
   "source": [
    "### 1. 两边夹定理（夹逼定理）\n",
    "当$x \\in U(x_0,r)$时，有$g(x) \\leq f(x) \\leq h(x) $，并且\n",
    "$$ \\lim_{x \\to x_0}g(x) = A, \n",
    "\\lim_{x \\to x_0} h(x) =A$$，那么\n",
    "$$ \\lim_{x \\to x_0}f(x) = A$$"
   ]
  },
  {
   "cell_type": "markdown",
   "metadata": {},
   "source": [
    "![title](./images/e_02.png)\n",
    "\n",
    "其证明定理过程有：\n",
    "<a href='./1极限limit.ipynb'>1. 极限 limit<a>"
   ]
  },
  {
   "cell_type": "markdown",
   "metadata": {},
   "source": [
    "#### 思考：\n",
    "该式的极限是多少？\n",
    "$$ \\lim_{x \\to 0} \\frac{\\sin^2 x}{x^2}$$\n",
    "\n",
    "解：\n",
    "$$ \\lim_{x \\to 0} \\frac{\\sin^2 x}{x^2}$$\n",
    "$$ = \\lim_{x \\to 0} (\\frac{\\sin x}{x})^2 $$\n",
    "$$ = 1^2 = 1 $$"
   ]
  },
  {
   "cell_type": "markdown",
   "metadata": {},
   "source": [
    "## 2.极限存在定理\n",
    "单调有界数列必有极限\n",
    "- 单增数列有上界，则其必有极限\n"
   ]
  },
  {
   "cell_type": "markdown",
   "metadata": {},
   "source": [
    "![title](./images/e_03.png)\n",
    "\n",
    "其中第一步的展开使用的是\n",
    "**二项式定理**\n",
    "$$(a + b) ^ n = \\sum_{k=0}^n \\dbinom{n}{k} a^{n-k} b^k $$\n",
    "其中，二项式系数为$\\dbinom{n}{k} $。"
   ]
  },
  {
   "cell_type": "markdown",
   "metadata": {},
   "source": [
    "推导式中用于求极限的第一个右式即为\n",
    "![title](./images/e_01.png)\n",
    "\n",
    "$$ S = \\frac{1}{0!} + \\frac{1}{1!} + \\frac{1}{2!} + \\frac{1}{3!} + ... + \\frac{1}{n!} + ... $$\n",
    "$$ < 1 + 1 + \\frac{1}{2} + \\frac{1}{2^2} ... +\\frac{1}{2^{n-1}}$$\n"
   ]
  },
  {
   "cell_type": "markdown",
   "metadata": {},
   "source": [
    "![title](./images/e_04.png)"
   ]
  },
  {
   "cell_type": "markdown",
   "metadata": {},
   "source": [
    "## 3.导数\n"
   ]
  },
  {
   "cell_type": "markdown",
   "metadata": {},
   "source": [
    "- 简单的说，导数就是曲线的斜率，是曲线变化快慢的反应。   \n",
    "\n",
    "- **二阶导数**是斜率变化快慢的反应，表征曲线的**凹凸性**\n",
    "    - 在GIS中，往往一条二阶导数连续的曲线，我们称之为“光顺”的。\n",
    "    - 高中物理老师常念叨：**加速度**的方向总是指向轨迹曲线凹的一侧。\n"
   ]
  },
  {
   "cell_type": "markdown",
   "metadata": {},
   "source": [
    "### 常用函数的导数\n",
    "- $C' = 0 (C为常数）$\n",
    "- $(x^n)' = nx^{n-1} $\n",
    "- $(\\sin x)' = \\cos x$\n",
    "- $(\\cos x)' = -\\sin x$\n",
    "- $ (a^x)' = a^x \\ln a$\n",
    "- $ (e^x)' = e^x $\n",
    "- $ (\\log_a x)' = \\frac{1}{x} \\log_a e$\n",
    "- $ (\\ln x)' = \\frac{1}{x}$\n",
    "\n",
    "$$ (u+v)' = u' + v' $$\n",
    "$$ (uv)' = u'v + uv' $$"
   ]
  },
  {
   "cell_type": "markdown",
   "metadata": {},
   "source": [
    "![title](./images/e_05.png)"
   ]
  },
  {
   "cell_type": "markdown",
   "metadata": {},
   "source": [
    "![title](./images/e_06.png)"
   ]
  },
  {
   "cell_type": "markdown",
   "metadata": {},
   "source": [
    "## 4.Taylor公式 （泰勒公式）\n",
    "数学中，泰勒公式是一个用函数在某点的信息描述其附近取值的公式。   \n",
    "如果函数足够平滑的话，在已知函数在某一点的各阶导数值的情况下，泰勒公式可以用这些导数值做系数构建一个多项式来近似函数在这一点的领域中的值。   \n",
    "泰勒公式还给出了这个多项式和实际值之间的偏差。\n",
    "\n",
    "- 中文名：泰勒展示\n",
    "- 外文名：Taylor's formula\n",
    "- 特例：麦克劳林级数Maclaurin、拉格朗日定理\n",
    "\n",
    "泰勒公式是将一个在$x=x_0$处具有n阶导数的函数$f(x)$利用关于$(x-x_n)$的n次多项式来逼近函数的方法。   \n",
    "\n",
    "若函数$f(x)$在包含你$x_0$的某个闭区间$[a,b]$上具有n阶导数，且在开区间$(a,b)$上具有$(n+1)$阶导数，则对闭区间$[a,b]$上任意一点$x$，成立下式：  \n",
    "$$ f(x) = \\frac{f(x_0)}{0!}(x-x_0)^0 + \\frac{f'(x_0)}{1!}(x-x_0) + \\frac{f''(x_0)}{2!}(x-x_0)^2 + \\frac{f'''(x_0)}{3!}(x-x_0)^3 + ... + \\frac{f^{(n)} (x_0)}{n!}(x-x_0)^n + R_n(x)$$\n",
    "其中，$f^{(n)}(x)$表示$f(x)$的n阶导数，等号后的多项式称为函数$f(x)$在$x=x_0$处的泰勒展示式，剩余的$R_n(x)$是泰勒公式的余项，是$(x-x_0)^n$的高阶无穷小。"
   ]
  },
  {
   "cell_type": "markdown",
   "metadata": {},
   "source": [
    "### Maclaurin公式\n",
    "令$x_0 =0$则可以得到：\n",
    "$$ f(x) = \\frac{f(0)}{0!}(x)^0 + \\frac{f'(0)}{1!}(x) + \\frac{f''(0)}{2!}(x)^2 + \\frac{f'''(0)}{3!}(x)^3 + ... + \\frac{f^{(n)} (0)}{n!}(x)^n + o(x^n)$$"
   ]
  },
  {
   "cell_type": "markdown",
   "metadata": {},
   "source": [
    "### 常见函数的泰勒公式\n",
    "根据麦克劳林公式\n",
    "$$ e^x = 1 + x + \\frac{x^2}{2!} + \\frac{x^3}{3!} + ... + \\frac{x^n}{n!} + R_n$$\n",
    "$$ \\sin x = x - \\frac{x^3}{3!} + \\frac{x^5}{5!} -\\frac{x^7}{7!} + \\frac{x^9}{9!} - ... + (-1)^{m-1}\\frac{x^{2m-1}}{(2m-1)!} + R_{2m}$$"
   ]
  },
  {
   "cell_type": "markdown",
   "metadata": {},
   "source": [
    "![title](./images/e_07.png)\n",
    "\n",
    "在计算机中，可以$2^k$可以用移位计算，$e^r$比$e^x$中$r$离原点更近，计算效率更高，收敛更快。"
   ]
  },
  {
   "cell_type": "markdown",
   "metadata": {},
   "source": [
    "![title](./images/e_08.png)\n",
    "\n",
    "$$ H(X) = -\\sum_{k=1}^K p_k \\ln p_k $$\n",
    "$$ = \\sum_{k=1}^K p_k (- \\ln p_k) $$  \n",
    "此处同上$f(x) = -\\ln x $在$x_0 = 1$处一阶展开，忽略高阶无穷小，得到$f(x) \\simeq 1- x$\n",
    "$$ \\simeq \\sum_{k=1}^K p_k (1-p_k)$$  ==> Gini指数"
   ]
  },
  {
   "cell_type": "markdown",
   "metadata": {},
   "source": [
    "## 5.方向导数\n",
    "如果函数$z = f(x,y) $在点$P(x,y)$是可微分的，那么，函数在该点沿任一方向$L$的方向导数都存在，且有：\n",
    "$$ \\frac{\\partial f}{\\partial l} = \\frac{\\partial f}{\\partial x}\\cos \\varphi + \\frac{\\partial f}{\\partial y}\\sin \\varphi$$\n",
    "其中，$\\psi$为x轴到方向$L$的转角。"
   ]
  },
  {
   "cell_type": "markdown",
   "metadata": {},
   "source": [
    "## 6.梯度\n",
    "设函数$z = f(x,y)$在平面区域$D$内具有一阶连续偏导数，则对于每一个点$P(x,y) \\in D$，向量\n",
    "$$ \\lgroup \\frac{\\partial f}{\\partial x}, \\frac{\\partial f}{\\partial y} \\rgroup $$\n",
    "为函数$z = f(x,y)$在点$P(x,y)$的梯度，记作$\\nabla f(x,y) $ (grad $f(x,y)$)\n",
    "\n",
    "- 梯度的方向是函数在该点变化最快的方向\n",
    "    - 考虑一座解释式为$H(x,y)$的山。 在$(x_0, y_0)$点的梯度是在该点坡度最陡的方向。 \n",
    "\n",
    "- 梯度下降法：\n",
    "    - 思考：如果下山方向和梯度呈$\\theta$夹角，下降速度是多少？\n",
    "    "
   ]
  },
  {
   "cell_type": "markdown",
   "metadata": {},
   "source": [
    "## 7.凸函数 Convex Function\n",
    "$f(x)$在曲线$I$上连续，如果对$I$上任意两点$x_1$，$x_2$，恒有\n",
    "$$f(\\frac{x_1 + x_2}{2}) < \\frac {f(x_1)+f(x_2)}{2}$$\n",
    "则称$f(x)$在$I$上是凸函数。\n",
    "\n",
    "例如：\n",
    "$$f(x) = x^2$$"
   ]
  },
  {
   "cell_type": "markdown",
   "metadata": {},
   "source": [
    "### 凸函数的判定\n",
    "#### 定理：   \n",
    "$f(x)$在区间$[a,b]$上连续，在$(a,b)$内二阶可导，那么：   \n",
    "- 若$f''(x) > 0$，则$f(x)$是凸的；\n",
    "- 若$f''(x) < 0$，则$f(x)$是凹的。\n",
    "\n",
    "即：一元二阶可微的函数在区间上是凸的，当且仅当它的二阶导数是非负的。\n",
    "\n",
    "例子：\n",
    "$$ f(x) = x^2 $$\n",
    "$$ f'(x) = 2x$$\n",
    "$$ f''(x) = 2  > 0 ，凸函数$$\n",
    "\n",
    "$$ g(x) = -x^2 $$\n",
    "$$ g'(x) = -2x$$\n",
    "$$ g''(x) = -2  < 0 ，凹函数$$"
   ]
  },
  {
   "cell_type": "markdown",
   "metadata": {},
   "source": [
    "#### 凸函数更一般的表述\n",
    "$$f(\\lambda x_1 + (1-\\lambda)x_2 )\\leq \\lambda f(x_1) + (1-\\lambda)f(x_2) $$\n",
    "$f$为凸函数，则有：\n",
    "$$ f(\\theta_1 x_1 + ... + \\theta_n x_n) \\leq \\theta_1 f(x_1) + ... + \\theta_n f(x_n) $$\n",
    "其中，$0 \\leq \\theta_i \\leq 1, \\theta_1 + \\theta_2 + ... + \\theta_n =1$\n",
    "\n",
    "意义：\n",
    "- 可以在确定函数的凹凸性之后，对函数进行不等式替换。"
   ]
  },
  {
   "cell_type": "markdown",
   "metadata": {},
   "source": [
    "#### 注：\n",
    "中国大陆数学界某些机构关于函数凹凸性定义和国外的定义是相反的。   \n",
    "- Convex Function在某些中国大陆的数学书中指 **凹函数**；\n",
    "- Concave Function指**凸函数**。\n",
    "\n",
    "但在中国大陆涉及经济学的很多书中，凹凸性的提法和其他国家的提法是一致的，也就是和数学教材相反。  \n"
   ]
  },
  {
   "cell_type": "markdown",
   "metadata": {},
   "source": [
    "![title](./images/e_09.png)"
   ]
  },
  {
   "cell_type": "markdown",
   "metadata": {},
   "source": [
    "利用：\n",
    "$$f(\\lambda x_1 + (1-\\lambda)x_2 )\\leq \\lambda f(x_1) + (1-\\lambda)f(x_2) $$\n",
    "$f$为凸函数，则有：\n",
    "$$ f(\\theta_1 x_1 + ... + \\theta_n x_n) \\leq \\theta_1 f(x_1) + ... + \\theta_n f(x_n) $$\n",
    "其中，$0 \\leq \\theta_i \\leq 1, \\theta_1 + \\theta_2 + ... + \\theta_n =1$"
   ]
  },
  {
   "cell_type": "markdown",
   "metadata": {},
   "source": [
    "$$ D(p||q) = \\sum_{x} p(x) \\log \\frac{p(x)}{q(x)} $$\n",
    "$$ = - \\sum_{x} p(x) \\log \\frac{q(x)}{p(x)} $$\n",
    "因为$\\sum_x p(x) = 1$，将其作为$\\theta$，根据上面凸函数的一般表述表换：\n",
    "上式则为$f(x) = \\log \\frac{q(x)}{p(x)}$\n",
    "$$ \\geq -log \\sum_{x} \\lgroup p(x)  \\frac{q(x)}{p(x)}\\rgroup$$\n",
    "$$ = -\\log \\sum_x q(x)$$\n",
    "$$ = - \\log 1$$\n",
    "$$ = 0 $$\n",
    "所以得到$$D(p||q) \\geq 0$$"
   ]
  },
  {
   "cell_type": "markdown",
   "metadata": {},
   "source": [
    "----"
   ]
  },
  {
   "cell_type": "markdown",
   "metadata": {},
   "source": [
    "## 概率论复习"
   ]
  },
  {
   "cell_type": "markdown",
   "metadata": {},
   "source": [
    "- 对概率的认识： \n",
    "$$ P \\in [0,1]$$\n",
    "    - P = 0 \n",
    "        - 事件出现的概率为0 --> 事件不会发生？\n",
    "        No。\n",
    "        举例：在概率密度函数上，对应的任意一个点的P都为0，但不代表这个点不可能发生。\n",
    "        \n",
    "    - 将位于[0,1]的函数y=f(x)看成对应y事件的概率\n",
    "        - 要求$f(x)$在定义域[0,1]的积分为1.\n",
    "- 古典概型\n",
    "    - 排列组合\n",
    "    $$ P_k^N =P(N, k) = {}_N P_k = \\frac{N!}{(N-k)!}$$\n",
    "    $$ {}_n C_r=\\dbinom{n}{r} = C^n_r = \\frac{n!}{r!(n-r)!}$$\n",
    "    \n",
    "- 概率密度函数 Probability Density Function\n",
    "- 累积分布函数"
   ]
  },
  {
   "cell_type": "markdown",
   "metadata": {},
   "source": [
    "### 1. 古典概型\n",
    "举例：   \n",
    "将n各不同的球放入$N(N\\geq n)$个盒子中，假设盒子容量无限，球事件A={每个盒子至多有1个球}的概率。 \n",
    "\n",
    "![title](./images/classical_01.png)"
   ]
  },
  {
   "cell_type": "markdown",
   "metadata": {},
   "source": [
    "![title](./images/classical_02.png)"
   ]
  },
  {
   "cell_type": "code",
   "execution_count": 8,
   "metadata": {},
   "outputs": [
    {
     "name": "stdout",
     "output_type": "stream",
     "text": [
      "0.9703735795779884\n",
      "0.11694817771107757\n"
     ]
    }
   ],
   "source": [
    "# N=365，n=50时的代码计算示例\n",
    "import math\n",
    "def calculate_2_p(N=365, n=50):\n",
    "    numerator = math.factorial(N) / math.factorial((N-n))  # 每个人生日都不是同一天的事件排列和\n",
    "    denominator = math.pow(N, n)\n",
    "    p_not_2person = 1 - numerator/denominator\n",
    "    return p_not_2person\n",
    "\n",
    "print(calculate_2_p())\n",
    "print(calculate_2_p(365, 10))"
   ]
  },
  {
   "cell_type": "markdown",
   "metadata": {},
   "source": [
    "如果$N \\leq n$，那就是求一个盒子里面至少放1个球，\n",
    "抽屉原理，鸽笼原理"
   ]
  },
  {
   "cell_type": "markdown",
   "metadata": {},
   "source": [
    "#### 装箱问题\n",
    "将12件正品和3件次品随机装在3个箱子中，平均每箱放5件，每箱中恰有1件次品的概率是多少？\n",
    "\n",
    "![title](./images/classical_03.png)\n"
   ]
  },
  {
   "cell_type": "markdown",
   "metadata": {},
   "source": [
    "![title](./images/classical_04.png)"
   ]
  },
  {
   "cell_type": "markdown",
   "metadata": {},
   "source": [
    "![title](./images/classical_05.png)"
   ]
  },
  {
   "cell_type": "markdown",
   "metadata": {},
   "source": [
    "### 思考题：\n",
    "8支步枪中有5支已校准过，3支未校准。  \n",
    "一名射手用校准过的枪射击，中靶概率为0.8； \n",
    "用未校准的枪射击，中靶概率为0.3；  \n",
    "现从8支枪中随机取一支射击，结果中靶。  \n",
    "求该枪是已校准过的枪的概率。\n",
    "\n",
    "根据题目可知：\n",
    "$$P(未校准） = \\frac{3}{8} $$\n",
    "$$P(已校准） = \\frac{5}{8} $$\n",
    "$$P(中靶|未校准） = 0.3 $$\n",
    "$$P(未中靶|未校准） = 0.7 $$\n",
    "$$P(中靶|已校准） = 0.8 $$\n",
    "$$P(未中靶|已校准） = 0.2 $$\n",
    "\n",
    "求$P(已校准|中靶)$的概率。\n",
    "\n",
    "解：\n",
    "$$P(已校准|中靶) = \\frac{P(中靶|已校准)P(已校准)}{P(中靶)} $$\n",
    "$$ = \\frac{P(中靶|已校准)P(已校准)}{P(中靶,已校准)+P(中靶,未校准)}$$\n",
    "$$ = \\frac{P(中靶|已校准)P(已校准)}{P(中靶|已校准)P(已校准)+P(中靶|未校准)P(未校准)}$$\n",
    "$$ = \\frac{0.8 * \\frac{5}{8}}{0.8 * \\frac{5}{8} + 0.3 * \\frac{3}{8} }$$\n",
    "$$ = \\frac{0.5}{0.6125} = 0.81632$$"
   ]
  },
  {
   "cell_type": "code",
   "execution_count": null,
   "metadata": {},
   "outputs": [],
   "source": []
  }
 ],
 "metadata": {
  "kernelspec": {
   "display_name": "Python 3",
   "language": "python",
   "name": "python3"
  },
  "language_info": {
   "codemirror_mode": {
    "name": "ipython",
    "version": 3
   },
   "file_extension": ".py",
   "mimetype": "text/x-python",
   "name": "python",
   "nbconvert_exporter": "python",
   "pygments_lexer": "ipython3",
   "version": "3.6.5"
  }
 },
 "nbformat": 4,
 "nbformat_minor": 2
}
