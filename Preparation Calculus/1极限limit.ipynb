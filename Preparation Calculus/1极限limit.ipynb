{
 "cells": [
  {
   "cell_type": "markdown",
   "metadata": {},
   "source": [
    "# 可汗学院公开课：微积分预备"
   ]
  },
  {
   "cell_type": "markdown",
   "metadata": {},
   "source": [
    "## 1. 极限 limit\n",
    "极限是所有微积分学的基础。   \n",
    "\n",
    "**例1**：   \n",
    "$f(x) = \\frac{x-1}{x-1}$ 和$f(x) = 1$的区别：    \n",
    "在$f(x) = \\frac{x-1}{x-1}$中，x=1时，这个函数是无定义的，因为$x-1$作为分母不能等于0，所以$f(x) = \\frac{x-1}{x-1}$的x的阈值为$(-\\infty,0)\\cup(0,\\infty)$。\n",
    "\n",
    "$f(1) = \\frac{0}{0}$，0除0，都是无定义的(this is undefined)。\n",
    "\n",
    "所以我们可以将$f(x) = \\frac{x-1}{x-1}$简化成$f(x) = 1$，但是要加上约束$x\\neq {1}$。\n",
    "\n",
    "![title](./images/limit_001.png)\n",
    "\n",
    "从上图的例子中，对于x接近于1时是多少，这里就开始接触极限的概念了。    \n",
    "随着$x$越来越靠近1， 函数值是多少呢？    \n",
    "在这整个期间，函数值是接近于几？   \n",
    "在左手边，不论如何接近1，只要没到达1，$f(x) =1 $;   \n",
    "同样，在右手边，不论如何接近1，也是相同的。  \n",
    "\n",
    "\n",
    "**符号lim**     \n",
    "lim是limit的缩写。    \n",
    "当$x$接近1时，随着越来越近，可以无限接近于1，只要没有到1，函数值都是1。    \n",
    "我们可以说$f(x)$，当$x=1$的极限是1。   \n",
    "\n",
    "$${\\lim_{x \\to 1}}f(x) = 1$$"
   ]
  },
  {
   "cell_type": "markdown",
   "metadata": {},
   "source": [
    "**例2：**\n",
    "![title](./images/limit_002.png)"
   ]
  },
  {
   "cell_type": "markdown",
   "metadata": {},
   "source": [
    "## 函数在某点的极限并不是估计该点的函数值。\n",
    "上面的例2已经可以说明这个问题。\n",
    "\n",
    "#### 练习：\n",
    "Q1: $${\\lim_{x \\to 2}} x^{2} $$   \n",
    "Answer: 4\n",
    "\n",
    "**例3：**\n",
    "![title](./images/limit_003.png)\n",
    "\n",
    "思路：\n",
    "$x=0$的时候，函数未定义undefined;     \n",
    "由于$f(x) = \\frac{2x+2}{x+1} = \\frac{2(x+1)}{(x+1)}$，所以函数可以表示为$f(x) = 2, x \\neq -1$。   \n",
    "求$${\\lim_{x \\to -1}}f(x)$$ \n",
    "解法1：   \n",
    "用非正规的方式去求解，计算$f(-1.0001)$，$f(-0.99999)$得值去逼近结果。\n",
    "\n",
    "解法2：   \n",
    "此处的函数比较特殊，可以从图上看出逼近-1的结果为2。\n",
    "\n",
    "解法3：（正式）\n",
    "\n"
   ]
  },
  {
   "cell_type": "markdown",
   "metadata": {},
   "source": [
    "**例4：**    \n",
    "$$\\lim_{x \\to 0} \\frac {1}{x}$$\n",
    "\n",
    "![title](./images/limit_004.png)\n",
    "\n",
    "当x从正方向逼近0时，$\\frac{1}{x}$的极限为：$$\\lim_{x \\to 0^{+}} \\frac{1}{x} = \\infty$$ \n",
    "当x从负方向接近0时，$\\frac{1}{x}$的极限为：$$\\lim_{x \\to 0^{-}} \\frac{1}{x} = -\\infty$$ \n",
    "\n",
    "因为当从两个方向逼近时，y得到两个不同的值，这个极限实际上是无定义的undefined.  \n"
   ]
  },
  {
   "cell_type": "markdown",
   "metadata": {},
   "source": [
    "**例5：**\n",
    "$$\\lim_{x \\to 0} \\frac{1} {x^{2}}$$\n",
    "![title](./images/limit_005.png)"
   ]
  },
  {
   "cell_type": "code",
   "execution_count": null,
   "metadata": {},
   "outputs": [],
   "source": []
  }
 ],
 "metadata": {
  "kernelspec": {
   "display_name": "Python 3",
   "language": "python",
   "name": "python3"
  },
  "language_info": {
   "codemirror_mode": {
    "name": "ipython",
    "version": 3
   },
   "file_extension": ".py",
   "mimetype": "text/x-python",
   "name": "python",
   "nbconvert_exporter": "python",
   "pygments_lexer": "ipython3",
   "version": "3.6.5"
  }
 },
 "nbformat": 4,
 "nbformat_minor": 2
}
