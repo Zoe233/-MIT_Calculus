{
 "cells": [
  {
   "cell_type": "markdown",
   "metadata": {},
   "source": [
    "# 9.复数 Complex Numbers"
   ]
  },
  {
   "cell_type": "markdown",
   "metadata": {},
   "source": [
    "## 1. 什么是复数？\n",
    "我们把形如$a+bi$（a,b均为实数）的数称为复数，其中a称为实部，b称为虚部，i称为虚数单位。   \n",
    "\n",
    "当虚部等于零时，这个复数可以视为实数；  \n",
    "当z的虚部不等于零时，实部等于零时，常称z为纯虚数。  \n",
    "\n",
    "复数域是实数域的代数闭包，也即任何复系数多项式在复数域中总有根。"
   ]
  },
  {
   "cell_type": "markdown",
   "metadata": {},
   "source": [
    "![title](./images/complex_001.png)"
   ]
  },
  {
   "cell_type": "markdown",
   "metadata": {},
   "source": [
    "有一种使复数看起来更形象的方法，实际上当我们讨论数的根时，这种方法很有帮助，尤其对**复根**而言。   \n",
    "\n",
    "该方法用到了**阿根图Argand Diagram**。  \n",
    "阿根图看上去像一个坐标轴，其实就是一个坐标轴，但是它没有x轴和y轴，而是用实轴和虚轴代替，我们会把$z=a+bi$当成位矢图(position vector)出来。  \n",
    "\n",
    "\n",
    "![title](./images/complex_002.png)  \n",
    "\n",
    "角度$\\phi$   \n",
    "距离$r$：表示矢量的大小   \n",
    "通过给定的角度$\\phi$和$r$，也可以在复平面上确定这个点。  \n",
    " \n",
    "在复数中，角度$\\phi$被叫做复数的幅角(the argument of the complex number)，距离$r$是矢量的大小，或者说是模量(the modulus)，也就是复数的绝对值。\n",
    " \n",
    "$$r = |z| = \\sqrt{a^2 + b^2}$$\n",
    "$$\\tan \\phi = \\frac{b}{a} $$\n",
    "$$ \\phi = \\arctan \\frac{b}{a} $$\n",
    "\n"
   ]
  },
  {
   "cell_type": "markdown",
   "metadata": {},
   "source": [
    "如果已知$r$和$\\phi$，要求a和b。  \n",
    "也就是在已知角度和直角三角形的斜边的情况下，计算其邻边。   \n",
    "\n",
    "\n",
    "![title](./images/complex_003.png)\n",
    "\n",
    "**注意：**\n",
    "其中$(\\cos \\phi + i \\sin \\phi)$是$e^x$的泰勒级数展开式以及$\\cos x$和$\\sin x$的泰勒级数展开式得出的结论。\n",
    "等于$$e^{i \\phi}$$\n",
    "\n",
    "Euler formula 欧拉公式"
   ]
  },
  {
   "cell_type": "markdown",
   "metadata": {},
   "source": [
    "所以有两种表示复数的方法，当已知实部和虚部时，$z=a+bi$；  \n",
    "或者可以表示为指数形式，也就是用模量乘以一个复指数，$z=r e^{i\\phi}$  \n",
    "\n",
    "指数形式的表示方法在求根的时候会特别有用。 "
   ]
  },
  {
   "cell_type": "markdown",
   "metadata": {},
   "source": [
    "## 2.例子1\n",
    "已知复数的实数部分a和虚数b的值，求指数形式。\n",
    "![title](./images/complex_004.png)"
   ]
  },
  {
   "cell_type": "markdown",
   "metadata": {},
   "source": [
    "## 3.例子2 : 利用复数的指数形式求复根\n",
    "为什么复数的指数形式很有用？\n",
    "![title](./images/complex_005.png)\n"
   ]
  },
  {
   "cell_type": "markdown",
   "metadata": {},
   "source": [
    "在上图这个例子中，利用这个方法，我们可以求出这三个根。  \n",
    "1的3个复根。 \n",
    "$$x^3 = 1 $$ \n",
    "$$ x^3 -1 = 0$$ \n",
    "的三个复根为\n",
    "$$\\begin{cases}\n",
    "x_1 = 1 \\\\ \n",
    "x_2 = -\\frac{1}{2} + \\frac{\\sqrt{3}}{2} i \\\\\n",
    "x_3 = -\\frac{1}{2} - \\frac{\\sqrt{3}}{2} i \\\\\n",
    "\\end{cases}$$\n",
    "\n",
    "上图的取的$\\phi$为什么只取到了$4\\pi i$，因为取到$6 \\pi i$以后就是循环得到上面的三个结果。 "
   ]
  },
  {
   "cell_type": "markdown",
   "metadata": {},
   "source": [
    "如果想要找到$x^4 = 1$的根，可以利用同样的技巧，我们会取$2\\pi$弧度或者360度，最终找到8个根结果。 \n",
    "$$ x^4 = 1$$\n",
    "$$ |z| = 1 $$\n",
    "取$\\phi$为$\\{0, 2\\pi, 4\\pi, 6\\pi\\}$\n",
    "$$ x^4 = 1 e^{0i}, x^4=1 e^{2\\pi i}, x^4=1 e^{4\\pi i}, x^4=1 e^{6\\pi i},$$\n",
    "开根号\n",
    "$$x_1 = \\pm 1 , x_2 = \\pm e^{\\frac{1}{2}\\pi i}, x_2 = \\pm e^{1 \\pi i}, x_2 = \\pm e^{\\frac{3}{2}\\pi i}$$"
   ]
  },
  {
   "cell_type": "code",
   "execution_count": null,
   "metadata": {},
   "outputs": [],
   "source": []
  }
 ],
 "metadata": {
  "kernelspec": {
   "display_name": "Python 3",
   "language": "python",
   "name": "python3"
  },
  "language_info": {
   "codemirror_mode": {
    "name": "ipython",
    "version": 3
   },
   "file_extension": ".py",
   "mimetype": "text/x-python",
   "name": "python",
   "nbconvert_exporter": "python",
   "pygments_lexer": "ipython3",
   "version": "3.6.5"
  }
 },
 "nbformat": 4,
 "nbformat_minor": 2
}
