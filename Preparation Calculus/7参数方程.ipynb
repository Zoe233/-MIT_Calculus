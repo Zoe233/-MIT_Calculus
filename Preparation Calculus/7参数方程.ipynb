{
 "cells": [
  {
   "cell_type": "markdown",
   "metadata": {},
   "source": [
    "# 7.参数方程"
   ]
  },
  {
   "cell_type": "markdown",
   "metadata": {},
   "source": [
    "![title](./images/parameter_001.png)\n",
    "![title](./images/parameter_002.png)"
   ]
  },
  {
   "cell_type": "markdown",
   "metadata": {},
   "source": [
    "## 1. 参数方程的定义\n",
    "一般地，在平面直角坐标系中，如果曲线上任意一点的坐标x、y都是某个变数t的函数： \n",
    "$$\\begin{cases} \n",
    "x = f(t) \\\\\n",
    "y = g(t)\n",
    "\\end{cases}$$\n",
    "并且对于t的每一个允许的取值，由方程组确定的点(x, y)都在这条曲线上，那么这个方程就叫做曲线的参数方程，联系变数x、y的变数t叫做**参变数**，简称**参数**。相对而言，直接给出点坐标间关系的方程叫**普通方程**。"
   ]
  },
  {
   "cell_type": "markdown",
   "metadata": {},
   "source": [
    "![title](./images/parameter_003.png)"
   ]
  },
  {
   "cell_type": "code",
   "execution_count": 2,
   "metadata": {
    "scrolled": true
   },
   "outputs": [
    {
     "data": {
      "text/plain": [
       "3.1622776601683795"
      ]
     },
     "execution_count": 2,
     "metadata": {},
     "output_type": "execute_result"
    }
   ],
   "source": [
    "import math\n",
    "math.sqrt(10)"
   ]
  },
  {
   "cell_type": "markdown",
   "metadata": {},
   "source": [
    "如果我们想把上面的参数方程\n",
    "$$\\begin{cases}\n",
    "x = 10 + 5t \\\\\n",
    "y = 50 - 5 t^2 \n",
    "\\end{cases}$$\n",
    "转化为只有y和x的方程，该怎么做呢？\n",
    "\n",
    "$$ t=\\frac{x-10}{5}$$\n",
    "将其代入$$y=50-5 t^2 $$\n",
    "得：\n",
    "$$ y = -\\frac{x^2}{5} +4x+30 $$\n",
    "\n",
    "转换后的式子导致我们只有x和y的相对位置，失去了车子随着时间t的移动的位置。  \n",
    "这就是为什么参数方程有用。"
   ]
  },
  {
   "cell_type": "markdown",
   "metadata": {},
   "source": [
    "![title](./images/parameter_004.png)"
   ]
  },
  {
   "cell_type": "markdown",
   "metadata": {},
   "source": [
    "通过转换后的函数，我们无法直觉地解释其含义，并丢失了部分信息。  \n",
    "我们还可以通过三角函数的转化得到新的函数公式：\n",
    "$$ \\cos ^2 t + \\sin ^2 t = 1$$\n",
    "$$ \\begin{cases}\n",
    "x = 2 \\cos t \\\\\n",
    "y = 2 \\sin t\n",
    "\\end{cases}$$ \n",
    "得到\n",
    "$$ \\begin{cases}\n",
    "\\cos t = \\frac{x}{3} \\\\\n",
    "\\sin t = frac{y}{2} \n",
    "\\end{cases}$$\n",
    "代入得到：\n",
    "$$(\\frac{x}{3})^2 + (\\frac{y}{2})^2 = 1 $$\n",
    "$$ \\frac{x^2}{9} + \\frac{y^2}{4} = 1 $$\n",
    "这是椭圆公式。"
   ]
  },
  {
   "cell_type": "markdown",
   "metadata": {},
   "source": [
    "![title](./images/parameter_005.png)"
   ]
  },
  {
   "cell_type": "markdown",
   "metadata": {},
   "source": [
    "在消去$t$后，我们丢失了信息： \n",
    "- 一个是随着t增加时的移动方向\n",
    "- 任意给定时间t，我们位于椭圆上的哪一个点"
   ]
  },
  {
   "cell_type": "code",
   "execution_count": null,
   "metadata": {},
   "outputs": [],
   "source": []
  }
 ],
 "metadata": {
  "kernelspec": {
   "display_name": "Python 3",
   "language": "python",
   "name": "python3"
  },
  "language_info": {
   "codemirror_mode": {
    "name": "ipython",
    "version": 3
   },
   "file_extension": ".py",
   "mimetype": "text/x-python",
   "name": "python",
   "nbconvert_exporter": "python",
   "pygments_lexer": "ipython3",
   "version": "3.6.5"
  }
 },
 "nbformat": 4,
 "nbformat_minor": 2
}
