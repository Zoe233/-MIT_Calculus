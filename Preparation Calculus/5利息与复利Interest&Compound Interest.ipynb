{
 "cells": [
  {
   "cell_type": "markdown",
   "metadata": {},
   "source": [
    "# 5. 利息与复利Interest & Compound Interest"
   ]
  },
  {
   "cell_type": "markdown",
   "metadata": {},
   "source": [
    "## 1. 什么是利息？\n",
    "本质上是钱的租金。  \n",
    "那么利息就是，人们为了在一定时间内持有一些钱而支付的钱。\n",
    "\n",
    "\n",
    "- 因存款、放款而得到的本金以外的钱。\n",
    "- 抽象点说就是指货币资金在向实体经济部门注入并回流时所带来的增值额。\n",
    "- 不抽象地说，一般是指借款人（债务人）因使用借入货币或资本而支付给贷款人（债权人）的报酬。\n",
    "- 又称子金，母金（本金）的对称。 \n",
    "- 利息的计算公式为：\n",
    "$$ 利息 = 本金 * 利率 * 存款期限（时间）$$\n",
    "- 利息是资金所有者由于借出资金而取得的报酬，它来自生产者使用该笔资金发挥营运职能而形成的利润的一部分。是指货比资金在向实体经济部门注入并回流时所带来的增值额，其计算公式为：\n",
    "$$ 利息 = 本金 * 利率 * 存期 * 100\\% $$ \n"
   ]
  },
  {
   "cell_type": "markdown",
   "metadata": {},
   "source": [
    "![title](./images/interest_001.png)"
   ]
  },
  {
   "cell_type": "markdown",
   "metadata": {},
   "source": [
    "## 2. 单利的计算公式\n",
    "$$ P(1 + t * r) $$\n",
    "其中，P为本金，t为年限，r为年利率。\n",
    "\n",
    "<img src='./images/interest_002.png' width='30%'/>\n"
   ]
  },
  {
   "cell_type": "markdown",
   "metadata": {},
   "source": [
    "## 3. 复利的计算方式\n",
    "$$ P(1+r)^t $$\n",
    "其中，P为本金，t为年限，r为年利率。"
   ]
  },
  {
   "cell_type": "markdown",
   "metadata": {},
   "source": [
    "## 4. 复利与e介绍\n",
    "![title](./images/interest_003.png)\n",
    "\n",
    "当我们开始复利计算时，首先，当我们只是计算一期时，那是一整年，欠款为2美元。   \n",
    "之后变成2.25美元，... ，  \n",
    "之后复利计算的间隔越来越短时，欠款变得越来越高，但是它看起来正在接近某个数。   \n",
    "当我们每天计算复利时，在一年年底结束时，欠款为2.71美元多一点。   \n",
    "当每小时计算复利时，在一年年底结束时，欠款为2.71美元多一点。欠款依然是一个非常相似的数。  \n",
    "\n",
    "欠款似乎在靠近一个神秘的数字，这个神秘的数字就是$e$。"
   ]
  },
  {
   "cell_type": "markdown",
   "metadata": {},
   "source": [
    "$$ P(1 + \\frac{100\\%}{n})^n $$\n",
    "\n",
    "<img src='./images/interest_004.png' width='30%'/>\n",
    "$$ \\lim_{n \\to \\infty} (1 + \\frac{100\\%}{n})^n = e$$"
   ]
  },
  {
   "cell_type": "markdown",
   "metadata": {},
   "source": [
    "### 我们关注的是$e$，但是用复利计算引入$e$是很自然的方式。\n",
    "\n",
    "定义：  \n",
    "自然常数，是数学中的一个常数，约为2.71828，就是公式为\n",
    "$$ \\lim_{x \\to \\infty} (1 + \\frac{1}{x})^x = e$$\n",
    "是一个无限不循环小数，是为超越数。  \n",
    "同时，$e$也是一个成熟的细胞的平均分裂周期。  \n"
   ]
  },
  {
   "cell_type": "markdown",
   "metadata": {},
   "source": [
    "### 当计算的利率不为1时，利率为r时，会怎么样？\n",
    "$$ \\lim_{n \\to \\infty} (1 + \\frac{r}{n})^n $$\n",
    "\n",
    "<img src='./images/interest_005.png' width='30%'/>"
   ]
  },
  {
   "cell_type": "markdown",
   "metadata": {},
   "source": [
    "最后计算t年的连续复利时，\n",
    "$$ P * e^{t*r} $$\n",
    "其中，t为年份，r为利率，P为本金。"
   ]
  },
  {
   "cell_type": "markdown",
   "metadata": {},
   "source": [
    "---"
   ]
  },
  {
   "cell_type": "markdown",
   "metadata": {},
   "source": [
    "## 5. 指数增长 -- 细菌分裂。\n",
    "\n",
    "A bacteria culture initially contains 100 cells and grows at a rate proportional to its size after an hour the population has increased to 420.   \n",
    "a) find an expression for the number of bacteria after t hours    \n",
    "b) find the # of bacteria after 3 hours   \n",
    "c) find the rate of growth after 3 hours    \n",
    "d) when will the population reach 10,000?   \n",
    "\n",
    "这是个符合增长问题，或者一个指数增长问题。  \n",
    "a) find an expression for the number of bacteria after t hours\n",
    "一般而言，任何指数增长或者指数衰减，或者连续复合增长或者连续复合衰减时。  \n",
    "不论题目给的是什么，数量对于时间的函数都是这样。  \n",
    "$$ b(t) = I_0 e^{kt}$$\n",
    "其中，$I_0$是初始量，$k$是增长率，$t$是时间。 \n",
    "题目中，$I_0$初始量是100。\n",
    "且题中t=1时，b(1) = 420，代入计算k值，得到：\n",
    "$ k = \\log_e 4.2 = \\ln 4.2 $\n",
    "\n",
    "所以，公式最终为：\n",
    "$$b(t) = 100 e^{(\\ln 4.2)t}$$\n",
    "\n",
    "\n",
    "b) find the # of bacteria after 3 hours\n",
    "将t=3代入公式得$100*(4.2)^3$。\n",
    "\n",
    "c) find the rate of growth after 3 hours \n",
    "这要我们做什么呢？   \n",
    "实质上是在问这个函数3小时候的斜率是多少？  \n",
    "或者用另一种思考方法，时刻为3时的导数是多少？   \n",
    "\n",
    "$$ b(t) = 100 * e^{(\\ln 4.2)*t}$$\n",
    "用链式法则求导得：\n",
    "$$ b'(t) = 100 * (\\ln 4.2) * e^{(\\ln 4.2) t}$$\n",
    "$$ b'(3) = 100 * (\\ln 4.2) * (4.2)^3 $$ \n",
    "$$ b'(3) = 10632.254230963536 $$ \n",
    "\n",
    "d) when will the population reach 10,000?\n",
    "$$ b(t) = 100 * (4.2) ^ t $$ \n",
    "$$ 10000 = 100 * (4.2) ^ t$$ \n",
    "$$ 100 = (4.2) ^ t $$ \n",
    "$$ \\ln 100 = \\ln (4.2) ^ t = t * \\ln (4.2) $$\n",
    "$$ t = \\frac{\\ln 100 } {\\ln 4.2}$$\n",
    "$$ t \\simeq 3.21 $$ \n",
    "\n"
   ]
  }
 ],
 "metadata": {
  "kernelspec": {
   "display_name": "Python 3",
   "language": "python",
   "name": "python3"
  },
  "language_info": {
   "codemirror_mode": {
    "name": "ipython",
    "version": 3
   },
   "file_extension": ".py",
   "mimetype": "text/x-python",
   "name": "python",
   "nbconvert_exporter": "python",
   "pygments_lexer": "ipython3",
   "version": "3.6.5"
  }
 },
 "nbformat": 4,
 "nbformat_minor": 2
}
