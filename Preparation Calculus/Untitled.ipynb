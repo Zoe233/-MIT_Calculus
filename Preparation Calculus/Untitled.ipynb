{
 "cells": [
  {
   "cell_type": "markdown",
   "metadata": {},
   "source": [
    "# 微积分与概率论基础\n"
   ]
  },
  {
   "cell_type": "markdown",
   "metadata": {},
   "source": [
    "![title](./images/e_01.png)"
   ]
  },
  {
   "cell_type": "markdown",
   "metadata": {},
   "source": [
    "## 微积分复习"
   ]
  },
  {
   "cell_type": "markdown",
   "metadata": {},
   "source": [
    "### 1. 两边夹定理（夹逼定理）\n",
    "当$x \\in U(x_0,r)$时，有$g(x) \\leq f(x) \\leq h(x) $，并且\n",
    "$$ \\lim_{x \\to x_0}g(x) = A, \n",
    "\\lim_{x \\to x_0} h(x) =A$$，那么\n",
    "$$ \\lim_{x \\to x_0}f(x) = A$$"
   ]
  },
  {
   "cell_type": "markdown",
   "metadata": {},
   "source": [
    "![title](./images/e_02.png)\n",
    "\n",
    "其证明定理过程有：\n",
    "<a href='./1极限limit.ipynb'>1. 极限 limit<a>"
   ]
  },
  {
   "cell_type": "markdown",
   "metadata": {},
   "source": [
    "#### 思考：\n",
    "该式的极限是多少？\n",
    "$$ \\lim_{x \\to 0} \\frac{\\sin^2 x}{x^2}$$\n",
    "\n",
    "解：\n",
    "$$ \\lim_{x \\to 0} \\frac{\\sin^2 x}{x^2}$$\n",
    "$$ = \\lim_{x \\to 0} (\\frac{\\sin x}{x})^2 $$\n",
    "$$ = 1^2 = 1 $$"
   ]
  },
  {
   "cell_type": "markdown",
   "metadata": {},
   "source": [
    "## 2.极限存在定理\n",
    "单调有界数列必有极限\n",
    "- 单增数列有上界，则其必有极限\n"
   ]
  },
  {
   "cell_type": "markdown",
   "metadata": {},
   "source": [
    "![title](./images/e_03.png)\n",
    "\n",
    "其中第一步的展开使用的是\n",
    "**二项式定理**\n",
    "$$(a + b) ^ n = \\sum_{k=0}^n \\dbinom{n}{k} a^{n-k} b^k $$\n",
    "其中，二项式系数为$\\dbinom{n}{k} $。"
   ]
  },
  {
   "cell_type": "code",
   "execution_count": null,
   "metadata": {},
   "outputs": [],
   "source": []
  }
 ],
 "metadata": {
  "kernelspec": {
   "display_name": "Python 3",
   "language": "python",
   "name": "python3"
  },
  "language_info": {
   "codemirror_mode": {
    "name": "ipython",
    "version": 3
   },
   "file_extension": ".py",
   "mimetype": "text/x-python",
   "name": "python",
   "nbconvert_exporter": "python",
   "pygments_lexer": "ipython3",
   "version": "3.6.5"
  }
 },
 "nbformat": 4,
 "nbformat_minor": 2
}
