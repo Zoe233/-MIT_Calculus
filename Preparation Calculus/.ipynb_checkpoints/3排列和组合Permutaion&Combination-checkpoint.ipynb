{
 "cells": [
  {
   "cell_type": "markdown",
   "metadata": {},
   "source": [
    "# 3.排列和组合 Permutation and "
   ]
  },
  {
   "cell_type": "markdown",
   "metadata": {},
   "source": [
    "例子：\n",
    "7个人坐3张椅子；  \n",
    "3个颜色的球放入2个被子中；  \n",
    "两个例子说明排列的公式的由来：\n",
    "\n",
    "$$ P_k^N =P(N, k) = {}_N P_k = \\frac{N!}{(N-k)!}$$\n",
    "![title](./images/permutation_001.png)"
   ]
  },
  {
   "cell_type": "markdown",
   "metadata": {},
   "source": [
    "如果不考虑顺序，仅考虑可能的组合：\n",
    "$$ {}_n C_r=\\dbinom{n}{r} = C^n_r = \\frac{n!}{r!(n-r)!}$$\n",
    "![title](./images/combination_001.png)"
   ]
  },
  {
   "cell_type": "code",
   "execution_count": null,
   "metadata": {},
   "outputs": [],
   "source": []
  }
 ],
 "metadata": {
  "kernelspec": {
   "display_name": "Python 3",
   "language": "python",
   "name": "python3"
  },
  "language_info": {
   "codemirror_mode": {
    "name": "ipython",
    "version": 3
   },
   "file_extension": ".py",
   "mimetype": "text/x-python",
   "name": "python",
   "nbconvert_exporter": "python",
   "pygments_lexer": "ipython3",
   "version": "3.6.5"
  }
 },
 "nbformat": 4,
 "nbformat_minor": 2
}
