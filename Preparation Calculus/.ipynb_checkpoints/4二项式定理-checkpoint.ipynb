{
 "cells": [
  {
   "cell_type": "markdown",
   "metadata": {},
   "source": [
    "# 4. 二项式定理"
   ]
  },
  {
   "cell_type": "markdown",
   "metadata": {},
   "source": [
    "$ (a+b)^0 = 1 $   \n",
    "$ (a+b)^1 = (a+b)$   \n",
    "$ (a+b)^2 = a^2 + 2ab + b^2 $  \n",
    "$ (a+b)^3 = a^3 + 2a^2 b + 2ab^2 + b^3 $  \n",
    "$ (a+b)^4 = ...$  \n",
    "...  \n",
    "如果有可以计算任意幂的二项式，那会非常好。   \n",
    "那就是二项式定理的作用。  \n",
    "\n"
   ]
  },
  {
   "cell_type": "markdown",
   "metadata": {},
   "source": [
    "## 1. 什么是二项式定理？\n",
    "$$(a + b) ^ n = \\sum_{k=0}^n \\dbinom{n}{k} a^{n-k} b^k $$\n",
    "其中，二项式系数为$\\dbinom{n}{k} $。"
   ]
  },
  {
   "cell_type": "markdown",
   "metadata": {},
   "source": [
    "![title](./images/dbinom_001.png)"
   ]
  },
  {
   "cell_type": "markdown",
   "metadata": {},
   "source": [
    "## 二项式系数计算方法-- 帕斯卡三角形 Pascal Triangle\n",
    "![title](./images/dbinom_002.png)"
   ]
  },
  {
   "cell_type": "markdown",
   "metadata": {},
   "source": [
    "## 更加快速的二项式计算方式\n",
    "![title](./images/dbinom_003.png)\n",
    "\n",
    "![title](./images/dbinom_004.png)"
   ]
  },
  {
   "cell_type": "markdown",
   "metadata": {},
   "source": [
    "## 2. 为什么二项式相乘会涉及到组合学？为什么会出现二项式系数？\n",
    "![title](./images/dbinom_005.png)\n",
    "\n",
    "![title](./images/dbinom_006.png)"
   ]
  },
  {
   "cell_type": "code",
   "execution_count": null,
   "metadata": {},
   "outputs": [],
   "source": []
  }
 ],
 "metadata": {
  "kernelspec": {
   "display_name": "Python 3",
   "language": "python",
   "name": "python3"
  },
  "language_info": {
   "codemirror_mode": {
    "name": "ipython",
    "version": 3
   },
   "file_extension": ".py",
   "mimetype": "text/x-python",
   "name": "python",
   "nbconvert_exporter": "python",
   "pygments_lexer": "ipython3",
   "version": "3.6.5"
  }
 },
 "nbformat": 4,
 "nbformat_minor": 2
}
