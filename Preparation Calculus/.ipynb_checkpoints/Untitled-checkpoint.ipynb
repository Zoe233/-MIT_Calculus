{
 "cells": [
  {
   "cell_type": "markdown",
   "metadata": {},
   "source": [
    "# 8. 反函数"
   ]
  },
  {
   "cell_type": "markdown",
   "metadata": {},
   "source": [
    "## 1. 反函数的定义\n",
    "一般地，设函数$y=f(x)(x∈A)$的值域是C，若找得到一个函数$g(y)$在每一处$g(y)$都等于x，这样的函数$x= g(y)(y∈C)$叫做函数$y=f(x)(x∈A)$的**反函数**，记作$y=f^(-1)(x)$。反函数$y=f ^(-1)(x)$的定义域、值域分别是函数y=f(x)的值域、定义域。**最具有代表性的反函数就是对数函数与指数函数。**  \n",
    "\n",
    "一般地，如果x与y关于某种对应关系$f(x)$相对应，$y=f(x)$，则$y=f(x)$的反函数为$x=f (y)$或者$y=f^-1(x)$。存在反函数(默认为单值函数）的条件是原函数必须是一一对应的（不一定是整个数域内的）。注意：上标\"−1\"指的并不是幂。"
   ]
  },
  {
   "cell_type": "markdown",
   "metadata": {},
   "source": [
    "!"
   ]
  }
 ],
 "metadata": {
  "kernelspec": {
   "display_name": "Python 3",
   "language": "python",
   "name": "python3"
  },
  "language_info": {
   "codemirror_mode": {
    "name": "ipython",
    "version": 3
   },
   "file_extension": ".py",
   "mimetype": "text/x-python",
   "name": "python",
   "nbconvert_exporter": "python",
   "pygments_lexer": "ipython3",
   "version": "3.6.5"
  }
 },
 "nbformat": 4,
 "nbformat_minor": 2
}
