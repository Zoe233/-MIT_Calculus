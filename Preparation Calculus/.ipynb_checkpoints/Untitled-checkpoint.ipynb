{
 "cells": [
  {
   "cell_type": "markdown",
   "metadata": {},
   "source": [
    "# 可汗学院公开课：微积分预备"
   ]
  },
  {
   "cell_type": "markdown",
   "metadata": {},
   "source": [
    "## 1. 极限 limit\n",
    "极限是所有微积分学的基础。   \n",
    "\n",
    "例子：\n",
    "$f(x) = \\frac{x-1}{x-1}$ 和$f(x) = 1$的区别：   \n",
    "在$f(x) = \\frac{x-1}{x-1}$中，x=1时，这个函数是无定义的，因为$x-1$作为分母不能等于0，所以$f(x) = \\frac{x-1}{x-1}$的x的阈值为$(-\\infty,0)\\cup(0,\\infty)$。\n",
    "\n",
    "$f(1) = \\frac{0}{0}$，0除0，都是无定义的(this is undefined)。"
   ]
  },
  {
   "cell_type": "code",
   "execution_count": null,
   "metadata": {},
   "outputs": [],
   "source": []
  }
 ],
 "metadata": {
  "kernelspec": {
   "display_name": "Python 3",
   "language": "python",
   "name": "python3"
  },
  "language_info": {
   "codemirror_mode": {
    "name": "ipython",
    "version": 3
   },
   "file_extension": ".py",
   "mimetype": "text/x-python",
   "name": "python",
   "nbconvert_exporter": "python",
   "pygments_lexer": "ipython3",
   "version": "3.6.5"
  }
 },
 "nbformat": 4,
 "nbformat_minor": 2
}
