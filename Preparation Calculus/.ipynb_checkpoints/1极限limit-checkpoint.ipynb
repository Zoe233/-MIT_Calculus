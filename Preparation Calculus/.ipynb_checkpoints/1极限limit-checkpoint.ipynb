{
 "cells": [
  {
   "cell_type": "markdown",
   "metadata": {},
   "source": [
    "# 可汗学院公开课：微积分预备"
   ]
  },
  {
   "cell_type": "markdown",
   "metadata": {},
   "source": [
    "## 1. 极限 limit\n",
    "极限是所有微积分学的基础。   \n",
    "\n",
    "**例1**：   \n",
    "$f(x) = \\frac{x-1}{x-1}$ 和$f(x) = 1$的区别：    \n",
    "在$f(x) = \\frac{x-1}{x-1}$中，x=1时，这个函数是无定义的，因为$x-1$作为分母不能等于0，所以$f(x) = \\frac{x-1}{x-1}$的x的阈值为$(-\\infty,0)\\cup(0,\\infty)$。\n",
    "\n",
    "$f(1) = \\frac{0}{0}$，0除0，都是无定义的(this is undefined)。\n",
    "\n",
    "所以我们可以将$f(x) = \\frac{x-1}{x-1}$简化成$f(x) = 1$，但是要加上约束$x\\neq {1}$。\n",
    "\n",
    "![title](./images/limit_001.png)\n",
    "\n",
    "从上图的例子中，对于x接近于1时是多少，这里就开始接触极限的概念了。    \n",
    "随着$x$越来越靠近1， 函数值是多少呢？    \n",
    "在这整个期间，函数值是接近于几？   \n",
    "在左手边，不论如何接近1，只要没到达1，$f(x) =1 $;   \n",
    "同样，在右手边，不论如何接近1，也是相同的。  \n",
    "\n",
    "\n",
    "**符号lim**     \n",
    "lim是limit的缩写。    \n",
    "当$x$接近1时，随着越来越近，可以无限接近于1，只要没有到1，函数值都是1。    \n",
    "我们可以说$f(x)$，当$x=1$的极限是1。   \n",
    "\n",
    "$${\\lim_{x \\to 1}}f(x) = 1$$"
   ]
  },
  {
   "cell_type": "markdown",
   "metadata": {},
   "source": [
    "**例2：**\n",
    "![title](./images/limit_002.png)"
   ]
  },
  {
   "cell_type": "markdown",
   "metadata": {},
   "source": [
    "## 函数在某点的极限并不是估计该点的函数值。\n",
    "上面的例2已经可以说明这个问题。\n",
    "\n",
    "#### 练习：\n",
    "Q1: $${\\lim_{x \\to 2}} x^{2} $$   \n",
    "Answer: 4\n",
    "\n",
    "**例3：**\n",
    "![title](./images/limit_003.png)\n",
    "\n",
    "思路：\n",
    "$x=0$的时候，函数未定义undefined;     \n",
    "由于$f(x) = \\frac{2x+2}{x+1} = \\frac{2(x+1)}{(x+1)}$，所以函数可以表示为$f(x) = 2, x \\neq -1$。   \n",
    "求$${\\lim_{x \\to -1}}f(x)$$ \n",
    "解法1：   \n",
    "用非正规的方式去求解，计算$f(-1.0001)$，$f(-0.99999)$得值去逼近结果。\n",
    "\n",
    "解法2：   \n",
    "此处的函数比较特殊，可以从图上看出逼近-1的结果为2。\n",
    "\n",
    "解法3：（正式）\n",
    "\n"
   ]
  },
  {
   "cell_type": "markdown",
   "metadata": {},
   "source": [
    "**例4：**    \n",
    "$$\\lim_{x \\to 0} \\frac {1}{x}$$\n",
    "\n",
    "![title](./images/limit_004.png)\n",
    "\n",
    "当x从正方向逼近0时，$\\frac{1}{x}$的极限为：$$\\lim_{x \\to 0^{+}} \\frac{1}{x} = \\infty$$ \n",
    "当x从负方向接近0时，$\\frac{1}{x}$的极限为：$$\\lim_{x \\to 0^{-}} \\frac{1}{x} = -\\infty$$ \n",
    "\n",
    "因为当从两个方向逼近时，y得到两个不同的值，这个极限实际上是无定义的undefined.  \n"
   ]
  },
  {
   "cell_type": "markdown",
   "metadata": {},
   "source": [
    "**例5：**\n",
    "$$\\lim_{x \\to 0} \\frac{1} {x^{2}}$$\n",
    "![title](./images/limit_005.png)"
   ]
  },
  {
   "cell_type": "markdown",
   "metadata": {},
   "source": [
    "**例6：**\n",
    "$$\\lim_{x \\to 3} \\frac{x^2 - 6x + 9 }{ x^2 - 9}$$\n",
    "\n",
    "将x代入式中，发现结果为$\\frac{0}{0}$，这是undefined，所以不能通过代入得到答案。  \n",
    "然后我们发现此式子可以进行因式分解为\n",
    "$$\\lim_{x \\to 3} \\frac {(x-3)(x-3)}{(x+3)(x-3)}$$\n",
    "$$\\lim_{x \\to 3} \\frac {(x-3)}{(x+3)}$$，其中$ x \\ne +3, -3 $  \n",
    " \n",
    "将x=3代入得到$\\frac{0}{6}$，得到答案零。\n",
    "这样不严谨，但确实是答案，还可以通过画出函数的图示去逼近得到结果，分子逼近为0，所以结果逼近0。"
   ]
  },
  {
   "cell_type": "markdown",
   "metadata": {},
   "source": [
    "**例7：**\n",
    "$$\\lim_{z \\to 2} = \\frac{z^2 + 2z - 8}{ z^4 -16} $$\n",
    "$$=\\lim_{z \\to 2} \\frac{(z+4)(z-2)}{(z^2 +4)(z^2 - 4)}$$\n",
    "$$=\\lim_{z \\to 2} \\frac{(z+4)(z-2)}{(z^2 + 4)(z+2)(z-2)}$$\n",
    "$$=\\lim_{z \\to 2} \\frac{z+4}{(z^2+4)(z+2)}$$\n",
    "将x=2代入得$$\\frac{6}{8+4} = \\frac{1}{2}$$"
   ]
  },
  {
   "cell_type": "markdown",
   "metadata": {},
   "source": [
    "**例8：**\n",
    "$$\\lim_{x \\to \\infty} (\\sqrt{x^2 + 4x +1}) -x $$\n",
    "$$ = \\lim_{x \\to \\infty} \\frac{((\\sqrt{x^2 + 4x +1}) -x)((\\sqrt{x^2 + 4x +1}) +x)}{(\\sqrt{x^2 + 4x +1}) +x}$$\n",
    "$$ = \\lim_{x \\to \\infty} \\frac{x^2 +4x +1 - x^2}{(\\sqrt{x^2 + 4x +1}) +x}$$\n",
    "$$ = \\lim_{x \\to \\infty} \\frac{4x +1 }{(\\sqrt{x^2 + 4x +1}) +x} \\frac{\\frac{1}{x}}{\\frac{1}{x}}$$\n",
    "$$ = \\lim_{x \\to \\infty} \\frac{4 + \\frac {1} {x}}{\\frac{1}{x} (\\sqrt{x^2 + 4x +1} + x)}$$\n",
    "$$ = \\lim_{x \\to \\infty} \\frac{4 + \\frac {1} {x}}{\\sqrt{\\frac{1}{x^2} (x^2 + 4x +1)} + 1}$$\n",
    "$$ = \\lim_{x \\to \\infty} \\frac{4 + \\frac {1} {x}}{\\sqrt{1 + \\frac{4}{x} + \\frac{1}{x^2}} +1}$$\n",
    "当$x \\to \\infty$，$\\lim_{x \\to \\infty} \\frac{1}{x} = 0$，$\\lim_{x \\to \\infty} \\frac{1}{x^2} = 0$，代入式中得到\n",
    "$$ = \\lim_{x \\to \\infty} \\frac{4+0}{\\sqrt{1+0+0} + 1} = \\frac{4}{2} = 2$$"
   ]
  },
  {
   "cell_type": "markdown",
   "metadata": {},
   "source": [
    "**例9：**\n",
    "$$ \\lim_{x \\to 0} \\frac{\\cot 2x}{ \\csc x} $$\n",
    "因为$$ \\csc x = \\frac{1}{\\sin x}$$\n",
    "$$\\cot 2x = \\frac{1}{tan 2x} = \\frac{\\cos 2x } {\\sin 2x}$$\n",
    "$$\\sin 2x = 2\\sin x \\cos x$$\n",
    "将其代入式中得到\n",
    "$$ = \\lim_{x \\to 0} \\frac{\\frac{\\cos 2x}{\\sin 2x}  }{\\frac{1}{\\sin x}}$$\n",
    "$$ = \\lim_{x \\to 0} \\sin x \\frac{\\cos 2x }{2\\sin x \\cos x}$$\n",
    "当$x \\to 0$时，$\\cos x$和$\\cos 2x$等于0，代入得：\n",
    "$$ = \\frac{1}{2}$$"
   ]
  },
  {
   "cell_type": "markdown",
   "metadata": {},
   "source": [
    "-----"
   ]
  },
  {
   "cell_type": "markdown",
   "metadata": {},
   "source": [
    "# 2. 夹逼定理 Squeeze Theorem\n",
    "通过夹逼定理可以证明\n",
    "$$\\lim_{x \\to 0} \\frac{\\sin x} {x} =1$$"
   ]
  },
  {
   "cell_type": "markdown",
   "metadata": {},
   "source": [
    "## Intuition 直觉认识夹逼定理：\n",
    "已知$g(x) \\le f(x) \\le h(x)$，且$$\\lim_{x \\to a }g(x) = L$$\n",
    "$$\\lim_{x \\to a }h(x) = L$$\n",
    "那么，由夹逼定理可知：$$\\lim_{x \\to a }f(x) = L$$"
   ]
  },
  {
   "cell_type": "markdown",
   "metadata": {},
   "source": [
    "## 典型示例：\n",
    "$$\\lim_{x \\to 0} \\frac{\\sin x} {x} =1$$\n",
    "\n",
    "证明：\n",
    "![title](./images/squeeze_001.png)\n",
    "\n",
    "图中的圆为以原点$(0,0)$为中心的单位圆，半径为1。  \n",
    "在第一象限内，图中绘制了绿色的三角形G，黄色的扇形Y，蓝色的大三角形B。  \n",
    "\n",
    "绿色的三角形G：\n",
    "两条边为单元圆的半径1，中间做高，对应于角$x$，由于$\\sin x = \\frac{对边}{斜边} = \\frac{对边}{1}$，所以高为$\\sin x$；\n",
    "\n",
    "黄色的扇形Y：  \n",
    "对应于整个单位圆，弧边$x$对应了对应的比例。\n",
    "\n",
    "蓝色的大三角形B：  \n",
    "$\\tan x = \\frac{对边}{临近边}  =\\frac{对边}{1}$，所以标注的对边为$\\tan x$。  \n",
    "\n",
    "分别计算绿色的三角形G，黄色的扇形Y，蓝色的大三角形B的面积：  \n",
    "$$ G(area) = \\frac{1}{2} * 1 * \\sin x = \\frac{1}{\\sin x}$$\n",
    "$$ Y(area) = \\frac{x} {2\\pi} * \\pi = \\frac{x}{2} $$\n",
    "$$ B(area) = \\frac{1}{2} * \\tan x * 1 = \\frac{1}{2} * \\tan x$$\n",
    "\n",
    "由图可知，$G(area) < Y(area) < B(area)$，所以\n",
    "$$ \\frac{1}{2} * \\sin x < \\frac{1}{2} < \\frac{1}{2} * \\tan x$$\n",
    "$$ \\sin x < x < \\tan x$$\n",
    "\n",
    "此公式在第一象限成立，同理可证，在第四象限也成立，所以\n",
    "$$ |\\sin x | < | x | < |\\tan x |$$\n",
    "所有式子除以$|\\sin x |$，可得：\n",
    "$$ 1 < \\frac{|x|}{|\\sin x|} < \\frac{|\\sin x|}{|\\cos x|} * \\frac{1}{|\\sin x|}$$\n",
    "\n",
    "对不等式两边取倒数，得：\n",
    "$$ 1 > \\frac{|\\sin x|}{|x|} > {|\\cos x|}$$\n",
    "\n",
    "因为$\\frac{\\sin x}{x}$在第一，第四象限总是正的，所以绝对值符号可以去掉；   \n",
    "$\\cos x$在第一，第四象限总是正的，所以绝对值符号也可以去掉。   \n",
    "所以，  \n",
    "$$ 1 > \\frac{\\sin x}{x} > {\\cos x}$$\n",
    "又因为\n",
    "$$\\lim_{x \\to 0} 1 = 1$$\n",
    "$$\\lim_{x \\to 0} \\cos x = 1$$\n",
    "所以问题$$\\lim_{x \\to 0} \\frac{\\sin x} {x}=1$$"
   ]
  },
  {
   "cell_type": "markdown",
   "metadata": {},
   "source": [
    "![title](./images/squeeze_002.png)\n",
    "\n",
    "![title](./images/squeeze_003.png)\n",
    "\n",
    "![title](./images/squeeze_004.png)"
   ]
  },
  {
   "cell_type": "code",
   "execution_count": null,
   "metadata": {},
   "outputs": [],
   "source": []
  }
 ],
 "metadata": {
  "kernelspec": {
   "display_name": "Python 3",
   "language": "python",
   "name": "python3"
  },
  "language_info": {
   "codemirror_mode": {
    "name": "ipython",
    "version": 3
   },
   "file_extension": ".py",
   "mimetype": "text/x-python",
   "name": "python",
   "nbconvert_exporter": "python",
   "pygments_lexer": "ipython3",
   "version": "3.6.5"
  }
 },
 "nbformat": 4,
 "nbformat_minor": 2
}
