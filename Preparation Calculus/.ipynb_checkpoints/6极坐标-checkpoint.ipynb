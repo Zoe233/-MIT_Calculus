{
 "cells": [
  {
   "cell_type": "markdown",
   "metadata": {},
   "source": [
    "# 6.极坐标"
   ]
  },
  {
   "cell_type": "markdown",
   "metadata": {},
   "source": [
    "## 1.笛卡尔坐标系Cartesian coordiantes\n",
    "### 1.1 什么是笛卡尔坐标系？\n",
    "笛卡尔坐标系 就是 **直角坐标系**和 **斜坐标系**的统称。   \n",
    "相交于原点的两条数轴，构成了平面放射坐标系。  \n",
    "\n",
    "如两条数轴上的**度量单位相等**，则称此放射坐标系为笛卡尔坐标系。  \n",
    "**两条数轴互相垂直**的笛卡尔坐标系，称为笛卡尔直角坐标系，否则称为笛卡尔斜角坐标系。\n",
    "\n",
    "### 1.2 什么是极坐标系？\n",
    "**极坐标系（Polar Coordinates）**是指在平面内由**极点、极轴和极径**组成的坐标系。  \n",
    "\n",
    "在平面上取定一点O，称为**极点**。  \n",
    "从O出发引出一条**射线Ox**，称为极轴。  \n",
    "再取定一个**单位长度**，通常规定角度取**逆时针**方向为正。  \n",
    "这样，平面上任一点P的位置就可以用线段OP的长度$\\rho$以及从Ox到OP的角度$\\theta$来确定，有序数对$(\\rho, \\theta)$就称为P点的极坐标，记为$P(\\rho, \\theta)$；$\\rho$称为P点的极径，$\\theta$称为P点的极角。\n",
    "\n",
    "### 1.3 笛卡尔积和极坐标系的表示的示例\n",
    "\n",
    "<img src='./images/polar_001.png' width='50%'/>"
   ]
  },
  {
   "cell_type": "markdown",
   "metadata": {},
   "source": [
    "如果上图是笛卡尔坐标系，则图中的点(3,4)，代表从原点(0,0)方向沿x轴向左移动3个单位，沿y轴向上移动4个单位。   \n",
    "\n",
    "如果是极坐标系，则代表从极点O(0,0)出发，沿着$\\theta$方向移动$r$个基本单位。  从三角函数，我们可以求解出r和$\\theta$：\n",
    "1. 求解r值   \n",
    "根据勾股定理，$$3^2 + 4^2 = r^2$$\n",
    "$$r=5, (r > 0)$$\n",
    "\n",
    "2. 求解$\\theta$   \n",
    "根据三角函数  \n",
    "$$ \\tan \\theta = \\frac{4}{3} $$\n",
    "$$ \\arctan (\\tan \\theta) = \\arctan \\frac{4}{3}$$\n",
    "$$ \\theta = \\arctan \\frac{4}{3} $$\n",
    "$$ \\theta = 53.13^{\\circ}$$\n",
    "注：很多地方$\\arctan$会写成$\\tan^{-1}$\n",
    "\n",
    "3. 结论   \n",
    "所以在这个例子中，极坐标是(5, 53.13$^\\circ$)。  \n",
    "代表从极点O(0,0)，从x轴沿逆时针方向转53.13$^\\circ$，然后移动5个单位长度。  \n",
    "就可以得到这个点，这就是极坐标的意义。  "
   ]
  },
  {
   "cell_type": "markdown",
   "metadata": {},
   "source": [
    "## 1.4 极坐标的一般性问题\n",
    "\n",
    "<img src='./images/polar_002.png' width='30%'/>\n",
    "\n",
    "通过笛卡尔坐标轴中的(x,y)求在极坐标系中的极坐标$(r, \\theta)$。  \n",
    "\n",
    "$$ r^2 = x^2 + y^2 $$\n",
    "$$ \\sin \\theta = \\frac{y}{r} \\rightarrow y = r \\sin \\theta$$\n",
    "$$ \\cos \\theta = \\frac{x}{r} \\rightarrow x = r \\cos \\theta$$\n",
    "$$ \\tan \\theta = \\frac{y}{x}  $$"
   ]
  },
  {
   "cell_type": "markdown",
   "metadata": {},
   "source": [
    "### 1.5 练习：将笛卡尔坐标转换为极坐标表示"
   ]
  },
  {
   "cell_type": "markdown",
   "metadata": {},
   "source": [
    "\n",
    "<img src='./images/polar_003.png' width='50%'/>"
   ]
  },
  {
   "cell_type": "markdown",
   "metadata": {},
   "source": [
    "<img src='./images/polar_004.png' width='50%'/>"
   ]
  },
  {
   "cell_type": "markdown",
   "metadata": {},
   "source": [
    "<img src='./images/polar_005.png' width='50%'/>"
   ]
  },
  {
   "cell_type": "markdown",
   "metadata": {},
   "source": [
    "<img src='./images/polar_006.png' width='50%'/>"
   ]
  },
  {
   "cell_type": "markdown",
   "metadata": {},
   "source": [
    "<img src='./images/polar_007.png' width='50%'/>"
   ]
  },
  {
   "cell_type": "markdown",
   "metadata": {},
   "source": [
    "### 1.6 练习：由极坐标转换为笛卡尔坐标表示"
   ]
  },
  {
   "cell_type": "markdown",
   "metadata": {},
   "source": [
    "\n",
    "<img src='./images/polar_008.png' width='50%'/>\n",
    "<img src='./images/polar_009.png' width='50%'/>\n",
    "<img src='./images/polar_010.png' width='50%'/>"
   ]
  }
 ],
 "metadata": {
  "kernelspec": {
   "display_name": "Python 3",
   "language": "python",
   "name": "python3"
  },
  "language_info": {
   "codemirror_mode": {
    "name": "ipython",
    "version": 3
   },
   "file_extension": ".py",
   "mimetype": "text/x-python",
   "name": "python",
   "nbconvert_exporter": "python",
   "pygments_lexer": "ipython3",
   "version": "3.6.5"
  }
 },
 "nbformat": 4,
 "nbformat_minor": 2
}
