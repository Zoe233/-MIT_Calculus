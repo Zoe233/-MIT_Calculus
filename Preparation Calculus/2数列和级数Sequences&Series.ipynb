{
 "cells": [
  {
   "cell_type": "markdown",
   "metadata": {},
   "source": [
    "# 2、数列与级数 Sequences and Series"
   ]
  },
  {
   "cell_type": "markdown",
   "metadata": {},
   "source": [
    "## 1. 什么是数列Sequences?\n",
    "数列就是一些以某种顺序排列的数字。\n",
    "\n",
    "## 2. 级数Series是什么呢？\n",
    "级数经常表示为--级数就是数列求和，数列的和。\n",
    "\n",
    "例如：  \n",
    "### 等差数列arithmetic sequence:  1, 2, 3, 4, ...    \n",
    "### 等差级数arithmetic series 就是等差数列的和。  \n",
    "\n",
    "![title](./images/series_001.png)\n",
    "\n",
    "<a href='https://baike.baidu.com/item/%E7%BA%A7%E6%95%B0/2381414?fr=aladdin'>百度百科定义:</a>\n",
    "级数是指将数列的项依次用加号连接起来的函数。  \n",
    "典型的级数有正项级数、交错级数、幂级数、傅里叶级数等。  \n",
    "\n",
    "级数理论是分析学的一个一个分支；  \n",
    "它与另一个分支微积分学一起作为基础知识和工具出现在其余各分支中。   \n",
    "二者共同以极限为基本工具，分别从离散与连续两个方面，结合起来研究分析学的对象，即变量之间的依赖关系--函数。 \n",
    "\n",
    "**级数**是指将数列$u_n$的项$u_1, u_2, u_3, ... , u_n,...$依次用加号连接起来的函数，是**数项级数**的简称。  \n",
    "如：\n",
    "$$ u_1 + u_2 + u_3 + ... + u_n + ... $$\n",
    "简写成：\n",
    "$$ \\sum u_n$$\n",
    "$u_n$称为级数的通项，记$S_n = \\sum u_n$称之为级数的部分和。  \n",
    "如果当$ n \\rightarrow \\infty$时，数列$S_n$有极限，极限为$S$，则说级数收敛，并以$S$为其和，记为$\\sum u_n = S$；否则就说级数发散。  \n",
    "\n",
    "级数是研究函数的一个重要工具，在理论上和实际应用中都处于重要地位，这是因为：\n",
    "- 一方面能借助级数表示许多常用的非初等函数，微分方程的解就常用级数表示；  \n",
    "- 另一方面又可将函数表为级数，从而借助级数去研究函数，例如用幂级数研究非初等函数，以及近似计算等。"
   ]
  },
  {
   "cell_type": "markdown",
   "metadata": {},
   "source": [
    "![title](./images/series_002.png)\n",
    "\n",
    "计算1，2，...,100的和。\n",
    "$$\\sum_{k=1} ^{K=100} k= \\frac{100*(100+1)}{2} = 5050$$"
   ]
  },
  {
   "cell_type": "markdown",
   "metadata": {},
   "source": [
    "### 等比级数geometric series\n",
    "$$ S = \\sum_{k=0} ^ {N} a^k = a^0 + a^1 + a^2 + ... + a^{N-1} + a^N$$\n",
    "$$ a * S  = a* a^0 + a*a^1 + a*a^2 + ... + a*a^{N-1} + a* a^N$$\n",
    "$$ a * S = a^1 + a^2 + a^3 + ... + a^{N-1} + a^{N} + a^{N+1}$$\n",
    "\n",
    "$$ a*S - S = -a^0 + a^{N+1} $$ \n",
    "$$ S = \\sum_{k=0} ^ {N} a^k = \\frac{a^{N+1} -1 }{a-1}$$\n",
    "\n",
    "![title](./images/series_003.png)"
   ]
  },
  {
   "cell_type": "markdown",
   "metadata": {},
   "source": [
    "当$|a| < 1$时，$\\lim_{a \\to \\infty} a^n = 0$，因此$\\lim_{a \\to \\infty}$收敛；  \n",
    "当$|a| > 1$时，$\\lim_{a \\to \\infty} a^n = \\infty$，因此$\\lim_{a \\to \\infty}$发散；\n",
    "\n",
    "![title](./images/series_004.png)"
   ]
  },
  {
   "cell_type": "code",
   "execution_count": null,
   "metadata": {},
   "outputs": [],
   "source": []
  }
 ],
 "metadata": {
  "kernelspec": {
   "display_name": "Python 3",
   "language": "python",
   "name": "python3"
  },
  "language_info": {
   "codemirror_mode": {
    "name": "ipython",
    "version": 3
   },
   "file_extension": ".py",
   "mimetype": "text/x-python",
   "name": "python",
   "nbconvert_exporter": "python",
   "pygments_lexer": "ipython3",
   "version": "3.6.5"
  }
 },
 "nbformat": 4,
 "nbformat_minor": 2
}
